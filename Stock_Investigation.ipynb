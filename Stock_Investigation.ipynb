{
  "nbformat": 4,
  "nbformat_minor": 0,
  "metadata": {
    "colab": {
      "name": "Stock-Investigation.ipynb",
      "version": "0.3.2",
      "provenance": [],
      "collapsed_sections": [],
      "include_colab_link": true
    },
    "kernelspec": {
      "name": "python3",
      "display_name": "Python 3"
    }
  },
  "cells": [
    {
      "cell_type": "markdown",
      "metadata": {
        "id": "view-in-github",
        "colab_type": "text"
      },
      "source": [
        "<a href=\"https://colab.research.google.com/github/mmistroni/TensorFlowPlayground/blob/master/Stock_Investigation.ipynb\" target=\"_parent\"><img src=\"https://colab.research.google.com/assets/colab-badge.svg\" alt=\"Open In Colab\"/></a>"
      ]
    },
    {
      "cell_type": "code",
      "metadata": {
        "id": "y2Utpt4BNAoB",
        "colab_type": "code",
        "colab": {}
      },
      "source": [
        ""
      ],
      "execution_count": 0,
      "outputs": []
    },
    {
      "cell_type": "markdown",
      "metadata": {
        "id": "5GSKBuW-NHwx",
        "colab_type": "text"
      },
      "source": [
        "<h3> Importing required packages </h3>"
      ]
    },
    {
      "cell_type": "code",
      "metadata": {
        "id": "bMT2uJblNN9L",
        "colab_type": "code",
        "colab": {
          "base_uri": "https://localhost:8080/",
          "height": 238
        },
        "outputId": "fee76d55-3e38-49d6-acc1-4389d0a739b1"
      },
      "source": [
        "!pip install pandas-datareader"
      ],
      "execution_count": 1,
      "outputs": [
        {
          "output_type": "stream",
          "text": [
            "Requirement already satisfied: pandas-datareader in /usr/local/lib/python3.6/dist-packages (0.7.0)\n",
            "Requirement already satisfied: requests>=2.3.0 in /usr/local/lib/python3.6/dist-packages (from pandas-datareader) (2.21.0)\n",
            "Requirement already satisfied: pandas>=0.19.2 in /usr/local/lib/python3.6/dist-packages (from pandas-datareader) (0.24.2)\n",
            "Requirement already satisfied: lxml in /usr/local/lib/python3.6/dist-packages (from pandas-datareader) (4.2.6)\n",
            "Requirement already satisfied: wrapt in /usr/local/lib/python3.6/dist-packages (from pandas-datareader) (1.10.11)\n",
            "Requirement already satisfied: chardet<3.1.0,>=3.0.2 in /usr/local/lib/python3.6/dist-packages (from requests>=2.3.0->pandas-datareader) (3.0.4)\n",
            "Requirement already satisfied: certifi>=2017.4.17 in /usr/local/lib/python3.6/dist-packages (from requests>=2.3.0->pandas-datareader) (2019.3.9)\n",
            "Requirement already satisfied: idna<2.9,>=2.5 in /usr/local/lib/python3.6/dist-packages (from requests>=2.3.0->pandas-datareader) (2.8)\n",
            "Requirement already satisfied: urllib3<1.25,>=1.21.1 in /usr/local/lib/python3.6/dist-packages (from requests>=2.3.0->pandas-datareader) (1.24.3)\n",
            "Requirement already satisfied: python-dateutil>=2.5.0 in /usr/local/lib/python3.6/dist-packages (from pandas>=0.19.2->pandas-datareader) (2.5.3)\n",
            "Requirement already satisfied: numpy>=1.12.0 in /usr/local/lib/python3.6/dist-packages (from pandas>=0.19.2->pandas-datareader) (1.16.3)\n",
            "Requirement already satisfied: pytz>=2011k in /usr/local/lib/python3.6/dist-packages (from pandas>=0.19.2->pandas-datareader) (2018.9)\n",
            "Requirement already satisfied: six>=1.5 in /usr/local/lib/python3.6/dist-packages (from python-dateutil>=2.5.0->pandas>=0.19.2->pandas-datareader) (1.12.0)\n"
          ],
          "name": "stdout"
        }
      ]
    },
    {
      "cell_type": "code",
      "metadata": {
        "id": "SdCtV-Y4Nbmf",
        "colab_type": "code",
        "colab": {}
      },
      "source": [
        "import urllib\n",
        "import json\n",
        "import pandas as pd\n",
        "from pandas.tseries.offsets import BDay\n",
        "import pandas_datareader.data as dr\n",
        "import numpy as np\n",
        "from datetime import datetime, date"
      ],
      "execution_count": 0,
      "outputs": []
    },
    {
      "cell_type": "markdown",
      "metadata": {
        "id": "Er0_0777NFeh",
        "colab_type": "text"
      },
      "source": [
        "<h4> Setting tickers and dates . We start from 3 years ago</h4>"
      ]
    },
    {
      "cell_type": "code",
      "metadata": {
        "id": "jTfxD1NNNw9y",
        "colab_type": "code",
        "colab": {}
      },
      "source": [
        "def get_date_boundaries(year):\n",
        "  print('Finding boudnaries for {}'.format(year))\n",
        "  end = pd.Timestamp(datetime(year, 12, 31, 0,0,0))\n",
        "  start = pd.Timestamp(datetime(year,1,1,0,0,0))\n",
        "  return start, end\n",
        "\n",
        "def get_data(symbol, start, end):\n",
        "  data =  dr.DataReader(symbol, 'iex', start, end)[['close']]\n",
        "  return data.rename(columns={'close': symbol})\n",
        "\n",
        "def get_symbols():\n",
        "  return ['AAPL', 'MCD', 'NFLX', 'BRK.B', 'TVIX']\n",
        "\n",
        "\n",
        "def get_stats(data_df):\n",
        "  max_price = data_df.max()\n",
        "  max_price_dt = data_df.iloc[data_df.max()]\n",
        "  \n",
        "  "
      ],
      "execution_count": 0,
      "outputs": []
    },
    {
      "cell_type": "markdown",
      "metadata": {
        "id": "pSNAuGZ5VJ7A",
        "colab_type": "text"
      },
      "source": [
        "<h3> sample with AAPL, find peak</h3>"
      ]
    },
    {
      "cell_type": "code",
      "metadata": {
        "id": "-IfLyXwPOc-Q",
        "colab_type": "code",
        "colab": {}
      },
      "source": [
        "def compute_data_by_year(year, symbols):\n",
        "  start, end = get_date_boundaries(year)\n",
        "  all_dfs = [get_data(ticker, start, end) for ticker in symbols]\n",
        "  return pd.concat(all_dfs, axis=1)\n",
        "\n",
        "# Finding indexes\n",
        "def find_indexes(df):\n",
        "  all_idx = df.index\n",
        "  first = all_idx[0]\n",
        "  first_october = [idx for idx in all_idx if '-10-' in idx][0]\n",
        "  return first, first_october\n",
        "\n",
        "def compute_return(df, start, end):\n",
        "  start_val = sum(df.loc[start].values)\n",
        "  end_val = sum(df.loc[end].values)\n",
        "  return end_val - start_val\n"
      ],
      "execution_count": 0,
      "outputs": []
    },
    {
      "cell_type": "markdown",
      "metadata": {
        "id": "bPfWrLuiZK9q",
        "colab_type": "text"
      },
      "source": [
        "<h3> Finding first index, andf first day of october index </h3>\n"
      ]
    },
    {
      "cell_type": "code",
      "metadata": {
        "id": "mQytEM16Py1A",
        "colab_type": "code",
        "colab": {
          "base_uri": "https://localhost:8080/",
          "height": 85
        },
        "outputId": "fbf0468d-6899-4bfd-902f-5028aa8d6e0b"
      },
      "source": [
        "df = compute_data_by_year(2017, get_symbols()[0:-1])  \n",
        "first, october_idx = find_indexes(df)\n",
        "print(first)\n",
        "print(october_idx)\n",
        "print('return={}'.format(compute_return(df, first, october_idx)))\n"
      ],
      "execution_count": 90,
      "outputs": [
        {
          "output_type": "stream",
          "text": [
            "Finding boudnaries for 2017\n",
            "2017-01-03\n",
            "2017-10-02\n",
            "return=147.35899999999992\n"
          ],
          "name": "stdout"
        }
      ]
    },
    {
      "cell_type": "markdown",
      "metadata": {
        "id": "Pq2At-wYb0ST",
        "colab_type": "text"
      },
      "source": [
        "<h3>Computing TVIX RETURN for October - EOY </h3>"
      ]
    },
    {
      "cell_type": "code",
      "metadata": {
        "id": "7eBAgX5vT-Yb",
        "colab_type": "code",
        "colab": {
          "base_uri": "https://localhost:8080/",
          "height": 119
        },
        "outputId": "b3aa5b85-ff3d-4a3b-a19b-4adc3bcd5459"
      },
      "source": [
        "df_tvix = compute_data_by_year(2017, ['TVIX']) \n",
        "_, first = find_indexes(df_tvix)\n",
        "last = df.index[-1]\n",
        "print('return={}'.format(compute_return(df_tvix, first, last)))\n",
        "print(f'First:{df_tvix.loc[first]}')\n",
        "print(f'Last:{df_tvix.loc[last]}')"
      ],
      "execution_count": 91,
      "outputs": [
        {
          "output_type": "stream",
          "text": [
            "Finding boudnaries for 2017\n",
            "return=-53.00000000000001\n",
            "First:TVIX    108.4\n",
            "Name: 2017-10-02, dtype: float64\n",
            "Last:TVIX    55.4\n",
            "Name: 2017-12-29, dtype: float64\n"
          ],
          "name": "stdout"
        }
      ]
    },
    {
      "cell_type": "code",
      "metadata": {
        "id": "3tB6nfUncxvt",
        "colab_type": "code",
        "colab": {}
      },
      "source": [
        ""
      ],
      "execution_count": 0,
      "outputs": []
    }
  ]
}