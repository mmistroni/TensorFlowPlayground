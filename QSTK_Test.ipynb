{
  "nbformat": 4,
  "nbformat_minor": 0,
  "metadata": {
    "colab": {
      "name": "QSTK-Test.ipynb",
      "version": "0.3.2",
      "provenance": [],
      "collapsed_sections": [],
      "include_colab_link": true
    },
    "kernelspec": {
      "name": "python2",
      "display_name": "Python 2"
    }
  },
  "cells": [
    {
      "cell_type": "markdown",
      "metadata": {
        "id": "view-in-github",
        "colab_type": "text"
      },
      "source": [
        "<a href=\"https://colab.research.google.com/github/mmistroni/TensorFlowPlayground/blob/master/QSTK_Test.ipynb\" target=\"_parent\"><img src=\"https://colab.research.google.com/assets/colab-badge.svg\" alt=\"Open In Colab\"/></a>"
      ]
    },
    {
      "metadata": {
        "id": "gZU5-E2CI3WP",
        "colab_type": "code",
        "outputId": "027cdc5e-bfef-4105-9a81-aa47c498a9ff",
        "colab": {
          "base_uri": "https://localhost:8080/",
          "height": 1193
        }
      },
      "cell_type": "code",
      "source": [
        "!pip install numpy==1.6.1"
      ],
      "execution_count": 1,
      "outputs": [
        {
          "output_type": "stream",
          "text": [
            "Collecting numpy==1.6.1\n",
            "\u001b[?25l  Downloading https://files.pythonhosted.org/packages/44/3b/63aa0464c495de6bac1f9f5a6c4626264ea07ad85b51cf6ebfdbbaa9fab4/numpy-1.6.1-cp27-cp27mu-manylinux1_x86_64.whl (13.6MB)\n",
            "\u001b[K    100% |████████████████████████████████| 13.6MB 1.5MB/s \n",
            "\u001b[31mkeras-preprocessing 1.0.5 has requirement numpy>=1.9.1, but you'll have numpy 1.6.1 which is incompatible.\u001b[0m\n",
            "\u001b[31mtensorflow-hub 0.2.0 has requirement numpy>=1.12.0, but you'll have numpy 1.6.1 which is incompatible.\u001b[0m\n",
            "\u001b[31mpystan 2.18.1.0 has requirement numpy>=1.7, but you'll have numpy 1.6.1 which is incompatible.\u001b[0m\n",
            "\u001b[31mpywavelets 1.0.1 has requirement numpy>=1.9.1, but you'll have numpy 1.6.1 which is incompatible.\u001b[0m\n",
            "\u001b[31mfbprophet 0.4.post1 has requirement numpy>=1.10.0, but you'll have numpy 1.6.1 which is incompatible.\u001b[0m\n",
            "\u001b[31mxarray 0.11.2 has requirement numpy>=1.12, but you'll have numpy 1.6.1 which is incompatible.\u001b[0m\n",
            "\u001b[31mosqp 0.5.0 has requirement numpy>=1.7, but you'll have numpy 1.6.1 which is incompatible.\u001b[0m\n",
            "\u001b[31mtensorboard 1.12.2 has requirement numpy>=1.12.0, but you'll have numpy 1.6.1 which is incompatible.\u001b[0m\n",
            "\u001b[31mlibrosa 0.6.2 has requirement numpy>=1.8.0, but you'll have numpy 1.6.1 which is incompatible.\u001b[0m\n",
            "\u001b[31mnumexpr 2.6.9 has requirement numpy>=1.7, but you'll have numpy 1.6.1 which is incompatible.\u001b[0m\n",
            "\u001b[31mmagenta 0.3.19 has requirement numpy>=1.11.0, but you'll have numpy 1.6.1 which is incompatible.\u001b[0m\n",
            "\u001b[31mscs 2.0.2 has requirement numpy>=1.7, but you'll have numpy 1.6.1 which is incompatible.\u001b[0m\n",
            "\u001b[31mtables 3.4.4 has requirement numpy>=1.8.0, but you'll have numpy 1.6.1 which is incompatible.\u001b[0m\n",
            "\u001b[31mnibabel 2.3.2 has requirement numpy>=1.7.1, but you'll have numpy 1.6.1 which is incompatible.\u001b[0m\n",
            "\u001b[31mmlxtend 0.14.0 has requirement numpy>=1.10.4, but you'll have numpy 1.6.1 which is incompatible.\u001b[0m\n",
            "\u001b[31mbokeh 1.0.4 has requirement numpy>=1.7.1, but you'll have numpy 1.6.1 which is incompatible.\u001b[0m\n",
            "\u001b[31mresampy 0.2.1 has requirement numpy>=1.10, but you'll have numpy 1.6.1 which is incompatible.\u001b[0m\n",
            "\u001b[31mmsgpack-numpy 0.4.3.2 has requirement numpy>=1.9.0, but you'll have numpy 1.6.1 which is incompatible.\u001b[0m\n",
            "\u001b[31mkeras-applications 1.0.6 has requirement numpy>=1.9.1, but you'll have numpy 1.6.1 which is incompatible.\u001b[0m\n",
            "\u001b[31mtensorflow 1.12.0 has requirement numpy>=1.13.3, but you'll have numpy 1.6.1 which is incompatible.\u001b[0m\n",
            "\u001b[31mfancyimpute 0.4.2 has requirement numpy>=1.10, but you'll have numpy 1.6.1 which is incompatible.\u001b[0m\n",
            "\u001b[31mspacy 2.0.18 has requirement numpy>=1.15.0, but you'll have numpy 1.6.1 which is incompatible.\u001b[0m\n",
            "\u001b[31mpandas 0.22.0 has requirement numpy>=1.9.0, but you'll have numpy 1.6.1 which is incompatible.\u001b[0m\n",
            "\u001b[31mpyemd 0.5.1 has requirement numpy<2.0.0,>=1.9.0, but you'll have numpy 1.6.1 which is incompatible.\u001b[0m\n",
            "\u001b[31mkeras 2.2.4 has requirement numpy>=1.9.1, but you'll have numpy 1.6.1 which is incompatible.\u001b[0m\n",
            "\u001b[31mautograd 1.2 has requirement numpy>=1.12, but you'll have numpy 1.6.1 which is incompatible.\u001b[0m\n",
            "\u001b[31mgym 0.10.9 has requirement numpy>=1.10.4, but you'll have numpy 1.6.1 which is incompatible.\u001b[0m\n",
            "\u001b[31mfeaturetools 0.4.1 has requirement numpy>=1.13.3, but you'll have numpy 1.6.1 which is incompatible.\u001b[0m\n",
            "\u001b[31mfeaturetools 0.4.1 has requirement pandas>=0.23.0, but you'll have pandas 0.22.0 which is incompatible.\u001b[0m\n",
            "\u001b[31mmatplotlib 2.2.3 has requirement numpy>=1.7.1, but you'll have numpy 1.6.1 which is incompatible.\u001b[0m\n",
            "\u001b[31mmir-eval 0.5 has requirement numpy>=1.7.0, but you'll have numpy 1.6.1 which is incompatible.\u001b[0m\n",
            "\u001b[31mpretty-midi 0.2.8 has requirement numpy>=1.7.0, but you'll have numpy 1.6.1 which is incompatible.\u001b[0m\n",
            "\u001b[31mumap-learn 0.3.7 has requirement numpy>=1.13, but you'll have numpy 1.6.1 which is incompatible.\u001b[0m\n",
            "\u001b[31mastropy 2.0.11 has requirement numpy>=1.9.0, but you'll have numpy 1.6.1 which is incompatible.\u001b[0m\n",
            "\u001b[31mastropy 2.0.11 has requirement pytest<3.7,>=2.8, but you'll have pytest 3.10.1 which is incompatible.\u001b[0m\n",
            "\u001b[31mpymc3 3.6 has requirement joblib<0.13.0, but you'll have joblib 0.13.1 which is incompatible.\u001b[0m\n",
            "\u001b[31mpymc3 3.6 has requirement numpy>=1.13.0, but you'll have numpy 1.6.1 which is incompatible.\u001b[0m\n",
            "\u001b[31mtensorflow-probability 0.5.0 has requirement numpy>=1.13.3, but you'll have numpy 1.6.1 which is incompatible.\u001b[0m\n",
            "\u001b[31myellowbrick 0.9 has requirement numpy>=1.13.0, but you'll have numpy 1.6.1 which is incompatible.\u001b[0m\n",
            "\u001b[31mgensim 3.6.0 has requirement numpy>=1.11.3, but you'll have numpy 1.6.1 which is incompatible.\u001b[0m\n",
            "\u001b[31mknnimpute 0.1.0 has requirement numpy>=1.10, but you'll have numpy 1.6.1 which is incompatible.\u001b[0m\n",
            "\u001b[31mcvxpy 1.0.11 has requirement numpy>=1.14, but you'll have numpy 1.6.1 which is incompatible.\u001b[0m\n",
            "\u001b[31mimbalanced-learn 0.4.3 has requirement numpy>=1.8.2, but you'll have numpy 1.6.1 which is incompatible.\u001b[0m\n",
            "\u001b[31malbumentations 0.1.10 has requirement numpy>=1.11.1, but you'll have numpy 1.6.1 which is incompatible.\u001b[0m\n",
            "\u001b[31mkapre 0.1.3.1 has requirement numpy>=1.8.0, but you'll have numpy 1.6.1 which is incompatible.\u001b[0m\n",
            "\u001b[31mscikit-learn 0.20.2 has requirement numpy>=1.8.2, but you'll have numpy 1.6.1 which is incompatible.\u001b[0m\n",
            "\u001b[31mchainer 5.0.0 has requirement numpy>=1.9.0, but you'll have numpy 1.6.1 which is incompatible.\u001b[0m\n",
            "\u001b[31mscipy 1.1.0 has requirement numpy>=1.8.2, but you'll have numpy 1.6.1 which is incompatible.\u001b[0m\n",
            "\u001b[31mthinc 6.12.1 has requirement numpy>=1.7.0, but you'll have numpy 1.6.1 which is incompatible.\u001b[0m\n",
            "\u001b[31mthinc 6.12.1 has requirement wrapt<1.11.0,>=1.10.0, but you'll have wrapt 1.11.0 which is incompatible.\u001b[0m\n",
            "\u001b[31mh5py 2.8.0 has requirement numpy>=1.7, but you'll have numpy 1.6.1 which is incompatible.\u001b[0m\n",
            "\u001b[31mtheano 1.0.3 has requirement numpy>=1.9.1, but you'll have numpy 1.6.1 which is incompatible.\u001b[0m\n",
            "\u001b[31mcufflinks 0.14.6 has requirement numpy>=1.9.2, but you'll have numpy 1.6.1 which is incompatible.\u001b[0m\n",
            "\u001b[31mcufflinks 0.14.6 has requirement plotly>=3.0.0, but you'll have plotly 1.12.12 which is incompatible.\u001b[0m\n",
            "\u001b[31mopencv-python 3.4.5.20 has requirement numpy>=1.11.1, but you'll have numpy 1.6.1 which is incompatible.\u001b[0m\n",
            "\u001b[31mimgaug 0.2.6 has requirement numpy>=1.7.0, but you'll have numpy 1.6.1 which is incompatible.\u001b[0m\n",
            "\u001b[31mopencv-contrib-python 3.4.3.18 has requirement numpy>=1.11.1, but you'll have numpy 1.6.1 which is incompatible.\u001b[0m\n",
            "\u001b[?25hInstalling collected packages: numpy\n",
            "  Found existing installation: numpy 1.14.6\n",
            "    Uninstalling numpy-1.14.6:\n",
            "      Successfully uninstalled numpy-1.14.6\n",
            "Successfully installed numpy-1.6.1\n",
            "\u001b[0;31;1mWARNING: The following packages were previously imported in this runtime:\n",
            "  [numpy]\n",
            "You must restart the runtime in order to use newly installed versions.\u001b[0m\n"
          ],
          "name": "stdout"
        }
      ]
    },
    {
      "metadata": {
        "id": "HbVXchZrI_8q",
        "colab_type": "code",
        "outputId": "2cd7a677-68c9-4a47-8248-26694e7a21ef",
        "colab": {
          "base_uri": "https://localhost:8080/",
          "height": 326
        }
      },
      "cell_type": "code",
      "source": [
        "!pip install scipy"
      ],
      "execution_count": 2,
      "outputs": [
        {
          "output_type": "stream",
          "text": [
            "Requirement already satisfied: scipy in /usr/local/lib/python2.7/dist-packages (1.1.0)\n",
            "Collecting numpy>=1.8.2 (from scipy)\n",
            "\u001b[?25l  Downloading https://files.pythonhosted.org/packages/9f/85/163127d3fb0573deb9eca947cfc73aa3618eaaf8656501460574471d114a/numpy-1.16.0-cp27-cp27mu-manylinux1_x86_64.whl (17.0MB)\n",
            "\u001b[K    100% |████████████████████████████████| 17.0MB 1.4MB/s \n",
            "\u001b[31mcufflinks 0.14.6 has requirement plotly>=3.0.0, but you'll have plotly 1.12.12 which is incompatible.\u001b[0m\n",
            "\u001b[31mastropy 2.0.11 has requirement pytest<3.7,>=2.8, but you'll have pytest 3.10.1 which is incompatible.\u001b[0m\n",
            "\u001b[31mpymc3 3.6 has requirement joblib<0.13.0, but you'll have joblib 0.13.1 which is incompatible.\u001b[0m\n",
            "\u001b[31mthinc 6.12.1 has requirement wrapt<1.11.0,>=1.10.0, but you'll have wrapt 1.11.0 which is incompatible.\u001b[0m\n",
            "\u001b[31mfeaturetools 0.4.1 has requirement pandas>=0.23.0, but you'll have pandas 0.22.0 which is incompatible.\u001b[0m\n",
            "\u001b[?25hInstalling collected packages: numpy\n",
            "  Found existing installation: numpy 1.6.1\n",
            "    Uninstalling numpy-1.6.1:\n",
            "      Successfully uninstalled numpy-1.6.1\n",
            "Successfully installed numpy-1.16.0\n",
            "\u001b[0;31;1mWARNING: The following packages were previously imported in this runtime:\n",
            "  [numpy]\n",
            "You must restart the runtime in order to use newly installed versions.\u001b[0m\n"
          ],
          "name": "stdout"
        }
      ]
    },
    {
      "metadata": {
        "id": "xIbZKRh9JKi5",
        "colab_type": "code",
        "outputId": "aa630872-df57-4a7a-a980-54333cf131fe",
        "colab": {
          "base_uri": "https://localhost:8080/",
          "height": 411
        }
      },
      "cell_type": "code",
      "source": [
        "!pip install matplotlib"
      ],
      "execution_count": 8,
      "outputs": [
        {
          "output_type": "stream",
          "text": [
            "Requirement already satisfied: matplotlib in /usr/local/lib/python2.7/dist-packages (2.2.3)\n",
            "Requirement already satisfied: cycler>=0.10 in /usr/local/lib/python2.7/dist-packages (from matplotlib) (0.10.0)\n",
            "Requirement already satisfied: numpy>=1.7.1 in /usr/local/lib/python2.7/dist-packages (from matplotlib) (1.16.0)\n",
            "Requirement already satisfied: backports.functools-lru-cache in /usr/local/lib/python2.7/dist-packages (from matplotlib) (1.5)\n",
            "Requirement already satisfied: subprocess32 in /usr/local/lib/python2.7/dist-packages (from matplotlib) (3.5.3)\n",
            "Requirement already satisfied: kiwisolver>=1.0.1 in /usr/local/lib/python2.7/dist-packages (from matplotlib) (1.0.1)\n",
            "Requirement already satisfied: pytz in /usr/local/lib/python2.7/dist-packages (from matplotlib) (2018.9)\n",
            "Requirement already satisfied: six>=1.10 in /usr/local/lib/python2.7/dist-packages (from matplotlib) (1.11.0)\n",
            "Collecting python-dateutil>=2.1 (from matplotlib)\n",
            "\u001b[?25l  Downloading https://files.pythonhosted.org/packages/74/68/d87d9b36af36f44254a8d512cbfc48369103a3b9e474be9bdfe536abfc45/python_dateutil-2.7.5-py2.py3-none-any.whl (225kB)\n",
            "\u001b[K    100% |████████████████████████████████| 235kB 4.2MB/s \n",
            "\u001b[?25hRequirement already satisfied: pyparsing!=2.0.4,!=2.1.2,!=2.1.6,>=2.0.1 in /usr/local/lib/python2.7/dist-packages (from matplotlib) (2.3.1)\n",
            "Requirement already satisfied: setuptools in /usr/local/lib/python2.7/dist-packages (from kiwisolver>=1.0.1->matplotlib) (40.6.3)\n",
            "\u001b[31mqstk 0.2.8 has requirement python-dateutil==1.5, but you'll have python-dateutil 2.7.5 which is incompatible.\u001b[0m\n",
            "Installing collected packages: python-dateutil\n",
            "  Found existing installation: python-dateutil 1.5\n",
            "    Uninstalling python-dateutil-1.5:\n",
            "      Successfully uninstalled python-dateutil-1.5\n",
            "Successfully installed python-dateutil-2.7.5\n",
            "\u001b[0;31;1mWARNING: The following packages were previously imported in this runtime:\n",
            "  [dateutil]\n",
            "You must restart the runtime in order to use newly installed versions.\u001b[0m\n"
          ],
          "name": "stdout"
        }
      ]
    },
    {
      "metadata": {
        "id": "JT4jMvsqJPmM",
        "colab_type": "code",
        "outputId": "95c1d7ff-9f9b-4854-b07d-7a21632fce07",
        "colab": {
          "base_uri": "https://localhost:8080/",
          "height": 102
        }
      },
      "cell_type": "code",
      "source": [
        "!pip install pandas\n"
      ],
      "execution_count": 9,
      "outputs": [
        {
          "output_type": "stream",
          "text": [
            "Requirement already satisfied: pandas in /usr/local/lib/python2.7/dist-packages (0.22.0)\n",
            "Requirement already satisfied: pytz>=2011k in /usr/local/lib/python2.7/dist-packages (from pandas) (2018.9)\n",
            "Requirement already satisfied: python-dateutil in /usr/local/lib/python2.7/dist-packages (from pandas) (2.7.5)\n",
            "Requirement already satisfied: numpy>=1.9.0 in /usr/local/lib/python2.7/dist-packages (from pandas) (1.16.0)\n",
            "Requirement already satisfied: six>=1.5 in /usr/local/lib/python2.7/dist-packages (from python-dateutil->pandas) (1.11.0)\n"
          ],
          "name": "stdout"
        }
      ]
    },
    {
      "metadata": {
        "id": "CY_noHpsJVTd",
        "colab_type": "code",
        "outputId": "ed212d7e-80bc-4c34-a54e-f8a0ec9eb464",
        "colab": {
          "base_uri": "https://localhost:8080/",
          "height": 476
        }
      },
      "cell_type": "code",
      "source": [
        "!pip install qstk\n"
      ],
      "execution_count": 10,
      "outputs": [
        {
          "output_type": "stream",
          "text": [
            "Requirement already satisfied: qstk in /usr/local/lib/python2.7/dist-packages (0.2.8)\n",
            "Requirement already satisfied: scipy>=0.9.0 in /usr/local/lib/python2.7/dist-packages (from qstk) (1.1.0)\n",
            "Requirement already satisfied: pandas>=0.7.3 in /usr/local/lib/python2.7/dist-packages (from qstk) (0.22.0)\n",
            "Collecting python-dateutil==1.5 (from qstk)\n",
            "Requirement already satisfied: numpy>=1.6.1 in /usr/local/lib/python2.7/dist-packages (from qstk) (1.16.0)\n",
            "Requirement already satisfied: scikit-learn>=0.11 in /usr/local/lib/python2.7/dist-packages (from qstk) (0.20.2)\n",
            "Requirement already satisfied: matplotlib>=1.1.0 in /usr/local/lib/python2.7/dist-packages (from qstk) (2.2.3)\n",
            "Requirement already satisfied: pytz>=2011k in /usr/local/lib/python2.7/dist-packages (from pandas>=0.7.3->qstk) (2018.9)\n",
            "Requirement already satisfied: cycler>=0.10 in /usr/local/lib/python2.7/dist-packages (from matplotlib>=1.1.0->qstk) (0.10.0)\n",
            "Requirement already satisfied: backports.functools-lru-cache in /usr/local/lib/python2.7/dist-packages (from matplotlib>=1.1.0->qstk) (1.5)\n",
            "Requirement already satisfied: subprocess32 in /usr/local/lib/python2.7/dist-packages (from matplotlib>=1.1.0->qstk) (3.5.3)\n",
            "Requirement already satisfied: kiwisolver>=1.0.1 in /usr/local/lib/python2.7/dist-packages (from matplotlib>=1.1.0->qstk) (1.0.1)\n",
            "Requirement already satisfied: six>=1.10 in /usr/local/lib/python2.7/dist-packages (from matplotlib>=1.1.0->qstk) (1.11.0)\n",
            "Requirement already satisfied: pyparsing!=2.0.4,!=2.1.2,!=2.1.6,>=2.0.1 in /usr/local/lib/python2.7/dist-packages (from matplotlib>=1.1.0->qstk) (2.3.1)\n",
            "Requirement already satisfied: setuptools in /usr/local/lib/python2.7/dist-packages (from kiwisolver>=1.0.1->matplotlib>=1.1.0->qstk) (40.6.3)\n",
            "\u001b[31mbokeh 1.0.4 has requirement python-dateutil>=2.1, but you'll have python-dateutil 1.5 which is incompatible.\u001b[0m\n",
            "\u001b[31mbotocore 1.12.78 has requirement python-dateutil<3.0.0,>=2.1; python_version >= \"2.7\", but you'll have python-dateutil 1.5 which is incompatible.\u001b[0m\n",
            "\u001b[31mmatplotlib 2.2.3 has requirement python-dateutil>=2.1, but you'll have python-dateutil 1.5 which is incompatible.\u001b[0m\n",
            "\u001b[31mjupyter-client 5.2.4 has requirement python-dateutil>=2.1, but you'll have python-dateutil 1.5 which is incompatible.\u001b[0m\n",
            "Installing collected packages: python-dateutil\n",
            "  Found existing installation: python-dateutil 2.7.5\n",
            "    Uninstalling python-dateutil-2.7.5:\n",
            "      Successfully uninstalled python-dateutil-2.7.5\n",
            "Successfully installed python-dateutil-1.5\n",
            "\u001b[0;31;1mWARNING: The following packages were previously imported in this runtime:\n",
            "  [dateutil]\n",
            "You must restart the runtime in order to use newly installed versions.\u001b[0m\n"
          ],
          "name": "stdout"
        }
      ]
    },
    {
      "metadata": {
        "id": "ON9SPKKV8t77",
        "colab_type": "code",
        "outputId": "11c1e375-9562-48e9-cf13-e03ef61b841e",
        "colab": {
          "base_uri": "https://localhost:8080/",
          "height": 221
        }
      },
      "cell_type": "code",
      "source": [
        "!pip install pandas_datareader"
      ],
      "execution_count": 11,
      "outputs": [
        {
          "output_type": "stream",
          "text": [
            "Requirement already satisfied: pandas_datareader in /usr/local/lib/python2.7/dist-packages (0.7.0)\n",
            "Requirement already satisfied: lxml in /usr/local/lib/python2.7/dist-packages (from pandas_datareader) (4.2.6)\n",
            "Requirement already satisfied: pandas>=0.19.2 in /usr/local/lib/python2.7/dist-packages (from pandas_datareader) (0.22.0)\n",
            "Requirement already satisfied: wrapt in /usr/local/lib/python2.7/dist-packages (from pandas_datareader) (1.11.0)\n",
            "Requirement already satisfied: requests>=2.3.0 in /usr/local/lib/python2.7/dist-packages (from pandas_datareader) (2.18.4)\n",
            "Requirement already satisfied: pytz>=2011k in /usr/local/lib/python2.7/dist-packages (from pandas>=0.19.2->pandas_datareader) (2018.9)\n",
            "Requirement already satisfied: python-dateutil in /usr/local/lib/python2.7/dist-packages (from pandas>=0.19.2->pandas_datareader) (1.5)\n",
            "Requirement already satisfied: numpy>=1.9.0 in /usr/local/lib/python2.7/dist-packages (from pandas>=0.19.2->pandas_datareader) (1.16.0)\n",
            "Requirement already satisfied: idna<2.7,>=2.5 in /usr/local/lib/python2.7/dist-packages (from requests>=2.3.0->pandas_datareader) (2.6)\n",
            "Requirement already satisfied: urllib3<1.23,>=1.21.1 in /usr/local/lib/python2.7/dist-packages (from requests>=2.3.0->pandas_datareader) (1.22)\n",
            "Requirement already satisfied: certifi>=2017.4.17 in /usr/local/lib/python2.7/dist-packages (from requests>=2.3.0->pandas_datareader) (2018.11.29)\n",
            "Requirement already satisfied: chardet<3.1.0,>=3.0.2 in /usr/local/lib/python2.7/dist-packages (from requests>=2.3.0->pandas_datareader) (3.0.4)\n"
          ],
          "name": "stdout"
        }
      ]
    },
    {
      "metadata": {
        "id": "I_r8iiM2_CTx",
        "colab_type": "code",
        "colab": {}
      },
      "cell_type": "code",
      "source": [
        "# Importing  required packages\n",
        "import pandas  as pd\n",
        "pd.TimeSeries = pd.Series\n",
        "\n",
        "import QSTK.qstkutil.qsdateutil as du\n",
        "import QSTK.qstkutil.tsutil as tsu\n",
        "import QSTK.qstkutil.DataAccess as da\n",
        "\n",
        "import datetime as dt\n",
        "import matplotlib.pyplot as plt\n",
        "import pandas as pd"
      ],
      "execution_count": 0,
      "outputs": []
    },
    {
      "metadata": {
        "id": "jZhzhjID8D3_",
        "colab_type": "code",
        "colab": {}
      },
      "cell_type": "code",
      "source": [
        "\n"
      ],
      "execution_count": 0,
      "outputs": []
    },
    {
      "metadata": {
        "id": "eijllaPPhZD4",
        "colab_type": "text"
      },
      "cell_type": "markdown",
      "source": [
        "<h2> Computing Sharpe Ratio and Returns </h2>"
      ]
    },
    {
      "metadata": {
        "id": "0r0fL2_1hgUg",
        "colab_type": "code",
        "colab": {}
      },
      "cell_type": "code",
      "source": [
        "import logging\n",
        "logger = logging.getLogger(__name__)\n",
        "from math import sqrt\n",
        "\n",
        "def get_prices(ls_symbols, dt_start, dt_end):\n",
        "    dt_timeofday = dt.timedelta(hours=16)\n",
        "    ldt_timestamps = du.getNYSEdays(dt_start, dt_end, dt_timeofday)\n",
        "    #c_dataobj = da.DataAccess('Yahoo')\n",
        "    c_dataobj = da.DataAccess('Yahoo', cachestalltime=0)\n",
        "    ls_keys = ['close']\n",
        "    ldf_data = c_dataobj.get_data(ldt_timestamps, ls_symbols, ls_keys)\n",
        "    return  dict(zip(ls_keys, ldf_data)) # each field is returned as a single dataframe\n",
        "\n",
        "def compute_daily_returns(prices):\n",
        "    na_rets = prices.copy()\n",
        "    return tsu.returnize0(na_rets)\n",
        "\n",
        "def compute_standard_deviations(daily_returns):\n",
        "    return np.std(daily_returns)\n",
        "\n",
        "def normalize_prices(prices):\n",
        "    return prices / prices[0,:]\n",
        "\n",
        "def compute_sharpe_ratio(daily_returns, standard_dev):\n",
        "    \n",
        "    avg = np.average(daily_returns)# / len(daily_returns)\n",
        "    return (sqrt(252) * avg) / standard_dev\n"
      ],
      "execution_count": 0,
      "outputs": []
    },
    {
      "metadata": {
        "id": "2I75B7XPjBNB",
        "colab_type": "code",
        "outputId": "cb59828e-7479-4b34-fbf7-e1c0f451d173",
        "colab": {
          "base_uri": "https://localhost:8080/",
          "height": 102
        }
      },
      "cell_type": "code",
      "source": [
        "import pandas as pd\n",
        "from pandas.tseries.offsets import BDay\n",
        "import pandas_datareader.data as dr\n",
        "import numpy as np\n",
        "from datetime import datetime\n",
        "\n",
        "\n",
        "def get_closes(start, end, symbol):\n",
        "  return dr.DataReader(symbol, 'iex', start, end)['close']\n",
        "\n",
        "\n",
        "def compute_statistics(symbol, prices):\n",
        "  #prices = get_closes(start, end, symbol)\n",
        "  daily_returns = compute_daily_returns(prices)\n",
        "  std_dev  = compute_standard_deviations(daily_returns)\n",
        "  sharpe = compute_sharpe_ratio(daily_returns, std_dev)\n",
        "  total_returns = (prices[-1]*1.0 / prices[0]) -1\n",
        "  \n",
        "  \n",
        "  return {'std_dev' : std_dev,\n",
        "         'sharpe_ratio' : sharpe,\n",
        "         'total_returns' : total_returns,\n",
        "         'symbol': symbol}\n",
        "  \n",
        "\n",
        "end = pd.Timestamp(datetime.now())\n",
        "start = end - BDay(250)\n",
        "symbols = ['MARA','DPW','TOPS','HAON','HTBX','IMNP','OPGN','SUZBY','ARCO','TRQ','ARTX','PDLI','ENPH','PLPL',\n",
        "           'DNN','ZYNE','EYEG','FLKS','APHB','PHBI','ENDV']\n",
        "\n",
        "all_dicts = []\n",
        "for sym in symbols:\n",
        "  try:\n",
        "    all_dicts.append((sym, get_closes(start, end, sym)))#compute_statistics(start, end ,sym)) #compute_statistics(sym, start, end))\n",
        "  except Exception as e:\n",
        "    print('Unable to fetch statistics for %s:%s' % (sym, str(e)))\n",
        "\n",
        "\n"
      ],
      "execution_count": 3,
      "outputs": [
        {
          "output_type": "stream",
          "text": [
            "Unable to fetch statistics for HAON:'HAON'\n",
            "Unable to fetch statistics for SUZBY:'SUZBY'\n",
            "Unable to fetch statistics for PLPL:'PLPL'\n",
            "Unable to fetch statistics for PHBI:'PHBI'\n",
            "Unable to fetch statistics for ENDV:'ENDV'\n"
          ],
          "name": "stdout"
        }
      ]
    },
    {
      "metadata": {
        "id": "Z-O4oFDrr2T_",
        "colab_type": "text"
      },
      "cell_type": "markdown",
      "source": [
        "<h2>Computing Statistics </h2>"
      ]
    },
    {
      "metadata": {
        "id": "YSumNk62pVGe",
        "colab_type": "code",
        "outputId": "0f7918c6-082f-448c-8c9f-74ee54f58f71",
        "colab": {
          "base_uri": "https://localhost:8080/",
          "height": 545
        }
      },
      "cell_type": "code",
      "source": [
        "    \n",
        "all_df = []\n",
        "for symbol, prices in all_dicts:\n",
        "  all_df.append(compute_statistics(symbol, prices))\n",
        "    \n",
        "    \n",
        "\n",
        "df = pd.DataFrame(all_df)[['symbol', 'total_returns','std_dev', 'sharpe_ratio']]\n",
        "df\n",
        "\n"
      ],
      "execution_count": 4,
      "outputs": [
        {
          "output_type": "execute_result",
          "data": {
            "text/html": [
              "<div>\n",
              "<style scoped>\n",
              "    .dataframe tbody tr th:only-of-type {\n",
              "        vertical-align: middle;\n",
              "    }\n",
              "\n",
              "    .dataframe tbody tr th {\n",
              "        vertical-align: top;\n",
              "    }\n",
              "\n",
              "    .dataframe thead th {\n",
              "        text-align: right;\n",
              "    }\n",
              "</style>\n",
              "<table border=\"1\" class=\"dataframe\">\n",
              "  <thead>\n",
              "    <tr style=\"text-align: right;\">\n",
              "      <th></th>\n",
              "      <th>symbol</th>\n",
              "      <th>total_returns</th>\n",
              "      <th>std_dev</th>\n",
              "      <th>sharpe_ratio</th>\n",
              "    </tr>\n",
              "  </thead>\n",
              "  <tbody>\n",
              "    <tr>\n",
              "      <th>0</th>\n",
              "      <td>MARA</td>\n",
              "      <td>-0.840117</td>\n",
              "      <td>0.072510</td>\n",
              "      <td>-1.143323</td>\n",
              "    </tr>\n",
              "    <tr>\n",
              "      <th>1</th>\n",
              "      <td>DPW</td>\n",
              "      <td>-0.936306</td>\n",
              "      <td>0.064622</td>\n",
              "      <td>-2.309098</td>\n",
              "    </tr>\n",
              "    <tr>\n",
              "      <th>2</th>\n",
              "      <td>TOPS</td>\n",
              "      <td>-0.516515</td>\n",
              "      <td>0.078360</td>\n",
              "      <td>-0.033539</td>\n",
              "    </tr>\n",
              "    <tr>\n",
              "      <th>3</th>\n",
              "      <td>HTBX</td>\n",
              "      <td>-0.501873</td>\n",
              "      <td>0.107234</td>\n",
              "      <td>0.298117</td>\n",
              "    </tr>\n",
              "    <tr>\n",
              "      <th>4</th>\n",
              "      <td>IMNP</td>\n",
              "      <td>-0.854929</td>\n",
              "      <td>0.077182</td>\n",
              "      <td>-2.578374</td>\n",
              "    </tr>\n",
              "    <tr>\n",
              "      <th>5</th>\n",
              "      <td>OPGN</td>\n",
              "      <td>-0.319009</td>\n",
              "      <td>0.051002</td>\n",
              "      <td>-0.096822</td>\n",
              "    </tr>\n",
              "    <tr>\n",
              "      <th>6</th>\n",
              "      <td>ARCO</td>\n",
              "      <td>-0.108906</td>\n",
              "      <td>0.022691</td>\n",
              "      <td>-0.155033</td>\n",
              "    </tr>\n",
              "    <tr>\n",
              "      <th>7</th>\n",
              "      <td>TRQ</td>\n",
              "      <td>-0.436823</td>\n",
              "      <td>0.024026</td>\n",
              "      <td>-1.391064</td>\n",
              "    </tr>\n",
              "    <tr>\n",
              "      <th>8</th>\n",
              "      <td>ARTX</td>\n",
              "      <td>-0.048571</td>\n",
              "      <td>0.025576</td>\n",
              "      <td>0.075221</td>\n",
              "    </tr>\n",
              "    <tr>\n",
              "      <th>9</th>\n",
              "      <td>PDLI</td>\n",
              "      <td>0.297071</td>\n",
              "      <td>0.027180</td>\n",
              "      <td>0.842863</td>\n",
              "    </tr>\n",
              "    <tr>\n",
              "      <th>10</th>\n",
              "      <td>ENPH</td>\n",
              "      <td>1.855263</td>\n",
              "      <td>0.051253</td>\n",
              "      <td>1.747077</td>\n",
              "    </tr>\n",
              "    <tr>\n",
              "      <th>11</th>\n",
              "      <td>DNN</td>\n",
              "      <td>0.089512</td>\n",
              "      <td>0.032806</td>\n",
              "      <td>0.431709</td>\n",
              "    </tr>\n",
              "    <tr>\n",
              "      <th>12</th>\n",
              "      <td>ZYNE</td>\n",
              "      <td>-0.680000</td>\n",
              "      <td>0.048453</td>\n",
              "      <td>-1.166498</td>\n",
              "    </tr>\n",
              "    <tr>\n",
              "      <th>13</th>\n",
              "      <td>EYEG</td>\n",
              "      <td>-0.302941</td>\n",
              "      <td>0.067686</td>\n",
              "      <td>0.160871</td>\n",
              "    </tr>\n",
              "    <tr>\n",
              "      <th>14</th>\n",
              "      <td>FLKS</td>\n",
              "      <td>-0.912929</td>\n",
              "      <td>0.098861</td>\n",
              "      <td>-0.690207</td>\n",
              "    </tr>\n",
              "    <tr>\n",
              "      <th>15</th>\n",
              "      <td>APHB</td>\n",
              "      <td>-0.790598</td>\n",
              "      <td>0.056358</td>\n",
              "      <td>-1.357087</td>\n",
              "    </tr>\n",
              "  </tbody>\n",
              "</table>\n",
              "</div>"
            ],
            "text/plain": [
              "   symbol  total_returns   std_dev  sharpe_ratio\n",
              "0    MARA      -0.840117  0.072510     -1.143323\n",
              "1     DPW      -0.936306  0.064622     -2.309098\n",
              "2    TOPS      -0.516515  0.078360     -0.033539\n",
              "3    HTBX      -0.501873  0.107234      0.298117\n",
              "4    IMNP      -0.854929  0.077182     -2.578374\n",
              "5    OPGN      -0.319009  0.051002     -0.096822\n",
              "6    ARCO      -0.108906  0.022691     -0.155033\n",
              "7     TRQ      -0.436823  0.024026     -1.391064\n",
              "8    ARTX      -0.048571  0.025576      0.075221\n",
              "9    PDLI       0.297071  0.027180      0.842863\n",
              "10   ENPH       1.855263  0.051253      1.747077\n",
              "11    DNN       0.089512  0.032806      0.431709\n",
              "12   ZYNE      -0.680000  0.048453     -1.166498\n",
              "13   EYEG      -0.302941  0.067686      0.160871\n",
              "14   FLKS      -0.912929  0.098861     -0.690207\n",
              "15   APHB      -0.790598  0.056358     -1.357087"
            ]
          },
          "metadata": {
            "tags": []
          },
          "execution_count": 4
        }
      ]
    },
    {
      "metadata": {
        "id": "cBZfDgtTr-Tp",
        "colab_type": "text"
      },
      "cell_type": "markdown",
      "source": [
        "<h2> Computng Future Earnings</h2>"
      ]
    },
    {
      "metadata": {
        "id": "JsP8HLXHsCsm",
        "colab_type": "code",
        "outputId": "4e3f146d-fe07-46c0-91be-081af114c958",
        "colab": {
          "base_uri": "https://localhost:8080/",
          "height": 374
        }
      },
      "cell_type": "code",
      "source": [
        "import urllib\n",
        "import json\n",
        "\n",
        "\n",
        "def get_future_earnings_df(symbol):\n",
        "\n",
        "  base_url = 'https://us-central1-datascience-projects.cloudfunctions.net/future_earnings/{}'.format(symbol)\n",
        "  res = urllib.urlopen(base_url)\n",
        "  json_dict = res.read() #json.load(res)\n",
        "  try:\n",
        "    df = pd.read_json(json_dict)\n",
        "\n",
        "    cons  = df['Consensus'].values\n",
        "    fisc = df['Fiscal'].values\n",
        "\n",
        "    print('Cons:{}, Fisc:{}'.format(type(cons), type(fisc)))\n",
        "\n",
        "    converted = pd.DataFrame([cons], columns=fisc)\n",
        "    converted['symbol'] = symbol\n",
        "    return converted\n",
        "  except Exception:\n",
        "    print('exception in retrieving earnings for {}'.format(symbol))\n",
        "\n",
        "# Get earning estimates for all of them and find common columns\n",
        "# We need to repeat this process for every stock. And then save as CSV and reduce to common columns\n",
        "symbols = ['MARA','DPW','TOPS','HAON','HTBX','IMNP','OPGN','SUZBY','ARCO','TRQ','ARTX','PDLI','ENPH','PLPL',\n",
        "           'DNN','ZYNE','EYEG','FLKS','APHB','PHBI','ENDV']\n",
        "all_dfs = [get_future_earnings_df(symbol) for symbol in symbols]\n",
        "\n",
        "\n",
        "\n",
        "\n"
      ],
      "execution_count": 5,
      "outputs": [
        {
          "output_type": "stream",
          "text": [
            "exception in retrieving earnings for MARA\n",
            "exception in retrieving earnings for DPW\n",
            "exception in retrieving earnings for TOPS\n",
            "exception in retrieving earnings for HAON\n",
            "Cons:<type 'numpy.ndarray'>, Fisc:<type 'numpy.ndarray'>\n",
            "exception in retrieving earnings for IMNP\n",
            "Cons:<type 'numpy.ndarray'>, Fisc:<type 'numpy.ndarray'>\n",
            "exception in retrieving earnings for SUZBY\n",
            "Cons:<type 'numpy.ndarray'>, Fisc:<type 'numpy.ndarray'>\n",
            "exception in retrieving earnings for TRQ\n",
            "Cons:<type 'numpy.ndarray'>, Fisc:<type 'numpy.ndarray'>\n",
            "Cons:<type 'numpy.ndarray'>, Fisc:<type 'numpy.ndarray'>\n",
            "Cons:<type 'numpy.ndarray'>, Fisc:<type 'numpy.ndarray'>\n",
            "exception in retrieving earnings for PLPL\n",
            "exception in retrieving earnings for DNN\n",
            "Cons:<type 'numpy.ndarray'>, Fisc:<type 'numpy.ndarray'>\n",
            "Cons:<type 'numpy.ndarray'>, Fisc:<type 'numpy.ndarray'>\n",
            "exception in retrieving earnings for FLKS\n",
            "exception in retrieving earnings for APHB\n",
            "exception in retrieving earnings for PHBI\n",
            "exception in retrieving earnings for ENDV\n"
          ],
          "name": "stdout"
        }
      ]
    },
    {
      "metadata": {
        "id": "GQAt66GxMk92",
        "colab_type": "code",
        "outputId": "d78adfe0-657b-4df1-d8c4-635be314ef07",
        "colab": {
          "base_uri": "https://localhost:8080/",
          "height": 314
        }
      },
      "cell_type": "code",
      "source": [
        "good_ones = filter(lambda df: df is not None, all_dfs)\n",
        "\n",
        "min_shape = min(map(lambda df: df.shape[1], good_ones))\n",
        "col_to_project = good_ones[0].columns[0:min_shape]\n",
        "\n",
        "print ('Cols to project:{}'.format(col_to_project))\n",
        "\n",
        "\n",
        "reduced_df = reduce(lambda acc, item: item if acc is None else acc.append(item), good_ones, None)\n",
        "\n",
        "reduced_df\n"
      ],
      "execution_count": 6,
      "outputs": [
        {
          "output_type": "stream",
          "text": [
            "Cols to project:Index([u'Dec 2018', u'Dec 2019', u'Dec 2020'], dtype='object')\n"
          ],
          "name": "stdout"
        },
        {
          "output_type": "execute_result",
          "data": {
            "text/html": [
              "<div>\n",
              "<style scoped>\n",
              "    .dataframe tbody tr th:only-of-type {\n",
              "        vertical-align: middle;\n",
              "    }\n",
              "\n",
              "    .dataframe tbody tr th {\n",
              "        vertical-align: top;\n",
              "    }\n",
              "\n",
              "    .dataframe thead th {\n",
              "        text-align: right;\n",
              "    }\n",
              "</style>\n",
              "<table border=\"1\" class=\"dataframe\">\n",
              "  <thead>\n",
              "    <tr style=\"text-align: right;\">\n",
              "      <th></th>\n",
              "      <th>Dec 2018</th>\n",
              "      <th>Dec 2019</th>\n",
              "      <th>Dec 2020</th>\n",
              "      <th>Dec 2021</th>\n",
              "      <th>symbol</th>\n",
              "    </tr>\n",
              "  </thead>\n",
              "  <tbody>\n",
              "    <tr>\n",
              "      <th>0</th>\n",
              "      <td>-1.10</td>\n",
              "      <td>-0.65</td>\n",
              "      <td>-1.15</td>\n",
              "      <td>1.73</td>\n",
              "      <td>HTBX</td>\n",
              "    </tr>\n",
              "    <tr>\n",
              "      <th>0</th>\n",
              "      <td>-2.17</td>\n",
              "      <td>-0.93</td>\n",
              "      <td>NaN</td>\n",
              "      <td>NaN</td>\n",
              "      <td>OPGN</td>\n",
              "    </tr>\n",
              "    <tr>\n",
              "      <th>0</th>\n",
              "      <td>0.28</td>\n",
              "      <td>0.42</td>\n",
              "      <td>NaN</td>\n",
              "      <td>NaN</td>\n",
              "      <td>ARCO</td>\n",
              "    </tr>\n",
              "    <tr>\n",
              "      <th>0</th>\n",
              "      <td>0.15</td>\n",
              "      <td>0.20</td>\n",
              "      <td>0.26</td>\n",
              "      <td>NaN</td>\n",
              "      <td>ARTX</td>\n",
              "    </tr>\n",
              "    <tr>\n",
              "      <th>0</th>\n",
              "      <td>-0.51</td>\n",
              "      <td>0.13</td>\n",
              "      <td>0.20</td>\n",
              "      <td>NaN</td>\n",
              "      <td>PDLI</td>\n",
              "    </tr>\n",
              "    <tr>\n",
              "      <th>0</th>\n",
              "      <td>-0.14</td>\n",
              "      <td>0.13</td>\n",
              "      <td>0.22</td>\n",
              "      <td>0.39</td>\n",
              "      <td>ENPH</td>\n",
              "    </tr>\n",
              "    <tr>\n",
              "      <th>0</th>\n",
              "      <td>-2.87</td>\n",
              "      <td>-2.43</td>\n",
              "      <td>-2.60</td>\n",
              "      <td>-1.19</td>\n",
              "      <td>ZYNE</td>\n",
              "    </tr>\n",
              "    <tr>\n",
              "      <th>0</th>\n",
              "      <td>-0.31</td>\n",
              "      <td>-0.27</td>\n",
              "      <td>-0.26</td>\n",
              "      <td>NaN</td>\n",
              "      <td>EYEG</td>\n",
              "    </tr>\n",
              "  </tbody>\n",
              "</table>\n",
              "</div>"
            ],
            "text/plain": [
              "   Dec 2018  Dec 2019  Dec 2020  Dec 2021 symbol\n",
              "0     -1.10     -0.65     -1.15      1.73   HTBX\n",
              "0     -2.17     -0.93       NaN       NaN   OPGN\n",
              "0      0.28      0.42       NaN       NaN   ARCO\n",
              "0      0.15      0.20      0.26       NaN   ARTX\n",
              "0     -0.51      0.13      0.20       NaN   PDLI\n",
              "0     -0.14      0.13      0.22      0.39   ENPH\n",
              "0     -2.87     -2.43     -2.60     -1.19   ZYNE\n",
              "0     -0.31     -0.27     -0.26       NaN   EYEG"
            ]
          },
          "metadata": {
            "tags": []
          },
          "execution_count": 6
        }
      ]
    },
    {
      "metadata": {
        "id": "82Kec5I7sPLr",
        "colab_type": "code",
        "colab": {}
      },
      "cell_type": "code",
      "source": [
        "merged= pd.merge(df, reduced_df, how='left', on='symbol')\n",
        "\n",
        "merged\n",
        "\n",
        "# SAving to csv file\n",
        "merged.to_csv('/tmp/results.csv')\n",
        "\n",
        "\n"
      ],
      "execution_count": 0,
      "outputs": []
    },
    {
      "metadata": {
        "id": "nLWBA1gZc9Ht",
        "colab_type": "code",
        "colab": {
          "base_uri": "https://localhost:8080/",
          "height": 306
        },
        "outputId": "b62b84ee-a85b-426a-fa45-e1046820fc35"
      },
      "cell_type": "code",
      "source": [
        "# checking the file is there\n",
        "!cat /tmp/results.csv"
      ],
      "execution_count": 8,
      "outputs": [
        {
          "output_type": "stream",
          "text": [
            ",symbol,total_returns,std_dev,sharpe_ratio,Dec 2018,Dec 2019,Dec 2020,Dec 2021\n",
            "0,MARA,-0.8401171875,0.0725101291844523,-1.1433231706174947,,,,\n",
            "1,DPW,-0.9363057324840764,0.06462200479311135,-2.3090978032687732,,,,\n",
            "2,TOPS,-0.5165150789851604,0.07836030090433346,-0.0335387683314553,,,,\n",
            "3,HTBX,-0.5018726591760299,0.10723411715376657,0.2981174781266307,-1.1,-0.65,-1.15,1.73\n",
            "4,IMNP,-0.8549290141971606,0.0771819353512611,-2.5783738467237844,,,,\n",
            "5,OPGN,-0.3190086206896551,0.05100224067362572,-0.09682198998222241,-2.17,-0.93,,\n",
            "6,ARCO,-0.10890560802518545,0.022690515923983755,-0.15503346605648313,0.28,0.42,,\n",
            "7,TRQ,-0.4368231046931408,0.02402636700576219,-1.391063695511287,,,,\n",
            "8,ARTX,-0.0485714285714286,0.025575539757631372,0.07522148278457004,0.15,0.2,0.26,\n",
            "9,PDLI,0.2970711297071129,0.02718021434039187,0.8428634375496403,-0.51,0.13,0.2,\n",
            "10,ENPH,1.8552631578947372,0.05125302266418206,1.747077289987807,-0.14,0.13,0.22,0.39\n",
            "11,DNN,0.08951175406871603,0.03280606013389643,0.43170875253846946,,,,\n",
            "12,ZYNE,-0.6799999999999999,0.048453186647603806,-1.1664975423467159,-2.87,-2.43,-2.6,-1.19\n",
            "13,EYEG,-0.30294117647058827,0.06768617347696518,0.16087096367170195,-0.31,-0.27,-0.26,\n",
            "14,FLKS,-0.9129287598944591,0.09886108812676392,-0.6902070370134881,,,,\n",
            "15,APHB,-0.7905982905982906,0.05635781302857536,-1.3570871680448728,,,,\n"
          ],
          "name": "stdout"
        }
      ]
    },
    {
      "metadata": {
        "id": "-HCr-M6fsbzV",
        "colab_type": "text"
      },
      "cell_type": "markdown",
      "source": [
        "<h2> computing moving averages </h2>"
      ]
    },
    {
      "metadata": {
        "id": "sfk-7K2JrF-p",
        "colab_type": "code",
        "colab": {}
      },
      "cell_type": "code",
      "source": [
        "# Authenticating to Google so we can copy over the stuff\n",
        "from google.colab import auth\n",
        "auth.authenticate_user()"
      ],
      "execution_count": 0,
      "outputs": []
    },
    {
      "metadata": {
        "id": "dIsYWC4drXyq",
        "colab_type": "code",
        "colab": {
          "base_uri": "https://localhost:8080/",
          "height": 68
        },
        "outputId": "e3373d10-837b-46df-95cb-a7cc619034e0"
      },
      "cell_type": "code",
      "source": [
        "!gsutil cp /tmp/results.csv gs://datascience-bucket-mm"
      ],
      "execution_count": 10,
      "outputs": [
        {
          "output_type": "stream",
          "text": [
            "Copying file:///tmp/results.csv [Content-Type=text/csv]...\n",
            "/ [1 files][  1.3 KiB/  1.3 KiB]                                                \n",
            "Operation completed over 1 objects/1.3 KiB.                                      \n"
          ],
          "name": "stdout"
        }
      ]
    },
    {
      "metadata": {
        "id": "j00hYdQ7sg4B",
        "colab_type": "code",
        "colab": {}
      },
      "cell_type": "code",
      "source": [
        "from datetime import date\n",
        "end = pd.Timestamp(datetime.now())\n",
        "start = end - BDay(250)\n",
        "import numpy as np\n",
        "\n",
        "\n",
        "def get_data(start, end, symbol):\n",
        "  return dr.DataReader(symbol, 'iex', start, end)['close']\n",
        "\n",
        "\n",
        "def compute_avg(prices):\n",
        "  mapped = map(lambda tpl: tpl[1], prices)\n",
        "  return np.average(mapped) if prices else 0.0\n",
        "\n",
        "\n",
        "def compute_moving_avg(prices, days):\n",
        "  res = [(prices[i][0], prices[i][1],  compute_avg(prices[i-days:i])) for i in range(0, len(prices))]\n",
        "  return res\n",
        "  \n",
        "  \n",
        "\n",
        "end = pd.Timestamp(datetime.now())\n",
        "start = end - BDay(400)  \n",
        "res =get_data(start, end, 'AMZN')  \n",
        "\n",
        "all_data = zip(res.index, res)\n",
        "\n",
        "result = compute_moving_avg(all_data, 200)\n",
        "\n",
        "dr.DataReader('AMZN', 'iex', date(2019,1,14), date(2019,1,23))\n",
        "  \n",
        "\n"
      ],
      "execution_count": 0,
      "outputs": []
    },
    {
      "metadata": {
        "id": "eoKMVUZPtvDY",
        "colab_type": "code",
        "colab": {}
      },
      "cell_type": "code",
      "source": [
        ""
      ],
      "execution_count": 0,
      "outputs": []
    }
  ]
}