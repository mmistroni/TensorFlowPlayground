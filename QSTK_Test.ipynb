{
  "nbformat": 4,
  "nbformat_minor": 0,
  "metadata": {
    "colab": {
      "name": "QSTK-Test.ipynb",
      "version": "0.3.2",
      "provenance": [],
      "collapsed_sections": [],
      "include_colab_link": true
    },
    "kernelspec": {
      "name": "python2",
      "display_name": "Python 2"
    }
  },
  "cells": [
    {
      "cell_type": "markdown",
      "metadata": {
        "id": "view-in-github",
        "colab_type": "text"
      },
      "source": [
        "<a href=\"https://colab.research.google.com/github/mmistroni/TensorFlowPlayground/blob/master/QSTK_Test.ipynb\" target=\"_parent\"><img src=\"https://colab.research.google.com/assets/colab-badge.svg\" alt=\"Open In Colab\"/></a>"
      ]
    },
    {
      "metadata": {
        "id": "gZU5-E2CI3WP",
        "colab_type": "code",
        "outputId": "3faad2e4-92e8-46c6-cb45-cadce63ee41f",
        "colab": {
          "base_uri": "https://localhost:8080/",
          "height": 1227
        }
      },
      "cell_type": "code",
      "source": [
        "!pip install numpy==1.6.1"
      ],
      "execution_count": 1,
      "outputs": [
        {
          "output_type": "stream",
          "text": [
            "Collecting numpy==1.6.1\n",
            "\u001b[?25l  Downloading https://files.pythonhosted.org/packages/44/3b/63aa0464c495de6bac1f9f5a6c4626264ea07ad85b51cf6ebfdbbaa9fab4/numpy-1.6.1-cp27-cp27mu-manylinux1_x86_64.whl (13.6MB)\n",
            "\u001b[K    100% |████████████████████████████████| 13.6MB 2.0MB/s \n",
            "\u001b[31mkeras-preprocessing 1.0.5 has requirement numpy>=1.9.1, but you'll have numpy 1.6.1 which is incompatible.\u001b[0m\n",
            "\u001b[31mtensorflow-hub 0.2.0 has requirement numpy>=1.12.0, but you'll have numpy 1.6.1 which is incompatible.\u001b[0m\n",
            "\u001b[31mpystan 2.18.1.0 has requirement numpy>=1.7, but you'll have numpy 1.6.1 which is incompatible.\u001b[0m\n",
            "\u001b[31mpywavelets 1.0.1 has requirement numpy>=1.9.1, but you'll have numpy 1.6.1 which is incompatible.\u001b[0m\n",
            "\u001b[31mfbprophet 0.4.post1 has requirement numpy>=1.10.0, but you'll have numpy 1.6.1 which is incompatible.\u001b[0m\n",
            "\u001b[31mxarray 0.11.2 has requirement numpy>=1.12, but you'll have numpy 1.6.1 which is incompatible.\u001b[0m\n",
            "\u001b[31mosqp 0.5.0 has requirement numpy>=1.7, but you'll have numpy 1.6.1 which is incompatible.\u001b[0m\n",
            "\u001b[31mtensorboard 1.12.2 has requirement numpy>=1.12.0, but you'll have numpy 1.6.1 which is incompatible.\u001b[0m\n",
            "\u001b[31mlibrosa 0.6.2 has requirement numpy>=1.8.0, but you'll have numpy 1.6.1 which is incompatible.\u001b[0m\n",
            "\u001b[31mnumexpr 2.6.9 has requirement numpy>=1.7, but you'll have numpy 1.6.1 which is incompatible.\u001b[0m\n",
            "\u001b[31mmagenta 0.3.19 has requirement numpy>=1.11.0, but you'll have numpy 1.6.1 which is incompatible.\u001b[0m\n",
            "\u001b[31mscs 2.0.2 has requirement numpy>=1.7, but you'll have numpy 1.6.1 which is incompatible.\u001b[0m\n",
            "\u001b[31mtables 3.4.4 has requirement numpy>=1.8.0, but you'll have numpy 1.6.1 which is incompatible.\u001b[0m\n",
            "\u001b[31mnibabel 2.3.2 has requirement numpy>=1.7.1, but you'll have numpy 1.6.1 which is incompatible.\u001b[0m\n",
            "\u001b[31mmlxtend 0.14.0 has requirement numpy>=1.10.4, but you'll have numpy 1.6.1 which is incompatible.\u001b[0m\n",
            "\u001b[31mbokeh 1.0.4 has requirement numpy>=1.7.1, but you'll have numpy 1.6.1 which is incompatible.\u001b[0m\n",
            "\u001b[31mbokeh 1.0.4 has requirement python-dateutil>=2.1, but you'll have python-dateutil 1.5 which is incompatible.\u001b[0m\n",
            "\u001b[31mresampy 0.2.1 has requirement numpy>=1.10, but you'll have numpy 1.6.1 which is incompatible.\u001b[0m\n",
            "\u001b[31mmsgpack-numpy 0.4.3.2 has requirement numpy>=1.9.0, but you'll have numpy 1.6.1 which is incompatible.\u001b[0m\n",
            "\u001b[31mkeras-applications 1.0.6 has requirement numpy>=1.9.1, but you'll have numpy 1.6.1 which is incompatible.\u001b[0m\n",
            "\u001b[31mtensorflow 1.12.0 has requirement numpy>=1.13.3, but you'll have numpy 1.6.1 which is incompatible.\u001b[0m\n",
            "\u001b[31mfancyimpute 0.4.2 has requirement numpy>=1.10, but you'll have numpy 1.6.1 which is incompatible.\u001b[0m\n",
            "\u001b[31mspacy 2.0.18 has requirement numpy>=1.15.0, but you'll have numpy 1.6.1 which is incompatible.\u001b[0m\n",
            "\u001b[31mpandas 0.22.0 has requirement numpy>=1.9.0, but you'll have numpy 1.6.1 which is incompatible.\u001b[0m\n",
            "\u001b[31mpyemd 0.5.1 has requirement numpy<2.0.0,>=1.9.0, but you'll have numpy 1.6.1 which is incompatible.\u001b[0m\n",
            "\u001b[31mkeras 2.2.4 has requirement numpy>=1.9.1, but you'll have numpy 1.6.1 which is incompatible.\u001b[0m\n",
            "\u001b[31mautograd 1.2 has requirement numpy>=1.12, but you'll have numpy 1.6.1 which is incompatible.\u001b[0m\n",
            "\u001b[31mgym 0.10.9 has requirement numpy>=1.10.4, but you'll have numpy 1.6.1 which is incompatible.\u001b[0m\n",
            "\u001b[31mfeaturetools 0.4.1 has requirement numpy>=1.13.3, but you'll have numpy 1.6.1 which is incompatible.\u001b[0m\n",
            "\u001b[31mfeaturetools 0.4.1 has requirement pandas>=0.23.0, but you'll have pandas 0.22.0 which is incompatible.\u001b[0m\n",
            "\u001b[31mmatplotlib 2.2.3 has requirement numpy>=1.7.1, but you'll have numpy 1.6.1 which is incompatible.\u001b[0m\n",
            "\u001b[31mmatplotlib 2.2.3 has requirement python-dateutil>=2.1, but you'll have python-dateutil 1.5 which is incompatible.\u001b[0m\n",
            "\u001b[31mmir-eval 0.5 has requirement numpy>=1.7.0, but you'll have numpy 1.6.1 which is incompatible.\u001b[0m\n",
            "\u001b[31mpretty-midi 0.2.8 has requirement numpy>=1.7.0, but you'll have numpy 1.6.1 which is incompatible.\u001b[0m\n",
            "\u001b[31mumap-learn 0.3.7 has requirement numpy>=1.13, but you'll have numpy 1.6.1 which is incompatible.\u001b[0m\n",
            "\u001b[31mastropy 2.0.11 has requirement numpy>=1.9.0, but you'll have numpy 1.6.1 which is incompatible.\u001b[0m\n",
            "\u001b[31mastropy 2.0.11 has requirement pytest<3.7,>=2.8, but you'll have pytest 3.10.1 which is incompatible.\u001b[0m\n",
            "\u001b[31mpymc3 3.6 has requirement joblib<0.13.0, but you'll have joblib 0.13.1 which is incompatible.\u001b[0m\n",
            "\u001b[31mpymc3 3.6 has requirement numpy>=1.13.0, but you'll have numpy 1.6.1 which is incompatible.\u001b[0m\n",
            "\u001b[31mtensorflow-probability 0.5.0 has requirement numpy>=1.13.3, but you'll have numpy 1.6.1 which is incompatible.\u001b[0m\n",
            "\u001b[31myellowbrick 0.9 has requirement numpy>=1.13.0, but you'll have numpy 1.6.1 which is incompatible.\u001b[0m\n",
            "\u001b[31mgensim 3.6.0 has requirement numpy>=1.11.3, but you'll have numpy 1.6.1 which is incompatible.\u001b[0m\n",
            "\u001b[31mknnimpute 0.1.0 has requirement numpy>=1.10, but you'll have numpy 1.6.1 which is incompatible.\u001b[0m\n",
            "\u001b[31mcvxpy 1.0.11 has requirement numpy>=1.14, but you'll have numpy 1.6.1 which is incompatible.\u001b[0m\n",
            "\u001b[31mimbalanced-learn 0.4.3 has requirement numpy>=1.8.2, but you'll have numpy 1.6.1 which is incompatible.\u001b[0m\n",
            "\u001b[31malbumentations 0.1.10 has requirement numpy>=1.11.1, but you'll have numpy 1.6.1 which is incompatible.\u001b[0m\n",
            "\u001b[31mkapre 0.1.3.1 has requirement numpy>=1.8.0, but you'll have numpy 1.6.1 which is incompatible.\u001b[0m\n",
            "\u001b[31mscikit-learn 0.20.2 has requirement numpy>=1.8.2, but you'll have numpy 1.6.1 which is incompatible.\u001b[0m\n",
            "\u001b[31mchainer 5.0.0 has requirement numpy>=1.9.0, but you'll have numpy 1.6.1 which is incompatible.\u001b[0m\n",
            "\u001b[31mscipy 1.1.0 has requirement numpy>=1.8.2, but you'll have numpy 1.6.1 which is incompatible.\u001b[0m\n",
            "\u001b[31mthinc 6.12.1 has requirement numpy>=1.7.0, but you'll have numpy 1.6.1 which is incompatible.\u001b[0m\n",
            "\u001b[31mthinc 6.12.1 has requirement wrapt<1.11.0,>=1.10.0, but you'll have wrapt 1.11.0 which is incompatible.\u001b[0m\n",
            "\u001b[31mh5py 2.8.0 has requirement numpy>=1.7, but you'll have numpy 1.6.1 which is incompatible.\u001b[0m\n",
            "\u001b[31mtheano 1.0.3 has requirement numpy>=1.9.1, but you'll have numpy 1.6.1 which is incompatible.\u001b[0m\n",
            "\u001b[31mcufflinks 0.14.6 has requirement numpy>=1.9.2, but you'll have numpy 1.6.1 which is incompatible.\u001b[0m\n",
            "\u001b[31mcufflinks 0.14.6 has requirement plotly>=3.0.0, but you'll have plotly 1.12.12 which is incompatible.\u001b[0m\n",
            "\u001b[31mopencv-python 3.4.5.20 has requirement numpy>=1.11.1, but you'll have numpy 1.6.1 which is incompatible.\u001b[0m\n",
            "\u001b[31mimgaug 0.2.6 has requirement numpy>=1.7.0, but you'll have numpy 1.6.1 which is incompatible.\u001b[0m\n",
            "\u001b[31mopencv-contrib-python 3.4.3.18 has requirement numpy>=1.11.1, but you'll have numpy 1.6.1 which is incompatible.\u001b[0m\n",
            "\u001b[?25hInstalling collected packages: numpy\n",
            "  Found existing installation: numpy 1.14.6\n",
            "    Uninstalling numpy-1.14.6:\n",
            "      Successfully uninstalled numpy-1.14.6\n",
            "Successfully installed numpy-1.6.1\n",
            "\u001b[0;31;1mWARNING: The following packages were previously imported in this runtime:\n",
            "  [numpy]\n",
            "You must restart the runtime in order to use newly installed versions.\u001b[0m\n"
          ],
          "name": "stdout"
        }
      ]
    },
    {
      "metadata": {
        "id": "HbVXchZrI_8q",
        "colab_type": "code",
        "outputId": "9f4ace83-257a-4cb0-9150-010c8f9e8ab6",
        "colab": {
          "base_uri": "https://localhost:8080/",
          "height": 360
        }
      },
      "cell_type": "code",
      "source": [
        "!pip install scipy"
      ],
      "execution_count": 2,
      "outputs": [
        {
          "output_type": "stream",
          "text": [
            "Requirement already satisfied: scipy in /usr/local/lib/python2.7/dist-packages (1.1.0)\n",
            "Collecting numpy>=1.8.2 (from scipy)\n",
            "\u001b[?25l  Downloading https://files.pythonhosted.org/packages/9f/85/163127d3fb0573deb9eca947cfc73aa3618eaaf8656501460574471d114a/numpy-1.16.0-cp27-cp27mu-manylinux1_x86_64.whl (17.0MB)\n",
            "\u001b[K    100% |████████████████████████████████| 17.0MB 1.6MB/s \n",
            "\u001b[31mmatplotlib 2.2.3 has requirement python-dateutil>=2.1, but you'll have python-dateutil 1.5 which is incompatible.\u001b[0m\n",
            "\u001b[31mbokeh 1.0.4 has requirement python-dateutil>=2.1, but you'll have python-dateutil 1.5 which is incompatible.\u001b[0m\n",
            "\u001b[31mastropy 2.0.11 has requirement pytest<3.7,>=2.8, but you'll have pytest 3.10.1 which is incompatible.\u001b[0m\n",
            "\u001b[31mpymc3 3.6 has requirement joblib<0.13.0, but you'll have joblib 0.13.1 which is incompatible.\u001b[0m\n",
            "\u001b[31mfeaturetools 0.4.1 has requirement pandas>=0.23.0, but you'll have pandas 0.22.0 which is incompatible.\u001b[0m\n",
            "\u001b[31mcufflinks 0.14.6 has requirement plotly>=3.0.0, but you'll have plotly 1.12.12 which is incompatible.\u001b[0m\n",
            "\u001b[31mthinc 6.12.1 has requirement wrapt<1.11.0,>=1.10.0, but you'll have wrapt 1.11.0 which is incompatible.\u001b[0m\n",
            "\u001b[?25hInstalling collected packages: numpy\n",
            "  Found existing installation: numpy 1.6.1\n",
            "    Uninstalling numpy-1.6.1:\n",
            "      Successfully uninstalled numpy-1.6.1\n",
            "Successfully installed numpy-1.16.0\n",
            "\u001b[0;31;1mWARNING: The following packages were previously imported in this runtime:\n",
            "  [numpy]\n",
            "You must restart the runtime in order to use newly installed versions.\u001b[0m\n"
          ],
          "name": "stdout"
        }
      ]
    },
    {
      "metadata": {
        "id": "xIbZKRh9JKi5",
        "colab_type": "code",
        "outputId": "dbd5042c-d033-4193-bdff-1ba2ab3511d2",
        "colab": {
          "base_uri": "https://localhost:8080/",
          "height": 411
        }
      },
      "cell_type": "code",
      "source": [
        "!pip install matplotlib"
      ],
      "execution_count": 3,
      "outputs": [
        {
          "output_type": "stream",
          "text": [
            "Requirement already satisfied: matplotlib in /usr/local/lib/python2.7/dist-packages (2.2.3)\n",
            "Requirement already satisfied: cycler>=0.10 in /usr/local/lib/python2.7/dist-packages (from matplotlib) (0.10.0)\n",
            "Requirement already satisfied: numpy>=1.7.1 in /usr/local/lib/python2.7/dist-packages (from matplotlib) (1.16.0)\n",
            "Requirement already satisfied: backports.functools-lru-cache in /usr/local/lib/python2.7/dist-packages (from matplotlib) (1.5)\n",
            "Requirement already satisfied: subprocess32 in /usr/local/lib/python2.7/dist-packages (from matplotlib) (3.5.3)\n",
            "Requirement already satisfied: kiwisolver>=1.0.1 in /usr/local/lib/python2.7/dist-packages (from matplotlib) (1.0.1)\n",
            "Requirement already satisfied: pytz in /usr/local/lib/python2.7/dist-packages (from matplotlib) (2018.9)\n",
            "Requirement already satisfied: six>=1.10 in /usr/local/lib/python2.7/dist-packages (from matplotlib) (1.11.0)\n",
            "Collecting python-dateutil>=2.1 (from matplotlib)\n",
            "\u001b[?25l  Downloading https://files.pythonhosted.org/packages/74/68/d87d9b36af36f44254a8d512cbfc48369103a3b9e474be9bdfe536abfc45/python_dateutil-2.7.5-py2.py3-none-any.whl (225kB)\n",
            "\u001b[K    100% |████████████████████████████████| 235kB 5.4MB/s \n",
            "\u001b[?25hRequirement already satisfied: pyparsing!=2.0.4,!=2.1.2,!=2.1.6,>=2.0.1 in /usr/local/lib/python2.7/dist-packages (from matplotlib) (2.3.1)\n",
            "Requirement already satisfied: setuptools in /usr/local/lib/python2.7/dist-packages (from kiwisolver>=1.0.1->matplotlib) (40.6.3)\n",
            "\u001b[31mqstk 0.2.8 has requirement python-dateutil==1.5, but you'll have python-dateutil 2.7.5 which is incompatible.\u001b[0m\n",
            "Installing collected packages: python-dateutil\n",
            "  Found existing installation: python-dateutil 1.5\n",
            "    Uninstalling python-dateutil-1.5:\n",
            "      Successfully uninstalled python-dateutil-1.5\n",
            "Successfully installed python-dateutil-2.7.5\n",
            "\u001b[0;31;1mWARNING: The following packages were previously imported in this runtime:\n",
            "  [dateutil]\n",
            "You must restart the runtime in order to use newly installed versions.\u001b[0m\n"
          ],
          "name": "stdout"
        }
      ]
    },
    {
      "metadata": {
        "id": "JT4jMvsqJPmM",
        "colab_type": "code",
        "outputId": "684ef0c1-e190-4030-b949-dbc23d16a916",
        "colab": {
          "base_uri": "https://localhost:8080/",
          "height": 102
        }
      },
      "cell_type": "code",
      "source": [
        "!pip install pandas\n"
      ],
      "execution_count": 4,
      "outputs": [
        {
          "output_type": "stream",
          "text": [
            "Requirement already satisfied: pandas in /usr/local/lib/python2.7/dist-packages (0.22.0)\n",
            "Requirement already satisfied: pytz>=2011k in /usr/local/lib/python2.7/dist-packages (from pandas) (2018.9)\n",
            "Requirement already satisfied: python-dateutil in /usr/local/lib/python2.7/dist-packages (from pandas) (2.7.5)\n",
            "Requirement already satisfied: numpy>=1.9.0 in /usr/local/lib/python2.7/dist-packages (from pandas) (1.16.0)\n",
            "Requirement already satisfied: six>=1.5 in /usr/local/lib/python2.7/dist-packages (from python-dateutil->pandas) (1.11.0)\n"
          ],
          "name": "stdout"
        }
      ]
    },
    {
      "metadata": {
        "id": "CY_noHpsJVTd",
        "colab_type": "code",
        "outputId": "7a73822c-0338-4bda-8377-9ff033acf4d0",
        "colab": {
          "base_uri": "https://localhost:8080/",
          "height": 476
        }
      },
      "cell_type": "code",
      "source": [
        "!pip install qstk\n"
      ],
      "execution_count": 5,
      "outputs": [
        {
          "output_type": "stream",
          "text": [
            "Requirement already satisfied: qstk in /usr/local/lib/python2.7/dist-packages (0.2.8)\n",
            "Requirement already satisfied: scipy>=0.9.0 in /usr/local/lib/python2.7/dist-packages (from qstk) (1.1.0)\n",
            "Requirement already satisfied: pandas>=0.7.3 in /usr/local/lib/python2.7/dist-packages (from qstk) (0.22.0)\n",
            "Collecting python-dateutil==1.5 (from qstk)\n",
            "Requirement already satisfied: numpy>=1.6.1 in /usr/local/lib/python2.7/dist-packages (from qstk) (1.16.0)\n",
            "Requirement already satisfied: scikit-learn>=0.11 in /usr/local/lib/python2.7/dist-packages (from qstk) (0.20.2)\n",
            "Requirement already satisfied: matplotlib>=1.1.0 in /usr/local/lib/python2.7/dist-packages (from qstk) (2.2.3)\n",
            "Requirement already satisfied: pytz>=2011k in /usr/local/lib/python2.7/dist-packages (from pandas>=0.7.3->qstk) (2018.9)\n",
            "Requirement already satisfied: cycler>=0.10 in /usr/local/lib/python2.7/dist-packages (from matplotlib>=1.1.0->qstk) (0.10.0)\n",
            "Requirement already satisfied: backports.functools-lru-cache in /usr/local/lib/python2.7/dist-packages (from matplotlib>=1.1.0->qstk) (1.5)\n",
            "Requirement already satisfied: subprocess32 in /usr/local/lib/python2.7/dist-packages (from matplotlib>=1.1.0->qstk) (3.5.3)\n",
            "Requirement already satisfied: kiwisolver>=1.0.1 in /usr/local/lib/python2.7/dist-packages (from matplotlib>=1.1.0->qstk) (1.0.1)\n",
            "Requirement already satisfied: six>=1.10 in /usr/local/lib/python2.7/dist-packages (from matplotlib>=1.1.0->qstk) (1.11.0)\n",
            "Requirement already satisfied: pyparsing!=2.0.4,!=2.1.2,!=2.1.6,>=2.0.1 in /usr/local/lib/python2.7/dist-packages (from matplotlib>=1.1.0->qstk) (2.3.1)\n",
            "Requirement already satisfied: setuptools in /usr/local/lib/python2.7/dist-packages (from kiwisolver>=1.0.1->matplotlib>=1.1.0->qstk) (40.6.3)\n",
            "\u001b[31mbokeh 1.0.4 has requirement python-dateutil>=2.1, but you'll have python-dateutil 1.5 which is incompatible.\u001b[0m\n",
            "\u001b[31mbotocore 1.12.78 has requirement python-dateutil<3.0.0,>=2.1; python_version >= \"2.7\", but you'll have python-dateutil 1.5 which is incompatible.\u001b[0m\n",
            "\u001b[31mmatplotlib 2.2.3 has requirement python-dateutil>=2.1, but you'll have python-dateutil 1.5 which is incompatible.\u001b[0m\n",
            "\u001b[31mjupyter-client 5.2.4 has requirement python-dateutil>=2.1, but you'll have python-dateutil 1.5 which is incompatible.\u001b[0m\n",
            "Installing collected packages: python-dateutil\n",
            "  Found existing installation: python-dateutil 2.7.5\n",
            "    Uninstalling python-dateutil-2.7.5:\n",
            "      Successfully uninstalled python-dateutil-2.7.5\n",
            "Successfully installed python-dateutil-1.5\n",
            "\u001b[0;31;1mWARNING: The following packages were previously imported in this runtime:\n",
            "  [dateutil]\n",
            "You must restart the runtime in order to use newly installed versions.\u001b[0m\n"
          ],
          "name": "stdout"
        }
      ]
    },
    {
      "metadata": {
        "id": "ON9SPKKV8t77",
        "colab_type": "code",
        "outputId": "9b0c1c61-985e-4246-89cb-dc32950d0ed3",
        "colab": {
          "base_uri": "https://localhost:8080/",
          "height": 221
        }
      },
      "cell_type": "code",
      "source": [
        "!pip install pandas_datareader"
      ],
      "execution_count": 6,
      "outputs": [
        {
          "output_type": "stream",
          "text": [
            "Requirement already satisfied: pandas_datareader in /usr/local/lib/python2.7/dist-packages (0.7.0)\n",
            "Requirement already satisfied: lxml in /usr/local/lib/python2.7/dist-packages (from pandas_datareader) (4.2.6)\n",
            "Requirement already satisfied: pandas>=0.19.2 in /usr/local/lib/python2.7/dist-packages (from pandas_datareader) (0.22.0)\n",
            "Requirement already satisfied: wrapt in /usr/local/lib/python2.7/dist-packages (from pandas_datareader) (1.11.0)\n",
            "Requirement already satisfied: requests>=2.3.0 in /usr/local/lib/python2.7/dist-packages (from pandas_datareader) (2.18.4)\n",
            "Requirement already satisfied: pytz>=2011k in /usr/local/lib/python2.7/dist-packages (from pandas>=0.19.2->pandas_datareader) (2018.9)\n",
            "Requirement already satisfied: python-dateutil in /usr/local/lib/python2.7/dist-packages (from pandas>=0.19.2->pandas_datareader) (1.5)\n",
            "Requirement already satisfied: numpy>=1.9.0 in /usr/local/lib/python2.7/dist-packages (from pandas>=0.19.2->pandas_datareader) (1.16.0)\n",
            "Requirement already satisfied: idna<2.7,>=2.5 in /usr/local/lib/python2.7/dist-packages (from requests>=2.3.0->pandas_datareader) (2.6)\n",
            "Requirement already satisfied: urllib3<1.23,>=1.21.1 in /usr/local/lib/python2.7/dist-packages (from requests>=2.3.0->pandas_datareader) (1.22)\n",
            "Requirement already satisfied: certifi>=2017.4.17 in /usr/local/lib/python2.7/dist-packages (from requests>=2.3.0->pandas_datareader) (2018.11.29)\n",
            "Requirement already satisfied: chardet<3.1.0,>=3.0.2 in /usr/local/lib/python2.7/dist-packages (from requests>=2.3.0->pandas_datareader) (3.0.4)\n"
          ],
          "name": "stdout"
        }
      ]
    },
    {
      "metadata": {
        "id": "I_r8iiM2_CTx",
        "colab_type": "code",
        "colab": {}
      },
      "cell_type": "code",
      "source": [
        "# Importing  required packages\n",
        "import pandas  as pd\n",
        "pd.TimeSeries = pd.Series\n",
        "\n",
        "import QSTK.qstkutil.qsdateutil as du\n",
        "import QSTK.qstkutil.tsutil as tsu\n",
        "import QSTK.qstkutil.DataAccess as da\n",
        "\n",
        "import datetime as dt\n",
        "import matplotlib.pyplot as plt\n",
        "import pandas as pd"
      ],
      "execution_count": 0,
      "outputs": []
    },
    {
      "metadata": {
        "id": "jZhzhjID8D3_",
        "colab_type": "code",
        "colab": {}
      },
      "cell_type": "code",
      "source": [
        "def compute\n",
        "\n"
      ],
      "execution_count": 0,
      "outputs": []
    },
    {
      "metadata": {
        "id": "eijllaPPhZD4",
        "colab_type": "text"
      },
      "cell_type": "markdown",
      "source": [
        "<h2> Computing Sharpe Ratio and Returns </h2>"
      ]
    },
    {
      "metadata": {
        "id": "0r0fL2_1hgUg",
        "colab_type": "code",
        "colab": {}
      },
      "cell_type": "code",
      "source": [
        "import logging\n",
        "logger = logging.getLogger(__name__)\n",
        "from math import sqrt\n",
        "\n",
        "def get_prices(ls_symbols, dt_start, dt_end):\n",
        "    dt_timeofday = dt.timedelta(hours=16)\n",
        "    ldt_timestamps = du.getNYSEdays(dt_start, dt_end, dt_timeofday)\n",
        "    #c_dataobj = da.DataAccess('Yahoo')\n",
        "    c_dataobj = da.DataAccess('Yahoo', cachestalltime=0)\n",
        "    ls_keys = ['close']\n",
        "    ldf_data = c_dataobj.get_data(ldt_timestamps, ls_symbols, ls_keys)\n",
        "    return  dict(zip(ls_keys, ldf_data)) # each field is returned as a single dataframe\n",
        "\n",
        "def compute_daily_returns(prices):\n",
        "    na_rets = prices.copy()\n",
        "    return tsu.returnize0(na_rets)\n",
        "\n",
        "def compute_standard_deviations(daily_returns):\n",
        "    return np.std(daily_returns)\n",
        "\n",
        "def normalize_prices(prices):\n",
        "    return prices / prices[0,:]\n",
        "\n",
        "def compute_sharpe_ratio(daily_returns, standard_dev):\n",
        "    \n",
        "    avg = sum(daily_returns) / len(daily_returns)\n",
        "    \n",
        "    return (sqrt(252) * avg) / standard_dev\n"
      ],
      "execution_count": 0,
      "outputs": []
    },
    {
      "metadata": {
        "id": "2I75B7XPjBNB",
        "colab_type": "code",
        "outputId": "c44ce1a6-6c22-4ff3-bdc5-0c7453a72597",
        "colab": {
          "base_uri": "https://localhost:8080/",
          "height": 102
        }
      },
      "cell_type": "code",
      "source": [
        "import pandas as pd\n",
        "from pandas.tseries.offsets import BDay\n",
        "import pandas_datareader.data as dr\n",
        "import numpy as np\n",
        "from datetime import datetime\n",
        "\n",
        "\n",
        "def get_closes(start, end, symbol):\n",
        "  return dr.DataReader(symbol, 'iex', start, end)['close']\n",
        "\n",
        "\n",
        "def compute_statistics(symbol, prices):\n",
        "  #prices = get_closes(start, end, symbol)\n",
        "  daily_returns = compute_daily_returns(prices)\n",
        "  std_dev  = compute_standard_deviations(daily_returns)\n",
        "  sharpe = compute_sharpe_ratio(daily_returns, std_dev)\n",
        "  total_returns = (prices[-1]*1.0 / prices[0]) -1\n",
        "  \n",
        "  return {'std_dev' : std_dev,\n",
        "         'sharpe_ratio' : sharpe,\n",
        "         'total_returns' : total_returns,\n",
        "         'symbol': symbol}\n",
        "  \n",
        "\n",
        "end = pd.Timestamp(datetime.now())\n",
        "start = end - BDay(250)\n",
        "symbols = ['MARA','DPW','TOPS','HAON','HTBX','IMNP','OPGN','SUZBY','ARCO','TRQ','ARTX','PDLI','ENPH','PLPL',\n",
        "           'DNN','ZYNE','EYEG','FLKS','APHB','PHBI','ENDV']\n",
        "\n",
        "all_dicts = []\n",
        "for sym in symbols:\n",
        "  try:\n",
        "    all_dicts.append((sym, get_closes(start, end, sym)))#compute_statistics(start, end ,sym)) #compute_statistics(sym, start, end))\n",
        "  except Exception as e:\n",
        "    print('Unable to fetch statistics for %s:%s' % (sym, str(e)))\n",
        "\n",
        "\n"
      ],
      "execution_count": 56,
      "outputs": [
        {
          "output_type": "stream",
          "text": [
            "Unable to fetch statistics for HAON:'HAON'\n",
            "Unable to fetch statistics for SUZBY:'SUZBY'\n",
            "Unable to fetch statistics for PLPL:'PLPL'\n",
            "Unable to fetch statistics for PHBI:'PHBI'\n",
            "Unable to fetch statistics for ENDV:'ENDV'\n"
          ],
          "name": "stdout"
        }
      ]
    },
    {
      "metadata": {
        "id": "Z-O4oFDrr2T_",
        "colab_type": "text"
      },
      "cell_type": "markdown",
      "source": [
        "<h2>Computing Statistics </h2>"
      ]
    },
    {
      "metadata": {
        "id": "YSumNk62pVGe",
        "colab_type": "code",
        "colab": {
          "base_uri": "https://localhost:8080/",
          "height": 562
        },
        "outputId": "1e355a3b-92e3-4ea2-aab3-2c1d7615e438"
      },
      "cell_type": "code",
      "source": [
        "print(type(all_dicts[0][1]))    \n",
        "    \n",
        "all_df = []\n",
        "for symbol, prices in all_dicts:\n",
        "  all_df.append(compute_statistics(symbol, prices))\n",
        "    \n",
        "    \n",
        "\n",
        "df = pd.DataFrame(all_df)[['symbol', 'total_returns','std_dev', 'sharpe_ratio']]\n",
        "df\n",
        "\n"
      ],
      "execution_count": 57,
      "outputs": [
        {
          "output_type": "stream",
          "text": [
            "<class 'pandas.core.series.Series'>\n"
          ],
          "name": "stdout"
        },
        {
          "output_type": "execute_result",
          "data": {
            "text/html": [
              "<div>\n",
              "<style scoped>\n",
              "    .dataframe tbody tr th:only-of-type {\n",
              "        vertical-align: middle;\n",
              "    }\n",
              "\n",
              "    .dataframe tbody tr th {\n",
              "        vertical-align: top;\n",
              "    }\n",
              "\n",
              "    .dataframe thead th {\n",
              "        text-align: right;\n",
              "    }\n",
              "</style>\n",
              "<table border=\"1\" class=\"dataframe\">\n",
              "  <thead>\n",
              "    <tr style=\"text-align: right;\">\n",
              "      <th></th>\n",
              "      <th>symbol</th>\n",
              "      <th>total_returns</th>\n",
              "      <th>std_dev</th>\n",
              "      <th>sharpe_ratio</th>\n",
              "    </tr>\n",
              "  </thead>\n",
              "  <tbody>\n",
              "    <tr>\n",
              "      <th>0</th>\n",
              "      <td>MARA</td>\n",
              "      <td>-0.861132</td>\n",
              "      <td>0.072134</td>\n",
              "      <td>[-1.2833355335478338]</td>\n",
              "    </tr>\n",
              "    <tr>\n",
              "      <th>1</th>\n",
              "      <td>DPW</td>\n",
              "      <td>-0.936280</td>\n",
              "      <td>0.064621</td>\n",
              "      <td>[-2.308738843172528]</td>\n",
              "    </tr>\n",
              "    <tr>\n",
              "      <th>2</th>\n",
              "      <td>TOPS</td>\n",
              "      <td>-0.530315</td>\n",
              "      <td>0.078426</td>\n",
              "      <td>[-0.05682857665830496]</td>\n",
              "    </tr>\n",
              "    <tr>\n",
              "      <th>3</th>\n",
              "      <td>HTBX</td>\n",
              "      <td>-0.527778</td>\n",
              "      <td>0.107332</td>\n",
              "      <td>[0.2665050360194639]</td>\n",
              "    </tr>\n",
              "    <tr>\n",
              "      <th>4</th>\n",
              "      <td>IMNP</td>\n",
              "      <td>-0.867609</td>\n",
              "      <td>0.077160</td>\n",
              "      <td>[-2.709646957364299]</td>\n",
              "    </tr>\n",
              "    <tr>\n",
              "      <th>5</th>\n",
              "      <td>OPGN</td>\n",
              "      <td>-0.344398</td>\n",
              "      <td>0.051058</td>\n",
              "      <td>[-0.14501259266527877]</td>\n",
              "    </tr>\n",
              "    <tr>\n",
              "      <th>6</th>\n",
              "      <td>ARCO</td>\n",
              "      <td>-0.114069</td>\n",
              "      <td>0.022714</td>\n",
              "      <td>[-0.1714093284356046]</td>\n",
              "    </tr>\n",
              "    <tr>\n",
              "      <th>7</th>\n",
              "      <td>TRQ</td>\n",
              "      <td>-0.419929</td>\n",
              "      <td>0.023894</td>\n",
              "      <td>[-1.3193033837157369]</td>\n",
              "    </tr>\n",
              "    <tr>\n",
              "      <th>8</th>\n",
              "      <td>ARTX</td>\n",
              "      <td>-0.100000</td>\n",
              "      <td>0.025576</td>\n",
              "      <td>[-0.06845686212041117]</td>\n",
              "    </tr>\n",
              "    <tr>\n",
              "      <th>9</th>\n",
              "      <td>PDLI</td>\n",
              "      <td>0.150943</td>\n",
              "      <td>0.027909</td>\n",
              "      <td>[0.5494786001787867]</td>\n",
              "    </tr>\n",
              "    <tr>\n",
              "      <th>10</th>\n",
              "      <td>ENPH</td>\n",
              "      <td>1.604743</td>\n",
              "      <td>0.051681</td>\n",
              "      <td>[1.6216911687632256]</td>\n",
              "    </tr>\n",
              "    <tr>\n",
              "      <th>11</th>\n",
              "      <td>DNN</td>\n",
              "      <td>0.008765</td>\n",
              "      <td>0.033185</td>\n",
              "      <td>[0.27948763803859117]</td>\n",
              "    </tr>\n",
              "    <tr>\n",
              "      <th>12</th>\n",
              "      <td>ZYNE</td>\n",
              "      <td>-0.676776</td>\n",
              "      <td>0.048431</td>\n",
              "      <td>[-1.1537519218592216]</td>\n",
              "    </tr>\n",
              "    <tr>\n",
              "      <th>13</th>\n",
              "      <td>EYEG</td>\n",
              "      <td>-0.339773</td>\n",
              "      <td>0.067823</td>\n",
              "      <td>[0.10986034360872265]</td>\n",
              "    </tr>\n",
              "    <tr>\n",
              "      <th>14</th>\n",
              "      <td>FLKS</td>\n",
              "      <td>-0.916269</td>\n",
              "      <td>0.098885</td>\n",
              "      <td>[-0.7157117624176786]</td>\n",
              "    </tr>\n",
              "    <tr>\n",
              "      <th>15</th>\n",
              "      <td>APHB</td>\n",
              "      <td>-0.782051</td>\n",
              "      <td>0.056315</td>\n",
              "      <td>[-1.3120662701566967]</td>\n",
              "    </tr>\n",
              "  </tbody>\n",
              "</table>\n",
              "</div>"
            ],
            "text/plain": [
              "   symbol  total_returns   std_dev            sharpe_ratio\n",
              "0    MARA      -0.861132  0.072134   [-1.2833355335478338]\n",
              "1     DPW      -0.936280  0.064621    [-2.308738843172528]\n",
              "2    TOPS      -0.530315  0.078426  [-0.05682857665830496]\n",
              "3    HTBX      -0.527778  0.107332    [0.2665050360194639]\n",
              "4    IMNP      -0.867609  0.077160    [-2.709646957364299]\n",
              "5    OPGN      -0.344398  0.051058  [-0.14501259266527877]\n",
              "6    ARCO      -0.114069  0.022714   [-0.1714093284356046]\n",
              "7     TRQ      -0.419929  0.023894   [-1.3193033837157369]\n",
              "8    ARTX      -0.100000  0.025576  [-0.06845686212041117]\n",
              "9    PDLI       0.150943  0.027909    [0.5494786001787867]\n",
              "10   ENPH       1.604743  0.051681    [1.6216911687632256]\n",
              "11    DNN       0.008765  0.033185   [0.27948763803859117]\n",
              "12   ZYNE      -0.676776  0.048431   [-1.1537519218592216]\n",
              "13   EYEG      -0.339773  0.067823   [0.10986034360872265]\n",
              "14   FLKS      -0.916269  0.098885   [-0.7157117624176786]\n",
              "15   APHB      -0.782051  0.056315   [-1.3120662701566967]"
            ]
          },
          "metadata": {
            "tags": []
          },
          "execution_count": 57
        }
      ]
    },
    {
      "metadata": {
        "id": "cBZfDgtTr-Tp",
        "colab_type": "text"
      },
      "cell_type": "markdown",
      "source": [
        "<h2> Computng Future Earnings</h2>"
      ]
    },
    {
      "metadata": {
        "id": "JsP8HLXHsCsm",
        "colab_type": "code",
        "colab": {
          "base_uri": "https://localhost:8080/",
          "height": 489
        },
        "outputId": "1bc730ce-9c9d-44ed-b4a9-b95b3f8d5d75"
      },
      "cell_type": "code",
      "source": [
        "import urllib\n",
        "import json\n",
        "\n",
        "base_url = 'https://us-central1-datascience-projects.cloudfunctions.net/future_earnings/AMZN'\n",
        "\n",
        "res = urllib.urlopen(base_url)\n",
        "json_dict =json.load(res)\n",
        "print (json_dict)\n",
        "\n",
        "df = pd.read_json([json_dict])\n",
        "df"
      ],
      "execution_count": 60,
      "outputs": [
        {
          "output_type": "stream",
          "text": [
            "{u'Fiscal': {u'1': u'Dec 2019', u'0': u'Dec 2018', u'3': u'Dec 2021', u'2': u'Dec 2020'}, u'Consensus': {u'1': u'26.36', u'0': u'19.51', u'3': u'63.28', u'2': u'41.12'}, u'Low EPS*': {u'1': u'22.41', u'0': u'18.69', u'3': u'55.68', u'2': u'31.49'}, u'Number of': {u'1': u'16', u'0': u'15', u'3': u'2', u'2': u'9'}, u'High EPS*': {u'1': u'31.62', u'0': u'21.59', u'3': u'70.87', u'2': u'47.43'}}\n"
          ],
          "name": "stdout"
        },
        {
          "output_type": "error",
          "ename": "ValueError",
          "evalue": "ignored",
          "traceback": [
            "\u001b[0;31m\u001b[0m",
            "\u001b[0;31mValueError\u001b[0mTraceback (most recent call last)",
            "\u001b[0;32m<ipython-input-60-37409978bc83>\u001b[0m in \u001b[0;36m<module>\u001b[0;34m()\u001b[0m\n\u001b[1;32m      8\u001b[0m \u001b[0;32mprint\u001b[0m \u001b[0;34m(\u001b[0m\u001b[0mjson_dict\u001b[0m\u001b[0;34m)\u001b[0m\u001b[0;34m\u001b[0m\u001b[0m\n\u001b[1;32m      9\u001b[0m \u001b[0;34m\u001b[0m\u001b[0m\n\u001b[0;32m---> 10\u001b[0;31m \u001b[0mdf\u001b[0m \u001b[0;34m=\u001b[0m \u001b[0mpd\u001b[0m\u001b[0;34m.\u001b[0m\u001b[0mread_json\u001b[0m\u001b[0;34m(\u001b[0m\u001b[0;34m[\u001b[0m\u001b[0mjson_dict\u001b[0m\u001b[0;34m]\u001b[0m\u001b[0;34m)\u001b[0m\u001b[0;34m\u001b[0m\u001b[0m\n\u001b[0m\u001b[1;32m     11\u001b[0m \u001b[0mdf\u001b[0m\u001b[0;34m\u001b[0m\u001b[0m\n",
            "\u001b[0;32m/usr/local/lib/python2.7/dist-packages/pandas/io/json/json.pyc\u001b[0m in \u001b[0;36mread_json\u001b[0;34m(path_or_buf, orient, typ, dtype, convert_axes, convert_dates, keep_default_dates, numpy, precise_float, date_unit, encoding, lines, chunksize, compression)\u001b[0m\n\u001b[1;32m    350\u001b[0m     \u001b[0mcompression\u001b[0m \u001b[0;34m=\u001b[0m \u001b[0m_infer_compression\u001b[0m\u001b[0;34m(\u001b[0m\u001b[0mpath_or_buf\u001b[0m\u001b[0;34m,\u001b[0m \u001b[0mcompression\u001b[0m\u001b[0;34m)\u001b[0m\u001b[0;34m\u001b[0m\u001b[0m\n\u001b[1;32m    351\u001b[0m     filepath_or_buffer, _, compression = get_filepath_or_buffer(\n\u001b[0;32m--> 352\u001b[0;31m         \u001b[0mpath_or_buf\u001b[0m\u001b[0;34m,\u001b[0m \u001b[0mencoding\u001b[0m\u001b[0;34m=\u001b[0m\u001b[0mencoding\u001b[0m\u001b[0;34m,\u001b[0m \u001b[0mcompression\u001b[0m\u001b[0;34m=\u001b[0m\u001b[0mcompression\u001b[0m\u001b[0;34m,\u001b[0m\u001b[0;34m\u001b[0m\u001b[0m\n\u001b[0m\u001b[1;32m    353\u001b[0m     )\n\u001b[1;32m    354\u001b[0m \u001b[0;34m\u001b[0m\u001b[0m\n",
            "\u001b[0;32m/usr/local/lib/python2.7/dist-packages/pandas/io/common.pyc\u001b[0m in \u001b[0;36mget_filepath_or_buffer\u001b[0;34m(filepath_or_buffer, encoding, compression)\u001b[0m\n\u001b[1;32m    209\u001b[0m     \u001b[0;32mif\u001b[0m \u001b[0;32mnot\u001b[0m \u001b[0mis_file_like\u001b[0m\u001b[0;34m(\u001b[0m\u001b[0mfilepath_or_buffer\u001b[0m\u001b[0;34m)\u001b[0m\u001b[0;34m:\u001b[0m\u001b[0;34m\u001b[0m\u001b[0m\n\u001b[1;32m    210\u001b[0m         \u001b[0mmsg\u001b[0m \u001b[0;34m=\u001b[0m \u001b[0;34m\"Invalid file path or buffer object type: {_type}\"\u001b[0m\u001b[0;34m\u001b[0m\u001b[0m\n\u001b[0;32m--> 211\u001b[0;31m         \u001b[0;32mraise\u001b[0m \u001b[0mValueError\u001b[0m\u001b[0;34m(\u001b[0m\u001b[0mmsg\u001b[0m\u001b[0;34m.\u001b[0m\u001b[0mformat\u001b[0m\u001b[0;34m(\u001b[0m\u001b[0m_type\u001b[0m\u001b[0;34m=\u001b[0m\u001b[0mtype\u001b[0m\u001b[0;34m(\u001b[0m\u001b[0mfilepath_or_buffer\u001b[0m\u001b[0;34m)\u001b[0m\u001b[0;34m)\u001b[0m\u001b[0;34m)\u001b[0m\u001b[0;34m\u001b[0m\u001b[0m\n\u001b[0m\u001b[1;32m    212\u001b[0m \u001b[0;34m\u001b[0m\u001b[0m\n\u001b[1;32m    213\u001b[0m     \u001b[0;32mreturn\u001b[0m \u001b[0mfilepath_or_buffer\u001b[0m\u001b[0;34m,\u001b[0m \u001b[0mNone\u001b[0m\u001b[0;34m,\u001b[0m \u001b[0mcompression\u001b[0m\u001b[0;34m\u001b[0m\u001b[0m\n",
            "\u001b[0;31mValueError\u001b[0m: Invalid file path or buffer object type: <type 'list'>"
          ]
        }
      ]
    },
    {
      "metadata": {
        "id": "82Kec5I7sPLr",
        "colab_type": "code",
        "colab": {}
      },
      "cell_type": "code",
      "source": [
        ""
      ],
      "execution_count": 0,
      "outputs": []
    }
  ]
}