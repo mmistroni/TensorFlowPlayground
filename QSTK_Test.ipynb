{
  "nbformat": 4,
  "nbformat_minor": 0,
  "metadata": {
    "colab": {
      "name": "QSTK-Test.ipynb",
      "version": "0.3.2",
      "provenance": [],
      "collapsed_sections": [],
      "include_colab_link": true
    },
    "kernelspec": {
      "name": "python2",
      "display_name": "Python 2"
    }
  },
  "cells": [
    {
      "cell_type": "markdown",
      "metadata": {
        "id": "view-in-github",
        "colab_type": "text"
      },
      "source": [
        "<a href=\"https://colab.research.google.com/github/mmistroni/TensorFlowPlayground/blob/master/QSTK_Test.ipynb\" target=\"_parent\"><img src=\"https://colab.research.google.com/assets/colab-badge.svg\" alt=\"Open In Colab\"/></a>"
      ]
    },
    {
      "metadata": {
        "id": "gZU5-E2CI3WP",
        "colab_type": "code",
        "outputId": "4fd41a0f-093c-431d-cfe7-916d70a2095e",
        "colab": {
          "base_uri": "https://localhost:8080/",
          "height": 515
        }
      },
      "cell_type": "code",
      "source": [
        "!pip install numpy==1.6.1"
      ],
      "execution_count": 0,
      "outputs": [
        {
          "output_type": "stream",
          "text": [
            "Collecting numpy==1.6.1\n",
            "\u001b[?25l  Downloading https://files.pythonhosted.org/packages/44/3b/63aa0464c495de6bac1f9f5a6c4626264ea07ad85b51cf6ebfdbbaa9fab4/numpy-1.6.1-cp27-cp27mu-manylinux1_x86_64.whl (13.6MB)\n",
            "\u001b[K    100% |████████████████████████████████| 13.6MB 1.3MB/s \n",
            "\u001b[31mkeras-preprocessing 1.0.5 has requirement numpy>=1.9.1, but you'll have numpy 1.6.1 which is incompatible.\u001b[0m\n",
            "\u001b[31mopencv-python 3.4.4.19 has requirement numpy>=1.11.1, but you'll have numpy 1.6.1 which is incompatible.\u001b[0m\n",
            "\u001b[31mtensorflow-hub 0.1.1 has requirement numpy>=1.12.0, but you'll have numpy 1.6.1 which is incompatible.\u001b[0m\n",
            "\u001b[31mkeras 2.2.4 has requirement numpy>=1.9.1, but you'll have numpy 1.6.1 which is incompatible.\u001b[0m\n",
            "\u001b[31mpywavelets 1.0.1 has requirement numpy>=1.9.1, but you'll have numpy 1.6.1 which is incompatible.\u001b[0m\n",
            "\u001b[31mtensorflow-probability 0.5.0 has requirement numpy>=1.13.3, but you'll have numpy 1.6.1 which is incompatible.\u001b[0m\n",
            "\u001b[31mmatplotlib 2.1.2 has requirement numpy>=1.7.1, but you'll have numpy 1.6.1 which is incompatible.\u001b[0m\n",
            "\u001b[31mkeras-applications 1.0.6 has requirement numpy>=1.9.1, but you'll have numpy 1.6.1 which is incompatible.\u001b[0m\n",
            "\u001b[31mscipy 1.1.0 has requirement numpy>=1.8.2, but you'll have numpy 1.6.1 which is incompatible.\u001b[0m\n",
            "\u001b[31mtheano 1.0.3 has requirement numpy>=1.9.1, but you'll have numpy 1.6.1 which is incompatible.\u001b[0m\n",
            "\u001b[31mpymc3 3.5 has requirement numpy>=1.13.0, but you'll have numpy 1.6.1 which is incompatible.\u001b[0m\n",
            "\u001b[31mtensorboard 1.12.0 has requirement numpy>=1.12.0, but you'll have numpy 1.6.1 which is incompatible.\u001b[0m\n",
            "\u001b[31mmsgpack-numpy 0.4.3.2 has requirement numpy>=1.9.0, but you'll have numpy 1.6.1 which is incompatible.\u001b[0m\n",
            "\u001b[31mh5py 2.8.0 has requirement numpy>=1.7, but you'll have numpy 1.6.1 which is incompatible.\u001b[0m\n",
            "\u001b[31mtensorflow 1.12.0 has requirement numpy>=1.13.3, but you'll have numpy 1.6.1 which is incompatible.\u001b[0m\n",
            "\u001b[31mspacy 2.0.18 has requirement numpy>=1.15.0, but you'll have numpy 1.6.1 which is incompatible.\u001b[0m\n",
            "\u001b[31mpandas 0.22.0 has requirement numpy>=1.9.0, but you'll have numpy 1.6.1 which is incompatible.\u001b[0m\n",
            "\u001b[31mthinc 6.12.1 has requirement numpy>=1.7.0, but you'll have numpy 1.6.1 which is incompatible.\u001b[0m\n",
            "\u001b[?25hInstalling collected packages: numpy\n",
            "  Found existing installation: numpy 1.14.6\n",
            "    Uninstalling numpy-1.14.6:\n",
            "      Successfully uninstalled numpy-1.14.6\n",
            "Successfully installed numpy-1.6.1\n"
          ],
          "name": "stdout"
        }
      ]
    },
    {
      "metadata": {
        "id": "HbVXchZrI_8q",
        "colab_type": "code",
        "outputId": "8fd51b1e-31fa-44de-ff55-fd8a06d3ff15",
        "colab": {
          "base_uri": "https://localhost:8080/",
          "height": 202
        }
      },
      "cell_type": "code",
      "source": [
        "!pip install scipy"
      ],
      "execution_count": 0,
      "outputs": [
        {
          "output_type": "stream",
          "text": [
            "Requirement already satisfied: scipy in /usr/local/lib/python2.7/dist-packages (1.1.0)\n",
            "Collecting numpy>=1.8.2 (from scipy)\n",
            "\u001b[?25l  Downloading https://files.pythonhosted.org/packages/de/37/fe7db552f4507f379d81dcb78e58e05030a8941757b1f664517d581b5553/numpy-1.15.4-cp27-cp27mu-manylinux1_x86_64.whl (13.8MB)\n",
            "\u001b[K    100% |████████████████████████████████| 13.8MB 1.8MB/s \n",
            "\u001b[?25hInstalling collected packages: numpy\n",
            "  Found existing installation: numpy 1.6.1\n",
            "    Uninstalling numpy-1.6.1:\n",
            "      Successfully uninstalled numpy-1.6.1\n",
            "Successfully installed numpy-1.15.4\n"
          ],
          "name": "stdout"
        }
      ]
    },
    {
      "metadata": {
        "id": "xIbZKRh9JKi5",
        "colab_type": "code",
        "outputId": "90cfee39-e534-4963-e4e3-014be207f99d",
        "colab": {
          "base_uri": "https://localhost:8080/",
          "height": 182
        }
      },
      "cell_type": "code",
      "source": [
        "!pip install matplotlib"
      ],
      "execution_count": 0,
      "outputs": [
        {
          "output_type": "stream",
          "text": [
            "Requirement already satisfied: matplotlib in /usr/local/lib/python2.7/dist-packages (2.1.2)\n",
            "Requirement already satisfied: cycler>=0.10 in /usr/local/lib/python2.7/dist-packages (from matplotlib) (0.10.0)\n",
            "Requirement already satisfied: numpy>=1.7.1 in /usr/local/lib/python2.7/dist-packages (from matplotlib) (1.15.4)\n",
            "Requirement already satisfied: backports.functools-lru-cache in /usr/local/lib/python2.7/dist-packages (from matplotlib) (1.5)\n",
            "Requirement already satisfied: subprocess32 in /usr/local/lib/python2.7/dist-packages (from matplotlib) (3.5.3)\n",
            "Requirement already satisfied: pytz in /usr/local/lib/python2.7/dist-packages (from matplotlib) (2018.7)\n",
            "Requirement already satisfied: six>=1.10 in /usr/local/lib/python2.7/dist-packages (from matplotlib) (1.11.0)\n",
            "Requirement already satisfied: python-dateutil>=2.1 in /usr/local/lib/python2.7/dist-packages (from matplotlib) (2.5.3)\n",
            "Requirement already satisfied: pyparsing!=2.0.4,!=2.1.2,!=2.1.6,>=2.0.1 in /usr/local/lib/python2.7/dist-packages (from matplotlib) (2.3.0)\n"
          ],
          "name": "stdout"
        }
      ]
    },
    {
      "metadata": {
        "id": "JT4jMvsqJPmM",
        "colab_type": "code",
        "outputId": "5413e20e-6c9a-43f5-a216-931fc1021c1e",
        "colab": {
          "base_uri": "https://localhost:8080/",
          "height": 109
        }
      },
      "cell_type": "code",
      "source": [
        "!pip install pandas\n"
      ],
      "execution_count": 0,
      "outputs": [
        {
          "output_type": "stream",
          "text": [
            "Requirement already satisfied: pandas in /usr/local/lib/python2.7/dist-packages (0.22.0)\n",
            "Requirement already satisfied: pytz>=2011k in /usr/local/lib/python2.7/dist-packages (from pandas) (2018.7)\n",
            "Requirement already satisfied: python-dateutil in /usr/local/lib/python2.7/dist-packages (from pandas) (2.5.3)\n",
            "Requirement already satisfied: numpy>=1.9.0 in /usr/local/lib/python2.7/dist-packages (from pandas) (1.15.4)\n",
            "Requirement already satisfied: six>=1.5 in /usr/local/lib/python2.7/dist-packages (from python-dateutil->pandas) (1.11.0)\n"
          ],
          "name": "stdout"
        }
      ]
    },
    {
      "metadata": {
        "id": "CY_noHpsJVTd",
        "colab_type": "code",
        "outputId": "da78f45e-45bd-4b6e-cbf4-4b273a6a9fcf",
        "colab": {
          "base_uri": "https://localhost:8080/",
          "height": 588
        }
      },
      "cell_type": "code",
      "source": [
        "!pip install qstk\n"
      ],
      "execution_count": 0,
      "outputs": [
        {
          "output_type": "stream",
          "text": [
            "Collecting qstk\n",
            "\u001b[?25l  Downloading https://files.pythonhosted.org/packages/8c/15/3298c4ee5d187a462883a7f80d7621a05e8b880a8234729e733769a3476f/QSTK-0.2.8.tar.gz (42.4MB)\n",
            "\u001b[K    100% |████████████████████████████████| 42.4MB 387kB/s \n",
            "\u001b[?25hRequirement already satisfied: numpy>=1.6.1 in /usr/local/lib/python2.7/dist-packages (from qstk) (1.15.4)\n",
            "Requirement already satisfied: scipy>=0.9.0 in /usr/local/lib/python2.7/dist-packages (from qstk) (1.1.0)\n",
            "Requirement already satisfied: matplotlib>=1.1.0 in /usr/local/lib/python2.7/dist-packages (from qstk) (2.1.2)\n",
            "Requirement already satisfied: pandas>=0.7.3 in /usr/local/lib/python2.7/dist-packages (from qstk) (0.22.0)\n",
            "Collecting python-dateutil==1.5 (from qstk)\n",
            "\u001b[?25l  Downloading https://files.pythonhosted.org/packages/b4/7c/df59c89a753eb33c7c44e1dd42de0e9bc2ccdd5a4d576e0bfad97cc280cb/python-dateutil-1.5.tar.gz (233kB)\n",
            "\u001b[K    100% |████████████████████████████████| 235kB 22.0MB/s \n",
            "\u001b[?25hRequirement already satisfied: scikit-learn>=0.11 in /usr/local/lib/python2.7/dist-packages (from qstk) (0.19.2)\n",
            "Requirement already satisfied: cycler>=0.10 in /usr/local/lib/python2.7/dist-packages (from matplotlib>=1.1.0->qstk) (0.10.0)\n",
            "Requirement already satisfied: backports.functools-lru-cache in /usr/local/lib/python2.7/dist-packages (from matplotlib>=1.1.0->qstk) (1.5)\n",
            "Requirement already satisfied: subprocess32 in /usr/local/lib/python2.7/dist-packages (from matplotlib>=1.1.0->qstk) (3.5.3)\n",
            "Requirement already satisfied: pytz in /usr/local/lib/python2.7/dist-packages (from matplotlib>=1.1.0->qstk) (2018.7)\n",
            "Requirement already satisfied: six>=1.10 in /usr/local/lib/python2.7/dist-packages (from matplotlib>=1.1.0->qstk) (1.11.0)\n",
            "Requirement already satisfied: pyparsing!=2.0.4,!=2.1.2,!=2.1.6,>=2.0.1 in /usr/local/lib/python2.7/dist-packages (from matplotlib>=1.1.0->qstk) (2.3.0)\n",
            "Building wheels for collected packages: qstk, python-dateutil\n",
            "  Running setup.py bdist_wheel for qstk ... \u001b[?25l-\b \b\\\b \b|\b \b/\b \b-\b \b\\\b \b|\b \b/\b \b-\b \b\\\b \b|\b \b/\b \b-\b \b\\\b \b|\b \b/\b \b-\b \b\\\b \b|\b \b/\b \b-\b \b\\\b \b|\b \b/\b \b-\b \b\\\b \b|\b \b/\b \b-\b \b\\\b \b|\b \b/\b \b-\b \b\\\b \b|\b \b/\b \b-\b \b\\\b \b|\b \b/\b \b-\b \b\\\b \b|\b \b/\b \b-\b \b\\\b \b|\b \b/\b \b-\b \b\\\b \b|\b \b/\b \b-\b \b\\\b \b|\b \b/\b \b-\b \b\\\b \b|\b \b/\b \b-\b \b\\\b \b|\b \b/\b \b-\b \b\\\b \b|\b \b/\b \b-\b \b\\\b \b|\b \b/\b \b-\b \b\\\b \b|\b \b/\b \b-\b \b\\\b \b|\b \b/\b \b-\b \b\\\b \b|\b \b/\b \b-\b \b\\\b \b|\b \b/\b \b-\b \b\\\b \b|\b \b/\b \b-\b \b\\\b \b|\b \b/\b \b-\b \b\\\b \b|\b \b/\b \b-\b \b\\\b \b|\b \b/\b \b-\b \b\\\b \b|\b \b/\b \b-\b \b\\\b \b|\b \b/\b \b-\b \b\\\b \b|\b \b/\b \b-\b \b\\\b \b|\b \b/\b \b-\b \b\\\b \b|\b \b/\b \b-\b \b\\\b \b|\b \b/\b \b-\b \b\\\b \b|\b \bdone\n",
            "\u001b[?25h  Stored in directory: /root/.cache/pip/wheels/18/00/6b/01cf34934bf6a54b9d6df1c7a40230e18be1fd05d28e97d5ef\n",
            "  Running setup.py bdist_wheel for python-dateutil ... \u001b[?25l-\b \bdone\n",
            "\u001b[?25h  Stored in directory: /root/.cache/pip/wheels/3e/57/ae/3a3f171dc8c46ac987fa8d7a56fcc19d82ff1a7151cf46a228\n",
            "Successfully built qstk python-dateutil\n",
            "\u001b[31mmatplotlib 2.1.2 has requirement python-dateutil>=2.1, but you'll have python-dateutil 1.5 which is incompatible.\u001b[0m\n",
            "\u001b[31mjupyter-client 5.2.3 has requirement python-dateutil>=2.1, but you'll have python-dateutil 1.5 which is incompatible.\u001b[0m\n",
            "Installing collected packages: python-dateutil, qstk\n",
            "  Found existing installation: python-dateutil 2.5.3\n",
            "    Uninstalling python-dateutil-2.5.3:\n",
            "      Successfully uninstalled python-dateutil-2.5.3\n",
            "Successfully installed python-dateutil-1.5 qstk-0.2.8\n"
          ],
          "name": "stdout"
        }
      ]
    },
    {
      "metadata": {
        "id": "ON9SPKKV8t77",
        "colab_type": "code",
        "outputId": "b9bc9a2d-4550-43a6-c7e1-8f514ec32d66",
        "colab": {
          "base_uri": "https://localhost:8080/",
          "height": 256
        }
      },
      "cell_type": "code",
      "source": [
        "!pip install pandas_datareader"
      ],
      "execution_count": 0,
      "outputs": [
        {
          "output_type": "stream",
          "text": [
            "Requirement already satisfied: pandas_datareader in /usr/local/lib/python2.7/dist-packages (0.7.0)\n",
            "Requirement already satisfied: lxml in /usr/local/lib/python2.7/dist-packages (from pandas_datareader) (4.2.5)\n",
            "Requirement already satisfied: pandas>=0.19.2 in /usr/local/lib/python2.7/dist-packages (from pandas_datareader) (0.22.0)\n",
            "Requirement already satisfied: wrapt in /usr/local/lib/python2.7/dist-packages (from pandas_datareader) (1.10.11)\n",
            "Requirement already satisfied: requests>=2.3.0 in /usr/local/lib/python2.7/dist-packages (from pandas_datareader) (2.18.4)\n",
            "Requirement already satisfied: pytz>=2011k in /usr/local/lib/python2.7/dist-packages (from pandas>=0.19.2->pandas_datareader) (2018.7)\n",
            "Requirement already satisfied: python-dateutil in /usr/local/lib/python2.7/dist-packages (from pandas>=0.19.2->pandas_datareader) (2.5.3)\n",
            "Requirement already satisfied: numpy>=1.9.0 in /usr/local/lib/python2.7/dist-packages (from pandas>=0.19.2->pandas_datareader) (1.14.6)\n",
            "Requirement already satisfied: idna<2.7,>=2.5 in /usr/local/lib/python2.7/dist-packages (from requests>=2.3.0->pandas_datareader) (2.6)\n",
            "Requirement already satisfied: urllib3<1.23,>=1.21.1 in /usr/local/lib/python2.7/dist-packages (from requests>=2.3.0->pandas_datareader) (1.22)\n",
            "Requirement already satisfied: certifi>=2017.4.17 in /usr/local/lib/python2.7/dist-packages (from requests>=2.3.0->pandas_datareader) (2018.11.29)\n",
            "Requirement already satisfied: chardet<3.1.0,>=3.0.2 in /usr/local/lib/python2.7/dist-packages (from requests>=2.3.0->pandas_datareader) (3.0.4)\n",
            "Requirement already satisfied: six>=1.5 in /usr/local/lib/python2.7/dist-packages (from python-dateutil->pandas>=0.19.2->pandas_datareader) (1.11.0)\n"
          ],
          "name": "stdout"
        }
      ]
    },
    {
      "metadata": {
        "id": "I_r8iiM2_CTx",
        "colab_type": "code",
        "outputId": "c6ab86a2-c7b2-4f97-9e1c-68f6f325082c",
        "colab": {
          "base_uri": "https://localhost:8080/",
          "height": 393
        }
      },
      "cell_type": "code",
      "source": [
        "# Importing  required packages\n",
        "import QSTK.qstkutil.qsdateutil as du\n",
        "import QSTK.qstkutil.tsutil as tsu\n",
        "import QSTK.qstkutil.DataAccess as da\n",
        "\n",
        "import datetime as dt\n",
        "import matplotlib.pyplot as plt\n",
        "import pandas as pd"
      ],
      "execution_count": 0,
      "outputs": [
        {
          "output_type": "error",
          "ename": "ImportError",
          "evalue": "ignored",
          "traceback": [
            "\u001b[0;31m\u001b[0m",
            "\u001b[0;31mImportError\u001b[0mTraceback (most recent call last)",
            "\u001b[0;32m<ipython-input-14-8742db8fb97c>\u001b[0m in \u001b[0;36m<module>\u001b[0;34m()\u001b[0m\n\u001b[0;32m----> 1\u001b[0;31m \u001b[0;32mimport\u001b[0m \u001b[0mQSTK\u001b[0m\u001b[0;34m.\u001b[0m\u001b[0mqstkutil\u001b[0m\u001b[0;34m.\u001b[0m\u001b[0mqsdateutil\u001b[0m \u001b[0;32mas\u001b[0m \u001b[0mdu\u001b[0m\u001b[0;34m\u001b[0m\u001b[0m\n\u001b[0m\u001b[1;32m      2\u001b[0m \u001b[0;32mimport\u001b[0m \u001b[0mQSTK\u001b[0m\u001b[0;34m.\u001b[0m\u001b[0mqstkutil\u001b[0m\u001b[0;34m.\u001b[0m\u001b[0mtsutil\u001b[0m \u001b[0;32mas\u001b[0m \u001b[0mtsu\u001b[0m\u001b[0;34m\u001b[0m\u001b[0m\n\u001b[1;32m      3\u001b[0m \u001b[0;32mimport\u001b[0m \u001b[0mQSTK\u001b[0m\u001b[0;34m.\u001b[0m\u001b[0mqstkutil\u001b[0m\u001b[0;34m.\u001b[0m\u001b[0mDataAccess\u001b[0m \u001b[0;32mas\u001b[0m \u001b[0mda\u001b[0m\u001b[0;34m\u001b[0m\u001b[0m\n\u001b[1;32m      4\u001b[0m \u001b[0;34m\u001b[0m\u001b[0m\n\u001b[1;32m      5\u001b[0m \u001b[0;32mimport\u001b[0m \u001b[0mdatetime\u001b[0m \u001b[0;32mas\u001b[0m \u001b[0mdt\u001b[0m\u001b[0;34m\u001b[0m\u001b[0m\n",
            "\u001b[0;31mImportError\u001b[0m: No module named QSTK.qstkutil.qsdateutil",
            "",
            "\u001b[0;31m---------------------------------------------------------------------------\u001b[0;32m\nNOTE: If your import is failing due to a missing package, you can\nmanually install dependencies using either !pip or !apt.\n\nTo view examples of installing some common dependencies, click the\n\"Open Examples\" button below.\n\u001b[0;31m---------------------------------------------------------------------------\u001b[0m\n"
          ]
        }
      ]
    },
    {
      "metadata": {
        "id": "Um1PU3j_Ja_l",
        "colab_type": "code",
        "colab": {}
      },
      "cell_type": "code",
      "source": [
        "# Now we can start to copy and paste code and see what's goin gon\n",
        "def get_all_valid_possibilities():\n",
        "  from itertools import combinations, ifilter, permutations\n",
        "  items = [i / 10.0 for i in range (0,10)]\n",
        "  possibilities = permutations(items, 4)\n",
        "  return filter(lambda combi: sum(list(combi)) == 1.0, possibilities)\n"
      ],
      "execution_count": 0,
      "outputs": []
    },
    {
      "metadata": {
        "id": "jZhzhjID8D3_",
        "colab_type": "code",
        "outputId": "963cea3c-e589-4ed2-cc79-9f617880ba73",
        "colab": {
          "base_uri": "https://localhost:8080/",
          "height": 35
        }
      },
      "cell_type": "code",
      "source": [
        "def compute\n",
        "\n"
      ],
      "execution_count": 0,
      "outputs": [
        {
          "output_type": "stream",
          "text": [
            "100\n"
          ],
          "name": "stdout"
        }
      ]
    },
    {
      "metadata": {
        "id": "eijllaPPhZD4",
        "colab_type": "text"
      },
      "cell_type": "markdown",
      "source": [
        "<h2> Computing Sharpe Ratio and Returns </h2>"
      ]
    },
    {
      "metadata": {
        "id": "0r0fL2_1hgUg",
        "colab_type": "code",
        "colab": {}
      },
      "cell_type": "code",
      "source": [
        "def get_prices(ls_symbols, dt_start, dt_end):\n",
        "    dt_timeofday = dt.timedelta(hours=16)\n",
        "    ldt_timestamps = du.getNYSEdays(dt_start, dt_end, dt_timeofday)\n",
        "    #c_dataobj = da.DataAccess('Yahoo')\n",
        "    c_dataobj = da.DataAccess('Yahoo', cachestalltime=0)\n",
        "    ls_keys = ['close']\n",
        "    ldf_data = c_dataobj.get_data(ldt_timestamps, ls_symbols, ls_keys)\n",
        "    return  dict(zip(ls_keys, ldf_data)) # each field is returned as a single dataframe\n",
        "\n",
        "def compute_daily_returns(prices):\n",
        "    na_rets = prices.copy()\n",
        "    return tsu.returnize0(na_rets)\n",
        "\n",
        "def compute_standard_deviations(daily_returns):\n",
        "    return np.std(daily_returns)\n",
        "\n",
        "def normalize_prices(prices):\n",
        "    return prices / prices[0,:]\n",
        "\n",
        "def compute_sharpe_ratio(daily_returns, standard_dev):\n",
        "    \n",
        "    avg = sum(daily_returns) / len(daily_returns)\n",
        "    \n",
        "    return (sqrt(252) * avg) / standard_dev\n"
      ],
      "execution_count": 0,
      "outputs": []
    },
    {
      "metadata": {
        "id": "2I75B7XPjBNB",
        "colab_type": "code",
        "colab": {
          "base_uri": "https://localhost:8080/",
          "height": 238
        },
        "outputId": "18240090-9776-4e7c-8940-d356a5369c1b"
      },
      "cell_type": "code",
      "source": [
        "import pandas as pd\n",
        "from pandas.tseries.offsets import BDay\n",
        "import pandas_datareader.data as dr\n",
        "import numpy as np\n",
        "from datetime import datetime\n",
        "\n",
        "\n",
        "def get_closes(start, end, symbol):\n",
        "  returndr.DataReader(symbol, 'iex', start, end)\n",
        "\n",
        "end = pd.Timestamp(datetime.now())\n",
        "start = end - BDay(250)\n",
        "print (stock_data.shape)\n",
        "\n",
        "symbols = ['MARA','DPW','TOPS','HAON','HTBX','IMNP','OPGN','SUZBY','ARCO','TRQ','ARTX','PDLI','ENPH','PLPL',\n",
        "           'DNN','ZYNE','EYEG','FLKS','APHB','PHBI','ENDV']\n",
        "\n",
        "\n",
        "\n",
        "\n",
        "\n",
        "\n",
        "\n"
      ],
      "execution_count": 8,
      "outputs": [
        {
          "output_type": "stream",
          "text": [
            "(240, 5)\n",
            "               open     high      low    close    volume\n",
            "date                                                    \n",
            "2018-02-06  1361.46  1443.99  1351.79  1442.84  11066819\n",
            "2018-02-07  1449.00  1460.99  1415.15  1416.78   7162741\n",
            "2018-02-08  1429.67  1433.75  1349.94  1350.50   8578557\n",
            "2018-02-09  1373.49  1383.50  1265.93  1339.60  14141524\n",
            "2018-02-12  1364.67  1393.81  1344.01  1386.23   6738944\n",
            "2018-02-13  1385.93  1419.72  1383.53  1414.51   5917879\n",
            "2018-02-14  1406.25  1452.06  1403.36  1451.05   5959209\n",
            "2018-02-15  1466.89  1468.94  1436.84  1461.76   5652736\n",
            "2018-02-16  1457.37  1465.80  1446.56  1448.69   4472564\n",
            "2018-02-20  1446.49  1488.77  1446.49  1468.35   6499228\n"
          ],
          "name": "stdout"
        }
      ]
    },
    {
      "metadata": {
        "id": "7zu9XfbFjCwg",
        "colab_type": "code",
        "colab": {}
      },
      "cell_type": "code",
      "source": [
        ""
      ],
      "execution_count": 0,
      "outputs": []
    }
  ]
}