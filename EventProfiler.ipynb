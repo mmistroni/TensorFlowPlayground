{
  "nbformat": 4,
  "nbformat_minor": 0,
  "metadata": {
    "colab": {
      "name": "EventProfiler.ipynb",
      "version": "0.3.2",
      "provenance": [],
      "collapsed_sections": [],
      "include_colab_link": true
    },
    "kernelspec": {
      "name": "python2",
      "display_name": "Python 2"
    }
  },
  "cells": [
    {
      "cell_type": "markdown",
      "metadata": {
        "id": "view-in-github",
        "colab_type": "text"
      },
      "source": [
        "<a href=\"https://colab.research.google.com/github/mmistroni/TensorFlowPlayground/blob/master/EventProfiler.ipynb\" target=\"_parent\"><img src=\"https://colab.research.google.com/assets/colab-badge.svg\" alt=\"Open In Colab\"/></a>"
      ]
    },
    {
      "metadata": {
        "id": "pYLH02KBzw-7",
        "colab_type": "code",
        "colab": {
          "base_uri": "https://localhost:8080/",
          "height": 698
        },
        "outputId": "4caf956a-7f80-43b9-8996-1e413e8cf5dd"
      },
      "cell_type": "code",
      "source": [
        "!pip install QSTK"
      ],
      "execution_count": 1,
      "outputs": [
        {
          "output_type": "stream",
          "text": [
            "Collecting QSTK\n",
            "  Using cached https://files.pythonhosted.org/packages/8c/15/3298c4ee5d187a462883a7f80d7621a05e8b880a8234729e733769a3476f/QSTK-0.2.8.tar.gz\n",
            "Requirement already satisfied: numpy>=1.6.1 in /usr/local/lib/python2.7/dist-packages (from QSTK) (1.14.6)\n",
            "Requirement already satisfied: scipy>=0.9.0 in /usr/local/lib/python2.7/dist-packages (from QSTK) (1.1.0)\n",
            "Requirement already satisfied: matplotlib>=1.1.0 in /usr/local/lib/python2.7/dist-packages (from QSTK) (2.2.3)\n",
            "Requirement already satisfied: pandas>=0.7.3 in /usr/local/lib/python2.7/dist-packages (from QSTK) (0.22.0)\n",
            "Collecting python-dateutil==1.5 (from QSTK)\n",
            "\u001b[?25l  Downloading https://files.pythonhosted.org/packages/b4/7c/df59c89a753eb33c7c44e1dd42de0e9bc2ccdd5a4d576e0bfad97cc280cb/python-dateutil-1.5.tar.gz (233kB)\n",
            "\u001b[K    100% |████████████████████████████████| 235kB 10.7MB/s \n",
            "\u001b[?25hRequirement already satisfied: scikit-learn>=0.11 in /usr/local/lib/python2.7/dist-packages (from QSTK) (0.20.2)\n",
            "Requirement already satisfied: cycler>=0.10 in /usr/local/lib/python2.7/dist-packages (from matplotlib>=1.1.0->QSTK) (0.10.0)\n",
            "Requirement already satisfied: backports.functools-lru-cache in /usr/local/lib/python2.7/dist-packages (from matplotlib>=1.1.0->QSTK) (1.5)\n",
            "Requirement already satisfied: subprocess32 in /usr/local/lib/python2.7/dist-packages (from matplotlib>=1.1.0->QSTK) (3.5.3)\n",
            "Requirement already satisfied: kiwisolver>=1.0.1 in /usr/local/lib/python2.7/dist-packages (from matplotlib>=1.1.0->QSTK) (1.0.1)\n",
            "Requirement already satisfied: pytz in /usr/local/lib/python2.7/dist-packages (from matplotlib>=1.1.0->QSTK) (2018.9)\n",
            "Requirement already satisfied: six>=1.10 in /usr/local/lib/python2.7/dist-packages (from matplotlib>=1.1.0->QSTK) (1.11.0)\n",
            "Requirement already satisfied: pyparsing!=2.0.4,!=2.1.2,!=2.1.6,>=2.0.1 in /usr/local/lib/python2.7/dist-packages (from matplotlib>=1.1.0->QSTK) (2.3.1)\n",
            "Requirement already satisfied: setuptools in /usr/local/lib/python2.7/dist-packages (from kiwisolver>=1.0.1->matplotlib>=1.1.0->QSTK) (40.6.3)\n",
            "Building wheels for collected packages: QSTK, python-dateutil\n",
            "  Running setup.py bdist_wheel for QSTK ... \u001b[?25l-\b \b\\\b \b|\b \b/\b \b-\b \b\\\b \b|\b \b/\b \b-\b \b\\\b \b|\b \b/\b \b-\b \b\\\b \b|\b \b/\b \b-\b \b\\\b \b|\b \b/\b \b-\b \b\\\b \b|\b \b/\b \b-\b \b\\\b \b|\b \b/\b \b-\b \b\\\b \b|\b \b/\b \b-\b \b\\\b \b|\b \b/\b \b-\b \b\\\b \b|\b \b/\b \b-\b \b\\\b \b|\b \b/\b \b-\b \b\\\b \b|\b \b/\b \b-\b \b\\\b \b|\b \b/\b \b-\b \b\\\b \b|\b \b/\b \b-\b \b\\\b \b|\b \b/\b \b-\b \b\\\b \b|\b \b/\b \b-\b \b\\\b \b|\b \b/\b \b-\b \b\\\b \b|\b \b/\b \b-\b \b\\\b \b|\b \b/\b \b-\b \b\\\b \b|\b \b/\b \b-\b \b\\\b \b|\b \b/\b \b-\b \b\\\b \b|\b \b/\b \b-\b \b\\\b \b|\b \b/\b \b-\b \b\\\b \b|\b \b/\b \b-\b \b\\\b \b|\b \b/\b \b-\b \b\\\b \b|\b \b/\b \b-\b \b\\\b \b|\b \b/\b \b-\b \b\\\b \b|\b \b/\b \b-\b \b\\\b \b|\b \b/\b \b-\b \b\\\b \b|\b \b/\b \b-\b \b\\\b \b|\b \b/\b \b-\b \b\\\b \b|\b \b/\b \bdone\n",
            "\u001b[?25h  Stored in directory: /root/.cache/pip/wheels/18/00/6b/01cf34934bf6a54b9d6df1c7a40230e18be1fd05d28e97d5ef\n",
            "  Running setup.py bdist_wheel for python-dateutil ... \u001b[?25l-\b \bdone\n",
            "\u001b[?25h  Stored in directory: /root/.cache/pip/wheels/3e/57/ae/3a3f171dc8c46ac987fa8d7a56fcc19d82ff1a7151cf46a228\n",
            "Successfully built QSTK python-dateutil\n",
            "\u001b[31mbokeh 1.0.4 has requirement python-dateutil>=2.1, but you'll have python-dateutil 1.5 which is incompatible.\u001b[0m\n",
            "\u001b[31mbotocore 1.12.78 has requirement python-dateutil<3.0.0,>=2.1; python_version >= \"2.7\", but you'll have python-dateutil 1.5 which is incompatible.\u001b[0m\n",
            "\u001b[31mmatplotlib 2.2.3 has requirement python-dateutil>=2.1, but you'll have python-dateutil 1.5 which is incompatible.\u001b[0m\n",
            "\u001b[31mjupyter-client 5.2.4 has requirement python-dateutil>=2.1, but you'll have python-dateutil 1.5 which is incompatible.\u001b[0m\n",
            "Installing collected packages: python-dateutil, QSTK\n",
            "  Found existing installation: python-dateutil 2.5.3\n",
            "    Uninstalling python-dateutil-2.5.3:\n",
            "      Successfully uninstalled python-dateutil-2.5.3\n",
            "Successfully installed QSTK-0.2.8 python-dateutil-1.5\n",
            "\u001b[0;31;1mWARNING: The following packages were previously imported in this runtime:\n",
            "  [dateutil]\n",
            "You must restart the runtime in order to use newly installed versions.\u001b[0m\n"
          ],
          "name": "stdout"
        }
      ]
    },
    {
      "metadata": {
        "id": "qzy_yWcmz0D7",
        "colab_type": "code",
        "colab": {
          "base_uri": "https://localhost:8080/",
          "height": 237
        },
        "outputId": "ee445bd4-8381-47fa-f018-09823ffea84c"
      },
      "cell_type": "code",
      "source": [
        "!pip install pandas_datareader"
      ],
      "execution_count": 1,
      "outputs": [
        {
          "output_type": "stream",
          "text": [
            "Requirement already satisfied: pandas_datareader in /usr/local/lib/python2.7/dist-packages (0.7.0)\n",
            "Requirement already satisfied: lxml in /usr/local/lib/python2.7/dist-packages (from pandas_datareader) (4.2.6)\n",
            "Requirement already satisfied: pandas>=0.19.2 in /usr/local/lib/python2.7/dist-packages (from pandas_datareader) (0.22.0)\n",
            "Requirement already satisfied: wrapt in /usr/local/lib/python2.7/dist-packages (from pandas_datareader) (1.11.0)\n",
            "Requirement already satisfied: requests>=2.3.0 in /usr/local/lib/python2.7/dist-packages (from pandas_datareader) (2.18.4)\n",
            "Requirement already satisfied: pytz>=2011k in /usr/local/lib/python2.7/dist-packages (from pandas>=0.19.2->pandas_datareader) (2018.9)\n",
            "Requirement already satisfied: python-dateutil in /usr/local/lib/python2.7/dist-packages (from pandas>=0.19.2->pandas_datareader) (1.5)\n",
            "Requirement already satisfied: numpy>=1.9.0 in /usr/local/lib/python2.7/dist-packages (from pandas>=0.19.2->pandas_datareader) (1.14.6)\n",
            "Requirement already satisfied: idna<2.7,>=2.5 in /usr/local/lib/python2.7/dist-packages (from requests>=2.3.0->pandas_datareader) (2.6)\n",
            "Requirement already satisfied: urllib3<1.23,>=1.21.1 in /usr/local/lib/python2.7/dist-packages (from requests>=2.3.0->pandas_datareader) (1.22)\n",
            "Requirement already satisfied: certifi>=2017.4.17 in /usr/local/lib/python2.7/dist-packages (from requests>=2.3.0->pandas_datareader) (2018.11.29)\n",
            "Requirement already satisfied: chardet<3.1.0,>=3.0.2 in /usr/local/lib/python2.7/dist-packages (from requests>=2.3.0->pandas_datareader) (3.0.4)\n"
          ],
          "name": "stdout"
        }
      ]
    },
    {
      "metadata": {
        "id": "DSKzEUHp05mb",
        "colab_type": "text"
      },
      "cell_type": "markdown",
      "source": [
        "<h3> Fetching all tickers from sp500</h2>"
      ]
    },
    {
      "metadata": {
        "id": "tWmEiNmG0Dmr",
        "colab_type": "code",
        "colab": {}
      },
      "cell_type": "code",
      "source": [
        "def get_sp500_tickers():\n",
        "  import bs4 as bs    \n",
        "  import pickle    \n",
        "  import requests    \n",
        "  import lxml    \n",
        "  resp = requests.get('https://en.wikipedia.org/wiki/List_of_S%26P_500_companies')        \n",
        "  soup = bs.BeautifulSoup(resp.text,'lxml')        \n",
        "  table = soup.find('table', {'class': 'wikitable sortable'})        \n",
        "\n",
        "  tickers = []\n",
        "\n",
        "  for row in table.findAll('tr')[1:]:\n",
        "    ticker = row.findAll('td')[0].text\n",
        "    tickers.append(ticker)\n",
        "\n",
        "  return tickers    \n",
        "\n",
        "res = get_sp500_tickers()"
      ],
      "execution_count": 0,
      "outputs": []
    },
    {
      "metadata": {
        "id": "wuQIajQ90-yh",
        "colab_type": "text"
      },
      "cell_type": "markdown",
      "source": [
        "<h2>Writing code to fetch data from yahoo (use IEX for recent data) </h2>"
      ]
    },
    {
      "metadata": {
        "id": "6hIxiuT80Pfl",
        "colab_type": "code",
        "colab": {}
      },
      "cell_type": "code",
      "source": [
        "def get_data_from_yahoo(start, end, ticker, source='yahoo'):\n",
        "  import pandas_datareader.data as dr\n",
        "  import numpy as np\n",
        "  from datetime import datetime\n",
        "  return dr.DataReader(symbol, 'source', start, end)\n",
        "\n",
        "from QSTK import"
      ],
      "execution_count": 0,
      "outputs": []
    },
    {
      "metadata": {
        "id": "1Dh31BXo1ksr",
        "colab_type": "text"
      },
      "cell_type": "markdown",
      "source": [
        "<h2> Importing required lbraries.(This code is borrowed from Computational Investing. course code only works for past data)</h2>"
      ]
    },
    {
      "metadata": {
        "id": "1wXXgj2y01mJ",
        "colab_type": "code",
        "colab": {}
      },
      "cell_type": "code",
      "source": [
        "\n",
        "\n",
        "import pandas as pd; pd.TimeSeries = pd.Series\n",
        "\n",
        "\n",
        "import numpy as np\n",
        "import math\n",
        "import copy\n",
        "import QSTK.qstkutil.qsdateutil as du\n",
        "import datetime as dt\n",
        "import QSTK.qstkutil.DataAccess as da\n",
        "import QSTK.qstkutil.tsutil as tsu\n",
        "import QSTK.qstkstudy.EventProfiler as ep\n"
      ],
      "execution_count": 0,
      "outputs": []
    },
    {
      "metadata": {
        "id": "FLHQVKYZ14gF",
        "colab_type": "code",
        "colab": {}
      },
      "cell_type": "code",
      "source": [
        ""
      ],
      "execution_count": 0,
      "outputs": []
    }
  ]
}