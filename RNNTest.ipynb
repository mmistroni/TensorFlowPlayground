{
  "nbformat": 4,
  "nbformat_minor": 0,
  "metadata": {
    "colab": {
      "name": "RNNTest.ipynb",
      "version": "0.3.2",
      "provenance": [],
      "collapsed_sections": [],
      "include_colab_link": true
    },
    "kernelspec": {
      "name": "python3",
      "display_name": "Python 3"
    }
  },
  "cells": [
    {
      "cell_type": "markdown",
      "metadata": {
        "id": "view-in-github",
        "colab_type": "text"
      },
      "source": [
        "<a href=\"https://colab.research.google.com/github/mmistroni/TensorFlowPlayground/blob/master/RNNTest.ipynb\" target=\"_parent\"><img src=\"https://colab.research.google.com/assets/colab-badge.svg\" alt=\"Open In Colab\"/></a>"
      ]
    },
    {
      "metadata": {
        "id": "wGFEwJivzvVP",
        "colab_type": "code",
        "outputId": "2517f42f-cc9d-42f8-a51a-c7f4ed653fe3",
        "colab": {
          "base_uri": "https://localhost:8080/",
          "height": 72
        }
      },
      "cell_type": "code",
      "source": [
        "import pandas as pd\n",
        "import numpy as np\n",
        "import platform\n",
        "import tensorflow as tf\n",
        "# Importing S&P Prices\n",
        "print (pd.__version__)\n",
        "print (tf.__version__)\n",
        "print (platform.python_version())\n",
        "\n",
        "standard_and_poor = [\n",
        "    2924.590088,2923.429932,2925.51001,2901.610107,2885.570068,\n",
        "    2884.429932,2880.340088,2785.679932,2728.370117,2767.129883,\n",
        "    2750.790039,2809.919922,2809.209961,2768.780029,2767.780029,\n",
        "    2755.879883,2740.689941,2656.100098,2705.570068,2658.689941,\n",
        "    2641.25, 2682.629883]\n",
        "\n"
      ],
      "execution_count": 0,
      "outputs": [
        {
          "output_type": "stream",
          "text": [
            "0.22.0\n",
            "1.12.0\n",
            "3.6.6\n"
          ],
          "name": "stdout"
        }
      ]
    },
    {
      "metadata": {
        "id": "72cRfGiDQ_Jf",
        "colab_type": "text"
      },
      "cell_type": "markdown",
      "source": [
        "**Retrieving S&P Historical Prices **"
      ]
    },
    {
      "metadata": {
        "id": "1dntVKYgRQBW",
        "colab_type": "code",
        "outputId": "febbbe07-df75-409a-f349-27a11ead03f0",
        "colab": {
          "base_uri": "https://localhost:8080/",
          "height": 386
        }
      },
      "cell_type": "code",
      "source": [
        "!pip install pandas_datareader"
      ],
      "execution_count": 0,
      "outputs": [
        {
          "output_type": "stream",
          "text": [
            "Collecting pandas_datareader\n",
            "\u001b[?25l  Downloading https://files.pythonhosted.org/packages/cc/5c/ea5b6dcfd0f55c5fb1e37fb45335ec01cceca199b8a79339137f5ed269e0/pandas_datareader-0.7.0-py2.py3-none-any.whl (111kB)\n",
            "\u001b[K    100% |████████████████████████████████| 112kB 2.8MB/s \n",
            "\u001b[?25hRequirement already satisfied: wrapt in /usr/local/lib/python3.6/dist-packages (from pandas_datareader) (1.10.11)\n",
            "Requirement already satisfied: requests>=2.3.0 in /usr/local/lib/python3.6/dist-packages (from pandas_datareader) (2.18.4)\n",
            "Requirement already satisfied: pandas>=0.19.2 in /usr/local/lib/python3.6/dist-packages (from pandas_datareader) (0.22.0)\n",
            "Collecting lxml (from pandas_datareader)\n",
            "\u001b[?25l  Downloading https://files.pythonhosted.org/packages/03/a4/9eea8035fc7c7670e5eab97f34ff2ef0ddd78a491bf96df5accedb0e63f5/lxml-4.2.5-cp36-cp36m-manylinux1_x86_64.whl (5.8MB)\n",
            "\u001b[K    100% |████████████████████████████████| 5.8MB 5.5MB/s \n",
            "\u001b[?25hRequirement already satisfied: urllib3<1.23,>=1.21.1 in /usr/local/lib/python3.6/dist-packages (from requests>=2.3.0->pandas_datareader) (1.22)\n",
            "Requirement already satisfied: chardet<3.1.0,>=3.0.2 in /usr/local/lib/python3.6/dist-packages (from requests>=2.3.0->pandas_datareader) (3.0.4)\n",
            "Requirement already satisfied: idna<2.7,>=2.5 in /usr/local/lib/python3.6/dist-packages (from requests>=2.3.0->pandas_datareader) (2.6)\n",
            "Requirement already satisfied: certifi>=2017.4.17 in /usr/local/lib/python3.6/dist-packages (from requests>=2.3.0->pandas_datareader) (2018.10.15)\n",
            "Requirement already satisfied: pytz>=2011k in /usr/local/lib/python3.6/dist-packages (from pandas>=0.19.2->pandas_datareader) (2018.7)\n",
            "Requirement already satisfied: numpy>=1.9.0 in /usr/local/lib/python3.6/dist-packages (from pandas>=0.19.2->pandas_datareader) (1.14.6)\n",
            "Requirement already satisfied: python-dateutil>=2 in /usr/local/lib/python3.6/dist-packages (from pandas>=0.19.2->pandas_datareader) (2.5.3)\n",
            "Requirement already satisfied: six>=1.5 in /usr/local/lib/python3.6/dist-packages (from python-dateutil>=2->pandas>=0.19.2->pandas_datareader) (1.11.0)\n",
            "Installing collected packages: lxml, pandas-datareader\n",
            "Successfully installed lxml-4.2.5 pandas-datareader-0.7.0\n"
          ],
          "name": "stdout"
        }
      ]
    },
    {
      "metadata": {
        "id": "rcqHv19SRZUV",
        "colab_type": "code",
        "colab": {}
      },
      "cell_type": "code",
      "source": [
        "# Fetching Standard and Poors Results\n",
        "import pandas_datareader as pdr\n",
        "from datetime import date, timedelta\n",
        "startdate = date.today() - timedelta(days=250)\n",
        "stock_data = pdr.get_data_yahoo('^GSPC', startdate, date.today())\n"
      ],
      "execution_count": 0,
      "outputs": []
    },
    {
      "metadata": {
        "id": "7j1C2K-pSCvo",
        "colab_type": "code",
        "outputId": "71f497d2-a49a-4b78-8354-c87f8a31d670",
        "colab": {
          "base_uri": "https://localhost:8080/",
          "height": 319
        }
      },
      "cell_type": "code",
      "source": [
        "stock_data.shape[0]\n",
        "print (type(stock_data))\n",
        "adjClose = np.stack(stock_data['Close'])\n",
        "\n",
        "# Since we always want to predict the future, we take the latest 10% of data as the test data.\n",
        "# Split into train / test so that you can use the test to find accuracy.\n",
        "# Train is used to train, and test to predict, to see the accuracy, Then we can use last price today to predict tomorrow, and so on\n",
        "\n",
        "%matplotlib inline\n",
        "import matplotlib\n",
        "import matplotlib.pyplot as plt\n",
        "plt.title(\"A training instance\", fontsize=14)\n",
        "plt.plot(adjClose)\n",
        "\n"
      ],
      "execution_count": 0,
      "outputs": [
        {
          "output_type": "stream",
          "text": [
            "<class 'pandas.core.frame.DataFrame'>\n"
          ],
          "name": "stdout"
        },
        {
          "output_type": "execute_result",
          "data": {
            "text/plain": [
              "[<matplotlib.lines.Line2D at 0x7fc769f92550>]"
            ]
          },
          "metadata": {
            "tags": []
          },
          "execution_count": 8
        },
        {
          "output_type": "display_data",
          "data": {
            "image/png": "[encoded data removed]",
            "text/plain": [
              "<matplotlib.figure.Figure at 0x7fc749237da0>"
            ]
          },
          "metadata": {
            "tags": []
          }
        }
      ]
    },
    {
      "metadata": {
        "id": "7IM7UaMzUy0o",
        "colab_type": "code",
        "colab": {}
      },
      "cell_type": "code",
      "source": [
        "# Getting next lot\n",
        "# to make this notebook's output stable across runs\n",
        "def reset_graph(seed=42):\n",
        "    tf.reset_default_graph()\n",
        "    tf.set_random_seed(seed)\n",
        "    np.random.seed(seed)\n",
        "\n",
        "# Problem here is different htan from the book. We need to use 20 inputs to predict the next 20 outputs......, not use one by one\n",
        "# So we need to redo sample by having same inputs and outputs. Follow stock price example rather than Tensorflow book..\n",
        "\n",
        "\n",
        "t_min, t_max = 0, 30\n",
        "resolution = 0.1\n",
        "reset_graph()\n",
        "\n",
        "n_steps = 20\n",
        "n_inputs = 1\n",
        "n_neurons = 100\n",
        "n_outputs = 1\n",
        "\n",
        "X = tf.placeholder(tf.float32, [None, n_steps, n_inputs])\n",
        "y = tf.placeholder(tf.float32, [None, n_steps, n_outputs])\n",
        "\n",
        "def time_series(t):\n",
        "    return t * np.sin(t) / 3 + 2 * np.sin(t*5)\n",
        "    \n",
        "def time_series2():\n",
        "    return adjClose\n",
        "\n",
        "def next_batch(batch_size, n_steps):\n",
        "    t0 = np.random.rand(batch_size, 1) * (t_max - t_min - n_steps * resolution)\n",
        "    Ts = t0 + np.arange(0., n_steps + 1) * resolution\n",
        "    ys = time_series(Ts)\n",
        "    print ('Ys shape is:{0}'.format(ys.shape))\n",
        "    return ys[:, 1:].reshape(-1, n_steps, n_inputs), ys[:, 1:].reshape(-1, n_steps, n_outputs) # first one is (0, len-2), second is (1,len)\n",
        "  \n",
        "def next_batch2(batch_size, num_steps):\n",
        "    # We have different shape of data...\n",
        "    seq = adjClose[0:100].T\n",
        "    ys = seq\n",
        "    # Split into groups of `num_steps`\n",
        "    return ys[:, 1:].reshape(-1, n_steps, n_inputs), ys[:, 1:].reshape(-1, n_steps, n_outputs) # first one is (0, len-2), second is (1,len)    \n",
        "    "
      ],
      "execution_count": 0,
      "outputs": []
    },
    {
      "metadata": {
        "id": "c8_gWqKxZU_e",
        "colab_type": "code",
        "colab": {}
      },
      "cell_type": "code",
      "source": [
        "#X_batch, y_batch = next_batch(1, n_steps)\n",
        "# TODO neex to inspect what's in the array\n",
        "\n",
        "XX_batch, yy_batch = next_batch2(1, n_steps)"
      ],
      "execution_count": 0,
      "outputs": []
    },
    {
      "metadata": {
        "id": "IZzLp_Nez0I-",
        "colab_type": "text"
      },
      "cell_type": "markdown",
      "source": [
        "SIMPLE RNN EXAMPLE"
      ]
    },
    {
      "metadata": {
        "id": "vnIaCMU7z2Ay",
        "colab_type": "code",
        "colab": {}
      },
      "cell_type": "code",
      "source": [
        "    \n",
        "reset_graph()\n",
        "\n",
        "\n",
        "X = tf.placeholder(tf.float32, [None, n_steps, n_inputs], name=\"inputs\")\n",
        "y = tf.placeholder(tf.float32, [None, n_steps, n_outputs], name=\"targets\") #)\n",
        "\n",
        "cell = tf.contrib.rnn.BasicRNNCell(num_units = n_neurons, activation=tf.nn.relu)\n",
        "outputs, states = tf.nn.dynamic_rnn(cell, X, dtype=tf.float32)\n"
      ],
      "execution_count": 0,
      "outputs": []
    },
    {
      "metadata": {
        "id": "KmXuunMOK9ao",
        "colab_type": "code",
        "colab": {}
      },
      "cell_type": "code",
      "source": [
        "cell = tf.contrib.rnn.OutputProjectionWrapper(\n",
        "    tf.contrib.rnn.BasicRNNCell(num_units=n_neurons, activation=tf.nn.relu),\n",
        "    output_size=n_outputs)\n",
        "outputs, states = tf.nn.dynamic_rnn(cell, X, dtype=tf.float32)\n"
      ],
      "execution_count": 0,
      "outputs": []
    },
    {
      "metadata": {
        "id": "mXMY-Ut6MHgd",
        "colab_type": "code",
        "colab": {}
      },
      "cell_type": "code",
      "source": [
        "learning_rate = 0.001\n",
        "loss = tf.reduce_mean(tf.square(outputs - y))\n",
        "optimizer = tf.train.AdamOptimizer(learning_rate=learning_rate)\n",
        "training_op = optimizer.minimize(loss)\n",
        "\n",
        "init = tf.global_variables_initializer()\n",
        "\n",
        "\n"
      ],
      "execution_count": 0,
      "outputs": []
    },
    {
      "metadata": {
        "id": "ra783a0-Vvrr",
        "colab_type": "code",
        "outputId": "36f9f101-f60c-419f-d41d-61315e9cbb16",
        "colab": {
          "base_uri": "https://localhost:8080/",
          "height": 1670
        }
      },
      "cell_type": "code",
      "source": [
        "n_iterations = 9000\n",
        "batch_size = 50\n",
        "\n",
        "with tf.Session() as sess:\n",
        "    init.run()\n",
        "    for iteration in range(n_iterations):  # this is trained always with the same batch\n",
        "        X_batch, y_batch = next_batch2(batch_size, n_steps)\n",
        "        sess.run(training_op, feed_dict={X: X_batch, y: y_batch})\n",
        "        #print('xbatch shape {0} ybach shape{1}'.format(X_batch.shape, y_batch.shape))\n",
        "        if iteration % 100 == 0:\n",
        "            mse = loss.eval(feed_dict={X: X_batch, y: y_batch})\n",
        "            print(iteration, \"\\tMSE:\", mse)\n",
        "            \n",
        "    saver = tf.train.Saver()\n",
        "    preds = []\n",
        "    # Attempt to predict the next price\n",
        "    #pred = sess.run(training_op, feed_dict={X: X_test})\n",
        "    #print(pred)"
      ],
      "execution_count": 65,
      "outputs": [
        {
          "output_type": "stream",
          "text": [
            "0 \tMSE: 5121481.0\n",
            "100 \tMSE: 91153.27\n",
            "200 \tMSE: 13748.851\n",
            "300 \tMSE: 537.5992\n",
            "400 \tMSE: 123.31747\n",
            "500 \tMSE: 8.990078\n",
            "600 \tMSE: 3.913497\n",
            "700 \tMSE: 3.0043151\n",
            "800 \tMSE: 2.538523\n",
            "900 \tMSE: 2.247539\n",
            "1000 \tMSE: 2.0452127\n",
            "1100 \tMSE: 1.8807639\n",
            "1200 \tMSE: 1.8153254\n",
            "1300 \tMSE: 1.7281563\n",
            "1400 \tMSE: 1.6057923\n",
            "1500 \tMSE: 1.5462359\n",
            "1600 \tMSE: 1.509954\n",
            "1700 \tMSE: 1.4583122\n",
            "1800 \tMSE: 1.4032463\n",
            "1900 \tMSE: 1.3619734\n",
            "2000 \tMSE: 1.6489857\n",
            "2100 \tMSE: 1.2828028\n",
            "2200 \tMSE: 1.5937321\n",
            "2300 \tMSE: 1.2320521\n",
            "2400 \tMSE: 1.1754233\n",
            "2500 \tMSE: 1.1540011\n",
            "2600 \tMSE: 1.1247154\n",
            "2700 \tMSE: 1.2317523\n",
            "2800 \tMSE: 1.4805166\n",
            "2900 \tMSE: 1.0182797\n",
            "3000 \tMSE: 0.9861434\n",
            "3100 \tMSE: 0.95750123\n",
            "3200 \tMSE: 1.082998\n",
            "3300 \tMSE: 1.058727\n",
            "3400 \tMSE: 0.8775204\n",
            "3500 \tMSE: 0.85505146\n",
            "3600 \tMSE: 0.84030545\n",
            "3700 \tMSE: 0.8124955\n",
            "3800 \tMSE: 1.1848176\n",
            "3900 \tMSE: 0.77225375\n",
            "4000 \tMSE: 0.75612545\n",
            "4100 \tMSE: 2.0288029\n",
            "4200 \tMSE: 0.7329491\n",
            "4300 \tMSE: 0.7163142\n",
            "4400 \tMSE: 0.8469998\n",
            "4500 \tMSE: 3.8588536\n",
            "4600 \tMSE: 0.6738011\n",
            "4700 \tMSE: 0.7672663\n",
            "4800 \tMSE: 55.728592\n",
            "4900 \tMSE: 0.6487401\n",
            "5000 \tMSE: 1.2026585\n",
            "5100 \tMSE: 0.63572294\n",
            "5200 \tMSE: 24.834503\n",
            "5300 \tMSE: 0.63076127\n",
            "5400 \tMSE: 0.6162548\n",
            "5500 \tMSE: 0.9302518\n",
            "5600 \tMSE: 0.5517222\n",
            "5700 \tMSE: 118.61963\n",
            "5800 \tMSE: 0.55376977\n",
            "5900 \tMSE: 0.5406758\n",
            "6000 \tMSE: 1.7886022\n",
            "6100 \tMSE: 0.5360423\n",
            "6200 \tMSE: 0.5272977\n",
            "6300 \tMSE: 3.675647\n",
            "6400 \tMSE: 0.5222308\n",
            "6500 \tMSE: 0.5144238\n",
            "6600 \tMSE: 3.4466982\n",
            "6700 \tMSE: 0.50780773\n",
            "6800 \tMSE: 0.50103664\n",
            "6900 \tMSE: 10.202539\n",
            "7000 \tMSE: 0.49389353\n",
            "7100 \tMSE: 0.48737314\n",
            "7200 \tMSE: 0.48183012\n",
            "7300 \tMSE: 0.55598474\n",
            "7400 \tMSE: 0.47531706\n",
            "7500 \tMSE: 0.46901146\n",
            "7600 \tMSE: 30.493603\n",
            "7700 \tMSE: 0.46195683\n",
            "7800 \tMSE: 0.45141816\n",
            "7900 \tMSE: 3.1822808\n",
            "8000 \tMSE: 0.29503503\n",
            "8100 \tMSE: 0.24969035\n",
            "8200 \tMSE: 0.24228911\n",
            "8300 \tMSE: 2.4979303\n",
            "8400 \tMSE: 0.25571918\n",
            "8500 \tMSE: 0.24683002\n",
            "8600 \tMSE: 0.6037854\n",
            "8700 \tMSE: 0.2735699\n",
            "8800 \tMSE: 0.25901762\n",
            "8900 \tMSE: 0.2497318\n"
          ],
          "name": "stdout"
        }
      ]
    },
    {
      "metadata": {
        "id": "czEVf85jMfFs",
        "colab_type": "code",
        "outputId": "b0f52d19-abd4-44b0-d51d-8b70201e0836",
        "colab": {
          "base_uri": "https://localhost:8080/",
          "height": 129
        }
      },
      "cell_type": "code",
      "source": [
        "n_iterations = 1500\n",
        "batchsize = 50\n",
        "from google.colab import drive\n",
        "drive.mount('/content/gdrive')"
      ],
      "execution_count": 0,
      "outputs": [
        {
          "output_type": "stream",
          "text": [
            "Go to this URL in a browser: https://accounts.google.com/o/oauth2/auth?client_id=947318989803-6bn6qk8qdgf4n4g3pfee6491hc0brc4i.apps.googleusercontent.com&redirect_uri=urn%3Aietf%3Awg%3Aoauth%3A2.0%3Aoob&scope=email%20https%3A%2F%2Fwww.googleapis.com%2Fauth%2Fdocs.test%20https%3A%2F%2Fwww.googleapis.com%2Fauth%2Fdrive%20https%3A%2F%2Fwww.googleapis.com%2Fauth%2Fdrive.photos.readonly%20https%3A%2F%2Fwww.googleapis.com%2Fauth%2Fpeopleapi.readonly&response_type=code\n",
            "\n",
            "Enter your authorization code:\n",
            "··········\n",
            "Mounted at /content/gdrive\n"
          ],
          "name": "stdout"
        }
      ]
    },
    {
      "metadata": {
        "id": "LI_RK-rPJWMx",
        "colab_type": "code",
        "colab": {}
      },
      "cell_type": "code",
      "source": [
        ""
      ],
      "execution_count": 0,
      "outputs": []
    },
    {
      "metadata": {
        "id": "q1-_41j4JW1d",
        "colab_type": "code",
        "colab": {}
      },
      "cell_type": "code",
      "source": [
        ""
      ],
      "execution_count": 0,
      "outputs": []
    },
    {
      "metadata": {
        "id": "YKv7uvQJN5Av",
        "colab_type": "code",
        "colab": {}
      },
      "cell_type": "code",
      "source": [
        "!pip install -U -q PyDrive"
      ],
      "execution_count": 0,
      "outputs": []
    },
    {
      "metadata": {
        "id": "jt2su9DzOf-P",
        "colab_type": "code",
        "colab": {}
      },
      "cell_type": "code",
      "source": [
        "from pydrive.auth import GoogleAuth\n",
        "from pydrive.drive import GoogleDrive\n",
        "from google.colab import auth\n",
        "from oauth2client.client import GoogleCredentials\n",
        " \n",
        "# 1. Authenticate and create the PyDrive client.\n",
        "auth.authenticate_user()\n",
        "gauth = GoogleAuth()\n",
        "gauth.credentials = GoogleCredentials.get_application_default()\n",
        "drive = GoogleDrive(gauth)"
      ],
      "execution_count": 0,
      "outputs": []
    },
    {
      "metadata": {
        "id": "eDO4JKUFOleV",
        "colab_type": "code",
        "outputId": "2d010c10-d627-405c-80e6-5ce3e73bf7a0",
        "colab": {
          "base_uri": "https://localhost:8080/",
          "height": 439
        }
      },
      "cell_type": "code",
      "source": [
        "file_list = drive.ListFile({'q': \"'root' in parents and trashed=false\"}).GetList()\n",
        "for file1 in file_list:\n",
        "  print('title: %s, id: %s' % (file1['title'], file1['id']))\n",
        "  \n",
        "  \n",
        "# GSPC folder id =1B1gbnhSSUNPRZMsRZVSIJDh5bNekFCBe\n",
        "\n",
        "train_downloaded = drive.CreateFile({'id': '1B1gbnhSSUNPRZMsRZVSIJDh5bNekFCBe'})\n",
        "train_downloaded.GetContentFile('train.csv')\n",
        "\n"
      ],
      "execution_count": 0,
      "outputs": [
        {
          "output_type": "stream",
          "text": [
            "title: GSPC-Historical.csv, id: 1B1gbnhSSUNPRZMsRZVSIJDh5bNekFCBe\n",
            "title: Datasets, id: 1OQMqRiVXqsM7SVZd6lj3h3ACKQFGSgZ4\n",
            "title: Colab Notebooks, id: 1Rqah8X8c71WCHDpBk68UPNHMrAG-5kJe\n",
            "title: Marco Mistroni CV - 2018.docx, id: 1a5DoEznroDBRKcmGbZUojm9BSMuMc4xoLd900eoZAbA\n",
            "title: XXXX5866_GainLoss_Unrealized_20180812-010701, id: 1JzTjhcEs25K_TgEVgeqLBKNgjDYzYqCVCrZGZtexc-I\n",
            "title: XXXX5866_GainLoss_Unrealized_20180812-010701, id: 1p_YPvbqzuJgGGAicTh6UUf1w27__lzCoxMkuFYunUdY\n",
            "title: stockReport, id: 1e4BJNQc9rBqwCrqOzipRUrBfYGsL4mY83R492fdhLc8\n",
            "title: stockReport.xls, id: 0B_YgqHiyR66iMlNlNE0zT0JlM0hveVdaU1lreXlCeXNMWkxZ\n",
            "title: XXXX5866_GainLoss_Unrealized_20180812-010701.xlsx, id: 0B_YgqHiyR66iX2puVlNYXzA5OFpjR2FWdWRZbndKd1RPNVQ0\n",
            "title: Bathrooms quote.docx, id: 0B_YgqHiyR66iWHBiSGhHTnF2TmZUZWxmZ1hkMHhEbDMtOGJZ\n",
            "title: Spark.odt, id: 1AV2nixj1sf4mlup-xLneszSlmEEBFl4U5-eFwF0PYGc\n",
            "title: Eurocity - mission control.pdf, id: 0B_YgqHiyR66iNllEdjZHX2w1RlRPU1VBRVAtTktnVm84bkxR\n",
            "title: candidate-test.zip (Unzipped Files), id: 1_5vymfIde9gK9OcyfVzIRHoUGbbhOlyZ\n",
            "title: Business letter, id: 16D3sPq1UAwjMD9slf8jp-8U9B9gaBCctFmOJOUxYfBc\n",
            "title: Initiating_Process_for_two_apps.txt, id: 1JWMGV-PzOtraY_WphCBj4yG4SgmswcIJY4fX9BWoCvY\n",
            "title: Initiating_Process_for_two_apps.txt, id: 0B_YgqHiyR66iN0E0Ry1kT1NhNWxwc3JPczJETGFrRGxOeWVJ\n",
            "title: specs, id: 0B_YgqHiyR66iN3hMMXplUExpZlk\n",
            "title: MM-UniversityRecord.jpg.zip, id: 0B_YgqHiyR66iRkdQLXRVQUpoTmFhZmc5OFJvVXFLRlp6WFF3\n",
            "title: 2014 Accounts letter Flat 8.docx, id: 0B_YgqHiyR66iQi1fTm9xWFBmMWNjOGUzc1luUGVGbDczT0Vj\n",
            "title: Worldcorp.zip, id: 0B_YgqHiyR66iNFpDRDl5RFFVMzA\n",
            "title: allscripts, id: 0B_YgqHiyR66icnk0ZG1McVZsSm8\n",
            "title: Worldcorp, id: 0B_YgqHiyR66iT1RXMEk4cGRkUTg\n",
            "title: Marco and Simone Budget, id: 0B_YgqHiyR66idjJ0QkNJdzBaUFU\n"
          ],
          "name": "stdout"
        }
      ]
    },
    {
      "metadata": {
        "id": "DPAFrFOaPI1c",
        "colab_type": "code",
        "outputId": "22396cc5-2e57-404e-fff9-b2218a6a8228",
        "colab": {
          "base_uri": "https://localhost:8080/",
          "height": 708
        }
      },
      "cell_type": "code",
      "source": [
        "import pandas as pd\n",
        "import numpy as np\n",
        "df_train = pd.read_csv('train.csv')\n",
        "df_train"
      ],
      "execution_count": 0,
      "outputs": [
        {
          "output_type": "execute_result",
          "data": {
            "text/html": [
              "<div>\n",
              "<style scoped>\n",
              "    .dataframe tbody tr th:only-of-type {\n",
              "        vertical-align: middle;\n",
              "    }\n",
              "\n",
              "    .dataframe tbody tr th {\n",
              "        vertical-align: top;\n",
              "    }\n",
              "\n",
              "    .dataframe thead th {\n",
              "        text-align: right;\n",
              "    }\n",
              "</style>\n",
              "<table border=\"1\" class=\"dataframe\">\n",
              "  <thead>\n",
              "    <tr style=\"text-align: right;\">\n",
              "      <th></th>\n",
              "      <th>Date</th>\n",
              "      <th>Open</th>\n",
              "      <th>High</th>\n",
              "      <th>Low</th>\n",
              "      <th>Close</th>\n",
              "      <th>Adj Close</th>\n",
              "      <th>Volume</th>\n",
              "    </tr>\n",
              "  </thead>\n",
              "  <tbody>\n",
              "    <tr>\n",
              "      <th>0</th>\n",
              "      <td>2018-09-10</td>\n",
              "      <td>2881.389893</td>\n",
              "      <td>2886.929932</td>\n",
              "      <td>2875.939941</td>\n",
              "      <td>2877.129883</td>\n",
              "      <td>2877.129883</td>\n",
              "      <td>2731400000</td>\n",
              "    </tr>\n",
              "    <tr>\n",
              "      <th>1</th>\n",
              "      <td>2018-09-11</td>\n",
              "      <td>2871.570068</td>\n",
              "      <td>2892.520020</td>\n",
              "      <td>2866.780029</td>\n",
              "      <td>2887.889893</td>\n",
              "      <td>2887.889893</td>\n",
              "      <td>2899660000</td>\n",
              "    </tr>\n",
              "    <tr>\n",
              "      <th>2</th>\n",
              "      <td>2018-09-12</td>\n",
              "      <td>2888.290039</td>\n",
              "      <td>2894.649902</td>\n",
              "      <td>2879.199951</td>\n",
              "      <td>2888.919922</td>\n",
              "      <td>2888.919922</td>\n",
              "      <td>3264930000</td>\n",
              "    </tr>\n",
              "    <tr>\n",
              "      <th>3</th>\n",
              "      <td>2018-09-13</td>\n",
              "      <td>2896.850098</td>\n",
              "      <td>2906.760010</td>\n",
              "      <td>2896.389893</td>\n",
              "      <td>2904.179932</td>\n",
              "      <td>2904.179932</td>\n",
              "      <td>3254930000</td>\n",
              "    </tr>\n",
              "    <tr>\n",
              "      <th>4</th>\n",
              "      <td>2018-09-14</td>\n",
              "      <td>2906.379883</td>\n",
              "      <td>2908.300049</td>\n",
              "      <td>2895.770020</td>\n",
              "      <td>2904.979980</td>\n",
              "      <td>2904.979980</td>\n",
              "      <td>3149800000</td>\n",
              "    </tr>\n",
              "    <tr>\n",
              "      <th>5</th>\n",
              "      <td>2018-09-17</td>\n",
              "      <td>2903.830078</td>\n",
              "      <td>2904.649902</td>\n",
              "      <td>2886.159912</td>\n",
              "      <td>2888.800049</td>\n",
              "      <td>2888.800049</td>\n",
              "      <td>2947760000</td>\n",
              "    </tr>\n",
              "    <tr>\n",
              "      <th>6</th>\n",
              "      <td>2018-09-18</td>\n",
              "      <td>2890.739990</td>\n",
              "      <td>2911.169922</td>\n",
              "      <td>2890.429932</td>\n",
              "      <td>2904.310059</td>\n",
              "      <td>2904.310059</td>\n",
              "      <td>3074610000</td>\n",
              "    </tr>\n",
              "    <tr>\n",
              "      <th>7</th>\n",
              "      <td>2018-09-19</td>\n",
              "      <td>2906.600098</td>\n",
              "      <td>2912.360107</td>\n",
              "      <td>2903.820068</td>\n",
              "      <td>2907.949951</td>\n",
              "      <td>2907.949951</td>\n",
              "      <td>3280020000</td>\n",
              "    </tr>\n",
              "    <tr>\n",
              "      <th>8</th>\n",
              "      <td>2018-09-20</td>\n",
              "      <td>2919.729980</td>\n",
              "      <td>2934.800049</td>\n",
              "      <td>2919.729980</td>\n",
              "      <td>2930.750000</td>\n",
              "      <td>2930.750000</td>\n",
              "      <td>3337730000</td>\n",
              "    </tr>\n",
              "    <tr>\n",
              "      <th>9</th>\n",
              "      <td>2018-09-21</td>\n",
              "      <td>2936.760010</td>\n",
              "      <td>2940.909912</td>\n",
              "      <td>2927.110107</td>\n",
              "      <td>2929.669922</td>\n",
              "      <td>2929.669922</td>\n",
              "      <td>5607610000</td>\n",
              "    </tr>\n",
              "    <tr>\n",
              "      <th>10</th>\n",
              "      <td>2018-09-24</td>\n",
              "      <td>2921.830078</td>\n",
              "      <td>2923.790039</td>\n",
              "      <td>2912.629883</td>\n",
              "      <td>2919.370117</td>\n",
              "      <td>2919.370117</td>\n",
              "      <td>3372210000</td>\n",
              "    </tr>\n",
              "    <tr>\n",
              "      <th>11</th>\n",
              "      <td>2018-09-25</td>\n",
              "      <td>2921.750000</td>\n",
              "      <td>2923.949951</td>\n",
              "      <td>2913.699951</td>\n",
              "      <td>2915.560059</td>\n",
              "      <td>2915.560059</td>\n",
              "      <td>3285480000</td>\n",
              "    </tr>\n",
              "    <tr>\n",
              "      <th>12</th>\n",
              "      <td>2018-09-26</td>\n",
              "      <td>2916.979980</td>\n",
              "      <td>2931.149902</td>\n",
              "      <td>2903.280029</td>\n",
              "      <td>2905.969971</td>\n",
              "      <td>2905.969971</td>\n",
              "      <td>3388620000</td>\n",
              "    </tr>\n",
              "    <tr>\n",
              "      <th>13</th>\n",
              "      <td>2018-09-27</td>\n",
              "      <td>2911.649902</td>\n",
              "      <td>2927.219971</td>\n",
              "      <td>2909.270020</td>\n",
              "      <td>2914.000000</td>\n",
              "      <td>2914.000000</td>\n",
              "      <td>3060850000</td>\n",
              "    </tr>\n",
              "    <tr>\n",
              "      <th>14</th>\n",
              "      <td>2018-09-28</td>\n",
              "      <td>2910.030029</td>\n",
              "      <td>2920.530029</td>\n",
              "      <td>2907.500000</td>\n",
              "      <td>2913.979980</td>\n",
              "      <td>2913.979980</td>\n",
              "      <td>3432300000</td>\n",
              "    </tr>\n",
              "    <tr>\n",
              "      <th>15</th>\n",
              "      <td>2018-10-01</td>\n",
              "      <td>2926.290039</td>\n",
              "      <td>2937.060059</td>\n",
              "      <td>2917.909912</td>\n",
              "      <td>2924.590088</td>\n",
              "      <td>2924.590088</td>\n",
              "      <td>3364190000</td>\n",
              "    </tr>\n",
              "    <tr>\n",
              "      <th>16</th>\n",
              "      <td>2018-10-02</td>\n",
              "      <td>2923.800049</td>\n",
              "      <td>2931.419922</td>\n",
              "      <td>2919.370117</td>\n",
              "      <td>2923.429932</td>\n",
              "      <td>2923.429932</td>\n",
              "      <td>3401880000</td>\n",
              "    </tr>\n",
              "    <tr>\n",
              "      <th>17</th>\n",
              "      <td>2018-10-03</td>\n",
              "      <td>2931.689941</td>\n",
              "      <td>2939.860107</td>\n",
              "      <td>2921.360107</td>\n",
              "      <td>2925.510010</td>\n",
              "      <td>2925.510010</td>\n",
              "      <td>3598710000</td>\n",
              "    </tr>\n",
              "    <tr>\n",
              "      <th>18</th>\n",
              "      <td>2018-10-04</td>\n",
              "      <td>2919.350098</td>\n",
              "      <td>2919.780029</td>\n",
              "      <td>2883.919922</td>\n",
              "      <td>2901.610107</td>\n",
              "      <td>2901.610107</td>\n",
              "      <td>3496860000</td>\n",
              "    </tr>\n",
              "    <tr>\n",
              "      <th>19</th>\n",
              "      <td>2018-10-05</td>\n",
              "      <td>2902.540039</td>\n",
              "      <td>2909.639893</td>\n",
              "      <td>2869.290039</td>\n",
              "      <td>2885.570068</td>\n",
              "      <td>2885.570068</td>\n",
              "      <td>3328980000</td>\n",
              "    </tr>\n",
              "    <tr>\n",
              "      <th>20</th>\n",
              "      <td>2018-10-08</td>\n",
              "      <td>2877.530029</td>\n",
              "      <td>2889.449951</td>\n",
              "      <td>2862.080078</td>\n",
              "      <td>2884.429932</td>\n",
              "      <td>2884.429932</td>\n",
              "      <td>2013126777</td>\n",
              "    </tr>\n",
              "  </tbody>\n",
              "</table>\n",
              "</div>"
            ],
            "text/plain": [
              "          Date         Open         High          Low        Close  \\\n",
              "0   2018-09-10  2881.389893  2886.929932  2875.939941  2877.129883   \n",
              "1   2018-09-11  2871.570068  2892.520020  2866.780029  2887.889893   \n",
              "2   2018-09-12  2888.290039  2894.649902  2879.199951  2888.919922   \n",
              "3   2018-09-13  2896.850098  2906.760010  2896.389893  2904.179932   \n",
              "4   2018-09-14  2906.379883  2908.300049  2895.770020  2904.979980   \n",
              "5   2018-09-17  2903.830078  2904.649902  2886.159912  2888.800049   \n",
              "6   2018-09-18  2890.739990  2911.169922  2890.429932  2904.310059   \n",
              "7   2018-09-19  2906.600098  2912.360107  2903.820068  2907.949951   \n",
              "8   2018-09-20  2919.729980  2934.800049  2919.729980  2930.750000   \n",
              "9   2018-09-21  2936.760010  2940.909912  2927.110107  2929.669922   \n",
              "10  2018-09-24  2921.830078  2923.790039  2912.629883  2919.370117   \n",
              "11  2018-09-25  2921.750000  2923.949951  2913.699951  2915.560059   \n",
              "12  2018-09-26  2916.979980  2931.149902  2903.280029  2905.969971   \n",
              "13  2018-09-27  2911.649902  2927.219971  2909.270020  2914.000000   \n",
              "14  2018-09-28  2910.030029  2920.530029  2907.500000  2913.979980   \n",
              "15  2018-10-01  2926.290039  2937.060059  2917.909912  2924.590088   \n",
              "16  2018-10-02  2923.800049  2931.419922  2919.370117  2923.429932   \n",
              "17  2018-10-03  2931.689941  2939.860107  2921.360107  2925.510010   \n",
              "18  2018-10-04  2919.350098  2919.780029  2883.919922  2901.610107   \n",
              "19  2018-10-05  2902.540039  2909.639893  2869.290039  2885.570068   \n",
              "20  2018-10-08  2877.530029  2889.449951  2862.080078  2884.429932   \n",
              "\n",
              "      Adj Close      Volume  \n",
              "0   2877.129883  2731400000  \n",
              "1   2887.889893  2899660000  \n",
              "2   2888.919922  3264930000  \n",
              "3   2904.179932  3254930000  \n",
              "4   2904.979980  3149800000  \n",
              "5   2888.800049  2947760000  \n",
              "6   2904.310059  3074610000  \n",
              "7   2907.949951  3280020000  \n",
              "8   2930.750000  3337730000  \n",
              "9   2929.669922  5607610000  \n",
              "10  2919.370117  3372210000  \n",
              "11  2915.560059  3285480000  \n",
              "12  2905.969971  3388620000  \n",
              "13  2914.000000  3060850000  \n",
              "14  2913.979980  3432300000  \n",
              "15  2924.590088  3364190000  \n",
              "16  2923.429932  3401880000  \n",
              "17  2925.510010  3598710000  \n",
              "18  2901.610107  3496860000  \n",
              "19  2885.570068  3328980000  \n",
              "20  2884.429932  2013126777  "
            ]
          },
          "metadata": {
            "tags": []
          },
          "execution_count": 23
        }
      ]
    },
    {
      "metadata": {
        "id": "Yng2oZwDRCuK",
        "colab_type": "code",
        "colab": {}
      },
      "cell_type": "code",
      "source": [
        ""
      ],
      "execution_count": 0,
      "outputs": []
    }
  ]
}