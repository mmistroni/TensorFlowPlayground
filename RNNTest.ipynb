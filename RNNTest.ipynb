{
  "nbformat": 4,
  "nbformat_minor": 0,
  "metadata": {
    "colab": {
      "name": "RNNTest.ipynb",
      "version": "0.3.2",
      "provenance": [],
      "collapsed_sections": [],
      "include_colab_link": true
    },
    "kernelspec": {
      "name": "python3",
      "display_name": "Python 3"
    }
  },
  "cells": [
    {
      "cell_type": "markdown",
      "metadata": {
        "id": "view-in-github",
        "colab_type": "text"
      },
      "source": [
        "<a href=\"https://colab.research.google.com/github/mmistroni/TensorFlowPlayground/blob/master/RNNTest.ipynb\" target=\"_parent\"><img src=\"https://colab.research.google.com/assets/colab-badge.svg\" alt=\"Open In Colab\"/></a>"
      ]
    },
    {
      "metadata": {
        "id": "wGFEwJivzvVP",
        "colab_type": "code",
        "colab": {
          "base_uri": "https://localhost:8080/",
          "height": 72
        },
        "outputId": "35f5c738-77bf-4628-c7e3-f4639eee283b"
      },
      "cell_type": "code",
      "source": [
        "import pandas as pd\n",
        "import numpy as np\n",
        "import platform\n",
        "import tensorflow as tf\n",
        "# Importing S&P Prices\n",
        "print (pd.__version__)\n",
        "print (tf.__version__)\n",
        "print (platform.python_version())\n",
        "\n",
        "standard_and_poor = [\n",
        "    2924.590088,2923.429932,2925.51001,2901.610107,2885.570068,\n",
        "    2884.429932,2880.340088,2785.679932,2728.370117,2767.129883,\n",
        "    2750.790039,2809.919922,2809.209961,2768.780029,2767.780029,\n",
        "    2755.879883,2740.689941,2656.100098,2705.570068,2658.689941,\n",
        "    2641.25, 2682.629883]\n",
        "\n"
      ],
      "execution_count": 4,
      "outputs": [
        {
          "output_type": "stream",
          "text": [
            "0.22.0\n",
            "1.12.0-rc2\n",
            "3.6.6\n"
          ],
          "name": "stdout"
        }
      ]
    },
    {
      "metadata": {
        "id": "IZzLp_Nez0I-",
        "colab_type": "text"
      },
      "cell_type": "markdown",
      "source": [
        "SIMPLE RNN EXAMPLE"
      ]
    },
    {
      "metadata": {
        "id": "vnIaCMU7z2Ay",
        "colab_type": "code",
        "colab": {}
      },
      "cell_type": "code",
      "source": [
        "# to make this notebook's output stable across runs\n",
        "def reset_graph(seed=42):\n",
        "    tf.reset_default_graph()\n",
        "    tf.set_random_seed(seed)\n",
        "    np.random.seed(seed)\n",
        "    \n",
        "reset_graph()\n",
        "n_steps = 20\n",
        "n_inputs = 1\n",
        "n_neurons = 100\n",
        "n_outputs = 1\n",
        "\n",
        "X = tf.placeholder(tf.float32, [None, n_steps, n_inputs])\n",
        "y = tf.placeholder(tf.float32, [None, n_steps, n_outputs])\n",
        "\n",
        "cell = tf.contrib.rnn.BasicRNNCell(num_units = n_neurons, activation=tf.nn.relu)\n",
        "outputs, states = tf.nn.dynamic_rnn(cell, X, dtype=tf.float32)"
      ],
      "execution_count": 0,
      "outputs": []
    },
    {
      "metadata": {
        "id": "KmXuunMOK9ao",
        "colab_type": "code",
        "colab": {}
      },
      "cell_type": "code",
      "source": [
        "cell = tf.contrib.rnn.OutputProjectionWrapper(\n",
        "    tf.contrib.rnn.BasicRNNCell(num_units=n_neurons, activation=tf.nn.relu),\n",
        "    output_size=n_outputs)"
      ],
      "execution_count": 0,
      "outputs": []
    },
    {
      "metadata": {
        "id": "mXMY-Ut6MHgd",
        "colab_type": "code",
        "colab": {}
      },
      "cell_type": "code",
      "source": [
        "learning_rate = 0.001\n",
        "loss = tf.reduce_mean(tf.square(outputs - y))\n",
        "optimizer = tf.train.AdamOptimizer(learning_rate=learning_rate)\n",
        "training_op = optimizer.minimize(loss)\n",
        "\n",
        "init = tf.global_variables_initializer()"
      ],
      "execution_count": 0,
      "outputs": []
    },
    {
      "metadata": {
        "id": "czEVf85jMfFs",
        "colab_type": "code",
        "colab": {}
      },
      "cell_type": "code",
      "source": [
        "n_iterations = 1500\n",
        "batchsize = 50\n"
      ],
      "execution_count": 0,
      "outputs": []
    }
  ]
}