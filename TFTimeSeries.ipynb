{
  "nbformat": 4,
  "nbformat_minor": 0,
  "metadata": {
    "colab": {
      "name": "TFTimeSeries.ipynb",
      "version": "0.3.2",
      "provenance": [],
      "collapsed_sections": [],
      "include_colab_link": true
    },
    "kernelspec": {
      "name": "python3",
      "display_name": "Python 3"
    }
  },
  "cells": [
    {
      "cell_type": "markdown",
      "metadata": {
        "id": "view-in-github",
        "colab_type": "text"
      },
      "source": [
        "<a href=\"https://colab.research.google.com/github/mmistroni/TensorFlowPlayground/blob/master/TFTimeSeries.ipynb\" target=\"_parent\"><img src=\"https://colab.research.google.com/assets/colab-badge.svg\" alt=\"Open In Colab\"/></a>"
      ]
    },
    {
      "cell_type": "code",
      "metadata": {
        "id": "7j1C2K-pSCvo",
        "colab_type": "code",
        "outputId": "6fa85a5a-2464-459d-a265-cf7f36fbd476",
        "colab": {
          "base_uri": "https://localhost:8080/",
          "height": 238
        }
      },
      "source": [
        "!pip install pandas_datareader"
      ],
      "execution_count": 1,
      "outputs": [
        {
          "output_type": "stream",
          "text": [
            "Requirement already satisfied: pandas_datareader in /usr/local/lib/python3.6/dist-packages (0.7.0)\n",
            "Requirement already satisfied: requests>=2.3.0 in /usr/local/lib/python3.6/dist-packages (from pandas_datareader) (2.21.0)\n",
            "Requirement already satisfied: lxml in /usr/local/lib/python3.6/dist-packages (from pandas_datareader) (4.2.6)\n",
            "Requirement already satisfied: pandas>=0.19.2 in /usr/local/lib/python3.6/dist-packages (from pandas_datareader) (0.24.2)\n",
            "Requirement already satisfied: wrapt in /usr/local/lib/python3.6/dist-packages (from pandas_datareader) (1.11.2)\n",
            "Requirement already satisfied: idna<2.9,>=2.5 in /usr/local/lib/python3.6/dist-packages (from requests>=2.3.0->pandas_datareader) (2.8)\n",
            "Requirement already satisfied: certifi>=2017.4.17 in /usr/local/lib/python3.6/dist-packages (from requests>=2.3.0->pandas_datareader) (2019.6.16)\n",
            "Requirement already satisfied: chardet<3.1.0,>=3.0.2 in /usr/local/lib/python3.6/dist-packages (from requests>=2.3.0->pandas_datareader) (3.0.4)\n",
            "Requirement already satisfied: urllib3<1.25,>=1.21.1 in /usr/local/lib/python3.6/dist-packages (from requests>=2.3.0->pandas_datareader) (1.24.3)\n",
            "Requirement already satisfied: python-dateutil>=2.5.0 in /usr/local/lib/python3.6/dist-packages (from pandas>=0.19.2->pandas_datareader) (2.5.3)\n",
            "Requirement already satisfied: numpy>=1.12.0 in /usr/local/lib/python3.6/dist-packages (from pandas>=0.19.2->pandas_datareader) (1.16.4)\n",
            "Requirement already satisfied: pytz>=2011k in /usr/local/lib/python3.6/dist-packages (from pandas>=0.19.2->pandas_datareader) (2018.9)\n",
            "Requirement already satisfied: six>=1.5 in /usr/local/lib/python3.6/dist-packages (from python-dateutil>=2.5.0->pandas>=0.19.2->pandas_datareader) (1.12.0)\n"
          ],
          "name": "stdout"
        }
      ]
    },
    {
      "cell_type": "code",
      "metadata": {
        "id": "03Y2LC7ZQtOu",
        "colab_type": "code",
        "colab": {}
      },
      "source": [
        "from __future__ import absolute_import\n",
        "from __future__ import division\n",
        "from __future__ import print_function\n",
        "import tensorflow as tf\n",
        "from datetime import date\n",
        "import numpy as np\n",
        "from sklearn.model_selection import train_test_split\n",
        "from tensorflow.contrib.learn import ModeKeys\n",
        "import tensorflow.contrib.rnn as rnn\n",
        "from datetime import datetime, date, timedelta\n",
        "\n",
        "\n",
        "\n"
      ],
      "execution_count": 0,
      "outputs": []
    },
    {
      "cell_type": "code",
      "metadata": {
        "id": "l-Irklu5ENWm",
        "colab_type": "code",
        "colab": {}
      },
      "source": [
        "\n",
        "from pandas.tseries.offsets import BDay\n",
        "TIMESERIES_COL = 'rawdata'\n",
        "N_OUTPUTS = 5 # in each sequence, 1-14 are features, and 14-20 is label \n",
        "SEQ_LEN = 20\n",
        "DEFAULTS = 0.0\n",
        "LSTM_SIZE = 5 # number of hidden layers in each of the LSTM cells\n",
        "N_INPUTS = SEQ_LEN - N_OUTPUTS\n",
        "BATCH_SIZE = 20\n",
        "ROOT_DIR = '/home/mmistroni/tf_logs/rnn-run-{}'\n",
        "\n",
        "\n",
        "def get_prices(startdate, enddate, symbol):\n",
        "  import pandas_datareader as pdr\n",
        "  from datetime import date, timedelta\n",
        "  print ('--Start:{%s}, end:{%s}', startdate, enddate)\n",
        "  \n",
        "  stock_data = pdr.get_data_yahoo(symbol, startdate, enddate)[['Close']].pct_change().fillna(0)\n",
        "  adjClose = np.stack(stock_data['Close'])\n",
        "  return adjClose\n",
        "  \n",
        "def create_training_data2(inputData):\n",
        "  print ('Len of input dat ais {}', len(inputData))\n",
        "  return [np.array(inputData[i * SEQ_LEN: (i + 1) * SEQ_LEN]) \n",
        "       for i in range(len(inputData) // SEQ_LEN)]\n",
        "\n",
        "def create_training_data(inputData):\n",
        "  print ('AdjClose is of shape {}', inputData.shape)\n",
        "  return inputData.T.reshape(-1,SEQ_LEN)\n",
        "  \n",
        "  \n",
        "def create_time_series(end_date, numDays=280, symbol='XOM'):\n",
        "  print(\"==== CREATING TIMESERIES GOING BACK 280 DAYS FROM  {}\".format(end_date))\n",
        "  endDate = end_date # training from 20 days ago\n",
        "  startDate = endDate - BDay(numDays)\n",
        "  prices =  get_prices(startDate, endDate, symbol=symbol)\n",
        "  return create_training_data2(prices)\n",
        "  \n"
      ],
      "execution_count": 0,
      "outputs": []
    },
    {
      "cell_type": "code",
      "metadata": {
        "colab_type": "code",
        "id": "whdGmgDC4Fr2",
        "colab": {}
      },
      "source": [
        "\n",
        "def create_train_and_test(end_date, symbol='XOM'):\n",
        "  all_timeseries =  create_time_series(end_date, symbol=symbol) #[create_time_series() for i in range(0, SEQ_LEN * 4)]\n",
        "  all_data = np.stack(all_timeseries)\n",
        "  print('All data shape is{0} and type {1}'.format(all_data.shape,type(all_data)))\n",
        "  X, y = all_data[...,0:-N_OUTPUTS], all_data[...,-N_OUTPUTS:]\n",
        "  print ('X is fo type {0}, y  of type {1}'.format(type(X[0][0]), type(y)))\n",
        "  print ('X.shape is {0}, y shap is {1}'.format(X.shape, y.shape))\n",
        "  X_train, X_test, y_train, y_test = train_test_split(X,\n",
        "                                                      y,\n",
        "                                                      test_size=0.1,\n",
        "                                                      random_state=1)\n",
        "  return X_train, y_train, X_test, y_test\n",
        "\n"
      ],
      "execution_count": 0,
      "outputs": []
    },
    {
      "cell_type": "markdown",
      "metadata": {
        "id": "cennoUsA4jdI",
        "colab_type": "text"
      },
      "source": [
        "<h3> Creating RNN Model </h3>\n"
      ]
    },
    {
      "cell_type": "code",
      "metadata": {
        "id": "PVMHd20H36gP",
        "colab_type": "code",
        "colab": {}
      },
      "source": [
        "\n",
        "# create the inference model\n",
        "def simple_rnn(features, labels, mode, params):\n",
        "  # 0. Reformat input shape to become a sequence\n",
        "  print ('IN Features are:{0}'.format(features))\n",
        "  x = tf.split(features[TIMESERIES_COL], N_INPUTS, 1)\n",
        "  #print 'x={}'.format(x)\n",
        "    \n",
        "  # 1. configure the RNN\n",
        "  lstm_cell = rnn.BasicLSTMCell(LSTM_SIZE, forget_bias=1.0)\n",
        "  outputs, _ = tf.nn.static_rnn(lstm_cell, x, dtype=tf.float32)\n",
        "\n",
        "  # slice to keep only the last cell of the RNN\n",
        "  outputs = outputs[-1]\n",
        "  #print 'last outputs={}'.format(outputs)\n",
        "  \n",
        "  # output is result of linear activation of last layer of RNN\n",
        "  weight = tf.Variable(tf.random_normal([LSTM_SIZE, N_OUTPUTS]))\n",
        "  bias = tf.Variable(tf.random_normal([N_OUTPUTS]))\n",
        "  predictions = tf.matmul(outputs, weight) + bias\n",
        "    \n",
        "  # 2. loss function, training/eval ops\n",
        "  if mode == ModeKeys.TRAIN or mode == ModeKeys.EVAL:\n",
        "     loss = tf.losses.mean_squared_error(labels, predictions)\n",
        "     train_op = tf.contrib.layers.optimize_loss(\n",
        "         loss=loss,\n",
        "         global_step=tf.train.get_global_step(),\n",
        "         learning_rate=0.01,\n",
        "         optimizer=\"SGD\") # SGD\n",
        "     eval_metric_ops = {\n",
        "      \"rmse\": tf.metrics.root_mean_squared_error(labels, predictions)\n",
        "     }\n",
        "  else:\n",
        "     loss = None\n",
        "     train_op = None\n",
        "     eval_metric_ops = None\n",
        "  \n",
        "  # 3. Create predictions\n",
        "  predictions_dict = {\"predicted\": predictions}\n",
        "\n",
        "  # 4. Create export outputs  \n",
        "  export_outputs = {\"predicted\": tf.estimator.export.PredictOutput(predictions)}\n",
        "\n",
        "  # 5. return ModelFnOps\n",
        "  return tf.estimator.EstimatorSpec(\n",
        "      mode=mode,\n",
        "      predictions=predictions_dict,\n",
        "      loss=loss,\n",
        "      train_op=train_op,\n",
        "      eval_metric_ops=eval_metric_ops,\n",
        "      export_outputs=export_outputs)\n",
        "\n"
      ],
      "execution_count": 0,
      "outputs": []
    },
    {
      "cell_type": "markdown",
      "metadata": {
        "id": "6x2OM2cG4qpj",
        "colab_type": "text"
      },
      "source": [
        "<h3> Creating Serving Function , Train Function and Test Function </h3>"
      ]
    },
    {
      "cell_type": "code",
      "metadata": {
        "id": "ka_U5ZvZ4W6W",
        "colab_type": "code",
        "colab": {}
      },
      "source": [
        "def serving_input_receiver_fn():\n",
        "  feature_placeholders = {\n",
        "    TIMESERIES_COL: tf.placeholder(tf.float32, [None, N_INPUTS])\n",
        "  }\n",
        "\n",
        "  features = {\n",
        "    key: tf.expand_dims(tensor, -1)\n",
        "    for key, tensor in feature_placeholders.items()\n",
        "  }\n",
        "\n",
        "  features[TIMESERIES_COL] = tf.squeeze(features[TIMESERIES_COL], axis=[2], name='timeseries')\n",
        "  \n",
        "  print('serving: features={}'.format(features[TIMESERIES_COL]))\n",
        "\n",
        "  return tf.estimator.export.ServingInputReceiver(features, feature_placeholders)\n",
        "\n",
        "\n",
        "\n",
        "# Creating a TrainFn and a TestFn\n",
        "def _train_fn(X, y, batch_size):\n",
        "    \n",
        "    def _train():\n",
        "        \"\"\"An input function for training\"\"\"\n",
        "        # Convert the inputs to a Dataset.\n",
        "        # TODO need to be refactored according to https://medium.com/google-cloud/how-to-do-time-series-prediction-using-rnns-and-tensorflow-and-cloud-ml-engine-2ad2eeb189e8\n",
        "        # this is not good.\n",
        "        X_32 = tf.cast(X, tf.float32)\n",
        "        y_32 = tf.cast(y, tf.float32)\n",
        "        inputs = tf.concat(X_32, axis=1)\n",
        "        label = tf.concat(y_32, axis=1)\n",
        "        features, labels = {TIMESERIES_COL: inputs}, label\n",
        "        \n",
        "        return features, labels\n",
        "        dataset = tf.data.Dataset.from_tensor_slices(features, labels)\n",
        "        # Shuffle, repeat, and batch the examples.\n",
        "        dataset = dataset.repeat(None).batch(batch_size)\n",
        "        # This will now return batches of features, label\n",
        "        return dataset.make_one_shot_iterator().get_next()\n",
        "    return _train\n",
        "\n",
        "def _test_fn(X, y, batch_size):\n",
        "    def _test():\n",
        "        \"\"\"An input function for training\"\"\"\n",
        "        # Convert the inputs to a Dataset.\n",
        "        X_32 = tf.cast(X, tf.float32)\n",
        "        y_32 = tf.cast(y, tf.float32)\n",
        "        inputs = tf.concat(X_32, axis=1)\n",
        "        label = tf.concat(y_32, axis=1)\n",
        "        \n",
        "        features, labels = {TIMESERIES_COL: inputs}, label\n",
        "        \n",
        "        return features, labels\n",
        "        \n",
        "        dataset = tf.data.Dataset.from_tensor_slices(features, labels)\n",
        "        # Shuffle, repeat, and batch the examples.\n",
        "        dataset = dataset.repeat(1).batch(batch_size)\n",
        "        # This will now return batches of features, label\n",
        "        return dataset.make_one_shot_iterator().get_next()\n",
        "    return _test  \n",
        "  \n",
        "\n",
        " \n"
      ],
      "execution_count": 0,
      "outputs": []
    },
    {
      "cell_type": "markdown",
      "metadata": {
        "id": "ovYAxd_W4zc7",
        "colab_type": "text"
      },
      "source": [
        "<h3> Creating Experiment Function and running model </h3>"
      ]
    },
    {
      "cell_type": "code",
      "metadata": {
        "id": "CByxDadW49FB",
        "colab_type": "code",
        "colab": {}
      },
      "source": [
        "def _predict_fn(X) :\n",
        "    def _predict():\n",
        "        \"\"\"An input function for training\"\"\"\n",
        "        # Convert the inputs to a Dataset.\n",
        "        X_32 = tf.cast(X, tf.float32)\n",
        "        inputs = tf.concat(X_32, axis=1)\n",
        "        features = {TIMESERIES_COL: inputs}\n",
        "        return features\n",
        "    return _predict\n",
        "\n",
        "\n",
        "\n",
        "\n",
        "def experiment_fn(output_dir, X, y, x_tst, y_tst):\n",
        "    # run experiment\n",
        "    train_spec = tf.estimator.TrainSpec(\n",
        "          input_fn=_train_fn(X, y, BATCH_SIZE), max_steps=1500)\n",
        "    exporter = tf.estimator.FinalExporter('timeseries',\n",
        "    serving_input_receiver_fn)\n",
        "    eval_spec = tf.estimator.EvalSpec(\n",
        "            input_fn=_test_fn(x_tst, y_tst, BATCH_SIZE),\n",
        "            exporters=[exporter])\n",
        "    \n",
        "    estimator = tf.estimator.Estimator(model_fn=simple_rnn, model_dir=output_dir)\n",
        "\n",
        "    tf.estimator.train_and_evaluate(estimator, train_spec, eval_spec)\n",
        "    return estimator\n",
        "\n",
        "\n",
        "def run_model(end_date, symbol='XOM'):  \n",
        "  print('Attempting to generate learning model for {}, using end_date={}'.format(symbol, end_date))\n",
        "  tf.logging.set_verbosity(tf.logging.INFO)    \n",
        "  output_dir = ROOT_DIR.format(datetime.utcnow().strftime('%Y%m%d%H%M%S'))  \n",
        "  X_train, y_train, X_test, y_test = create_train_and_test(end_date, symbol=symbol)\n",
        "  estimator = experiment_fn(output_dir, X_train, y_train, X_test, y_test)\n",
        "  print('Xtrain is:{} and of shape:{}', type(X_train), X_train.shape)\n",
        "  return estimator\n"
      ],
      "execution_count": 0,
      "outputs": []
    },
    {
      "cell_type": "markdown",
      "metadata": {
        "id": "kMzyPr_u4_At",
        "colab_type": "text"
      },
      "source": [
        "<h3> SETTING STARTDATE, ENDDATE AND TICKER </h3>"
      ]
    },
    {
      "cell_type": "code",
      "metadata": {
        "id": "n3zgbsMrCbgP",
        "colab_type": "code",
        "colab": {}
      },
      "source": [
        "SYMBOL =  'RUSL'#'DIS'#'XOM'\n",
        "END_DATE= date.today()\n",
        "START_DATE = END_DATE - BDay(N_INPUTS) # This will be used for predicting future prices. end date will be 15 days ago, start_date 280 days earlier\n"
      ],
      "execution_count": 0,
      "outputs": []
    },
    {
      "cell_type": "markdown",
      "metadata": {
        "id": "augTdn3oqsK8",
        "colab_type": "text"
      },
      "source": [
        "<h3> Now running model </h3>"
      ]
    },
    {
      "cell_type": "code",
      "metadata": {
        "id": "LEMTgvKICpoc",
        "colab_type": "code",
        "colab": {}
      },
      "source": [
        "def train_estimator(symbol):\n",
        "  print('===================== CONFIGURATION FOR {}======================'.format(symbol))\n",
        "  print('STARTDATE={}'.format(START_DATE))\n",
        "  print('ENDDATE={}'.format(END_DATE))\n",
        "  print('SYMBOL={}'.format(SYMBOL))\n",
        "  print('=== TRAINING MODEL ON PAST 280 DAYS from {}'.format(START_DATE))\n",
        "  estimator = run_model(START_DATE, symbol=symbol)\n",
        "  return estimator\n"
      ],
      "execution_count": 0,
      "outputs": []
    },
    {
      "cell_type": "markdown",
      "metadata": {
        "id": "8bSKL1hdpyVD",
        "colab_type": "text"
      },
      "source": [
        "<h3> Now, after training,  Let's do some predictions for future </h3>"
      ]
    },
    {
      "cell_type": "code",
      "metadata": {
        "id": "uQkN-vTbp6E9",
        "colab_type": "code",
        "colab": {}
      },
      "source": [
        "from datetime import date\n",
        "from pprint import pprint\n",
        "# going back to last month\n",
        "tf.logging.set_verbosity(tf.logging.INFO)    \n",
        "\n",
        "def get_last_20_days(symbol):\n",
        "\n",
        "  def get_prices2(startdate=None, enddate=None, symbol=''):\n",
        "    import pandas_datareader as pdr\n",
        "    from datetime import date, timedelta\n",
        "    print ('--Start:{%s}, end:{%s}', startdate, enddate)\n",
        "\n",
        "    if not startdate and not enddate:\n",
        "      last_check = date.today() - BDay(SEQ_LEN * 2) \n",
        "      enddate = last_check\n",
        "      startdate = last_check - BDay(122)#timedelta(days=120)\n",
        "    return pdr.get_data_yahoo(symbol, startdate, enddate)[['Close']]\n",
        "\n",
        "\n",
        "  print('==== GETTING MOST RECENT PRICES======')\n",
        "  stock_data = get_prices2(START_DATE- BDay(1), END_DATE, symbol=SYMBOL)\n",
        "  percentage_changes = stock_data.pct_change().fillna(0)\n",
        "  #First Price\n",
        "  first_price = stock_data.values[0]\n",
        "  print('==============First ever price of the series of shape {} is {}'.format(stock_data.shape, first_price ))\n",
        "  #print(stock_data.head(30))\n",
        "  #print('=========== PERCENTAGE CHANGES ===========')\n",
        "  #print(percentage_changes.head(30))\n",
        "  prices = np.stack(percentage_changes['Close'])\n",
        "  #prices = np.stack(stock_data['Close'])\n",
        "  print('===== PRICES ARE===')\n",
        "  pprint(prices)\n",
        "  return prices, first_price\n",
        "\n",
        "\n"
      ],
      "execution_count": 0,
      "outputs": []
    },
    {
      "cell_type": "markdown",
      "metadata": {
        "id": "gQiIzVoFEa6u",
        "colab_type": "text"
      },
      "source": [
        "<h3> Now recalculating price percentages to predict </h3>"
      ]
    },
    {
      "cell_type": "code",
      "metadata": {
        "id": "RzaOht5kERuR",
        "colab_type": "code",
        "colab": {}
      },
      "source": [
        "def make_predictions(prices, estimator, ITERATIONS=3):\n",
        "\n",
        "  print ('Prices is of shape:{}', prices.shape)\n",
        "  prices = prices.reshape(-1,N_INPUTS) if prices.shape[0] % 15 == 0 else prices[-15:].reshape(-1,N_INPUTS)\n",
        "  print ('Reshaped Prices is of shape:{}', prices.shape)\n",
        "  print ('-------- PREDICTING -------')\n",
        "  print (type(prices))\n",
        "  acc = []\n",
        "  acc += prices[0].tolist()\n",
        "  for i in range(0,ITERATIONS):\n",
        "    # Given last 15 days, predict the next 5\n",
        "    candidate = np.array(acc[-15:]).reshape(-1,15)  # this is the Train #\n",
        "    pred = estimator.predict(input_fn = _predict_fn(candidate))\n",
        "    item = next(pred)\n",
        "    vals = item['predicted'] # this is the predicted\n",
        "    # Next 5 predicted. Now,  we need to retrain the model to add the 5 predicted\n",
        "    # Then, as test data, pick the previous 15 and then predict the next one\n",
        "\n",
        "    \"\"\"\n",
        "    ATTEMPT TO RETRAIN THE MODEL..\n",
        "      print(\"====== Now adding prediction to current train....\")\n",
        "      print(\"Xtrain of type:{}, candidate of type:{}\".format(type(X_train), type(candidate)))\n",
        "      print(\"SHapes.Train:{}, Candidate:{}\".format(X_train.shape, candidate.shape))\n",
        "      #X_train = np.vstack([X_train , candidate])\n",
        "      #y_train = np.vstack([y_train , vals])\n",
        "      # So Now we have to \n",
        "      # 1. retrain the model\n",
        "      # 2. get the most recent 15 days to \n",
        "\n",
        "    \"\"\"\n",
        "    print ('Round {} Prediction: on {}={}'.format(i, candidate, vals))\n",
        "    print ('{}={}'.format(type(vals), vals.tolist()))\n",
        "    acc += vals.tolist()\n",
        "  return acc\n",
        "\n"
      ],
      "execution_count": 0,
      "outputs": []
    },
    {
      "cell_type": "markdown",
      "metadata": {
        "id": "Zxm7H9jzsEGL",
        "colab_type": "text"
      },
      "source": [
        "<h3> Now visualizing price predictions against date time </h3>"
      ]
    },
    {
      "cell_type": "code",
      "metadata": {
        "id": "e8SxyWVIxS3L",
        "colab_type": "code",
        "outputId": "c7dc052e-378b-4872-fbc9-ff708befe51b",
        "colab": {
          "base_uri": "https://localhost:8080/",
          "height": 1000
        }
      },
      "source": [
        "def generate_results(acc, first_price):\n",
        "  print('-------------- END OF STORY.Computing increase from {}'.format(first_price))\n",
        "  from pprint import pprint\n",
        "  future_days = len(acc) - 15\n",
        "  pprint('Accumlator has length:{}'.format(len(acc)))\n",
        "  pprint('We have prediction for the next:{} days'.format(future_days))\n",
        "  print(\"calculating business days to zip \")\n",
        "  # we got start date, todays - 15\n",
        "  # end date is  today + \n",
        "  dts = [START_DATE + BDay(offset) for offset in range(0, len(acc))]\n",
        "  print('Start Date:{}={}'.format(dts[0], START_DATE))\n",
        "  print('End date:{}'.format(dts[-1]))\n",
        "  zipped = [tpl for tpl in zip(acc, dts)]\n",
        "       \n",
        "  print('===== FULL PREDICTIONS======')\n",
        "  #pprint(zipped)\n",
        "  from functools import reduce\n",
        "  final_predictions  = acc\n",
        "  #pprint(final_predictions)\n",
        "  # Then find the end price by using reduce and entering the first price \n",
        "  res = reduce(lambda acc,x: acc * (1+x) ,  final_predictions, first_price)\n",
        "  print('Final Price for series{} = {}'.format(zipped[-1], res))\n",
        "\n",
        "estimator = train_estimator(SYMBOL)\n",
        "latest_prices, first_price = get_last_20_days(SYMBOL)\n",
        "# Reshaping data\n",
        "acc = make_predictions(latest_prices, estimator)\n",
        "generate_results(acc, first_price)\n",
        "\n"
      ],
      "execution_count": 110,
      "outputs": [
        {
          "output_type": "stream",
          "text": [
            "===================== CONFIGURATION FOR RUSL======================\n",
            "STARTDATE=2019-06-12 00:00:00\n",
            "ENDDATE=2019-07-03\n",
            "SYMBOL=RUSL\n",
            "=== TRAINING MODEL ON PAST 280 DAYS from 2019-06-12 00:00:00\n",
            "Attempting to generate learning model for RUSL, using end_date=2019-06-12 00:00:00\n",
            "==== CREATING TIMESERIES GOING BACK 280 DAYS FROM  2019-06-12 00:00:00\n",
            "--Start:{%s}, end:{%s} 2018-05-16 00:00:00 2019-06-12 00:00:00\n"
          ],
          "name": "stdout"
        },
        {
          "output_type": "stream",
          "text": [
            "I0703 20:26:39.261319 140195635861376 estimator.py:1790] Using default config.\n",
            "I0703 20:26:39.262910 140195635861376 estimator.py:209] Using config: {'_model_dir': '/home/mmistroni/tf_logs/rnn-run-20190703202638', '_tf_random_seed': None, '_save_summary_steps': 100, '_save_checkpoints_steps': None, '_save_checkpoints_secs': 600, '_session_config': allow_soft_placement: true\n",
            "graph_options {\n",
            "  rewrite_options {\n",
            "    meta_optimizer_iterations: ONE\n",
            "  }\n",
            "}\n",
            ", '_keep_checkpoint_max': 5, '_keep_checkpoint_every_n_hours': 10000, '_log_step_count_steps': 100, '_train_distribute': None, '_device_fn': None, '_protocol': None, '_eval_distribute': None, '_experimental_distribute': None, '_experimental_max_worker_delay_secs': None, '_service': None, '_cluster_spec': <tensorflow.python.training.server_lib.ClusterSpec object at 0x7f8188ee7f98>, '_task_type': 'worker', '_task_id': 0, '_global_id_in_cluster': 0, '_master': '', '_evaluation_master': '', '_is_chief': True, '_num_ps_replicas': 0, '_num_worker_replicas': 1}\n",
            "W0703 20:26:39.263976 140195635861376 model_fn.py:630] Estimator's model_fn (<function simple_rnn at 0x7f818aad39d8>) includes params argument, but params are not passed to Estimator.\n",
            "I0703 20:26:39.265192 140195635861376 estimator_training.py:186] Not using Distribute Coordinator.\n",
            "I0703 20:26:39.268154 140195635861376 training.py:612] Running training and evaluation locally (non-distributed).\n",
            "I0703 20:26:39.270076 140195635861376 training.py:700] Start train and evaluate loop. The evaluate will happen after every checkpoint. Checkpoint frequency is determined based on RunConfig arguments: save_checkpoints_steps None or save_checkpoints_secs 600.\n",
            "I0703 20:26:39.297930 140195635861376 estimator.py:1145] Calling model_fn.\n"
          ],
          "name": "stderr"
        },
        {
          "output_type": "stream",
          "text": [
            "Len of input dat ais {} 270\n",
            "All data shape is(13, 20) and type <class 'numpy.ndarray'>\n",
            "X is fo type <class 'numpy.float64'>, y  of type <class 'numpy.ndarray'>\n",
            "X.shape is (13, 15), y shap is (13, 5)\n",
            "IN Features are:{'rawdata': <tf.Tensor 'concat:0' shape=(11, 15) dtype=float32>}\n"
          ],
          "name": "stdout"
        },
        {
          "output_type": "stream",
          "text": [
            "I0703 20:26:40.636801 140195635861376 estimator.py:1147] Done calling model_fn.\n",
            "I0703 20:26:40.639878 140195635861376 basic_session_run_hooks.py:541] Create CheckpointSaverHook.\n",
            "I0703 20:26:40.928443 140195635861376 monitored_session.py:240] Graph was finalized.\n",
            "I0703 20:26:41.016294 140195635861376 session_manager.py:500] Running local_init_op.\n",
            "I0703 20:26:41.039338 140195635861376 session_manager.py:502] Done running local_init_op.\n",
            "I0703 20:26:41.646815 140195635861376 basic_session_run_hooks.py:606] Saving checkpoints for 0 into /home/mmistroni/tf_logs/rnn-run-20190703202638/model.ckpt.\n",
            "I0703 20:26:42.124529 140195635861376 basic_session_run_hooks.py:262] loss = 0.8121409, step = 1\n",
            "I0703 20:26:42.597324 140195635861376 basic_session_run_hooks.py:692] global_step/sec: 211.354\n",
            "I0703 20:26:42.599305 140195635861376 basic_session_run_hooks.py:260] loss = 0.16791795, step = 101 (0.475 sec)\n",
            "I0703 20:26:43.424061 140195635861376 basic_session_run_hooks.py:692] global_step/sec: 120.983\n",
            "I0703 20:26:43.426377 140195635861376 basic_session_run_hooks.py:260] loss = 0.04819915, step = 201 (0.827 sec)\n",
            "I0703 20:26:43.584945 140195635861376 basic_session_run_hooks.py:692] global_step/sec: 620.67\n",
            "I0703 20:26:43.586363 140195635861376 basic_session_run_hooks.py:260] loss = 0.014586531, step = 301 (0.160 sec)\n",
            "I0703 20:26:43.734071 140195635861376 basic_session_run_hooks.py:692] global_step/sec: 670.566\n",
            "I0703 20:26:43.735611 140195635861376 basic_session_run_hooks.py:260] loss = 0.005145383, step = 401 (0.149 sec)\n",
            "I0703 20:26:43.875937 140195635861376 basic_session_run_hooks.py:692] global_step/sec: 705.406\n",
            "I0703 20:26:43.877924 140195635861376 basic_session_run_hooks.py:260] loss = 0.002478075, step = 501 (0.142 sec)\n",
            "I0703 20:26:44.027820 140195635861376 basic_session_run_hooks.py:692] global_step/sec: 658.025\n",
            "I0703 20:26:44.029382 140195635861376 basic_session_run_hooks.py:260] loss = 0.0017120173, step = 601 (0.151 sec)\n",
            "I0703 20:26:44.169669 140195635861376 basic_session_run_hooks.py:692] global_step/sec: 704.924\n",
            "I0703 20:26:44.171092 140195635861376 basic_session_run_hooks.py:260] loss = 0.0014871061, step = 701 (0.142 sec)\n",
            "I0703 20:26:44.311579 140195635861376 basic_session_run_hooks.py:692] global_step/sec: 704.706\n",
            "I0703 20:26:44.313039 140195635861376 basic_session_run_hooks.py:260] loss = 0.0014194853, step = 801 (0.142 sec)\n",
            "I0703 20:26:44.463515 140195635861376 basic_session_run_hooks.py:692] global_step/sec: 658.1\n",
            "I0703 20:26:44.465035 140195635861376 basic_session_run_hooks.py:260] loss = 0.0013986487, step = 901 (0.152 sec)\n",
            "I0703 20:26:44.608471 140195635861376 basic_session_run_hooks.py:692] global_step/sec: 689.928\n",
            "I0703 20:26:44.609775 140195635861376 basic_session_run_hooks.py:260] loss = 0.0013920387, step = 1001 (0.145 sec)\n",
            "I0703 20:26:44.748813 140195635861376 basic_session_run_hooks.py:692] global_step/sec: 712.696\n",
            "I0703 20:26:44.750391 140195635861376 basic_session_run_hooks.py:260] loss = 0.0013898372, step = 1101 (0.141 sec)\n",
            "I0703 20:26:44.893158 140195635861376 basic_session_run_hooks.py:692] global_step/sec: 692.581\n",
            "I0703 20:26:44.894657 140195635861376 basic_session_run_hooks.py:260] loss = 0.0013890258, step = 1201 (0.144 sec)\n",
            "I0703 20:26:45.035882 140195635861376 basic_session_run_hooks.py:692] global_step/sec: 700.854\n",
            "I0703 20:26:45.037301 140195635861376 basic_session_run_hooks.py:260] loss = 0.0013886567, step = 1301 (0.143 sec)\n",
            "I0703 20:26:45.185000 140195635861376 basic_session_run_hooks.py:692] global_step/sec: 670.518\n",
            "I0703 20:26:45.186519 140195635861376 basic_session_run_hooks.py:260] loss = 0.0013884304, step = 1401 (0.149 sec)\n",
            "I0703 20:26:45.324368 140195635861376 basic_session_run_hooks.py:606] Saving checkpoints for 1500 into /home/mmistroni/tf_logs/rnn-run-20190703202638/model.ckpt.\n",
            "I0703 20:26:45.459863 140195635861376 estimator.py:1145] Calling model_fn.\n"
          ],
          "name": "stderr"
        },
        {
          "output_type": "stream",
          "text": [
            "IN Features are:{'rawdata': <tf.Tensor 'concat:0' shape=(2, 15) dtype=float32>}\n"
          ],
          "name": "stdout"
        },
        {
          "output_type": "stream",
          "text": [
            "I0703 20:26:46.650117 140195635861376 estimator.py:1147] Done calling model_fn.\n",
            "I0703 20:26:46.678592 140195635861376 evaluation.py:255] Starting evaluation at 2019-07-03T20:26:46Z\n",
            "I0703 20:26:46.765293 140195635861376 monitored_session.py:240] Graph was finalized.\n",
            "I0703 20:26:46.772052 140195635861376 saver.py:1280] Restoring parameters from /home/mmistroni/tf_logs/rnn-run-20190703202638/model.ckpt-1500\n",
            "I0703 20:26:46.851594 140195635861376 session_manager.py:500] Running local_init_op.\n",
            "I0703 20:26:46.875588 140195635861376 session_manager.py:502] Done running local_init_op.\n",
            "I0703 20:26:46.991498 140195635861376 evaluation.py:167] Evaluation [10/100]\n",
            "I0703 20:26:47.008469 140195635861376 evaluation.py:167] Evaluation [20/100]\n",
            "I0703 20:26:47.020437 140195635861376 evaluation.py:167] Evaluation [30/100]\n",
            "I0703 20:26:47.031504 140195635861376 evaluation.py:167] Evaluation [40/100]\n",
            "I0703 20:26:47.043152 140195635861376 evaluation.py:167] Evaluation [50/100]\n",
            "I0703 20:26:47.054822 140195635861376 evaluation.py:167] Evaluation [60/100]\n",
            "I0703 20:26:47.065921 140195635861376 evaluation.py:167] Evaluation [70/100]\n",
            "I0703 20:26:47.078266 140195635861376 evaluation.py:167] Evaluation [80/100]\n",
            "I0703 20:26:47.090087 140195635861376 evaluation.py:167] Evaluation [90/100]\n",
            "I0703 20:26:47.101369 140195635861376 evaluation.py:167] Evaluation [100/100]\n",
            "I0703 20:26:47.138522 140195635861376 evaluation.py:275] Finished evaluation at 2019-07-03-20:26:47\n",
            "I0703 20:26:47.139896 140195635861376 estimator.py:2039] Saving dict for global step 1500: global_step = 1500, loss = 0.0021364053, rmse = 0.04622127\n",
            "I0703 20:26:47.354418 140195635861376 estimator.py:2099] Saving 'checkpoint_path' summary for global step 1500: /home/mmistroni/tf_logs/rnn-run-20190703202638/model.ckpt-1500\n",
            "I0703 20:26:47.356237 140195635861376 exporter.py:410] Performing the final export in the end of training.\n",
            "I0703 20:26:47.369677 140195635861376 estimator.py:1145] Calling model_fn.\n"
          ],
          "name": "stderr"
        },
        {
          "output_type": "stream",
          "text": [
            "serving: features=Tensor(\"timeseries:0\", shape=(?, 15), dtype=float32)\n",
            "IN Features are:{'rawdata': <tf.Tensor 'timeseries:0' shape=(?, 15) dtype=float32>}\n"
          ],
          "name": "stdout"
        },
        {
          "output_type": "stream",
          "text": [
            "I0703 20:26:47.877865 140195635861376 estimator.py:1147] Done calling model_fn.\n",
            "I0703 20:26:47.879323 140195635861376 export_utils.py:170] Signatures INCLUDED in export for Classify: None\n",
            "I0703 20:26:47.884256 140195635861376 export_utils.py:170] Signatures INCLUDED in export for Regress: None\n",
            "I0703 20:26:47.885967 140195635861376 export_utils.py:170] Signatures INCLUDED in export for Predict: ['predicted', 'serving_default']\n",
            "I0703 20:26:47.887478 140195635861376 export_utils.py:170] Signatures INCLUDED in export for Train: None\n",
            "I0703 20:26:47.889268 140195635861376 export_utils.py:170] Signatures INCLUDED in export for Eval: None\n",
            "I0703 20:26:47.919021 140195635861376 saver.py:1280] Restoring parameters from /home/mmistroni/tf_logs/rnn-run-20190703202638/model.ckpt-1500\n",
            "I0703 20:26:47.944548 140195635861376 builder_impl.py:661] Assets added to graph.\n",
            "I0703 20:26:47.945930 140195635861376 builder_impl.py:456] No assets to write.\n",
            "I0703 20:26:48.014670 140195635861376 builder_impl.py:421] SavedModel written to: /home/mmistroni/tf_logs/rnn-run-20190703202638/export/timeseries/temp-b'1562185607'/saved_model.pb\n",
            "I0703 20:26:48.047777 140195635861376 estimator.py:368] Loss for final step: 0.0013882514.\n"
          ],
          "name": "stderr"
        },
        {
          "output_type": "stream",
          "text": [
            "Xtrain is:{} and of shape:{} <class 'numpy.ndarray'> (11, 15)\n",
            "==== GETTING MOST RECENT PRICES======\n",
            "--Start:{%s}, end:{%s} 2019-06-11 00:00:00 2019-07-03\n"
          ],
          "name": "stdout"
        },
        {
          "output_type": "stream",
          "text": [
            "W0703 20:26:48.360610 140195635861376 estimator.py:1000] Input graph does not use tf.data.Dataset or contain a QueueRunner. That means predict yields forever. This is probably a mistake.\n",
            "I0703 20:26:48.362188 140195635861376 estimator.py:1145] Calling model_fn.\n"
          ],
          "name": "stderr"
        },
        {
          "output_type": "stream",
          "text": [
            "==============First ever price of the series of shape (17, 1) is [48.59000015]\n",
            "===== PRICES ARE===\n",
            "array([ 0.        , -0.02696031,  0.03870562, -0.00997764,  0.01110656,\n",
            "        0.04637915,  0.00563765,  0.06959216, -0.01988076,  0.01641157,\n",
            "       -0.03374457,  0.03473531,  0.00145161, -0.02319259,  0.03005006,\n",
            "       -0.01116512,  0.01784738])\n",
            "Prices is of shape:{} (17,)\n",
            "Reshaped Prices is of shape:{} (1, 15)\n",
            "-------- PREDICTING -------\n",
            "<class 'numpy.ndarray'>\n",
            "IN Features are:{'rawdata': <tf.Tensor 'concat:0' shape=(1, 15) dtype=float32>}\n"
          ],
          "name": "stdout"
        },
        {
          "output_type": "stream",
          "text": [
            "I0703 20:26:48.618263 140195635861376 estimator.py:1147] Done calling model_fn.\n",
            "I0703 20:26:48.698629 140195635861376 monitored_session.py:240] Graph was finalized.\n",
            "I0703 20:26:48.704438 140195635861376 saver.py:1280] Restoring parameters from /home/mmistroni/tf_logs/rnn-run-20190703202638/model.ckpt-1500\n",
            "I0703 20:26:48.738868 140195635861376 session_manager.py:500] Running local_init_op.\n",
            "I0703 20:26:48.748256 140195635861376 session_manager.py:502] Done running local_init_op.\n",
            "W0703 20:26:48.831686 140195635861376 estimator.py:1000] Input graph does not use tf.data.Dataset or contain a QueueRunner. That means predict yields forever. This is probably a mistake.\n",
            "I0703 20:26:48.832995 140195635861376 estimator.py:1145] Calling model_fn.\n"
          ],
          "name": "stderr"
        },
        {
          "output_type": "stream",
          "text": [
            "Round 0 Prediction: on [[ 0.03870562 -0.00997764  0.01110656  0.04637915  0.00563765  0.06959216\n",
            "  -0.01988076  0.01641157 -0.03374457  0.03473531  0.00145161 -0.02319259\n",
            "   0.03005006 -0.01116512  0.01784738]]=[-0.00508058  0.00225069  0.01061603 -0.01801026  0.02479649]\n",
            "<class 'numpy.ndarray'>=[-0.005080580711364746, 0.002250686287879944, 0.010616034269332886, -0.018010258674621582, 0.024796485900878906]\n",
            "IN Features are:{'rawdata': <tf.Tensor 'concat:0' shape=(1, 15) dtype=float32>}\n"
          ],
          "name": "stdout"
        },
        {
          "output_type": "stream",
          "text": [
            "I0703 20:26:49.088563 140195635861376 estimator.py:1147] Done calling model_fn.\n",
            "I0703 20:26:49.176568 140195635861376 monitored_session.py:240] Graph was finalized.\n",
            "I0703 20:26:49.182586 140195635861376 saver.py:1280] Restoring parameters from /home/mmistroni/tf_logs/rnn-run-20190703202638/model.ckpt-1500\n",
            "I0703 20:26:49.218465 140195635861376 session_manager.py:500] Running local_init_op.\n",
            "I0703 20:26:49.228511 140195635861376 session_manager.py:502] Done running local_init_op.\n",
            "W0703 20:26:49.312632 140195635861376 estimator.py:1000] Input graph does not use tf.data.Dataset or contain a QueueRunner. That means predict yields forever. This is probably a mistake.\n",
            "I0703 20:26:49.314064 140195635861376 estimator.py:1145] Calling model_fn.\n"
          ],
          "name": "stderr"
        },
        {
          "output_type": "stream",
          "text": [
            "Round 1 Prediction: on [[ 0.06959216 -0.01988076  0.01641157 -0.03374457  0.03473531  0.00145161\n",
            "  -0.02319259  0.03005006 -0.01116512  0.01784738 -0.00508058  0.00225069\n",
            "   0.01061603 -0.01801026  0.02479649]]=[-0.00401634  0.00241856  0.00995745 -0.01810443  0.02291715]\n",
            "<class 'numpy.ndarray'>=[-0.0040163397789001465, 0.0024185553193092346, 0.009957447648048401, -0.0181044340133667, 0.02291715145111084]\n",
            "IN Features are:{'rawdata': <tf.Tensor 'concat:0' shape=(1, 15) dtype=float32>}\n"
          ],
          "name": "stdout"
        },
        {
          "output_type": "stream",
          "text": [
            "I0703 20:26:49.570585 140195635861376 estimator.py:1147] Done calling model_fn.\n",
            "I0703 20:26:49.648306 140195635861376 monitored_session.py:240] Graph was finalized.\n",
            "I0703 20:26:49.654613 140195635861376 saver.py:1280] Restoring parameters from /home/mmistroni/tf_logs/rnn-run-20190703202638/model.ckpt-1500\n",
            "I0703 20:26:49.690442 140195635861376 session_manager.py:500] Running local_init_op.\n",
            "I0703 20:26:49.700551 140195635861376 session_manager.py:502] Done running local_init_op.\n"
          ],
          "name": "stderr"
        },
        {
          "output_type": "stream",
          "text": [
            "Round 2 Prediction: on [[ 0.00145161 -0.02319259  0.03005006 -0.01116512  0.01784738 -0.00508058\n",
            "   0.00225069  0.01061603 -0.01801026  0.02479649 -0.00401634  0.00241856\n",
            "   0.00995745 -0.01810443  0.02291715]]=[-0.00346851  0.00204682  0.00953211 -0.01780489  0.02240741]\n",
            "<class 'numpy.ndarray'>=[-0.0034685134887695312, 0.002046823501586914, 0.009532108902931213, -0.017804890871047974, 0.0224074125289917]\n",
            "-------------- END OF STORY.Computing increase from [48.59000015]\n",
            "'Accumlator has length:30'\n",
            "'We have prediction for the next:15 days'\n",
            "calculating business days to zip \n",
            "Start Date:2019-06-12 00:00:00=2019-06-12 00:00:00\n",
            "End date:2019-07-23 00:00:00\n",
            "===== FULL PREDICTIONS======\n",
            "Final Price for series(0.0224074125289917, Timestamp('2019-07-23 00:00:00')) = [59.72135624]\n"
          ],
          "name": "stdout"
        }
      ]
    },
    {
      "cell_type": "code",
      "metadata": {
        "id": "h2ouepeT_28w",
        "colab_type": "code",
        "colab": {}
      },
      "source": [
        "\n"
      ],
      "execution_count": 0,
      "outputs": []
    },
    {
      "cell_type": "code",
      "metadata": {
        "id": "O7AjEH52vS-6",
        "colab_type": "code",
        "colab": {}
      },
      "source": [
        ""
      ],
      "execution_count": 0,
      "outputs": []
    }
  ]
}