{
  "nbformat": 4,
  "nbformat_minor": 0,
  "metadata": {
    "colab": {
      "name": "TFTimeSeries.ipynb",
      "version": "0.3.2",
      "provenance": [],
      "collapsed_sections": [],
      "include_colab_link": true
    },
    "kernelspec": {
      "name": "python3",
      "display_name": "Python 3"
    }
  },
  "cells": [
    {
      "cell_type": "markdown",
      "metadata": {
        "id": "view-in-github",
        "colab_type": "text"
      },
      "source": [
        "<a href=\"https://colab.research.google.com/github/mmistroni/TensorFlowPlayground/blob/master/TFTimeSeries.ipynb\" target=\"_parent\"><img src=\"https://colab.research.google.com/assets/colab-badge.svg\" alt=\"Open In Colab\"/></a>"
      ]
    },
    {
      "cell_type": "code",
      "metadata": {
        "id": "7j1C2K-pSCvo",
        "colab_type": "code",
        "outputId": "6fa85a5a-2464-459d-a265-cf7f36fbd476",
        "colab": {
          "base_uri": "https://localhost:8080/",
          "height": 238
        }
      },
      "source": [
        "!pip install pandas_datareader"
      ],
      "execution_count": 0,
      "outputs": [
        {
          "output_type": "stream",
          "text": [
            "Requirement already satisfied: pandas_datareader in /usr/local/lib/python3.6/dist-packages (0.7.0)\n",
            "Requirement already satisfied: requests>=2.3.0 in /usr/local/lib/python3.6/dist-packages (from pandas_datareader) (2.21.0)\n",
            "Requirement already satisfied: lxml in /usr/local/lib/python3.6/dist-packages (from pandas_datareader) (4.2.6)\n",
            "Requirement already satisfied: pandas>=0.19.2 in /usr/local/lib/python3.6/dist-packages (from pandas_datareader) (0.24.2)\n",
            "Requirement already satisfied: wrapt in /usr/local/lib/python3.6/dist-packages (from pandas_datareader) (1.11.2)\n",
            "Requirement already satisfied: idna<2.9,>=2.5 in /usr/local/lib/python3.6/dist-packages (from requests>=2.3.0->pandas_datareader) (2.8)\n",
            "Requirement already satisfied: certifi>=2017.4.17 in /usr/local/lib/python3.6/dist-packages (from requests>=2.3.0->pandas_datareader) (2019.6.16)\n",
            "Requirement already satisfied: chardet<3.1.0,>=3.0.2 in /usr/local/lib/python3.6/dist-packages (from requests>=2.3.0->pandas_datareader) (3.0.4)\n",
            "Requirement already satisfied: urllib3<1.25,>=1.21.1 in /usr/local/lib/python3.6/dist-packages (from requests>=2.3.0->pandas_datareader) (1.24.3)\n",
            "Requirement already satisfied: python-dateutil>=2.5.0 in /usr/local/lib/python3.6/dist-packages (from pandas>=0.19.2->pandas_datareader) (2.5.3)\n",
            "Requirement already satisfied: numpy>=1.12.0 in /usr/local/lib/python3.6/dist-packages (from pandas>=0.19.2->pandas_datareader) (1.16.4)\n",
            "Requirement already satisfied: pytz>=2011k in /usr/local/lib/python3.6/dist-packages (from pandas>=0.19.2->pandas_datareader) (2018.9)\n",
            "Requirement already satisfied: six>=1.5 in /usr/local/lib/python3.6/dist-packages (from python-dateutil>=2.5.0->pandas>=0.19.2->pandas_datareader) (1.12.0)\n"
          ],
          "name": "stdout"
        }
      ]
    },
    {
      "cell_type": "code",
      "metadata": {
        "id": "03Y2LC7ZQtOu",
        "colab_type": "code",
        "colab": {}
      },
      "source": [
        "from __future__ import absolute_import\n",
        "from __future__ import division\n",
        "from __future__ import print_function\n",
        "import tensorflow as tf\n",
        "from datetime import date\n",
        "import numpy as np\n",
        "from sklearn.model_selection import train_test_split\n",
        "from tensorflow.contrib.learn import ModeKeys\n",
        "import tensorflow.contrib.rnn as rnn\n",
        "from datetime import datetime, date, timedelta\n",
        "\n",
        "\n",
        "\n"
      ],
      "execution_count": 0,
      "outputs": []
    },
    {
      "cell_type": "code",
      "metadata": {
        "id": "l-Irklu5ENWm",
        "colab_type": "code",
        "colab": {}
      },
      "source": [
        "\n",
        "from pandas.tseries.offsets import BDay\n",
        "TIMESERIES_COL = 'rawdata'\n",
        "N_OUTPUTS = 5 # in each sequence, 1-14 are features, and 14-20 is label \n",
        "SEQ_LEN = 20\n",
        "DEFAULTS = 0.0\n",
        "LSTM_SIZE = 5 # number of hidden layers in each of the LSTM cells\n",
        "N_INPUTS = SEQ_LEN - N_OUTPUTS\n",
        "BATCH_SIZE = 20\n",
        "ROOT_DIR = '/home/mmistroni/tf_logs/rnn-run-{}'\n",
        "\n",
        "\n",
        "def get_prices(startdate, enddate, symbol):\n",
        "  import pandas_datareader as pdr\n",
        "  from datetime import date, timedelta\n",
        "  print ('--Start:{%s}, end:{%s}', startdate, enddate)\n",
        "  \n",
        "  stock_data = pdr.get_data_yahoo(symbol, startdate, enddate)[['Close']].pct_change().fillna(0)\n",
        "  adjClose = np.stack(stock_data['Close'])\n",
        "  return adjClose\n",
        "  \n",
        "def create_training_data2(inputData):\n",
        "  print ('Len of input dat ais {}', len(inputData))\n",
        "  return [np.array(inputData[i * SEQ_LEN: (i + 1) * SEQ_LEN]) \n",
        "       for i in range(len(inputData) // SEQ_LEN)]\n",
        "\n",
        "def create_training_data(inputData):\n",
        "  print ('AdjClose is of shape {}', inputData.shape)\n",
        "  return inputData.T.reshape(-1,SEQ_LEN)\n",
        "  \n",
        "  \n",
        "def create_time_series(end_date, numDays=360, symbol='XOM'):\n",
        "  print(\"==== CREATING TIMESERIES GOING BACK 280 DAYS FROM  {}\".format(end_date))\n",
        "  endDate = end_date # training from 20 days ago\n",
        "  startDate = endDate - BDay(numDays)\n",
        "  prices =  get_prices(startDate, endDate, symbol=symbol)\n",
        "  return create_training_data2(prices)\n",
        "  \n"
      ],
      "execution_count": 0,
      "outputs": []
    },
    {
      "cell_type": "code",
      "metadata": {
        "colab_type": "code",
        "id": "whdGmgDC4Fr2",
        "colab": {}
      },
      "source": [
        "\n",
        "def create_train_and_test(end_date, symbol='XOM'):\n",
        "  all_timeseries =  create_time_series(end_date, symbol=symbol) #[create_time_series() for i in range(0, SEQ_LEN * 4)]\n",
        "  all_data = np.stack(all_timeseries)\n",
        "  print('All data shape is{0} and type {1}'.format(all_data.shape,type(all_data)))\n",
        "  X, y = all_data[...,0:-N_OUTPUTS], all_data[...,-N_OUTPUTS:]\n",
        "  print ('X is fo type {0}, y  of type {1}'.format(type(X[0][0]), type(y)))\n",
        "  print ('X.shape is {0}, y shap is {1}'.format(X.shape, y.shape))\n",
        "  X_train, X_test, y_train, y_test = train_test_split(X,\n",
        "                                                      y,\n",
        "                                                      test_size=0.1,\n",
        "                                                      random_state=1)\n",
        "  return X_train, y_train, X_test, y_test\n",
        "\n"
      ],
      "execution_count": 0,
      "outputs": []
    },
    {
      "cell_type": "markdown",
      "metadata": {
        "id": "cennoUsA4jdI",
        "colab_type": "text"
      },
      "source": [
        "<h3> Creating RNN Model </h3>\n"
      ]
    },
    {
      "cell_type": "code",
      "metadata": {
        "id": "PVMHd20H36gP",
        "colab_type": "code",
        "colab": {}
      },
      "source": [
        "\n",
        "# create the inference model\n",
        "def simple_rnn(features, labels, mode, params):\n",
        "  # 0. Reformat input shape to become a sequence\n",
        "  print ('IN Features are:{0}'.format(features))\n",
        "  x = tf.split(features[TIMESERIES_COL], N_INPUTS, 1)\n",
        "  #print 'x={}'.format(x)\n",
        "    \n",
        "  # 1. configure the RNN\n",
        "  lstm_cell = rnn.BasicLSTMCell(LSTM_SIZE, forget_bias=1.0)\n",
        "  outputs, _ = tf.nn.static_rnn(lstm_cell, x, dtype=tf.float32)\n",
        "\n",
        "  # slice to keep only the last cell of the RNN\n",
        "  outputs = outputs[-1]\n",
        "  #print 'last outputs={}'.format(outputs)\n",
        "  \n",
        "  # output is result of linear activation of last layer of RNN\n",
        "  weight = tf.Variable(tf.random_normal([LSTM_SIZE, N_OUTPUTS]))\n",
        "  bias = tf.Variable(tf.random_normal([N_OUTPUTS]))\n",
        "  predictions = tf.matmul(outputs, weight) + bias\n",
        "    \n",
        "  # 2. loss function, training/eval ops\n",
        "  if mode == ModeKeys.TRAIN or mode == ModeKeys.EVAL:\n",
        "     loss = tf.losses.mean_squared_error(labels, predictions)\n",
        "     train_op = tf.contrib.layers.optimize_loss(\n",
        "         loss=loss,\n",
        "         global_step=tf.train.get_global_step(),\n",
        "         learning_rate=0.01,\n",
        "         optimizer=\"SGD\") # SGD\n",
        "     eval_metric_ops = {\n",
        "      \"rmse\": tf.metrics.root_mean_squared_error(labels, predictions)\n",
        "     }\n",
        "  else:\n",
        "     loss = None\n",
        "     train_op = None\n",
        "     eval_metric_ops = None\n",
        "  \n",
        "  # 3. Create predictions\n",
        "  predictions_dict = {\"predicted\": predictions}\n",
        "\n",
        "  # 4. Create export outputs  \n",
        "  export_outputs = {\"predicted\": tf.estimator.export.PredictOutput(predictions)}\n",
        "\n",
        "  # 5. return ModelFnOps\n",
        "  return tf.estimator.EstimatorSpec(\n",
        "      mode=mode,\n",
        "      predictions=predictions_dict,\n",
        "      loss=loss,\n",
        "      train_op=train_op,\n",
        "      eval_metric_ops=eval_metric_ops,\n",
        "      export_outputs=export_outputs)\n",
        "\n"
      ],
      "execution_count": 0,
      "outputs": []
    },
    {
      "cell_type": "markdown",
      "metadata": {
        "id": "6x2OM2cG4qpj",
        "colab_type": "text"
      },
      "source": [
        "<h3> Creating Serving Function , Train Function and Test Function </h3>"
      ]
    },
    {
      "cell_type": "code",
      "metadata": {
        "id": "ka_U5ZvZ4W6W",
        "colab_type": "code",
        "colab": {}
      },
      "source": [
        "def serving_input_receiver_fn():\n",
        "  feature_placeholders = {\n",
        "    TIMESERIES_COL: tf.placeholder(tf.float32, [None, N_INPUTS])\n",
        "  }\n",
        "\n",
        "  features = {\n",
        "    key: tf.expand_dims(tensor, -1)\n",
        "    for key, tensor in feature_placeholders.items()\n",
        "  }\n",
        "\n",
        "  features[TIMESERIES_COL] = tf.squeeze(features[TIMESERIES_COL], axis=[2], name='timeseries')\n",
        "  \n",
        "  print('serving: features={}'.format(features[TIMESERIES_COL]))\n",
        "\n",
        "  return tf.estimator.export.ServingInputReceiver(features, feature_placeholders)\n",
        "\n",
        "\n",
        "\n",
        "# Creating a TrainFn and a TestFn\n",
        "def _train_fn(X, y, batch_size):\n",
        "    \n",
        "    def _train():\n",
        "        \"\"\"An input function for training\"\"\"\n",
        "        # Convert the inputs to a Dataset.\n",
        "        # TODO need to be refactored according to https://medium.com/google-cloud/how-to-do-time-series-prediction-using-rnns-and-tensorflow-and-cloud-ml-engine-2ad2eeb189e8\n",
        "        # this is not good.\n",
        "        X_32 = tf.cast(X, tf.float32)\n",
        "        y_32 = tf.cast(y, tf.float32)\n",
        "        inputs = tf.concat(X_32, axis=1)\n",
        "        label = tf.concat(y_32, axis=1)\n",
        "        features, labels = {TIMESERIES_COL: inputs}, label\n",
        "        \n",
        "        return features, labels\n",
        "        dataset = tf.data.Dataset.from_tensor_slices(features, labels)\n",
        "        # Shuffle, repeat, and batch the examples.\n",
        "        dataset = dataset.repeat(None).batch(batch_size)\n",
        "        # This will now return batches of features, label\n",
        "        return dataset.make_one_shot_iterator().get_next()\n",
        "    return _train\n",
        "\n",
        "def _test_fn(X, y, batch_size):\n",
        "    def _test():\n",
        "        \"\"\"An input function for training\"\"\"\n",
        "        # Convert the inputs to a Dataset.\n",
        "        X_32 = tf.cast(X, tf.float32)\n",
        "        y_32 = tf.cast(y, tf.float32)\n",
        "        inputs = tf.concat(X_32, axis=1)\n",
        "        label = tf.concat(y_32, axis=1)\n",
        "        \n",
        "        features, labels = {TIMESERIES_COL: inputs}, label\n",
        "        \n",
        "        return features, labels\n",
        "        \n",
        "        dataset = tf.data.Dataset.from_tensor_slices(features, labels)\n",
        "        # Shuffle, repeat, and batch the examples.\n",
        "        dataset = dataset.repeat(1).batch(batch_size)\n",
        "        # This will now return batches of features, label\n",
        "        return dataset.make_one_shot_iterator().get_next()\n",
        "    return _test  \n",
        "  \n",
        "\n",
        " \n"
      ],
      "execution_count": 0,
      "outputs": []
    },
    {
      "cell_type": "markdown",
      "metadata": {
        "id": "ovYAxd_W4zc7",
        "colab_type": "text"
      },
      "source": [
        "<h3> Creating Experiment Function and running model </h3>"
      ]
    },
    {
      "cell_type": "code",
      "metadata": {
        "id": "CByxDadW49FB",
        "colab_type": "code",
        "colab": {}
      },
      "source": [
        "def _predict_fn(X) :\n",
        "    def _predict():\n",
        "        \"\"\"An input function for training\"\"\"\n",
        "        # Convert the inputs to a Dataset.\n",
        "        X_32 = tf.cast(X, tf.float32)\n",
        "        inputs = tf.concat(X_32, axis=1)\n",
        "        features = {TIMESERIES_COL: inputs}\n",
        "        return features\n",
        "    return _predict\n",
        "\n",
        "\n",
        "\n",
        "\n",
        "def experiment_fn(output_dir, X, y, x_tst, y_tst):\n",
        "    # run experiment\n",
        "    train_spec = tf.estimator.TrainSpec(\n",
        "          input_fn=_train_fn(X, y, BATCH_SIZE), max_steps=1500)\n",
        "    exporter = tf.estimator.FinalExporter('timeseries',\n",
        "    serving_input_receiver_fn)\n",
        "    eval_spec = tf.estimator.EvalSpec(\n",
        "            input_fn=_test_fn(x_tst, y_tst, BATCH_SIZE),\n",
        "            exporters=[exporter])\n",
        "    \n",
        "    estimator = tf.estimator.Estimator(model_fn=simple_rnn, model_dir=output_dir)\n",
        "\n",
        "    tf.estimator.train_and_evaluate(estimator, train_spec, eval_spec)\n",
        "    return estimator\n",
        "\n",
        "\n",
        "def run_model(end_date, symbol='XOM'):  \n",
        "  print('Attempting to generate learning model for {}, using end_date={}'.format(symbol, end_date))\n",
        "  tf.logging.set_verbosity(tf.logging.INFO)    \n",
        "  output_dir = ROOT_DIR.format(datetime.utcnow().strftime('%Y%m%d%H%M%S'))  \n",
        "  X_train, y_train, X_test, y_test = create_train_and_test(end_date, symbol=symbol)\n",
        "  estimator = experiment_fn(output_dir, X_train, y_train, X_test, y_test)\n",
        "  print('Xtrain is:{} and of shape:{}', type(X_train), X_train.shape)\n",
        "  return estimator\n"
      ],
      "execution_count": 0,
      "outputs": []
    },
    {
      "cell_type": "markdown",
      "metadata": {
        "id": "kMzyPr_u4_At",
        "colab_type": "text"
      },
      "source": [
        "<h3> SETTING STARTDATE, ENDDATE AND TICKER </h3>"
      ]
    },
    {
      "cell_type": "code",
      "metadata": {
        "id": "n3zgbsMrCbgP",
        "colab_type": "code",
        "colab": {}
      },
      "source": [
        "SYMBOL =  'RUSL'#'DIS'#'XOM'\n",
        "END_DATE= date.today()\n",
        "START_DATE = END_DATE - BDay(N_INPUTS) # This will be used for predicting future prices. end date will be 15 days ago, start_date 280 days earlier\n"
      ],
      "execution_count": 0,
      "outputs": []
    },
    {
      "cell_type": "markdown",
      "metadata": {
        "id": "augTdn3oqsK8",
        "colab_type": "text"
      },
      "source": [
        "<h3> Now running model </h3>"
      ]
    },
    {
      "cell_type": "code",
      "metadata": {
        "id": "LEMTgvKICpoc",
        "colab_type": "code",
        "colab": {}
      },
      "source": [
        "def train_estimator(symbol):\n",
        "  print('===================== CONFIGURATION FOR {}======================'.format(symbol))\n",
        "  print('STARTDATE={}'.format(START_DATE))\n",
        "  print('ENDDATE={}'.format(END_DATE))\n",
        "  print('SYMBOL={}'.format(SYMBOL))\n",
        "  print('=== TRAINING MODEL ON PAST 280 DAYS from {}'.format(START_DATE))\n",
        "  estimator = run_model(START_DATE, symbol=symbol)\n",
        "  return estimator\n"
      ],
      "execution_count": 0,
      "outputs": []
    },
    {
      "cell_type": "markdown",
      "metadata": {
        "id": "8bSKL1hdpyVD",
        "colab_type": "text"
      },
      "source": [
        "<h3> Now, after training,  Let's do some predictions for future </h3>"
      ]
    },
    {
      "cell_type": "code",
      "metadata": {
        "id": "uQkN-vTbp6E9",
        "colab_type": "code",
        "colab": {}
      },
      "source": [
        "from datetime import date\n",
        "from pprint import pprint\n",
        "# going back to last month\n",
        "tf.logging.set_verbosity(tf.logging.INFO)    \n",
        "\n",
        "def get_last_20_days(symbol):\n",
        "\n",
        "  def get_prices2(startdate=None, enddate=None, symbol=''):\n",
        "    import pandas_datareader as pdr\n",
        "    from datetime import date, timedelta\n",
        "    print ('--Start:{%s}, end:{%s}', startdate, enddate)\n",
        "\n",
        "    if not startdate and not enddate:\n",
        "      last_check = date.today() - BDay(SEQ_LEN * 2) \n",
        "      enddate = last_check\n",
        "      startdate = last_check - BDay(122)#timedelta(days=120)\n",
        "    return pdr.get_data_yahoo(symbol, startdate, enddate)[['Close']]\n",
        "\n",
        "\n",
        "  print('==== GETTING MOST RECENT PRICES======')\n",
        "  stock_data = get_prices2(START_DATE- BDay(1), END_DATE, symbol=SYMBOL)\n",
        "  percentage_changes = stock_data.pct_change().fillna(0)\n",
        "  #First Price\n",
        "  first_price = stock_data.values[0]\n",
        "  print('==============First ever price of the series of shape {} is {}'.format(stock_data.shape, first_price ))\n",
        "  #print(stock_data.head(30))\n",
        "  #print('=========== PERCENTAGE CHANGES ===========')\n",
        "  #print(percentage_changes.head(30))\n",
        "  prices = np.stack(percentage_changes['Close'])\n",
        "  #prices = np.stack(stock_data['Close'])\n",
        "  print('===== PRICES ARE===')\n",
        "  pprint(prices)\n",
        "  return prices, first_price\n",
        "\n",
        "\n"
      ],
      "execution_count": 0,
      "outputs": []
    },
    {
      "cell_type": "markdown",
      "metadata": {
        "id": "gQiIzVoFEa6u",
        "colab_type": "text"
      },
      "source": [
        "<h3> Now recalculating price percentages to predict </h3>"
      ]
    },
    {
      "cell_type": "code",
      "metadata": {
        "id": "RzaOht5kERuR",
        "colab_type": "code",
        "colab": {}
      },
      "source": [
        "def make_predictions(prices, estimator, ITERATIONS=3):\n",
        "\n",
        "  print ('Prices is of shape:{}', prices.shape)\n",
        "  prices = prices.reshape(-1,N_INPUTS) if prices.shape[0] % 15 == 0 else prices[-15:].reshape(-1,N_INPUTS)\n",
        "  print ('Reshaped Prices is of shape:{}', prices.shape)\n",
        "  print ('-------- PREDICTING -------')\n",
        "  print (type(prices))\n",
        "  acc = []\n",
        "  acc += prices[0].tolist()\n",
        "  for i in range(0,ITERATIONS):\n",
        "    # Given last 15 days, predict the next 5\n",
        "    candidate = np.array(acc[-15:]).reshape(-1,15)  # this is the Train #\n",
        "    pred = estimator.predict(input_fn = _predict_fn(candidate))\n",
        "    item = next(pred)\n",
        "    vals = item['predicted'] # this is the predicted\n",
        "    # Next 5 predicted. Now,  we need to retrain the model to add the 5 predicted\n",
        "    # Then, as test data, pick the previous 15 and then predict the next one\n",
        "\n",
        "    \"\"\"\n",
        "    ATTEMPT TO RETRAIN THE MODEL..\n",
        "      print(\"====== Now adding prediction to current train....\")\n",
        "      print(\"Xtrain of type:{}, candidate of type:{}\".format(type(X_train), type(candidate)))\n",
        "      print(\"SHapes.Train:{}, Candidate:{}\".format(X_train.shape, candidate.shape))\n",
        "      #X_train = np.vstack([X_train , candidate])\n",
        "      #y_train = np.vstack([y_train , vals])\n",
        "      # So Now we have to \n",
        "      # 1. retrain the model\n",
        "      # 2. get the most recent 15 days to \n",
        "\n",
        "    \"\"\"\n",
        "    print ('Round {} Prediction: on {}={}'.format(i, candidate, vals))\n",
        "    print ('{}={}'.format(type(vals), vals.tolist()))\n",
        "    acc += vals.tolist()\n",
        "  return acc\n",
        "\n"
      ],
      "execution_count": 0,
      "outputs": []
    },
    {
      "cell_type": "markdown",
      "metadata": {
        "id": "Zxm7H9jzsEGL",
        "colab_type": "text"
      },
      "source": [
        "<h3> Now visualizing price predictions against date time </h3>"
      ]
    },
    {
      "cell_type": "code",
      "metadata": {
        "id": "e8SxyWVIxS3L",
        "colab_type": "code",
        "outputId": "9053c1e7-76ca-43de-d711-0812b2ba9fba",
        "colab": {
          "base_uri": "https://localhost:8080/",
          "height": 1000
        }
      },
      "source": [
        "def calculate_list_of_prices(idx, first_price, zipped, accumulator):\n",
        "  if idx ==0:\n",
        "    ts = zipped[idx][1]\n",
        "    change = zipped[idx][0]\n",
        "    price = first_price * (1 + change)\n",
        "    accumulator.append((ts, change, price))\n",
        "    return calculate_list_of_prices(idx + 1, first_price, zipped, accumulator)\n",
        "  elif idx < len(zipped):\n",
        "    ts = zipped[idx][1]\n",
        "    _, _, last_price = accumulator[-1]\n",
        "    change =zipped[idx][0]\n",
        "    accumulator.append((ts, change,last_price * (1 + change))) \n",
        "    return calculate_list_of_prices(idx + 1, first_price, zipped, accumulator)\n",
        "  else:\n",
        "    return accumulator\n",
        "  \n",
        "\n",
        "def generate_results(acc, first_price):\n",
        "  print('-------------- END OF STORY.Computing increase from {}'.format(first_price))\n",
        "  from pprint import pprint\n",
        "  future_days = len(acc) - 15\n",
        "  pprint('Accumlator has length:{}'.format(len(acc)))\n",
        "  pprint('We have prediction for the next:{} days'.format(future_days))\n",
        "  print(\"calculating business days to zip \")\n",
        "  # we got start date, todays - 15\n",
        "  # end date is  today + \n",
        "  dts = [START_DATE + BDay(offset) for offset in range(0, len(acc))]\n",
        "  print('Start Date:{}={}'.format(dts[0], START_DATE))\n",
        "  print('End date:{}'.format(dts[-1]))\n",
        "  zipped = [tpl for tpl in zip(acc, dts)]\n",
        "       \n",
        "  print('===== FULL PREDICTIONS======')\n",
        "  #print(zipped)\n",
        "  from functools import reduce\n",
        "  final_predictions  = acc\n",
        "  #pprint(final_predictions)\n",
        "  # Then find the end price by using reduce and entering the first price \n",
        "  res = reduce(lambda acc,x: acc * (1+x) ,  final_predictions, first_price)\n",
        "  print('Final Price for series{} = {}'.format(zipped[-1], res))\n",
        "  \n",
        "  final_prices = calculate_list_of_prices(0, first_price, zipped, [])\n",
        "  print('Final list of prices...')\n",
        "  #print(final_prices)\n",
        "  return res, final_prices\n",
        "\n",
        "estimator = train_estimator(SYMBOL)\n",
        "latest_prices, first_price = get_last_20_days(SYMBOL)\n",
        "# Reshaping data\n",
        "acc = make_predictions(latest_prices, estimator)\n",
        "res, final_prices = generate_results(acc, first_price)\n",
        "pprint(final_prices)\n",
        "\n"
      ],
      "execution_count": 26,
      "outputs": [
        {
          "output_type": "stream",
          "text": [
            "===================== CONFIGURATION FOR RUSL======================\n",
            "STARTDATE=2019-06-28 00:00:00\n",
            "ENDDATE=2019-07-19\n",
            "SYMBOL=RUSL\n",
            "=== TRAINING MODEL ON PAST 280 DAYS from 2019-06-28 00:00:00\n",
            "Attempting to generate learning model for RUSL, using end_date=2019-06-28 00:00:00\n",
            "==== CREATING TIMESERIES GOING BACK 280 DAYS FROM  2019-06-28 00:00:00\n",
            "--Start:{%s}, end:{%s} 2018-02-09 00:00:00 2019-06-28 00:00:00\n"
          ],
          "name": "stdout"
        },
        {
          "output_type": "stream",
          "text": [
            "I0719 21:16:09.045658 139971056322432 estimator.py:1790] Using default config.\n",
            "I0719 21:16:09.047338 139971056322432 estimator.py:209] Using config: {'_model_dir': '/home/mmistroni/tf_logs/rnn-run-20190719211608', '_tf_random_seed': None, '_save_summary_steps': 100, '_save_checkpoints_steps': None, '_save_checkpoints_secs': 600, '_session_config': allow_soft_placement: true\n",
            "graph_options {\n",
            "  rewrite_options {\n",
            "    meta_optimizer_iterations: ONE\n",
            "  }\n",
            "}\n",
            ", '_keep_checkpoint_max': 5, '_keep_checkpoint_every_n_hours': 10000, '_log_step_count_steps': 100, '_train_distribute': None, '_device_fn': None, '_protocol': None, '_eval_distribute': None, '_experimental_distribute': None, '_experimental_max_worker_delay_secs': None, '_service': None, '_cluster_spec': <tensorflow.python.training.server_lib.ClusterSpec object at 0x7f4d3fcf1710>, '_task_type': 'worker', '_task_id': 0, '_global_id_in_cluster': 0, '_master': '', '_evaluation_master': '', '_is_chief': True, '_num_ps_replicas': 0, '_num_worker_replicas': 1}\n",
            "W0719 21:16:09.049950 139971056322432 model_fn.py:630] Estimator's model_fn (<function simple_rnn at 0x7f4d466692f0>) includes params argument, but params are not passed to Estimator.\n",
            "I0719 21:16:09.051130 139971056322432 estimator_training.py:186] Not using Distribute Coordinator.\n",
            "I0719 21:16:09.052050 139971056322432 training.py:612] Running training and evaluation locally (non-distributed).\n",
            "I0719 21:16:09.052997 139971056322432 training.py:700] Start train and evaluate loop. The evaluate will happen after every checkpoint. Checkpoint frequency is determined based on RunConfig arguments: save_checkpoints_steps None or save_checkpoints_secs 600.\n",
            "I0719 21:16:09.075878 139971056322432 estimator.py:1145] Calling model_fn.\n"
          ],
          "name": "stderr"
        },
        {
          "output_type": "stream",
          "text": [
            "Len of input dat ais {} 348\n",
            "All data shape is(17, 20) and type <class 'numpy.ndarray'>\n",
            "X is fo type <class 'numpy.float64'>, y  of type <class 'numpy.ndarray'>\n",
            "X.shape is (17, 15), y shap is (17, 5)\n",
            "IN Features are:{'rawdata': <tf.Tensor 'concat:0' shape=(15, 15) dtype=float32>}\n"
          ],
          "name": "stdout"
        },
        {
          "output_type": "stream",
          "text": [
            "I0719 21:16:10.286213 139971056322432 estimator.py:1147] Done calling model_fn.\n",
            "I0719 21:16:10.289505 139971056322432 basic_session_run_hooks.py:541] Create CheckpointSaverHook.\n",
            "I0719 21:16:10.573066 139971056322432 monitored_session.py:240] Graph was finalized.\n",
            "I0719 21:16:10.667391 139971056322432 session_manager.py:500] Running local_init_op.\n",
            "I0719 21:16:10.693603 139971056322432 session_manager.py:502] Done running local_init_op.\n",
            "I0719 21:16:11.291797 139971056322432 basic_session_run_hooks.py:606] Saving checkpoints for 0 into /home/mmistroni/tf_logs/rnn-run-20190719211608/model.ckpt.\n",
            "I0719 21:16:11.817113 139971056322432 basic_session_run_hooks.py:262] loss = 0.13349324, step = 1\n",
            "I0719 21:16:12.322520 139971056322432 basic_session_run_hooks.py:692] global_step/sec: 197.696\n",
            "I0719 21:16:12.324241 139971056322432 basic_session_run_hooks.py:260] loss = 0.0037074257, step = 101 (0.507 sec)\n",
            "I0719 21:16:12.474765 139971056322432 basic_session_run_hooks.py:692] global_step/sec: 656.844\n",
            "I0719 21:16:12.476688 139971056322432 basic_session_run_hooks.py:260] loss = 0.002651647, step = 201 (0.152 sec)\n",
            "I0719 21:16:12.623671 139971056322432 basic_session_run_hooks.py:692] global_step/sec: 671.516\n",
            "I0719 21:16:12.627801 139971056322432 basic_session_run_hooks.py:260] loss = 0.0024811826, step = 301 (0.151 sec)\n",
            "I0719 21:16:12.779134 139971056322432 basic_session_run_hooks.py:692] global_step/sec: 643.32\n",
            "I0719 21:16:12.781101 139971056322432 basic_session_run_hooks.py:260] loss = 0.0024375755, step = 401 (0.153 sec)\n",
            "I0719 21:16:13.679898 139971056322432 basic_session_run_hooks.py:692] global_step/sec: 111.015\n",
            "I0719 21:16:13.681430 139971056322432 basic_session_run_hooks.py:260] loss = 0.0024249863, step = 501 (0.900 sec)\n",
            "I0719 21:16:13.854842 139971056322432 basic_session_run_hooks.py:692] global_step/sec: 571.489\n",
            "I0719 21:16:13.856280 139971056322432 basic_session_run_hooks.py:260] loss = 0.0024209935, step = 601 (0.175 sec)\n",
            "I0719 21:16:14.008751 139971056322432 basic_session_run_hooks.py:692] global_step/sec: 649.85\n",
            "I0719 21:16:14.010132 139971056322432 basic_session_run_hooks.py:260] loss = 0.0024196112, step = 701 (0.154 sec)\n",
            "I0719 21:16:14.155782 139971056322432 basic_session_run_hooks.py:692] global_step/sec: 680.136\n",
            "I0719 21:16:14.157375 139971056322432 basic_session_run_hooks.py:260] loss = 0.0024190778, step = 801 (0.147 sec)\n",
            "I0719 21:16:14.306805 139971056322432 basic_session_run_hooks.py:692] global_step/sec: 662.138\n",
            "I0719 21:16:14.308223 139971056322432 basic_session_run_hooks.py:260] loss = 0.00241883, step = 901 (0.151 sec)\n",
            "I0719 21:16:14.459089 139971056322432 basic_session_run_hooks.py:692] global_step/sec: 656.575\n",
            "I0719 21:16:14.460453 139971056322432 basic_session_run_hooks.py:260] loss = 0.0024186831, step = 1001 (0.152 sec)\n",
            "I0719 21:16:14.612447 139971056322432 basic_session_run_hooks.py:692] global_step/sec: 652.115\n",
            "I0719 21:16:14.613848 139971056322432 basic_session_run_hooks.py:260] loss = 0.0024185712, step = 1101 (0.153 sec)\n",
            "I0719 21:16:14.766038 139971056322432 basic_session_run_hooks.py:692] global_step/sec: 651.025\n",
            "I0719 21:16:14.767362 139971056322432 basic_session_run_hooks.py:260] loss = 0.0024184727, step = 1201 (0.154 sec)\n",
            "I0719 21:16:14.916130 139971056322432 basic_session_run_hooks.py:692] global_step/sec: 666.32\n",
            "I0719 21:16:14.917681 139971056322432 basic_session_run_hooks.py:260] loss = 0.0024183772, step = 1301 (0.150 sec)\n",
            "I0719 21:16:15.073823 139971056322432 basic_session_run_hooks.py:692] global_step/sec: 634.278\n",
            "I0719 21:16:15.077893 139971056322432 basic_session_run_hooks.py:260] loss = 0.0024182836, step = 1401 (0.160 sec)\n",
            "I0719 21:16:15.230746 139971056322432 basic_session_run_hooks.py:606] Saving checkpoints for 1500 into /home/mmistroni/tf_logs/rnn-run-20190719211608/model.ckpt.\n",
            "I0719 21:16:15.364072 139971056322432 estimator.py:1145] Calling model_fn.\n"
          ],
          "name": "stderr"
        },
        {
          "output_type": "stream",
          "text": [
            "IN Features are:{'rawdata': <tf.Tensor 'concat:0' shape=(2, 15) dtype=float32>}\n"
          ],
          "name": "stdout"
        },
        {
          "output_type": "stream",
          "text": [
            "I0719 21:16:16.543496 139971056322432 estimator.py:1147] Done calling model_fn.\n",
            "I0719 21:16:16.571597 139971056322432 evaluation.py:255] Starting evaluation at 2019-07-19T21:16:16Z\n",
            "I0719 21:16:16.662376 139971056322432 monitored_session.py:240] Graph was finalized.\n",
            "I0719 21:16:16.668811 139971056322432 saver.py:1280] Restoring parameters from /home/mmistroni/tf_logs/rnn-run-20190719211608/model.ckpt-1500\n",
            "I0719 21:16:16.767134 139971056322432 session_manager.py:500] Running local_init_op.\n",
            "I0719 21:16:16.797009 139971056322432 session_manager.py:502] Done running local_init_op.\n",
            "I0719 21:16:16.925762 139971056322432 evaluation.py:167] Evaluation [10/100]\n",
            "I0719 21:16:16.938784 139971056322432 evaluation.py:167] Evaluation [20/100]\n",
            "I0719 21:16:16.950623 139971056322432 evaluation.py:167] Evaluation [30/100]\n",
            "I0719 21:16:16.965388 139971056322432 evaluation.py:167] Evaluation [40/100]\n",
            "I0719 21:16:16.979078 139971056322432 evaluation.py:167] Evaluation [50/100]\n",
            "I0719 21:16:16.991925 139971056322432 evaluation.py:167] Evaluation [60/100]\n",
            "I0719 21:16:17.006259 139971056322432 evaluation.py:167] Evaluation [70/100]\n",
            "I0719 21:16:17.023199 139971056322432 evaluation.py:167] Evaluation [80/100]\n",
            "I0719 21:16:17.036033 139971056322432 evaluation.py:167] Evaluation [90/100]\n",
            "I0719 21:16:17.047822 139971056322432 evaluation.py:167] Evaluation [100/100]\n",
            "I0719 21:16:17.085099 139971056322432 evaluation.py:275] Finished evaluation at 2019-07-19-21:16:17\n",
            "I0719 21:16:17.086365 139971056322432 estimator.py:2039] Saving dict for global step 1500: global_step = 1500, loss = 0.0024232827, rmse = 0.049226813\n",
            "I0719 21:16:17.305716 139971056322432 estimator.py:2099] Saving 'checkpoint_path' summary for global step 1500: /home/mmistroni/tf_logs/rnn-run-20190719211608/model.ckpt-1500\n",
            "I0719 21:16:17.307338 139971056322432 exporter.py:410] Performing the final export in the end of training.\n",
            "I0719 21:16:17.320852 139971056322432 estimator.py:1145] Calling model_fn.\n"
          ],
          "name": "stderr"
        },
        {
          "output_type": "stream",
          "text": [
            "serving: features=Tensor(\"timeseries:0\", shape=(?, 15), dtype=float32)\n",
            "IN Features are:{'rawdata': <tf.Tensor 'timeseries:0' shape=(?, 15) dtype=float32>}\n"
          ],
          "name": "stdout"
        },
        {
          "output_type": "stream",
          "text": [
            "I0719 21:16:17.592361 139971056322432 estimator.py:1147] Done calling model_fn.\n",
            "I0719 21:16:17.594088 139971056322432 export_utils.py:170] Signatures INCLUDED in export for Classify: None\n",
            "I0719 21:16:17.595293 139971056322432 export_utils.py:170] Signatures INCLUDED in export for Regress: None\n",
            "I0719 21:16:17.596258 139971056322432 export_utils.py:170] Signatures INCLUDED in export for Predict: ['predicted', 'serving_default']\n",
            "I0719 21:16:17.597286 139971056322432 export_utils.py:170] Signatures INCLUDED in export for Train: None\n",
            "I0719 21:16:17.598137 139971056322432 export_utils.py:170] Signatures INCLUDED in export for Eval: None\n",
            "I0719 21:16:17.631609 139971056322432 saver.py:1280] Restoring parameters from /home/mmistroni/tf_logs/rnn-run-20190719211608/model.ckpt-1500\n",
            "I0719 21:16:17.650949 139971056322432 builder_impl.py:661] Assets added to graph.\n",
            "I0719 21:16:17.651961 139971056322432 builder_impl.py:456] No assets to write.\n",
            "I0719 21:16:17.705056 139971056322432 builder_impl.py:421] SavedModel written to: /home/mmistroni/tf_logs/rnn-run-20190719211608/export/timeseries/temp-b'1563570977'/saved_model.pb\n",
            "I0719 21:16:17.730268 139971056322432 estimator.py:368] Loss for final step: 0.002418192.\n"
          ],
          "name": "stderr"
        },
        {
          "output_type": "stream",
          "text": [
            "Xtrain is:{} and of shape:{} <class 'numpy.ndarray'> (15, 15)\n",
            "==== GETTING MOST RECENT PRICES======\n",
            "--Start:{%s}, end:{%s} 2019-06-27 00:00:00 2019-07-19\n"
          ],
          "name": "stdout"
        },
        {
          "output_type": "stream",
          "text": [
            "W0719 21:16:18.082879 139971056322432 estimator.py:1000] Input graph does not use tf.data.Dataset or contain a QueueRunner. That means predict yields forever. This is probably a mistake.\n",
            "I0719 21:16:18.084022 139971056322432 estimator.py:1145] Calling model_fn.\n"
          ],
          "name": "stderr"
        },
        {
          "output_type": "stream",
          "text": [
            "==============First ever price of the series of shape (16, 1) is [55.18999863]\n",
            "===== PRICES ARE===\n",
            "array([ 0.        , -0.02319259,  0.03005006, -0.01116512,  0.01784738,\n",
            "       -0.01001964,  0.01572382, -0.02206409,  0.0389374 , -0.02171625,\n",
            "       -0.00733978, -0.00108208, -0.01733163, -0.00771637,  0.02129238,\n",
            "       -0.02628718])\n",
            "Prices is of shape:{} (16,)\n",
            "Reshaped Prices is of shape:{} (1, 15)\n",
            "-------- PREDICTING -------\n",
            "<class 'numpy.ndarray'>\n",
            "IN Features are:{'rawdata': <tf.Tensor 'concat:0' shape=(1, 15) dtype=float32>}\n"
          ],
          "name": "stdout"
        },
        {
          "output_type": "stream",
          "text": [
            "I0719 21:16:18.327457 139971056322432 estimator.py:1147] Done calling model_fn.\n",
            "I0719 21:16:18.402394 139971056322432 monitored_session.py:240] Graph was finalized.\n",
            "I0719 21:16:18.408044 139971056322432 saver.py:1280] Restoring parameters from /home/mmistroni/tf_logs/rnn-run-20190719211608/model.ckpt-1500\n",
            "I0719 21:16:18.443943 139971056322432 session_manager.py:500] Running local_init_op.\n",
            "I0719 21:16:18.451847 139971056322432 session_manager.py:502] Done running local_init_op.\n",
            "W0719 21:16:18.527680 139971056322432 estimator.py:1000] Input graph does not use tf.data.Dataset or contain a QueueRunner. That means predict yields forever. This is probably a mistake.\n",
            "I0719 21:16:18.529512 139971056322432 estimator.py:1145] Calling model_fn.\n"
          ],
          "name": "stderr"
        },
        {
          "output_type": "stream",
          "text": [
            "Round 0 Prediction: on [[-0.02319259  0.03005006 -0.01116512  0.01784738 -0.01001964  0.01572382\n",
            "  -0.02206409  0.0389374  -0.02171625 -0.00733978 -0.00108208 -0.01733163\n",
            "  -0.00771637  0.02129238 -0.02628718]]=[-0.0064723   0.01449966  0.00482178 -0.01263653 -0.01288748]\n",
            "<class 'numpy.ndarray'>=[-0.006472304463386536, 0.014499664306640625, 0.00482177734375, -0.012636534869670868, -0.01288747787475586]\n",
            "IN Features are:{'rawdata': <tf.Tensor 'concat:0' shape=(1, 15) dtype=float32>}\n"
          ],
          "name": "stdout"
        },
        {
          "output_type": "stream",
          "text": [
            "I0719 21:16:18.777305 139971056322432 estimator.py:1147] Done calling model_fn.\n",
            "I0719 21:16:18.851520 139971056322432 monitored_session.py:240] Graph was finalized.\n",
            "I0719 21:16:18.858831 139971056322432 saver.py:1280] Restoring parameters from /home/mmistroni/tf_logs/rnn-run-20190719211608/model.ckpt-1500\n",
            "I0719 21:16:18.895515 139971056322432 session_manager.py:500] Running local_init_op.\n",
            "I0719 21:16:18.903935 139971056322432 session_manager.py:502] Done running local_init_op.\n",
            "W0719 21:16:18.979166 139971056322432 estimator.py:1000] Input graph does not use tf.data.Dataset or contain a QueueRunner. That means predict yields forever. This is probably a mistake.\n",
            "I0719 21:16:18.980515 139971056322432 estimator.py:1145] Calling model_fn.\n"
          ],
          "name": "stderr"
        },
        {
          "output_type": "stream",
          "text": [
            "Round 1 Prediction: on [[ 0.01572382 -0.02206409  0.0389374  -0.02171625 -0.00733978 -0.00108208\n",
            "  -0.01733163 -0.00771637  0.02129238 -0.02628718 -0.0064723   0.01449966\n",
            "   0.00482178 -0.01263653 -0.01288748]]=[-0.00559005  0.01353967  0.00480404 -0.01116707 -0.01302947]\n",
            "<class 'numpy.ndarray'>=[-0.0055900514125823975, 0.013539671897888184, 0.004804044961929321, -0.011167071759700775, -0.013029471039772034]\n",
            "IN Features are:{'rawdata': <tf.Tensor 'concat:0' shape=(1, 15) dtype=float32>}\n"
          ],
          "name": "stdout"
        },
        {
          "output_type": "stream",
          "text": [
            "I0719 21:16:19.482737 139971056322432 estimator.py:1147] Done calling model_fn.\n",
            "I0719 21:16:19.559020 139971056322432 monitored_session.py:240] Graph was finalized.\n",
            "I0719 21:16:19.564591 139971056322432 saver.py:1280] Restoring parameters from /home/mmistroni/tf_logs/rnn-run-20190719211608/model.ckpt-1500\n",
            "I0719 21:16:19.599308 139971056322432 session_manager.py:500] Running local_init_op.\n",
            "I0719 21:16:19.609147 139971056322432 session_manager.py:502] Done running local_init_op.\n"
          ],
          "name": "stderr"
        },
        {
          "output_type": "stream",
          "text": [
            "Round 2 Prediction: on [[-0.00108208 -0.01733163 -0.00771637  0.02129238 -0.02628718 -0.0064723\n",
            "   0.01449966  0.00482178 -0.01263653 -0.01288748 -0.00559005  0.01353967\n",
            "   0.00480404 -0.01116707 -0.01302947]]=[-0.00548412  0.01346993  0.00470009 -0.01093069 -0.01305151]\n",
            "<class 'numpy.ndarray'>=[-0.0054841190576553345, 0.013469934463500977, 0.00470009446144104, -0.01093069463968277, -0.013051509857177734]\n",
            "-------------- END OF STORY.Computing increase from [55.18999863]\n",
            "'Accumlator has length:30'\n",
            "'We have prediction for the next:15 days'\n",
            "calculating business days to zip \n",
            "Start Date:2019-06-28 00:00:00=2019-06-28 00:00:00\n",
            "End date:2019-08-08 00:00:00\n",
            "===== FULL PREDICTIONS======\n",
            "Final Price for series(-0.013051509857177734, Timestamp('2019-08-08 00:00:00')) = [51.79820652]\n",
            "Final list of prices...\n",
            "[(Timestamp('2019-06-28 00:00:00'),\n",
            "  -0.023192585815311584,\n",
            "  array([53.90999985])),\n",
            " (Timestamp('2019-07-01 00:00:00'), 0.030050063744575084, array([55.52999878])),\n",
            " (Timestamp('2019-07-02 00:00:00'),\n",
            "  -0.011165116973060663,\n",
            "  array([54.90999985])),\n",
            " (Timestamp('2019-07-03 00:00:00'), 0.017847378345649645, array([55.88999939])),\n",
            " (Timestamp('2019-07-04 00:00:00'),\n",
            "  -0.010019637944341575,\n",
            "  array([55.33000183])),\n",
            " (Timestamp('2019-07-05 00:00:00'), 0.015723818960664993, array([56.20000076])),\n",
            " (Timestamp('2019-07-08 00:00:00'),\n",
            "  -0.022064086505929392,\n",
            "  array([54.95999908])),\n",
            " (Timestamp('2019-07-09 00:00:00'), 0.03893739856798928, array([57.09999847])),\n",
            " (Timestamp('2019-07-10 00:00:00'), -0.021716250383641, array([55.86000061])),\n",
            " (Timestamp('2019-07-11 00:00:00'),\n",
            "  -0.007339775204659227,\n",
            "  array([55.45000076])),\n",
            " (Timestamp('2019-07-12 00:00:00'),\n",
            "  -0.0010820806576276043,\n",
            "  array([55.38999939])),\n",
            " (Timestamp('2019-07-15 00:00:00'),\n",
            "  -0.017331631974201955,\n",
            "  array([54.43000031])),\n",
            " (Timestamp('2019-07-16 00:00:00'),\n",
            "  -0.007716369305304616,\n",
            "  array([54.00999832])),\n",
            " (Timestamp('2019-07-17 00:00:00'), 0.021292382181400837, array([55.15999985])),\n",
            " (Timestamp('2019-07-18 00:00:00'),\n",
            "  -0.026287178516145038,\n",
            "  array([53.70999908])),\n",
            " (Timestamp('2019-07-19 00:00:00'),\n",
            "  -0.006472304463386536,\n",
            "  array([53.36237162])),\n",
            " (Timestamp('2019-07-22 00:00:00'), 0.014499664306640625, array([54.13610809])),\n",
            " (Timestamp('2019-07-23 00:00:00'), 0.00482177734375, array([54.39714035])),\n",
            " (Timestamp('2019-07-24 00:00:00'),\n",
            "  -0.012636534869670868,\n",
            "  array([53.70974899])),\n",
            " (Timestamp('2019-07-25 00:00:00'), -0.01288747787475586, array([53.01756579])),\n",
            " (Timestamp('2019-07-26 00:00:00'),\n",
            "  -0.0055900514125823975,\n",
            "  array([52.72119487])),\n",
            " (Timestamp('2019-07-29 00:00:00'), 0.013539671897888184, array([53.43502255])),\n",
            " (Timestamp('2019-07-30 00:00:00'), 0.004804044961929321, array([53.6917268])),\n",
            " (Timestamp('2019-07-31 00:00:00'),\n",
            "  -0.011167071759700775,\n",
            "  array([53.09214744])),\n",
            " (Timestamp('2019-08-01 00:00:00'),\n",
            "  -0.013029471039772034,\n",
            "  array([52.40038484])),\n",
            " (Timestamp('2019-08-02 00:00:00'),\n",
            "  -0.0054841190576553345,\n",
            "  array([52.11301489])),\n",
            " (Timestamp('2019-08-05 00:00:00'), 0.013469934463500977, array([52.81497379])),\n",
            " (Timestamp('2019-08-06 00:00:00'), 0.00470009446144104, array([53.06320915])),\n",
            " (Timestamp('2019-08-07 00:00:00'), -0.01093069463968277, array([52.48319142])),\n",
            " (Timestamp('2019-08-08 00:00:00'),\n",
            "  -0.013051509857177734,\n",
            "  array([51.79820652]))]\n"
          ],
          "name": "stdout"
        }
      ]
    },
    {
      "cell_type": "code",
      "metadata": {
        "id": "h2ouepeT_28w",
        "colab_type": "code",
        "colab": {}
      },
      "source": [
        "\n"
      ],
      "execution_count": 0,
      "outputs": []
    },
    {
      "cell_type": "code",
      "metadata": {
        "id": "O7AjEH52vS-6",
        "colab_type": "code",
        "colab": {}
      },
      "source": [
        ""
      ],
      "execution_count": 0,
      "outputs": []
    }
  ]
}