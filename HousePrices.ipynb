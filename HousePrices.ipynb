{
  "nbformat": 4,
  "nbformat_minor": 0,
  "metadata": {
    "colab": {
      "name": "HousePrices.ipynb",
      "version": "0.3.2",
      "provenance": [],
      "collapsed_sections": [],
      "include_colab_link": true
    },
    "kernelspec": {
      "name": "python3",
      "display_name": "Python 3"
    }
  },
  "cells": [
    {
      "cell_type": "markdown",
      "metadata": {
        "id": "view-in-github",
        "colab_type": "text"
      },
      "source": [
        "<a href=\"https://colab.research.google.com/github/mmistroni/TensorFlowPlayground/blob/master/HousePrices.ipynb\" target=\"_parent\"><img src=\"https://colab.research.google.com/assets/colab-badge.svg\" alt=\"Open In Colab\"/></a>"
      ]
    },
    {
      "cell_type": "markdown",
      "metadata": {
        "id": "nYR-eENCoYU8",
        "colab_type": "text"
      },
      "source": [
        "<h3> Authenticate User </h3>"
      ]
    },
    {
      "cell_type": "code",
      "metadata": {
        "id": "jdMDLu0Hoaz_",
        "colab_type": "code",
        "colab": {}
      },
      "source": [
        "from google.colab import auth\n",
        "auth.authenticate_user()"
      ],
      "execution_count": 0,
      "outputs": []
    },
    {
      "cell_type": "code",
      "metadata": {
        "id": "wAlrY9fEoe5J",
        "colab_type": "code",
        "colab": {}
      },
      "source": [
        "# importing libraries\n",
        "import pandas as pd\n"
      ],
      "execution_count": 0,
      "outputs": []
    },
    {
      "cell_type": "markdown",
      "metadata": {
        "id": "SUNUTRNwoybJ",
        "colab_type": "text"
      },
      "source": [
        "<h3>FEtching data from clo9ud storage </h3>"
      ]
    },
    {
      "cell_type": "code",
      "metadata": {
        "id": "Jb2UZTzBo1ZB",
        "colab_type": "code",
        "outputId": "4548aedf-2093-4440-eaec-f98ae0f9dec2",
        "colab": {
          "base_uri": "https://localhost:8080/",
          "height": 119
        }
      },
      "source": [
        "!gsutil cp gs://mm_tensorflow_bucket/pp-2018-part2.csv\t /tmp/pp-2018-part2.csv\n",
        "!gsutil cp gs://mm_tensorflow_bucket/pp-2015-part1.csv\t /tmp/pp-2015-part1.csv\n",
        "  \n",
        "  "
      ],
      "execution_count": 23,
      "outputs": [
        {
          "output_type": "stream",
          "text": [
            "Copying gs://mm_tensorflow_bucket/pp-2018-part2.csv...\n",
            "- [1 files][ 84.7 MiB/ 84.7 MiB]                                                \n",
            "Operation completed over 1 objects/84.7 MiB.                                     \n",
            "Copying gs://mm_tensorflow_bucket/pp-2015-part1.csv...\n",
            "- [1 files][ 83.4 MiB/ 83.4 MiB]                                                \n",
            "Operation completed over 1 objects/83.4 MiB.                                     \n"
          ],
          "name": "stdout"
        }
      ]
    },
    {
      "cell_type": "markdown",
      "metadata": {
        "id": "mleNN1LHpNSX",
        "colab_type": "text"
      },
      "source": [
        "<h3> Readign the dataset from Land Registry</h3>"
      ]
    },
    {
      "cell_type": "code",
      "metadata": {
        "id": "OZrI8KUApIAf",
        "colab_type": "code",
        "colab": {}
      },
      "source": [
        "def read_land_registry_datasets(filename):\n",
        "  \n",
        "  df =  pd.read_csv(filename, names=['unique_id',\t'price_paid','deed_date','postcode',\n",
        "                                                       'property_type',\t'new_build',\t'estate_type',\t\n",
        "                                                       'saon',\t'paon',\t'street','locality',\n",
        "                                                       'town',\t'district',\t'county',\t'transaction_category','linked_data_uri']).fillna('') \n",
        "  print ('Found {} in {}'.format(df.shape[0], filename))\n",
        "  return df"
      ],
      "execution_count": 0,
      "outputs": []
    },
    {
      "cell_type": "code",
      "metadata": {
        "colab_type": "code",
        "id": "HSX1OcLWbOYS",
        "colab": {}
      },
      "source": [
        "from datetime import datetime\n",
        "def find_sales_for_postcode(postcode, filenames):\n",
        "  print('Finding sold prices for postcode:{}'.format(postcode))\n",
        "  lr_datasets = [read_land_registry_datasets(filename) for filename in filenames]\n",
        "  \n",
        "  results = []\n",
        "  for df in lr_datasets:\n",
        "    restricted = df[df['postcode'].str.contains('BN2 5')][['price_paid', 'deed_date', 'postcode', 'property_type', 'saon', 'paon', 'street']]\n",
        "    flats_only = restricted[restricted['property_type'] == 'F']\n",
        "    print('found {} flats for postcode {} '.format(flats_only.shape[0], postcode))\n",
        "    results.append(flats_only)\n",
        "    \n",
        "  all_res =  pd.concat(results)\n",
        "  print('All res has shape{}'.format(all_res.shape))\n",
        "  return all_res\n",
        "\n",
        "                                        "
      ],
      "execution_count": 0,
      "outputs": []
    },
    {
      "cell_type": "code",
      "metadata": {
        "id": "ukzRsSM4tZ9Z",
        "colab_type": "code",
        "colab": {
          "base_uri": "https://localhost:8080/",
          "height": 136
        },
        "outputId": "2c33bccb-278c-4dbf-f398-4b0003b8dda4"
      },
      "source": [
        "filenames = ['/tmp/pp-2018-part2.csv', '/tmp/pp-2015-part1.csv']\n",
        "final = find_sales_for_postcode('BN2 5', filenames)\n",
        "print('Exportign to csv...with {}'.format(final.shape))\n",
        "filename = '/tmp/Results.csv'.format(datetime.now().strftime('%Y%m%d-%H:%M'))\n",
        "final.to_csv(filename, header=True)\n"
      ],
      "execution_count": 36,
      "outputs": [
        {
          "output_type": "stream",
          "text": [
            "Finding sold prices for postcode:BN2 5\n",
            "Found 511575 in /tmp/pp-2018-part2.csv\n",
            "Found 504743 in /tmp/pp-2015-part1.csv\n",
            "found 32 flats for postcode BN2 5 \n",
            "found 50 flats for postcode BN2 5 \n",
            "All res has shape(82, 7)\n",
            "Exportign to csv...with (82, 7)\n"
          ],
          "name": "stdout"
        }
      ]
    },
    {
      "cell_type": "code",
      "metadata": {
        "id": "zI9KDp_wcmr1",
        "colab_type": "code",
        "colab": {
          "base_uri": "https://localhost:8080/",
          "height": 85
        },
        "outputId": "038268ff-e286-40d9-83fb-9a8ddc9ac834"
      },
      "source": [
        "\n",
        "print('Copying to bucket')\n",
        "!gsutil cp /tmp/Results.csv gs://mm_tensorflow_bucket/                                       \n"
      ],
      "execution_count": 37,
      "outputs": [
        {
          "output_type": "stream",
          "text": [
            "Copying to bucket\n",
            "Copying file:///tmp/Results.csv [Content-Type=text/csv]...\n",
            "/ [1 files][  5.7 KiB/  5.7 KiB]                                                \n",
            "Operation completed over 1 objects/5.7 KiB.                                      \n"
          ],
          "name": "stdout"
        }
      ]
    },
    {
      "cell_type": "code",
      "metadata": {
        "id": "YLLWEKk-pvHG",
        "colab_type": "code",
        "colab": {}
      },
      "source": [
        "# Get gsc service\n",
        "def get_gcs_service():\n",
        "  from googleapiclient.discovery import build\n",
        "  gcs_service = build('storage', 'v1')\n",
        "  return gcs_service"
      ],
      "execution_count": 0,
      "outputs": []
    },
    {
      "cell_type": "code",
      "metadata": {
        "id": "7w4OUtEUeeTL",
        "colab_type": "code",
        "colab": {
          "base_uri": "https://localhost:8080/",
          "height": 34
        },
        "outputId": "325f1f4a-1888-4827-87fb-313f05185c82"
      },
      "source": [
        "def download_from_storage(bucketname, bucketfilename, tmpfile):\n",
        "  from apiclient.http import MediaIoBaseDownload\n",
        "\n",
        "  gcs_service = get_gcs_service()\n",
        "  with open(tmpfile, 'wb') as f:\n",
        "    request = gcs_service.objects().get_media(bucket=bucketname,\n",
        "                                              object=bucketfilename)\n",
        "    media = MediaIoBaseDownload(f, request)\n",
        "\n",
        "    done = False\n",
        "    while not done:\n",
        "      # _ is a placeholder for a progress object that we ignore.\n",
        "      # (Our file is small, so we skip reporting progress.)\n",
        "      _, done = media.next_chunk()\n",
        "\n",
        "  print('Download complete')\n",
        "  \n",
        "filename = \"/tmp/frombucket.csv\"\n",
        "download_from_storage(\"mm_tensorflow_bucket\", \"Results.csv\",   filename)\n",
        "  \n",
        "  \n",
        "  "
      ],
      "execution_count": 44,
      "outputs": [
        {
          "output_type": "stream",
          "text": [
            "Download complete\n"
          ],
          "name": "stdout"
        }
      ]
    },
    {
      "cell_type": "code",
      "metadata": {
        "id": "A2DhYiqBpiUx",
        "colab_type": "code",
        "colab": {
          "base_uri": "https://localhost:8080/",
          "height": 1000
        },
        "outputId": "15e96338-a0ac-490c-a337-73da2d140338"
      },
      "source": [
        "!cat /tmp/frombucket.csv"
      ],
      "execution_count": 45,
      "outputs": [
        {
          "output_type": "stream",
          "text": [
            ",price_paid,deed_date,postcode,property_type,saon,paon,street\n",
            "6080,135000,2018-09-28 00:00,BN2 5JR,F,36B,,BRISTOL GARDENS\n",
            "8072,500000,2018-05-04 00:00,BN2 5RA,F,\"OCEAN HEIGHTS, 40\",FLAT 6,ROEDEAN ROAD\n",
            "12033,191500,2018-10-10 00:00,BN2 5UX,F,STARBOARD COURT,FLAT 22,\n",
            "16020,518000,2018-09-26 00:00,BN2 5SH,F,SOVEREIGN COURT,FLAT 39,THE STRAND\n",
            "16029,352500,2018-09-20 00:00,BN2 5XB,F,70,,VICTORY MEWS\n",
            "18019,365000,2018-08-30 00:00,BN2 5YW,F,\"ST AUGUSTINES, 14\",FLAT 8,THE LEES\n",
            "58744,512734,2018-06-12 00:00,BN2 5ZF,F,\"SIRIUS, 6\",APARTMENT 82,THE BOARDWALK\n",
            "98217,325000,2018-03-02 00:00,BN2 5XB,F,81,,VICTORY MEWS\n",
            "110882,350000,2018-01-05 00:00,BN2 5TQ,F,F16,,MARINE GATE\n",
            "123934,118000,2018-04-16 00:00,BN2 5UB,F,COURCELS,25,ARUNDEL STREET\n",
            "221213,337500,2018-08-28 00:00,BN2 5SH,F,SOVEREIGN COURT,FLAT 15,THE STRAND\n",
            "225176,500000,2018-08-15 00:00,BN2 5WE,F,WELLINGTON COURT,FLAT 8,THE STRAND\n",
            "231149,562500,2018-08-10 00:00,BN2 5SH,F,SOVEREIGN COURT,FLAT 38,THE STRAND\n",
            "241587,125000,2018-11-08 00:00,BN2 5FW,F,SWALLOW COURT,FLAT 37,ALBOURNE CLOSE\n",
            "243497,275000,2018-09-14 00:00,BN2 5JD,F,RUGBY COURT,FLAT 8,BRISTOL GARDENS\n",
            "247539,365000,2018-08-06 00:00,BN2 5JB,F,9,GROUND AND FIRST FLOOR MAISONETTE,RUGBY PLACE\n",
            "401835,500000,2018-10-25 00:00,BN2 5ZE,F,\"SIRIUS, 2\",APARTMENT 9,THE BOARDWALK\n",
            "427892,500000,2018-08-01 00:00,BN2 5ZF,F,\"SIRIUS, 6\",APARTMENT 48,THE BOARDWALK\n",
            "427893,500000,2018-08-01 00:00,BN2 5ZF,F,\"SIRIUS, 6\",APARTMENT 67,THE BOARDWALK\n",
            "427894,490000,2018-08-01 00:00,BN2 5ZF,F,\"SIRIUS, 6\",APARTMENT 77,THE BOARDWALK\n",
            "427895,500000,2018-08-01 00:00,BN2 5ZF,F,\"SIRIUS, 6\",APARTMENT 87,THE BOARDWALK\n",
            "427896,490000,2018-08-01 00:00,BN2 5ZF,F,\"SIRIUS, 6\",APARTMENT 98,THE BOARDWALK\n",
            "428612,380000,2018-12-05 00:00,BN2 5SH,F,SOVEREIGN COURT,FLAT 41,THE STRAND\n",
            "430166,500000,2018-09-18 00:00,BN2 5ZF,F,\"SIRIUS, 6\",APARTMENT 91,THE BOARDWALK\n",
            "430224,525000,2018-09-21 00:00,BN2 5ZF,F,\"SIRIUS, 6\",APARTMENT 75,THE BOARDWALK\n",
            "430225,535000,2018-08-24 00:00,BN2 5ZD,F,\"ORION, 9\",APARTMENT 1,THE BOARDWALK\n",
            "504519,511500,2018-01-22 00:00,BN2 5ZF,F,\"SIRIUS, 6\",APARTMENT 95,THE BOARDWALK\n",
            "504520,477090,2018-01-22 00:00,BN2 5ZD,F,\"ORION, 9\",APARTMENT 67,THE BOARDWALK\n",
            "504532,227500,2018-02-23 00:00,BN2 5DE,F,82,,DONALD HALL ROAD\n",
            "505083,275000,2018-12-21 00:00,BN2 5UX,F,STARBOARD COURT,FLAT 31,\n",
            "507093,400000,2018-10-10 00:00,BN2 5ZE,F,\"SIRIUS, 2\",APARTMENT 14,THE BOARDWALK\n",
            "507095,480000,2018-11-21 00:00,BN2 5ZF,F,\"SIRIUS, 6\",APARTMENT 102,THE BOARDWALK\n",
            "21581,264000,2015-01-29 00:00,BN2 5XB,F,73,,VICTORY MEWS\n",
            "22252,175000,2015-03-31 00:00,BN2 5UX,F,STARBOARD COURT,FLAT 24,\n",
            "29843,180000,2015-05-01 00:00,BN2 5NX,F,HOLBROOK,FLAT 1,FINDON ROAD\n",
            "49575,312500,2015-03-11 00:00,BN2 5XY,F,MERTON COURT,FLAT 23,THE STRAND\n",
            "79699,282000,2015-08-17 00:00,BN2 5SJ,F,SOVEREIGN COURT,FLAT 57,THE STRAND\n",
            "79714,280000,2015-09-11 00:00,BN2 5XB,F,76,,VICTORY MEWS\n",
            "81695,305000,2015-09-25 00:00,BN2 5XZ,F,MERTON COURT,FLAT 80,THE STRAND\n",
            "85719,292000,2015-06-05 00:00,BN2 5XL,F,COPENHAGEN COURT,FLAT 8,THE STRAND\n",
            "85720,240000,2015-09-22 00:00,BN2 5XL,F,COPENHAGEN COURT,FLAT 3,THE STRAND\n",
            "91736,310000,2015-09-18 00:00,BN2 5TQ,F,C16,,MARINE GATE\n",
            "93533,330000,2015-09-02 00:00,BN2 5TN,F,A5,,MARINE GATE\n",
            "95893,400000,2015-09-18 00:00,BN2 5AB,F,30,,SUSSEX SQUARE\n",
            "99877,190000,2015-09-25 00:00,BN2 5DN,F,145,,DONALD HALL ROAD\n",
            "130173,204000,2015-10-30 00:00,BN2 5UW,F,PORTSIDE,FLAT 17,\n",
            "134151,440000,2015-10-14 00:00,BN2 5WE,F,WELLINGTON COURT,FLAT 1,THE STRAND\n",
            "142442,300000,2015-12-01 00:00,BN2 5XA,F,21,,VICTORY MEWS\n",
            "162377,275000,2015-01-06 00:00,BN2 5AD,F,\"THE LEAS, 34 - 35\",FLAT 1A,SUSSEX SQUARE\n",
            "183451,399950,2015-04-24 00:00,BN2 5TP,F,H6,,MARINE GATE\n",
            "193301,451000,2015-02-19 00:00,BN2 5TN,F,F1,,MARINE GATE\n",
            "205199,310000,2015-06-30 00:00,BN2 5TP,F,A10,,MARINE GATE\n",
            "206685,280000,2015-07-15 00:00,BN2 5WJ,F,COLLINGWOOD COURT,FLAT 66,THE STRAND\n",
            "220170,255000,2015-06-23 00:00,BN2 5XJ,F,ST. VINCENTS COURT,FLAT 25,THE STRAND\n",
            "230473,260000,2015-12-04 00:00,BN2 5XJ,F,ST. VINCENTS COURT,FLAT 29,THE STRAND\n",
            "232495,205500,2015-07-06 00:00,BN2 5TH,F,31,GROUND FLOOR FLAT,ARUNDEL STREET\n",
            "236827,110000,2015-10-27 00:00,BN2 5UP,F,2,,WESTERN CONCOURSE\n",
            "240846,333000,2015-12-14 00:00,BN2 5UW,F,PORTSIDE,FLAT 11,\n",
            "242875,154000,2015-12-15 00:00,BN2 5PZ,F,KESTREL COURT,FLAT 13,SWANBOROUGH PLACE\n",
            "243040,260000,2015-07-07 00:00,BN2 5TP,F,B7,,MARINE GATE\n",
            "244000,182500,2015-09-16 00:00,BN2 5DF,F,238,,DONALD HALL ROAD\n",
            "246909,220000,2015-11-06 00:00,BN2 5XB,F,54,,VICTORY MEWS\n",
            "246931,270000,2015-12-09 00:00,BN2 5SE,F,BRITANNIA COURT,FLAT 3,THE STRAND\n",
            "248270,287000,2015-06-26 00:00,BN2 5XA,F,13,,VICTORY MEWS\n",
            "259911,195000,2015-09-04 00:00,BN2 5UW,F,PORTSIDE,FLAT 24,\n",
            "290958,389950,2015-12-16 00:00,BN2 5WE,F,WELLINGTON COURT,FLAT 15,THE STRAND\n",
            "292926,330000,2015-11-27 00:00,BN2 5AB,F,31,BASEMENT FLAT 10,SUSSEX SQUARE\n",
            "292998,250000,2015-01-14 00:00,BN2 5TP,F,G6,,MARINE GATE\n",
            "304333,152000,2015-05-05 00:00,BN2 5JR,F,38B,,BRISTOL GARDENS\n",
            "309541,305000,2015-03-02 00:00,BN2 5XZ,F,MERTON COURT,FLAT 46,THE STRAND\n",
            "365667,193000,2015-12-11 00:00,BN2 5JR,F,12,GROUND FLOOR FLAT,BRISTOL GARDENS\n",
            "382686,295000,2015-11-06 00:00,BN2 5XJ,F,ST. VINCENTS COURT,FLAT 7,THE STRAND\n",
            "382998,192000,2015-10-12 00:00,BN2 5JS,F,6A,,PRINCES TERRACE\n",
            "383021,350000,2015-10-09 00:00,BN2 5XZ,F,MERTON COURT,FLAT 48,THE STRAND\n",
            "387001,499000,2015-10-12 00:00,BN2 5XY,F,MERTON COURT,FLAT 40,THE STRAND\n",
            "393886,330000,2015-05-29 00:00,BN2 5SL,F,NEPTUNE COURT,FLAT 38,THE STRAND\n",
            "395334,155000,2015-04-17 00:00,BN2 5TG,F,9,FLAT 1,ARUNDEL STREET\n",
            "395610,223000,2015-05-29 00:00,BN2 5UX,F,STARBOARD COURT,FLAT 3,\n",
            "425549,179950,2015-01-09 00:00,BN2 5JB,F,5,FIRST FLOOR FLAT,RUGBY PLACE\n",
            "472855,283000,2015-08-14 00:00,BN2 5XA,F,28,,VICTORY MEWS\n",
            "475437,345000,2015-04-14 00:00,BN2 5UZ,F,MARINERS QUAY,FLAT 4,\n",
            "500213,279000,2015-05-29 00:00,BN2 5SE,F,BRITANNIA COURT,FLAT 1,THE STRAND\n"
          ],
          "name": "stdout"
        }
      ]
    },
    {
      "cell_type": "code",
      "metadata": {
        "id": "grQh0sL7qJID",
        "colab_type": "code",
        "colab": {}
      },
      "source": [
        ""
      ],
      "execution_count": 0,
      "outputs": []
    }
  ]
}