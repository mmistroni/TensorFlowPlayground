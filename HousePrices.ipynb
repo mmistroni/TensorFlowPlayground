{
  "nbformat": 4,
  "nbformat_minor": 0,
  "metadata": {
    "colab": {
      "name": "HousePrices.ipynb",
      "version": "0.3.2",
      "provenance": [],
      "collapsed_sections": [],
      "include_colab_link": true
    },
    "kernelspec": {
      "name": "python3",
      "display_name": "Python 3"
    }
  },
  "cells": [
    {
      "cell_type": "markdown",
      "metadata": {
        "id": "view-in-github",
        "colab_type": "text"
      },
      "source": [
        "<a href=\"https://colab.research.google.com/github/mmistroni/TensorFlowPlayground/blob/master/HousePrices.ipynb\" target=\"_parent\"><img src=\"https://colab.research.google.com/assets/colab-badge.svg\" alt=\"Open In Colab\"/></a>"
      ]
    },
    {
      "cell_type": "markdown",
      "metadata": {
        "id": "nYR-eENCoYU8",
        "colab_type": "text"
      },
      "source": [
        "<h3> Authenticate User </h3>"
      ]
    },
    {
      "cell_type": "code",
      "metadata": {
        "id": "jdMDLu0Hoaz_",
        "colab_type": "code",
        "colab": {}
      },
      "source": [
        "from google.colab import auth\n",
        "auth.authenticate_user()"
      ],
      "execution_count": 0,
      "outputs": []
    },
    {
      "cell_type": "code",
      "metadata": {
        "id": "wAlrY9fEoe5J",
        "colab_type": "code",
        "colab": {}
      },
      "source": [
        "# importing libraries\n",
        "import pandas as pd\n"
      ],
      "execution_count": 0,
      "outputs": []
    },
    {
      "cell_type": "markdown",
      "metadata": {
        "id": "SUNUTRNwoybJ",
        "colab_type": "text"
      },
      "source": [
        "<h3>FEtching data from clo9ud storage </h3>"
      ]
    },
    {
      "cell_type": "code",
      "metadata": {
        "id": "Jb2UZTzBo1ZB",
        "colab_type": "code",
        "outputId": "4548aedf-2093-4440-eaec-f98ae0f9dec2",
        "colab": {
          "base_uri": "https://localhost:8080/",
          "height": 119
        }
      },
      "source": [
        "!gsutil cp gs://mm_tensorflow_bucket/pp-2018-part2.csv\t /tmp/pp-2018-part2.csv\n",
        "!gsutil cp gs://mm_tensorflow_bucket/pp-2015-part1.csv\t /tmp/pp-2015-part1.csv\n",
        "  \n",
        "  "
      ],
      "execution_count": 23,
      "outputs": [
        {
          "output_type": "stream",
          "text": [
            "Copying gs://mm_tensorflow_bucket/pp-2018-part2.csv...\n",
            "- [1 files][ 84.7 MiB/ 84.7 MiB]                                                \n",
            "Operation completed over 1 objects/84.7 MiB.                                     \n",
            "Copying gs://mm_tensorflow_bucket/pp-2015-part1.csv...\n",
            "- [1 files][ 83.4 MiB/ 83.4 MiB]                                                \n",
            "Operation completed over 1 objects/83.4 MiB.                                     \n"
          ],
          "name": "stdout"
        }
      ]
    },
    {
      "cell_type": "markdown",
      "metadata": {
        "id": "mleNN1LHpNSX",
        "colab_type": "text"
      },
      "source": [
        "<h3> Readign the dataset from Land Registry</h3>"
      ]
    },
    {
      "cell_type": "code",
      "metadata": {
        "id": "OZrI8KUApIAf",
        "colab_type": "code",
        "colab": {}
      },
      "source": [
        "def read_land_registry_datasets(filename):\n",
        "  \n",
        "  df =  pd.read_csv(filename, names=['unique_id',\t'price_paid','deed_date','postcode',\n",
        "                                                       'property_type',\t'new_build',\t'estate_type',\t\n",
        "                                                       'saon',\t'paon',\t'street','locality',\n",
        "                                                       'town',\t'district',\t'county',\t'transaction_category','linked_data_uri']).fillna('') \n",
        "  print ('Found {} in {}'.format(df.shape[0], filename))\n",
        "  return df"
      ],
      "execution_count": 0,
      "outputs": []
    },
    {
      "cell_type": "code",
      "metadata": {
        "colab_type": "code",
        "id": "HSX1OcLWbOYS",
        "colab": {}
      },
      "source": [
        "from datetime import datetime\n",
        "def find_sales_for_postcode(postcode, filenames):\n",
        "  print('Finding sold prices for postcode:{}'.format(postcode))\n",
        "  lr_datasets = [read_land_registry_datasets(filename) for filename in filenames]\n",
        "  \n",
        "  results = []\n",
        "  for df in lr_datasets:\n",
        "    restricted = df[df['postcode'].str.contains('BN2 5')][['price_paid', 'deed_date', 'postcode', 'property_type', 'saon', 'paon', 'street']]\n",
        "    flats_only = restricted[restricted['property_type'] == 'F']\n",
        "    print('found {} flats for postcode {} '.format(flats_only.shape[0], postcode))\n",
        "    results.append(flats_only)\n",
        "    \n",
        "  all_res =  pd.concat(results)\n",
        "  print('All res has shape{}'.format(all_res.shape))\n",
        "  return all_res\n",
        "\n",
        "                                        "
      ],
      "execution_count": 0,
      "outputs": []
    },
    {
      "cell_type": "code",
      "metadata": {
        "id": "ukzRsSM4tZ9Z",
        "colab_type": "code",
        "colab": {
          "base_uri": "https://localhost:8080/",
          "height": 136
        },
        "outputId": "2c33bccb-278c-4dbf-f398-4b0003b8dda4"
      },
      "source": [
        "filenames = ['/tmp/pp-2018-part2.csv', '/tmp/pp-2015-part1.csv']\n",
        "final = find_sales_for_postcode('BN2 5', filenames)\n",
        "print('Exportign to csv...with {}'.format(final.shape))\n",
        "filename = '/tmp/Results.csv'.format(datetime.now().strftime('%Y%m%d-%H:%M'))\n",
        "final.to_csv(filename, header=True)\n"
      ],
      "execution_count": 36,
      "outputs": [
        {
          "output_type": "stream",
          "text": [
            "Finding sold prices for postcode:BN2 5\n",
            "Found 511575 in /tmp/pp-2018-part2.csv\n",
            "Found 504743 in /tmp/pp-2015-part1.csv\n",
            "found 32 flats for postcode BN2 5 \n",
            "found 50 flats for postcode BN2 5 \n",
            "All res has shape(82, 7)\n",
            "Exportign to csv...with (82, 7)\n"
          ],
          "name": "stdout"
        }
      ]
    },
    {
      "cell_type": "code",
      "metadata": {
        "id": "zI9KDp_wcmr1",
        "colab_type": "code",
        "colab": {
          "base_uri": "https://localhost:8080/",
          "height": 85
        },
        "outputId": "038268ff-e286-40d9-83fb-9a8ddc9ac834"
      },
      "source": [
        "\n",
        "print('Copying to bucket')\n",
        "!gsutil cp /tmp/Results.csv gs://mm_tensorflow_bucket/                                       \n"
      ],
      "execution_count": 37,
      "outputs": [
        {
          "output_type": "stream",
          "text": [
            "Copying to bucket\n",
            "Copying file:///tmp/Results.csv [Content-Type=text/csv]...\n",
            "/ [1 files][  5.7 KiB/  5.7 KiB]                                                \n",
            "Operation completed over 1 objects/5.7 KiB.                                      \n"
          ],
          "name": "stdout"
        }
      ]
    },
    {
      "cell_type": "code",
      "metadata": {
        "id": "7w4OUtEUeeTL",
        "colab_type": "code",
        "colab": {}
      },
      "source": [
        ""
      ],
      "execution_count": 0,
      "outputs": []
    }
  ]
}