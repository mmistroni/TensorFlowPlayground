{
  "nbformat": 4,
  "nbformat_minor": 0,
  "metadata": {
    "colab": {
      "name": "HousePrices.ipynb",
      "version": "0.3.2",
      "provenance": [],
      "collapsed_sections": [],
      "include_colab_link": true
    },
    "kernelspec": {
      "name": "python3",
      "display_name": "Python 3"
    }
  },
  "cells": [
    {
      "cell_type": "markdown",
      "metadata": {
        "id": "view-in-github",
        "colab_type": "text"
      },
      "source": [
        "<a href=\"https://colab.research.google.com/github/mmistroni/TensorFlowPlayground/blob/master/HousePrices.ipynb\" target=\"_parent\"><img src=\"https://colab.research.google.com/assets/colab-badge.svg\" alt=\"Open In Colab\"/></a>"
      ]
    },
    {
      "cell_type": "markdown",
      "metadata": {
        "id": "nYR-eENCoYU8",
        "colab_type": "text"
      },
      "source": [
        "<h3> Authenticate User </h3>"
      ]
    },
    {
      "cell_type": "code",
      "metadata": {
        "id": "jdMDLu0Hoaz_",
        "colab_type": "code",
        "colab": {}
      },
      "source": [
        "from google.colab import auth\n",
        "auth.authenticate_user()"
      ],
      "execution_count": 0,
      "outputs": []
    },
    {
      "cell_type": "code",
      "metadata": {
        "id": "wAlrY9fEoe5J",
        "colab_type": "code",
        "colab": {}
      },
      "source": [
        "# importing libraries\n",
        "import pandas as pd\n"
      ],
      "execution_count": 0,
      "outputs": []
    },
    {
      "cell_type": "markdown",
      "metadata": {
        "id": "SUNUTRNwoybJ",
        "colab_type": "text"
      },
      "source": [
        "<h3>FEtching data from clo9ud storage </h3>"
      ]
    },
    {
      "cell_type": "code",
      "metadata": {
        "id": "Jb2UZTzBo1ZB",
        "colab_type": "code",
        "colab": {}
      },
      "source": [
        "#!gsutil cp gs://mm_tensorflow_bucket/pp-2018-part2.csv\t /tmp/pp-2018-part2.csv\n",
        "#!gsutil cp gs://mm_tensorflow_bucket/pp-2015-part1.csv\t /tmp/pp-2015-part1.csv\n",
        "\n",
        "# Get gsc service\n",
        "def get_gcs_service():\n",
        "  from googleapiclient.discovery import build\n",
        "  gcs_service = build('storage', 'v1')\n",
        "  return gcs_service\n",
        "\n",
        "def download_from_storage(bucketname, bucketfilename, tmpfile):\n",
        "  from apiclient.http import MediaIoBaseDownload\n",
        "  gcs_service = get_gcs_service()\n",
        "  with open(tmpfile, 'wb') as f:\n",
        "    request = gcs_service.objects().get_media(bucket=bucketname,\n",
        "                                              object=bucketfilename)\n",
        "    media = MediaIoBaseDownload(f, request)\n",
        "\n",
        "    done = False\n",
        "    while not done:\n",
        "      # _ is a placeholder for a progress object that we ignore.\n",
        "      # (Our file is small, so we skip reporting progress.)\n",
        "      _, done = media.next_chunk()\n",
        "\n",
        "  print('Download complete')\n",
        "\n",
        "\n",
        "  "
      ],
      "execution_count": 0,
      "outputs": []
    },
    {
      "cell_type": "markdown",
      "metadata": {
        "id": "mleNN1LHpNSX",
        "colab_type": "text"
      },
      "source": [
        "<h3> Readign the dataset from Land Registry for Sold Prices</h3>"
      ]
    },
    {
      "cell_type": "code",
      "metadata": {
        "id": "OZrI8KUApIAf",
        "colab_type": "code",
        "colab": {}
      },
      "source": [
        "def read_land_registry_datasets(filename):\n",
        "  \n",
        "  df =  pd.read_csv(filename, names=['unique_id',\t'price_paid','deed_date','postcode',\n",
        "                                                       'property_type',\t'new_build',\t'estate_type',\t\n",
        "                                                       'saon',\t'paon',\t'street','locality',\n",
        "                                                       'town',\t'district',\t'county',\t'transaction_category','linked_data_uri']).fillna('') \n",
        "  print ('Found {} in {}'.format(df.shape[0], filename))\n",
        "  return df"
      ],
      "execution_count": 0,
      "outputs": []
    },
    {
      "cell_type": "code",
      "metadata": {
        "colab_type": "code",
        "id": "HSX1OcLWbOYS",
        "colab": {}
      },
      "source": [
        "from datetime import datetime\n",
        "def find_sales_for_postcode(postcode, filenames):\n",
        "  print('Finding sold prices for postcode:{}'.format(postcode))\n",
        "  lr_datasets = [read_land_registry_datasets(filename) for filename in filenames]\n",
        "  \n",
        "  results = []\n",
        "  for df in lr_datasets:\n",
        "    restricted = df[df['postcode'].str.contains('BN2 5')][['price_paid', 'deed_date', 'postcode', 'property_type', 'saon', 'paon', 'street']]\n",
        "    flats_only = restricted[restricted['property_type'] == 'F']\n",
        "    print('found {} flats for postcode {} '.format(flats_only.shape[0], postcode))\n",
        "    results.append(flats_only)\n",
        "    \n",
        "  all_res =  pd.concat(results)\n",
        "  print('All res has shape{}'.format(all_res.shape))\n",
        "  return all_res\n",
        "\n",
        "                                        "
      ],
      "execution_count": 0,
      "outputs": []
    },
    {
      "cell_type": "code",
      "metadata": {
        "id": "ukzRsSM4tZ9Z",
        "colab_type": "code",
        "outputId": "2c33bccb-278c-4dbf-f398-4b0003b8dda4",
        "colab": {
          "base_uri": "https://localhost:8080/",
          "height": 136
        }
      },
      "source": [
        "filenames = ['/tmp/pp-2018-part2.csv', '/tmp/pp-2015-part1.csv']\n",
        "final = find_sales_for_postcode('BN2 5', filenames)\n",
        "print('Exportign to csv...with {}'.format(final.shape))\n",
        "filename = '/tmp/Results.csv'.format(datetime.now().strftime('%Y%m%d-%H:%M'))\n",
        "final.to_csv(filename, header=True)\n"
      ],
      "execution_count": 0,
      "outputs": [
        {
          "output_type": "stream",
          "text": [
            "Finding sold prices for postcode:BN2 5\n",
            "Found 511575 in /tmp/pp-2018-part2.csv\n",
            "Found 504743 in /tmp/pp-2015-part1.csv\n",
            "found 32 flats for postcode BN2 5 \n",
            "found 50 flats for postcode BN2 5 \n",
            "All res has shape(82, 7)\n",
            "Exportign to csv...with (82, 7)\n"
          ],
          "name": "stdout"
        }
      ]
    },
    {
      "cell_type": "code",
      "metadata": {
        "id": "zI9KDp_wcmr1",
        "colab_type": "code",
        "outputId": "038268ff-e286-40d9-83fb-9a8ddc9ac834",
        "colab": {
          "base_uri": "https://localhost:8080/",
          "height": 85
        }
      },
      "source": [
        "\n",
        "print('Copying to bucket')\n",
        "!gsutil cp /tmp/Results.csv gs://mm_tensorflow_bucket/                                       \n"
      ],
      "execution_count": 0,
      "outputs": [
        {
          "output_type": "stream",
          "text": [
            "Copying to bucket\n",
            "Copying file:///tmp/Results.csv [Content-Type=text/csv]...\n",
            "/ [1 files][  5.7 KiB/  5.7 KiB]                                                \n",
            "Operation completed over 1 objects/5.7 KiB.                                      \n"
          ],
          "name": "stdout"
        }
      ]
    },
    {
      "cell_type": "markdown",
      "metadata": {
        "id": "03myEQs1CLFg",
        "colab_type": "text"
      },
      "source": [
        "<h3> Private REntal Market </h3>"
      ]
    },
    {
      "cell_type": "code",
      "metadata": {
        "id": "9hkINYZZxcUb",
        "colab_type": "code",
        "outputId": "5f3bbd2d-a320-4a19-f688-d060529fc423",
        "colab": {
          "base_uri": "https://localhost:8080/",
          "height": 34
        }
      },
      "source": [
        "filename = \"/tmp/PrivateRentalMarket_Apr18_Mar19.csv\"\n",
        "download_from_storage(\"mm_tensorflow_bucket\", \"PrivateRentalMarket/PrivateRentalMarket_Apr18_Mar19.csv\",   filename)"
      ],
      "execution_count": 0,
      "outputs": [
        {
          "output_type": "stream",
          "text": [
            "Download complete\n"
          ],
          "name": "stdout"
        }
      ]
    },
    {
      "cell_type": "code",
      "metadata": {
        "id": "A2DhYiqBpiUx",
        "colab_type": "code",
        "outputId": "1aeeb620-a84c-4199-9444-87502fce672e",
        "colab": {
          "base_uri": "https://localhost:8080/",
          "height": 187
        }
      },
      "source": [
        "!tail /tmp/PrivateRentalMarket_Apr18_Mar19.csv\n"
      ],
      "execution_count": 0,
      "outputs": [
        {
          "output_type": "stream",
          "text": [
            "1615,E07000080,Forest of Dean,240,581,550,575,600\r\n",
            "1620,E07000081,Gloucester,650,638,595,650,675\r\n",
            "1625,E07000082,Stroud,490,675,625,675,720\r\n",
            "1630,E07000083,Tewkesbury,300,655,585,650,700\r\n",
            "NA,E10000027,Somerset,2980,623,575,625,665\r\n",
            "3305,E07000187,Mendip,520,646,595,635,695\r\n",
            "3310,E07000188,Sedgemoor,610,611,550,600,650\r\n",
            "3325,E07000189,South Somerset,970,617,570,625,650\r\n",
            "3315,E07000190,Taunton Deane,660,631,575,625,675\r\n",
            "3320,E07000191,West Somerset,220,606,550,600,650\r\n"
          ],
          "name": "stdout"
        }
      ]
    },
    {
      "cell_type": "code",
      "metadata": {
        "id": "grQh0sL7qJID",
        "colab_type": "code",
        "colab": {}
      },
      "source": [
        "def read_file(file_name, city):\n",
        "  print('Filtering rents for :{}'.format(city))\n",
        "  df = pd.read_csv(file_name, header=0, encoding = \"ISO-8859-1\") \n",
        "  df.rename(columns={'LA_Code': 'LocaAreaCode', 'AREA_CODE' : 'Area_Code',\n",
        "                     'CNT' : 'Total_Rent_count', 'AVG':'Average_Rent', 'LQ': 'Lower_Quartile_Rent',\n",
        "                     'MED' : 'Median_Rent', 'UQ' : 'Upper_Quartile_Rent'}, inplace=True)\n",
        "  return df[df['Area'].str.contains(city)]"
      ],
      "execution_count": 0,
      "outputs": []
    },
    {
      "cell_type": "code",
      "metadata": {
        "id": "4jP7IGFa9i9t",
        "colab_type": "code",
        "outputId": "b46f0026-4a9f-42b4-fa17-b86b823ceda7",
        "colab": {
          "base_uri": "https://localhost:8080/",
          "height": 97
        }
      },
      "source": [
        "data_set = read_file('/tmp/PrivateRentalMarket_Apr18_Mar19.csv', 'Tower')\n",
        "data_set"
      ],
      "execution_count": 0,
      "outputs": [
        {
          "output_type": "stream",
          "text": [
            "Filtering rents for :Tower\n"
          ],
          "name": "stdout"
        },
        {
          "output_type": "execute_result",
          "data": {
            "text/html": [
              "<div>\n",
              "<style scoped>\n",
              "    .dataframe tbody tr th:only-of-type {\n",
              "        vertical-align: middle;\n",
              "    }\n",
              "\n",
              "    .dataframe tbody tr th {\n",
              "        vertical-align: top;\n",
              "    }\n",
              "\n",
              "    .dataframe thead th {\n",
              "        text-align: right;\n",
              "    }\n",
              "</style>\n",
              "<table border=\"1\" class=\"dataframe\">\n",
              "  <thead>\n",
              "    <tr style=\"text-align: right;\">\n",
              "      <th></th>\n",
              "      <th>LocaAreaCode</th>\n",
              "      <th>Area_Code</th>\n",
              "      <th>Area</th>\n",
              "      <th>Total_Rent_count</th>\n",
              "      <th>Average_Rent</th>\n",
              "      <th>Lower_Quartile_Rent</th>\n",
              "      <th>Median_Rent</th>\n",
              "      <th>Upper_Quartile_Rent</th>\n",
              "    </tr>\n",
              "  </thead>\n",
              "  <tbody>\n",
              "    <tr>\n",
              "      <th>231</th>\n",
              "      <td>5900.0</td>\n",
              "      <td>E09000030</td>\n",
              "      <td>Tower Hamlets</td>\n",
              "      <td>1090</td>\n",
              "      <td>1853</td>\n",
              "      <td>1562</td>\n",
              "      <td>1733</td>\n",
              "      <td>1950</td>\n",
              "    </tr>\n",
              "  </tbody>\n",
              "</table>\n",
              "</div>"
            ],
            "text/plain": [
              "     LocaAreaCode  Area_Code  ... Median_Rent  Upper_Quartile_Rent\n",
              "231        5900.0  E09000030  ...        1733                 1950\n",
              "\n",
              "[1 rows x 8 columns]"
            ]
          },
          "metadata": {
            "tags": []
          },
          "execution_count": 38
        }
      ]
    },
    {
      "cell_type": "code",
      "metadata": {
        "id": "_TiyVGVH_7Kf",
        "colab_type": "code",
        "colab": {}
      },
      "source": [
        ""
      ],
      "execution_count": 0,
      "outputs": []
    }
  ]
}