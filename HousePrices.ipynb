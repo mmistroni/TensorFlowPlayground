{
  "nbformat": 4,
  "nbformat_minor": 0,
  "metadata": {
    "colab": {
      "name": "HousePrices.ipynb",
      "version": "0.3.2",
      "provenance": [],
      "collapsed_sections": [],
      "include_colab_link": true
    },
    "kernelspec": {
      "name": "python3",
      "display_name": "Python 3"
    }
  },
  "cells": [
    {
      "cell_type": "markdown",
      "metadata": {
        "id": "view-in-github",
        "colab_type": "text"
      },
      "source": [
        "<a href=\"https://colab.research.google.com/github/mmistroni/TensorFlowPlayground/blob/master/HousePrices.ipynb\" target=\"_parent\"><img src=\"https://colab.research.google.com/assets/colab-badge.svg\" alt=\"Open In Colab\"/></a>"
      ]
    },
    {
      "cell_type": "markdown",
      "metadata": {
        "id": "nYR-eENCoYU8",
        "colab_type": "text"
      },
      "source": [
        "<h3> Authenticate User </h3>"
      ]
    },
    {
      "cell_type": "code",
      "metadata": {
        "id": "jdMDLu0Hoaz_",
        "colab_type": "code",
        "colab": {}
      },
      "source": [
        "from google.colab import auth\n",
        "auth.authenticate_user()"
      ],
      "execution_count": 0,
      "outputs": []
    },
    {
      "cell_type": "code",
      "metadata": {
        "id": "wAlrY9fEoe5J",
        "colab_type": "code",
        "colab": {}
      },
      "source": [
        "# importing libraries\n",
        "import pandas as pd\n"
      ],
      "execution_count": 0,
      "outputs": []
    },
    {
      "cell_type": "markdown",
      "metadata": {
        "id": "SUNUTRNwoybJ",
        "colab_type": "text"
      },
      "source": [
        "<h3>FEtching data from clo9ud storage </h3>"
      ]
    },
    {
      "cell_type": "code",
      "metadata": {
        "id": "Jb2UZTzBo1ZB",
        "colab_type": "code",
        "colab": {
          "base_uri": "https://localhost:8080/",
          "height": 68
        },
        "outputId": "91d88b89-9064-4859-fee2-837e8ea29b7e"
      },
      "source": [
        "!gsutil cp gs://mm_tensorflow_bucket/pp-2018-part2.csv\t /tmp/pp-2018-part2.csv"
      ],
      "execution_count": 3,
      "outputs": [
        {
          "output_type": "stream",
          "text": [
            "Copying gs://mm_tensorflow_bucket/pp-2018-part2.csv...\n",
            "- [1 files][ 84.7 MiB/ 84.7 MiB]                                                \n",
            "Operation completed over 1 objects/84.7 MiB.                                     \n"
          ],
          "name": "stdout"
        }
      ]
    },
    {
      "cell_type": "markdown",
      "metadata": {
        "id": "mleNN1LHpNSX",
        "colab_type": "text"
      },
      "source": [
        "<h3> Readign the dataset from Land Registry</h3>"
      ]
    },
    {
      "cell_type": "code",
      "metadata": {
        "id": "OZrI8KUApIAf",
        "colab_type": "code",
        "colab": {}
      },
      "source": [
        "def read_land_registry_dataset(filename):\n",
        "  return pd.read_csv(filename, names=['unique_id',\t'price_paid','deed_date','postcode',\n",
        "                                                       'property_type',\t'new_build',\t'estate_type',\t\n",
        "                                                       'saon',\t'paon',\t'street','locality',\n",
        "                                                       'town',\t'district',\t'county',\t'transaction_category','linked_data_uri'])"
      ],
      "execution_count": 0,
      "outputs": []
    },
    {
      "cell_type": "code",
      "metadata": {
        "id": "gLkmalLUtRVl",
        "colab_type": "code",
        "colab": {
          "base_uri": "https://localhost:8080/",
          "height": 34
        },
        "outputId": "0d4a89f8-1880-4684-8382-a80161fb7b66"
      },
      "source": [
        "hp18_df = read_land_registry_dataset('/tmp/pp-2018-part2.csv')\n",
        "hp18_df.shape"
      ],
      "execution_count": 13,
      "outputs": [
        {
          "output_type": "execute_result",
          "data": {
            "text/plain": [
              "(511575, 16)"
            ]
          },
          "metadata": {
            "tags": []
          },
          "execution_count": 13
        }
      ]
    },
    {
      "cell_type": "code",
      "metadata": {
        "id": "ukzRsSM4tZ9Z",
        "colab_type": "code",
        "colab": {}
      },
      "source": [
        ""
      ],
      "execution_count": 0,
      "outputs": []
    }
  ]
}