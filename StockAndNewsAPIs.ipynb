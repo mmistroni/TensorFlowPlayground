{
  "nbformat": 4,
  "nbformat_minor": 0,
  "metadata": {
    "colab": {
      "name": "StockAndNewsAPIs.ipynb",
      "version": "0.3.2",
      "provenance": [],
      "include_colab_link": true
    },
    "kernelspec": {
      "name": "python3",
      "display_name": "Python 3"
    }
  },
  "cells": [
    {
      "cell_type": "markdown",
      "metadata": {
        "id": "view-in-github",
        "colab_type": "text"
      },
      "source": [
        "<a href=\"https://colab.research.google.com/github/mmistroni/TensorFlowPlayground/blob/master/StockAndNewsAPIs.ipynb\" target=\"_parent\"><img src=\"https://colab.research.google.com/assets/colab-badge.svg\" alt=\"Open In Colab\"/></a>"
      ]
    },
    {
      "cell_type": "code",
      "metadata": {
        "id": "b9xnZo-xamUy",
        "colab_type": "code",
        "colab": {
          "base_uri": "https://localhost:8080/",
          "height": 238
        },
        "outputId": "a0222f0b-1099-4a49-df38-07863f3b97c5"
      },
      "source": [
        "!pip install pandas-datareader"
      ],
      "execution_count": 1,
      "outputs": [
        {
          "output_type": "stream",
          "text": [
            "Requirement already satisfied: pandas-datareader in /usr/local/lib/python3.6/dist-packages (0.7.0)\n",
            "Requirement already satisfied: requests>=2.3.0 in /usr/local/lib/python3.6/dist-packages (from pandas-datareader) (2.21.0)\n",
            "Requirement already satisfied: pandas>=0.19.2 in /usr/local/lib/python3.6/dist-packages (from pandas-datareader) (0.24.2)\n",
            "Requirement already satisfied: lxml in /usr/local/lib/python3.6/dist-packages (from pandas-datareader) (4.2.6)\n",
            "Requirement already satisfied: wrapt in /usr/local/lib/python3.6/dist-packages (from pandas-datareader) (1.11.2)\n",
            "Requirement already satisfied: certifi>=2017.4.17 in /usr/local/lib/python3.6/dist-packages (from requests>=2.3.0->pandas-datareader) (2019.6.16)\n",
            "Requirement already satisfied: urllib3<1.25,>=1.21.1 in /usr/local/lib/python3.6/dist-packages (from requests>=2.3.0->pandas-datareader) (1.24.3)\n",
            "Requirement already satisfied: chardet<3.1.0,>=3.0.2 in /usr/local/lib/python3.6/dist-packages (from requests>=2.3.0->pandas-datareader) (3.0.4)\n",
            "Requirement already satisfied: idna<2.9,>=2.5 in /usr/local/lib/python3.6/dist-packages (from requests>=2.3.0->pandas-datareader) (2.8)\n",
            "Requirement already satisfied: pytz>=2011k in /usr/local/lib/python3.6/dist-packages (from pandas>=0.19.2->pandas-datareader) (2018.9)\n",
            "Requirement already satisfied: numpy>=1.12.0 in /usr/local/lib/python3.6/dist-packages (from pandas>=0.19.2->pandas-datareader) (1.16.4)\n",
            "Requirement already satisfied: python-dateutil>=2.5.0 in /usr/local/lib/python3.6/dist-packages (from pandas>=0.19.2->pandas-datareader) (2.5.3)\n",
            "Requirement already satisfied: six>=1.5 in /usr/local/lib/python3.6/dist-packages (from python-dateutil>=2.5.0->pandas>=0.19.2->pandas-datareader) (1.12.0)\n"
          ],
          "name": "stdout"
        }
      ]
    },
    {
      "cell_type": "code",
      "metadata": {
        "id": "IEJyyYSJaraF",
        "colab_type": "code",
        "colab": {}
      },
      "source": [
        "import urllib\n",
        "import json\n",
        "import pandas as pd\n",
        "from pandas.tseries.offsets import BDay\n",
        "import pandas_datareader.data as dr\n",
        "import numpy as np\n",
        "from datetime import datetime, date"
      ],
      "execution_count": 0,
      "outputs": []
    },
    {
      "cell_type": "code",
      "metadata": {
        "id": "SaXrijSBa_hp",
        "colab_type": "code",
        "colab": {}
      },
      "source": [
        "def get_data(symbol, start, end):\n",
        "  data =  dr.DataReader(symbol, 'iex', start, end)[['close']]\n",
        "  return data.rename(columns={'close': symbol})"
      ],
      "execution_count": 0,
      "outputs": []
    },
    {
      "cell_type": "code",
      "metadata": {
        "id": "xuM-PON2bLKH",
        "colab_type": "code",
        "colab": {}
      },
      "source": [
        ""
      ],
      "execution_count": 0,
      "outputs": []
    },
    {
      "cell_type": "markdown",
      "metadata": {
        "id": "JIm9skg7bUkl",
        "colab_type": "text"
      },
      "source": [
        "<h3>  Testing Historical API </h3>"
      ]
    },
    {
      "cell_type": "code",
      "metadata": {
        "id": "4bNDGbCNbX6Y",
        "colab_type": "code",
        "colab": {
          "base_uri": "https://localhost:8080/",
          "height": 1000
        },
        "outputId": "c62a66c3-a45a-4f29-b560-8de47394ede0"
      },
      "source": [
        "def get_historical_data(ticker, start, end):\n",
        "\n",
        "  return dr.DataReader(ticker, \"av-daily\", start,\n",
        "                       end,\n",
        "                       access_key='3K8QCCZYO839KMOU')\n",
        "\n",
        "end_date = date.today()\n",
        "start_date = end_date - BDay(60)\n",
        "print('start:{}, end:{}'.format(start_date, end_date))\n",
        "\n",
        "print(get_historical_data('AMZN', start_date, end_date))"
      ],
      "execution_count": 9,
      "outputs": [
        {
          "output_type": "stream",
          "text": [
            "start:2019-04-03 00:00:00, end:2019-06-26\n",
            "               open     high      low    close   volume\n",
            "2019-04-03  1826.72  1830.00  1809.62  1820.70  3980590\n",
            "2019-04-04  1820.65  1828.75  1804.20  1818.86  3623867\n",
            "2019-04-05  1829.00  1838.58  1825.19  1837.28  3640476\n",
            "2019-04-08  1833.23  1850.20  1825.11  1849.86  3752841\n",
            "2019-04-09  1845.49  1853.09  1831.78  1835.84  3714368\n",
            "2019-04-10  1841.00  1848.00  1828.81  1847.33  2963973\n",
            "2019-04-11  1848.70  1849.95  1840.31  1844.07  2654842\n",
            "2019-04-12  1848.40  1851.50  1841.30  1843.06  3114413\n",
            "2019-04-15  1842.00  1846.85  1818.90  1844.87  3724423\n",
            "2019-04-16  1851.35  1869.77  1848.00  1863.04  3044618\n",
            "2019-04-17  1872.99  1876.47  1860.44  1864.82  2893517\n",
            "2019-04-18  1868.79  1870.82  1859.48  1861.69  2749882\n",
            "2019-04-22  1855.40  1888.42  1845.64  1887.31  3373807\n",
            "2019-04-23  1891.20  1929.26  1889.58  1923.77  4640441\n",
            "2019-04-24  1925.00  1929.69  1898.16  1901.75  3675781\n",
            "2019-04-25  1917.00  1922.45  1900.31  1902.25  6099101\n",
            "2019-04-26  1929.00  1951.00  1898.00  1950.63  8432563\n",
            "2019-04-29  1949.00  1956.34  1934.09  1938.43  4021255\n",
            "2019-04-30  1930.10  1935.71  1906.95  1926.52  3506007\n",
            "2019-05-01  1933.09  1943.64  1910.55  1911.52  3116964\n",
            "2019-05-02  1913.33  1921.55  1881.87  1900.82  3962915\n",
            "2019-05-03  1949.00  1964.40  1936.00  1962.46  6381564\n",
            "2019-05-06  1917.98  1959.00  1910.50  1950.55  5417841\n",
            "2019-05-07  1939.99  1949.10  1903.38  1921.00  5902134\n",
            "2019-05-08  1918.87  1935.37  1910.00  1917.77  4078568\n",
            "2019-05-09  1900.00  1909.40  1876.00  1899.87  5308263\n",
            "2019-05-10  1898.00  1903.79  1856.00  1889.98  5717994\n",
            "2019-05-13  1836.56  1846.54  1818.00  1822.68  5783410\n",
            "2019-05-14  1839.50  1852.44  1815.75  1840.12  4629107\n",
            "2019-05-15  1827.95  1874.43  1823.00  1871.15  4692642\n",
            "2019-05-16  1885.94  1917.51  1882.29  1907.57  4707822\n",
            "2019-05-17  1893.05  1910.53  1867.33  1869.00  4736618\n",
            "2019-05-20  1852.69  1867.78  1835.54  1858.97  3798198\n",
            "2019-05-21  1874.79  1879.00  1846.00  1857.52  4005122\n",
            "2019-05-22  1851.78  1871.48  1851.00  1859.68  2936601\n",
            "2019-05-23  1836.59  1844.00  1804.20  1815.48  4424265\n",
            "2019-05-24  1835.89  1841.76  1817.85  1823.28  3369673\n",
            "2019-05-28  1832.75  1849.27  1827.35  1836.43  3199965\n",
            "2019-05-29  1823.12  1830.00  1807.53  1819.19  4279025\n",
            "2019-05-30  1825.49  1829.47  1807.83  1816.32  3146850\n",
            "2019-05-31  1790.01  1795.59  1772.70  1775.07  4618819\n",
            "2019-06-03  1760.01  1766.29  1672.00  1692.69  9098708\n",
            "2019-06-04  1699.24  1730.82  1680.89  1729.56  5679121\n",
            "2019-06-05  1749.60  1752.00  1715.25  1738.50  4239782\n",
            "2019-06-06  1737.71  1760.00  1726.13  1754.36  3689272\n",
            "2019-06-07  1763.70  1806.25  1759.49  1804.03  4808246\n",
            "2019-06-10  1822.00  1884.87  1818.00  1860.63  5371007\n",
            "2019-06-11  1883.25  1893.70  1858.00  1863.70  4042694\n",
            "2019-06-12  1853.98  1865.00  1844.38  1855.32  2678335\n",
            "2019-06-13  1866.72  1883.09  1862.22  1870.30  2795810\n",
            "2019-06-14  1864.00  1876.00  1859.00  1869.67  2851163\n",
            "2019-06-17  1876.50  1895.69  1875.45  1886.03  2634342\n",
            "2019-06-18  1901.35  1921.67  1899.79  1901.37  3895728\n",
            "2019-06-19  1907.84  1919.58  1892.47  1908.79  2895347\n",
            "2019-06-20  1933.33  1935.20  1905.80  1918.19  3217153\n",
            "2019-06-21  1916.10  1925.95  1907.58  1911.30  3933576\n",
            "2019-06-24  1912.66  1916.86  1901.30  1913.90  2282969\n",
            "2019-06-25  1911.84  1916.38  1872.42  1878.27  3002589\n",
            "2019-06-26  1892.48  1903.80  1887.32  1897.83  2085536\n"
          ],
          "name": "stdout"
        }
      ]
    },
    {
      "cell_type": "code",
      "metadata": {
        "id": "-9lPxystbZnN",
        "colab_type": "code",
        "colab": {}
      },
      "source": [
        ""
      ],
      "execution_count": 0,
      "outputs": []
    }
  ]
}