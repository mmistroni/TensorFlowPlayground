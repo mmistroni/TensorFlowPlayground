{
  "nbformat": 4,
  "nbformat_minor": 0,
  "metadata": {
    "colab": {
      "name": "StockAndNewsAPIs.ipynb",
      "provenance": [],
      "collapsed_sections": [],
      "include_colab_link": true
    },
    "kernelspec": {
      "name": "python3",
      "display_name": "Python 3"
    }
  },
  "cells": [
    {
      "cell_type": "markdown",
      "metadata": {
        "id": "view-in-github",
        "colab_type": "text"
      },
      "source": [
        "<a href=\"https://colab.research.google.com/github/mmistroni/TensorFlowPlayground/blob/master/StockAndNewsAPIs.ipynb\" target=\"_parent\"><img src=\"https://colab.research.google.com/assets/colab-badge.svg\" alt=\"Open In Colab\"/></a>"
      ]
    },
    {
      "cell_type": "code",
      "metadata": {
        "id": "b9xnZo-xamUy",
        "colab_type": "code",
        "outputId": "aebcaa90-31fc-4e2b-996d-6a3f1ef032b9",
        "colab": {
          "base_uri": "https://localhost:8080/",
          "height": 238
        }
      },
      "source": [
        "\n",
        "!pip install pandas-datareader"
      ],
      "execution_count": 1,
      "outputs": [
        {
          "output_type": "stream",
          "text": [
            "Requirement already satisfied: pandas-datareader in /usr/local/lib/python3.6/dist-packages (0.7.4)\n",
            "Requirement already satisfied: wrapt in /usr/local/lib/python3.6/dist-packages (from pandas-datareader) (1.11.2)\n",
            "Requirement already satisfied: requests>=2.3.0 in /usr/local/lib/python3.6/dist-packages (from pandas-datareader) (2.21.0)\n",
            "Requirement already satisfied: pandas>=0.19.2 in /usr/local/lib/python3.6/dist-packages (from pandas-datareader) (0.24.2)\n",
            "Requirement already satisfied: lxml in /usr/local/lib/python3.6/dist-packages (from pandas-datareader) (4.2.6)\n",
            "Requirement already satisfied: chardet<3.1.0,>=3.0.2 in /usr/local/lib/python3.6/dist-packages (from requests>=2.3.0->pandas-datareader) (3.0.4)\n",
            "Requirement already satisfied: urllib3<1.25,>=1.21.1 in /usr/local/lib/python3.6/dist-packages (from requests>=2.3.0->pandas-datareader) (1.24.3)\n",
            "Requirement already satisfied: certifi>=2017.4.17 in /usr/local/lib/python3.6/dist-packages (from requests>=2.3.0->pandas-datareader) (2019.6.16)\n",
            "Requirement already satisfied: idna<2.9,>=2.5 in /usr/local/lib/python3.6/dist-packages (from requests>=2.3.0->pandas-datareader) (2.8)\n",
            "Requirement already satisfied: pytz>=2011k in /usr/local/lib/python3.6/dist-packages (from pandas>=0.19.2->pandas-datareader) (2018.9)\n",
            "Requirement already satisfied: numpy>=1.12.0 in /usr/local/lib/python3.6/dist-packages (from pandas>=0.19.2->pandas-datareader) (1.16.5)\n",
            "Requirement already satisfied: python-dateutil>=2.5.0 in /usr/local/lib/python3.6/dist-packages (from pandas>=0.19.2->pandas-datareader) (2.5.3)\n",
            "Requirement already satisfied: six>=1.5 in /usr/local/lib/python3.6/dist-packages (from python-dateutil>=2.5.0->pandas>=0.19.2->pandas-datareader) (1.12.0)\n"
          ],
          "name": "stdout"
        }
      ]
    },
    {
      "cell_type": "code",
      "metadata": {
        "id": "IEJyyYSJaraF",
        "colab_type": "code",
        "colab": {}
      },
      "source": [
        "import urllib\n",
        "import json\n",
        "import pandas as pd\n",
        "from pandas.tseries.offsets import BDay\n",
        "import pandas_datareader.data as dr\n",
        "import numpy as np\n",
        "from datetime import datetime, date\n"
      ],
      "execution_count": 0,
      "outputs": []
    },
    {
      "cell_type": "code",
      "metadata": {
        "id": "SaXrijSBa_hp",
        "colab_type": "code",
        "outputId": "c415d395-ff1d-4601-fdf4-3327f2686371",
        "colab": {
          "base_uri": "https://localhost:8080/",
          "height": 149
        }
      },
      "source": [
        "def get_data(symbol, start, end):\n",
        "  # Use IEX API for stats so we get all info we need  IEX Cloud consol \n",
        "  https://cloud.iexapis.com/stable/stock/{symbol}/stats?token=sk_98e397d4bee940488e1f48e9b419508f&format=csv&filter=symbol,companyName,day50MovingAvg,day200MovingAvg,month6ChangePercent,month3ChangePercent,month1ChangePercent\n",
        "  # From here we can get the following information\n",
        "  \"\"\"\n",
        "  symbol\tstring\t\n",
        "  companyName\tstring\tCompany name of the security\n",
        "  marketcap\tnumber\tMarket cap of the security calculated as shares outstanding * previous day close.\n",
        "  week52high\tnumber\t\n",
        "  week52low\tnumber\t\n",
        "  week52change\tnumber\tPercentage change\n",
        "  sharesOutstanding\tnumber\tNumber of shares outstanding as the difference between issued shares and treasury shares. Investopedia\n",
        "  avg30Volume\tnumber\tAverage 30 day volume\n",
        "  avg10Volume\tnumber\tAverage 10 day volume\n",
        "  float\tnumber\tReturns the annual shares outstanding minus closely held shares.\n",
        "  employees\tnumber\t\n",
        "  ttmEPS\tnumber\tTrailing twelve month earnings per share. Investopedia\n",
        "  ttmDividendRate\tnumber\tTrailing twelve month dividend rate per share\n",
        "  dividendYield\tnumber\tThe ratio of trailing twelve month dividend compared to the previous day close price. The dividend yield is represented as a percentage calculated as (ttmDividendRate) / (previous day close price) Investopedia\n",
        "  nextDividendDate\tstring\tExpected ex date of the next dividend\n",
        "  exDividendDate\tstring\tEx date of the last dividend\n",
        "  nextEarningsDate\tstring\tExpected next earnings report date\n",
        "  peRatio\tnumber\tPrice to earnings ratio calculated as (previous day close price) / (ttmEPS)\n",
        "  beta\tnumber\tBeta is a measure used in fundamental analysis to determine the volatility of an asset or portfolio in relation to the overall market. Levered beta calculated with 1 year historical data and compared to SPY.\n",
        "  day200MovingAvg\tnumber\t\n",
        "  day50MovingAvg\tnumber\t\n",
        "  maxChangePercent\tnumber\t\n",
        "  year5ChangePercent\tnumber\t\n",
        "  year2ChangePercent\tnumber\t\n",
        "  year1ChangePercent\tnumber\t\n",
        "  ytdChangePercent\tnumber\t\n",
        "  month6ChangePercent\tnumber\t\n",
        "  month3ChangePercent\tnumber\t\n",
        "  month1ChangePercent\tnumber\t\n",
        "  day30ChangePercent\tnumber\t\n",
        "  day5ChangePercent\tnumber\t\n",
        "  \n",
        "  \n",
        "  \"\"\"\n",
        "  \n",
        "  \n",
        "  data =  dr.DataReader(symbol, 'iex', start, end)[['close']]\n",
        "  return data.rename(columns={'close': symbol})"
      ],
      "execution_count": 0,
      "outputs": [
        {
          "output_type": "error",
          "ename": "SyntaxError",
          "evalue": "ignored",
          "traceback": [
            "\u001b[0;36m  File \u001b[0;32m\"<ipython-input-2-dbfa0aa4d400>\"\u001b[0;36m, line \u001b[0;32m3\u001b[0m\n\u001b[0;31m    https://cloud.iexapis.com/stable/stock/{symbol}/stats?token=sk_98e397d4bee940488e1f48e9b419508f&format=csv&filter=symbol,companyName,day50MovingAvg,day200MovingAvg,month6ChangePercent,month3ChangePercent,month1ChangePercent\u001b[0m\n\u001b[0m           ^\u001b[0m\n\u001b[0;31mSyntaxError\u001b[0m\u001b[0;31m:\u001b[0m invalid syntax\n"
          ]
        }
      ]
    },
    {
      "cell_type": "markdown",
      "metadata": {
        "id": "KqrFVyKPlrdX",
        "colab_type": "text"
      },
      "source": [
        "<h2>Authenticate User </h2>"
      ]
    },
    {
      "cell_type": "code",
      "metadata": {
        "id": "oXM3PKNDlvaf",
        "colab_type": "code",
        "colab": {}
      },
      "source": [
        "from google.colab import auth\n",
        "auth.authenticate_user()"
      ],
      "execution_count": 0,
      "outputs": []
    },
    {
      "cell_type": "markdown",
      "metadata": {
        "id": "FNzEi-rVkF26",
        "colab_type": "text"
      },
      "source": [
        "<h3> Loading Nasdaq and Nyse shares </h3>"
      ]
    },
    {
      "cell_type": "code",
      "metadata": {
        "id": "xuM-PON2bLKH",
        "colab_type": "code",
        "outputId": "a7c2e674-585a-4a60-8f9b-091ea810e3db",
        "colab": {
          "base_uri": "https://localhost:8080/",
          "height": 119
        }
      },
      "source": [
        "!gsutil cp gs://datascience-bucket-mm/nyse-companylist.csv /tmp/nyse.csv\n",
        "!gsutil cp gs://datascience-bucket-mm/nasdaq-companylist.csv /tmp/nyse.csv  \n",
        "  \n",
        "# Print the result to make sure the transfer worked.\n",
        "#!cat /tmp/nyse.csv"
      ],
      "execution_count": 0,
      "outputs": [
        {
          "output_type": "stream",
          "text": [
            "Copying gs://datascience-bucket-mm/nyse-companylist.csv...\n",
            "/ [1 files][392.3 KiB/392.3 KiB]                                                \n",
            "Operation completed over 1 objects/392.3 KiB.                                    \n",
            "Copying gs://datascience-bucket-mm/nasdaq-companylist.csv...\n",
            "/ [1 files][462.5 KiB/462.5 KiB]                                                \n",
            "Operation completed over 1 objects/462.5 KiB.                                    \n"
          ],
          "name": "stdout"
        }
      ]
    },
    {
      "cell_type": "markdown",
      "metadata": {
        "id": "JIm9skg7bUkl",
        "colab_type": "text"
      },
      "source": [
        "<h3>  Testing Historical API </h3>"
      ]
    },
    {
      "cell_type": "code",
      "metadata": {
        "id": "4bNDGbCNbX6Y",
        "colab_type": "code",
        "colab": {}
      },
      "source": [
        "\n",
        "def get_statistics(ticker):\n",
        "  base_url = 'https://cloud.iexapis.com/stable/stock/{symbol}/stats?token=sk_98e397d4bee940488e1f48e9b419508f&format=csv&filter=companyName,symbol,beta,day50MovingAvg,day200MovingAvg,month6ChangePercent,month3ChangePercent,month1ChangePercent'.format(symbol=ticker)\n",
        "  df = pd.read_csv(base_url)\n",
        "  df['Symbol'] = ticker\n",
        "  return df\n",
        "\n",
        "def get_historical_data(ticker, start, end):\n",
        "  df = get_statistics(ticker)\n",
        "  return df\n",
        "  \n",
        "  \n",
        "\n",
        "def get_date_ranges():\n",
        "  end_date = date.today()\n",
        "  start_date = end_date - BDay(60)\n",
        "  return start_date, end_date\n",
        "\n",
        "def test():\n",
        "  start,end = get_date_ranges()\n",
        "  print('start:{}, end:{}'.format(start_date, end_date))\n",
        "  print(get_historical_data('AMZN', start_date, end_date))\n",
        "  \n",
        "def get_latest_price(symbol):\n",
        "  base_url = \"https://cloud.iexapis.com/stable/stock/{ticker}/quote?token=sk_98e397d4bee940488e1f48e9b419508f&format=csv&filter=symbol,close\".format(ticker=symbol)\n",
        "  import requests\n",
        "  return pd.read_csv(base_url)\n",
        "\n",
        "def get_latest_price_yahoo(symbol, as_of_date):\n",
        "  return dr.get_data_yahoo(symbol, as_of_date, as_of_date)[['Close']]\n",
        "  \n",
        "    \n",
        "  "
      ],
      "execution_count": 0,
      "outputs": []
    },
    {
      "cell_type": "markdown",
      "metadata": {
        "id": "eXSJQ73Am2dC",
        "colab_type": "text"
      },
      "source": [
        "<h3> Reading source data and computing performance </h3>"
      ]
    },
    {
      "cell_type": "code",
      "metadata": {
        "id": "HOarvasam5xL",
        "colab_type": "code",
        "colab": {}
      },
      "source": [
        "def get_nyse_df():\n",
        "  return pd.read_csv('/tmp/nyse.csv', header=0)[['Symbol', 'Name', 'Sector', 'industry']]\n"
      ],
      "execution_count": 0,
      "outputs": []
    },
    {
      "cell_type": "code",
      "metadata": {
        "id": "E_CJoVH5nm8C",
        "colab_type": "code",
        "colab": {}
      },
      "source": [
        "def compute_performance(start_dt, end_dt, ticker):\n",
        "  try:\n",
        "    import time\n",
        "    historical_df =  get_historical_data(ticker, start_dt, end_dt)\n",
        "    latest_df = get_latest_price(ticker)\n",
        "    merged = pd.merge(historical_df, latest_df, how='inner' , left_on=\"Symbol\", right_on=\"symbol\").drop('symbol', axis=1)\n",
        "    return merged\n",
        "  except Exception as e:\n",
        "    print('Exception:{}'.format(str(e)))\n",
        "    print('Unable to find data for {}:{}'.format(ticker,str(e)))"
      ],
      "execution_count": 0,
      "outputs": []
    },
    {
      "cell_type": "code",
      "metadata": {
        "id": "euF2kHI-n4qf",
        "colab_type": "code",
        "outputId": "4247f7ba-7c98-4f79-c153-ed5181a951d0",
        "colab": {
          "base_uri": "https://localhost:8080/",
          "height": 1000
        }
      },
      "source": [
        "def find_best_performing(start_dt, end_dt):\n",
        "  print('Finding Best Performing Stocks between:{}-{}'.format(start_dt, end_dt))\n",
        "  nyse_df = get_nyse_df()\n",
        "  symbols = nyse_df['Symbol'].values.tolist()\n",
        "  print('Now we have to source data for:{}'.format(len(symbols)))\n",
        "  dfs = (compute_performance(start_dt, end_dt, symbol) for symbol in symbols)\n",
        "  filtered = (df for df in dfs if df is not None)\n",
        "  all_data = pd.concat(filtered)\n",
        "  return pd.merge(nyse_df, all_data, how='inner', on='Symbol' )[['Symbol', 'Name', 'Sector', 'industry', 'companyName','close', \n",
        "       'month1ChangePercent','month3ChangePercent', 'month6ChangePercent',  'day200MovingAvg', 'day50MovingAvg']]\n",
        "  \n",
        "\n",
        "start_dt, end_dt = get_date_ranges()\n",
        "perf_df = find_best_performing(start_dt, end_dt)#compute_performance(start_dt, end_dt)\n",
        "print(perf_df.columns)\n",
        "print(perf_df.shape)"
      ],
      "execution_count": 0,
      "outputs": [
        {
          "output_type": "stream",
          "text": [
            "Finding Best Performing Stocks between:2019-05-01 00:00:00-2019-07-24\n",
            "Now we have to source data for:3524\n",
            "Exception:HTTP Error 404: Not Found\n",
            "Unable to find data for ACCP:HTTP Error 404: Not Found\n",
            "Exception:HTTP Error 404: Not Found\n",
            "Unable to find data for ZTEST:HTTP Error 404: Not Found\n",
            "Exception:HTTP Error 404: Not Found\n",
            "Unable to find data for BBRX:HTTP Error 404: Not Found\n",
            "Exception:HTTP Error 404: Not Found\n",
            "Unable to find data for BLIN          :HTTP Error 404: Not Found\n",
            "Exception:HTTP Error 404: Not Found\n",
            "Unable to find data for CRUSC:HTTP Error 404: Not Found\n",
            "Exception:HTTP Error 404: Not Found\n",
            "Unable to find data for CNTX:HTTP Error 404: Not Found\n",
            "Exception:HTTP Error 404: Not Found\n",
            "Unable to find data for DDOC:HTTP Error 404: Not Found\n",
            "Exception:HTTP Error 404: Not Found\n",
            "Unable to find data for IGLE:HTTP Error 404: Not Found\n",
            "Exception:HTTP Error 404: Not Found\n",
            "Unable to find data for EVGBC:HTTP Error 404: Not Found\n",
            "Exception:HTTP Error 404: Not Found\n",
            "Unable to find data for EVSTC:HTTP Error 404: Not Found\n",
            "Exception:HTTP Error 404: Not Found\n",
            "Unable to find data for EVFTC:HTTP Error 404: Not Found\n",
            "Exception:HTTP Error 404: Not Found\n",
            "Unable to find data for EVLMC:HTTP Error 404: Not Found\n",
            "Exception:HTTP Error 404: Not Found\n",
            "Unable to find data for OKDCC:HTTP Error 404: Not Found\n",
            "Exception:HTTP Error 404: Not Found\n",
            "Unable to find data for EHR:HTTP Error 404: Not Found\n",
            "Exception:\"['symbol'] not found in axis\"\n",
            "Unable to find data for NXTG:\"['symbol'] not found in axis\"\n",
            "Exception:HTTP Error 404: Not Found\n",
            "Unable to find data for FKLY:HTTP Error 404: Not Found\n",
            "Exception:HTTP Error 404: Not Found\n",
            "Unable to find data for FMAX:HTTP Error 404: Not Found\n",
            "Exception:HTTP Error 404: Not Found\n",
            "Unable to find data for GNST:HTTP Error 404: Not Found\n",
            "Exception:HTTP Error 404: Not Found\n",
            "Unable to find data for GBLK:HTTP Error 404: Not Found\n",
            "Exception:HTTP Error 404: Not Found\n",
            "Unable to find data for IBEX:HTTP Error 404: Not Found\n",
            "Exception:HTTP Error 404: Not Found\n",
            "Unable to find data for IVENC:HTTP Error 404: Not Found\n",
            "Exception:HTTP Error 404: Not Found\n",
            "Unable to find data for IVFGC:HTTP Error 404: Not Found\n",
            "Exception:HTTP Error 404: Not Found\n",
            "Unable to find data for IVFVC:HTTP Error 404: Not Found\n",
            "Exception:HTTP Error 404: Not Found\n",
            "Unable to find data for MOTA:HTTP Error 404: Not Found\n",
            "Exception:HTTP Error 404: Not Found\n",
            "Unable to find data for NBCP:HTTP Error 404: Not Found\n",
            "Exception:HTTP Error 404: Not Found\n",
            "Unable to find data for NXMD:HTTP Error 404: Not Found\n",
            "Exception:HTTP Error 404: Not Found\n",
            "Unable to find data for OTG:HTTP Error 404: Not Found\n",
            "Exception:HTTP Error 404: Not Found\n",
            "Unable to find data for PCIM:HTTP Error 404: Not Found\n",
            "Exception:HTTP Error 404: Not Found\n",
            "Unable to find data for POLY:HTTP Error 404: Not Found\n",
            "Exception:HTTP Error 404: Not Found\n",
            "Unable to find data for RRI:HTTP Error 404: Not Found\n",
            "Exception:HTTP Error 404: Not Found\n",
            "Unable to find data for SRVA:HTTP Error 404: Not Found\n",
            "Exception:HTTP Error 404: Not Found\n",
            "Unable to find data for VTEC:HTTP Error 404: Not Found\n",
            "Exception:HTTP Error 404: Not Found\n",
            "Unable to find data for VMET:HTTP Error 404: Not Found\n",
            "Exception:HTTP Error 404: Not Found\n",
            "Unable to find data for VIST:HTTP Error 404: Not Found\n",
            "Exception:HTTP Error 404: Not Found\n",
            "Unable to find data for WNFM:HTTP Error 404: Not Found\n"
          ],
          "name": "stdout"
        },
        {
          "output_type": "stream",
          "text": [
            "/usr/local/lib/python3.6/dist-packages/ipykernel_launcher.py:8: FutureWarning: Sorting because non-concatenation axis is not aligned. A future version\n",
            "of pandas will change to not sort by default.\n",
            "\n",
            "To accept the future behavior, pass 'sort=False'.\n",
            "\n",
            "To retain the current behavior and silence the warning, pass 'sort=True'.\n",
            "\n",
            "  \n"
          ],
          "name": "stderr"
        },
        {
          "output_type": "stream",
          "text": [
            "Index(['Symbol', 'Name', 'Sector', 'industry', 'companyName', 'close',\n",
            "       'month1ChangePercent', 'month3ChangePercent', 'month6ChangePercent',\n",
            "       'day200MovingAvg', 'day50MovingAvg'],\n",
            "      dtype='object')\n",
            "(3488, 11)\n"
          ],
          "name": "stdout"
        }
      ]
    },
    {
      "cell_type": "code",
      "metadata": {
        "id": "HFjUmniru6Kd",
        "colab_type": "code",
        "outputId": "4315d5f5-03d8-435a-c3e2-a593877d8b5e",
        "colab": {
          "base_uri": "https://localhost:8080/",
          "height": 1000
        }
      },
      "source": [
        "# Sorting \n",
        "perf_df.sort_values(by=['month1ChangePercent'], inplace=True, ascending=False)\n",
        "perf_df.head(30)\n"
      ],
      "execution_count": 0,
      "outputs": [
        {
          "output_type": "execute_result",
          "data": {
            "text/html": [
              "<div>\n",
              "<style scoped>\n",
              "    .dataframe tbody tr th:only-of-type {\n",
              "        vertical-align: middle;\n",
              "    }\n",
              "\n",
              "    .dataframe tbody tr th {\n",
              "        vertical-align: top;\n",
              "    }\n",
              "\n",
              "    .dataframe thead th {\n",
              "        text-align: right;\n",
              "    }\n",
              "</style>\n",
              "<table border=\"1\" class=\"dataframe\">\n",
              "  <thead>\n",
              "    <tr style=\"text-align: right;\">\n",
              "      <th></th>\n",
              "      <th>Symbol</th>\n",
              "      <th>Name</th>\n",
              "      <th>Sector</th>\n",
              "      <th>industry</th>\n",
              "      <th>companyName</th>\n",
              "      <th>close</th>\n",
              "      <th>month1ChangePercent</th>\n",
              "      <th>month3ChangePercent</th>\n",
              "      <th>month6ChangePercent</th>\n",
              "      <th>day200MovingAvg</th>\n",
              "      <th>day50MovingAvg</th>\n",
              "    </tr>\n",
              "  </thead>\n",
              "  <tbody>\n",
              "    <tr>\n",
              "      <th>690</th>\n",
              "      <td>CTXRW</td>\n",
              "      <td>Citius Pharmaceuticals, Inc.</td>\n",
              "      <td>Health Care</td>\n",
              "      <td>Major Pharmaceuticals</td>\n",
              "      <td>Citius Pharmaceuticals, Inc.</td>\n",
              "      <td>0.3000</td>\n",
              "      <td>3.285714</td>\n",
              "      <td>0.578947</td>\n",
              "      <td>-0.285714</td>\n",
              "      <td>0.2786</td>\n",
              "      <td>0.1174</td>\n",
              "    </tr>\n",
              "    <tr>\n",
              "      <th>301</th>\n",
              "      <td>ASV</td>\n",
              "      <td>ASV Holdings, Inc.</td>\n",
              "      <td>Capital Goods</td>\n",
              "      <td>Construction/Ag Equipment/Trucks</td>\n",
              "      <td>ASV Holdings, Inc.</td>\n",
              "      <td>6.9600</td>\n",
              "      <td>2.962571</td>\n",
              "      <td>1.773800</td>\n",
              "      <td>1.208439</td>\n",
              "      <td>3.2500</td>\n",
              "      <td>3.7700</td>\n",
              "    </tr>\n",
              "    <tr>\n",
              "      <th>181</th>\n",
              "      <td>AMRHW</td>\n",
              "      <td>Ameri Holdings, Inc.</td>\n",
              "      <td>Technology</td>\n",
              "      <td>Semiconductors</td>\n",
              "      <td>Ameri Holdings, Inc.</td>\n",
              "      <td>0.0900</td>\n",
              "      <td>2.000000</td>\n",
              "      <td>2.000000</td>\n",
              "      <td>-0.400000</td>\n",
              "      <td>0.1657</td>\n",
              "      <td>0.0496</td>\n",
              "    </tr>\n",
              "    <tr>\n",
              "      <th>2466</th>\n",
              "      <td>SKIS</td>\n",
              "      <td>Peak Resorts, Inc.</td>\n",
              "      <td>Consumer Services</td>\n",
              "      <td>Hotels/Resorts</td>\n",
              "      <td>Peak Resorts, Inc.</td>\n",
              "      <td>10.8400</td>\n",
              "      <td>1.844156</td>\n",
              "      <td>1.433333</td>\n",
              "      <td>1.319031</td>\n",
              "      <td>4.7300</td>\n",
              "      <td>4.5600</td>\n",
              "    </tr>\n",
              "    <tr>\n",
              "      <th>3012</th>\n",
              "      <td>TRNX</td>\n",
              "      <td>Taronis Technologies, Inc.</td>\n",
              "      <td>Technology</td>\n",
              "      <td>Industrial Machinery/Components</td>\n",
              "      <td>Taronis Technologies, Inc.</td>\n",
              "      <td>0.5180</td>\n",
              "      <td>1.347347</td>\n",
              "      <td>-0.185764</td>\n",
              "      <td>-0.879744</td>\n",
              "      <td>2.4932</td>\n",
              "      <td>0.3582</td>\n",
              "    </tr>\n",
              "    <tr>\n",
              "      <th>1602</th>\n",
              "      <td>IFMK</td>\n",
              "      <td>iFresh Inc.</td>\n",
              "      <td>Consumer Services</td>\n",
              "      <td>Food Chains</td>\n",
              "      <td>iFresh, Inc.</td>\n",
              "      <td>1.9400</td>\n",
              "      <td>1.166667</td>\n",
              "      <td>0.962264</td>\n",
              "      <td>0.507246</td>\n",
              "      <td>1.2400</td>\n",
              "      <td>1.2300</td>\n",
              "    </tr>\n",
              "    <tr>\n",
              "      <th>1063</th>\n",
              "      <td>EVOK</td>\n",
              "      <td>Evoke Pharma, Inc.</td>\n",
              "      <td>Health Care</td>\n",
              "      <td>Major Pharmaceuticals</td>\n",
              "      <td>Evoke Pharma, Inc.</td>\n",
              "      <td>1.1400</td>\n",
              "      <td>1.050847</td>\n",
              "      <td>0.689944</td>\n",
              "      <td>-0.572438</td>\n",
              "      <td>1.7800</td>\n",
              "      <td>0.7100</td>\n",
              "    </tr>\n",
              "    <tr>\n",
              "      <th>31</th>\n",
              "      <td>ACST</td>\n",
              "      <td>Acasti Pharma, Inc.</td>\n",
              "      <td>Health Care</td>\n",
              "      <td>Major Pharmaceuticals</td>\n",
              "      <td>Acasti Pharma, Inc.</td>\n",
              "      <td>2.3400</td>\n",
              "      <td>1.009901</td>\n",
              "      <td>1.255556</td>\n",
              "      <td>0.970874</td>\n",
              "      <td>0.9900</td>\n",
              "      <td>1.1000</td>\n",
              "    </tr>\n",
              "    <tr>\n",
              "      <th>1081</th>\n",
              "      <td>EYEGW</td>\n",
              "      <td>Eyegate Pharmaceuticals, Inc.</td>\n",
              "      <td>Health Care</td>\n",
              "      <td>Major Pharmaceuticals</td>\n",
              "      <td>EyeGate Pharmaceuticals, Inc.</td>\n",
              "      <td>0.0290</td>\n",
              "      <td>1.000000</td>\n",
              "      <td>-0.200000</td>\n",
              "      <td>-0.555556</td>\n",
              "      <td>0.0683</td>\n",
              "      <td>0.0400</td>\n",
              "    </tr>\n",
              "    <tr>\n",
              "      <th>604</th>\n",
              "      <td>CETXW</td>\n",
              "      <td>Cemtrex Inc.</td>\n",
              "      <td>Capital Goods</td>\n",
              "      <td>Industrial Machinery/Components</td>\n",
              "      <td>Cemtrex, Inc.</td>\n",
              "      <td>0.0400</td>\n",
              "      <td>1.000000</td>\n",
              "      <td>-0.800000</td>\n",
              "      <td>-0.800000</td>\n",
              "      <td>0.1548</td>\n",
              "      <td>0.0276</td>\n",
              "    </tr>\n",
              "    <tr>\n",
              "      <th>1315</th>\n",
              "      <td>FCEL</td>\n",
              "      <td>FuelCell Energy, Inc.</td>\n",
              "      <td>Miscellaneous</td>\n",
              "      <td>Industrial Machinery/Components</td>\n",
              "      <td>FuelCell Energy, Inc.</td>\n",
              "      <td>0.3301</td>\n",
              "      <td>0.975557</td>\n",
              "      <td>-0.895489</td>\n",
              "      <td>-0.942160</td>\n",
              "      <td>5.1649</td>\n",
              "      <td>0.6931</td>\n",
              "    </tr>\n",
              "    <tr>\n",
              "      <th>2993</th>\n",
              "      <td>SES</td>\n",
              "      <td>Synthesis Energy Systems, Inc.</td>\n",
              "      <td>Basic Industries</td>\n",
              "      <td>Major Chemicals</td>\n",
              "      <td>Synthesis Energy Systems, Inc.</td>\n",
              "      <td>5.9900</td>\n",
              "      <td>0.942323</td>\n",
              "      <td>0.719114</td>\n",
              "      <td>-0.016667</td>\n",
              "      <td>6.5500</td>\n",
              "      <td>3.1900</td>\n",
              "    </tr>\n",
              "    <tr>\n",
              "      <th>1270</th>\n",
              "      <td>FPAY</td>\n",
              "      <td>FlexShopper, Inc.</td>\n",
              "      <td>Technology</td>\n",
              "      <td>Diversified Commercial Services</td>\n",
              "      <td>FlexShopper, Inc.</td>\n",
              "      <td>2.0500</td>\n",
              "      <td>0.894737</td>\n",
              "      <td>1.218310</td>\n",
              "      <td>1.309666</td>\n",
              "      <td>0.8900</td>\n",
              "      <td>1.1000</td>\n",
              "    </tr>\n",
              "    <tr>\n",
              "      <th>2676</th>\n",
              "      <td>REKR</td>\n",
              "      <td>Rekor Systems, Inc.</td>\n",
              "      <td>Capital Goods</td>\n",
              "      <td>Telecommunications Equipment</td>\n",
              "      <td>Rekor Systems, Inc.</td>\n",
              "      <td>4.0000</td>\n",
              "      <td>0.866667</td>\n",
              "      <td>4.275362</td>\n",
              "      <td>4.200743</td>\n",
              "      <td>0.9900</td>\n",
              "      <td>1.5600</td>\n",
              "    </tr>\n",
              "    <tr>\n",
              "      <th>809</th>\n",
              "      <td>CREXW</td>\n",
              "      <td>Creative Realities, Inc.</td>\n",
              "      <td>Technology</td>\n",
              "      <td>EDP Services</td>\n",
              "      <td>Creative Realities, Inc.</td>\n",
              "      <td>0.3900</td>\n",
              "      <td>0.850000</td>\n",
              "      <td>0.121212</td>\n",
              "      <td>1.312500</td>\n",
              "      <td>0.5174</td>\n",
              "      <td>0.5174</td>\n",
              "    </tr>\n",
              "    <tr>\n",
              "      <th>2880</th>\n",
              "      <td>SNGX</td>\n",
              "      <td>Soligenix, Inc.</td>\n",
              "      <td>Health Care</td>\n",
              "      <td>Major Pharmaceuticals</td>\n",
              "      <td>Soligenix, Inc.</td>\n",
              "      <td>1.2500</td>\n",
              "      <td>0.822064</td>\n",
              "      <td>0.828571</td>\n",
              "      <td>0.319452</td>\n",
              "      <td>0.9400</td>\n",
              "      <td>0.8000</td>\n",
              "    </tr>\n",
              "    <tr>\n",
              "      <th>463</th>\n",
              "      <td>BLNKW</td>\n",
              "      <td>Blink Charging Co.</td>\n",
              "      <td>Consumer Durables</td>\n",
              "      <td>Electrical Products</td>\n",
              "      <td>Blink Charging Co.</td>\n",
              "      <td>0.6300</td>\n",
              "      <td>0.774194</td>\n",
              "      <td>-0.388889</td>\n",
              "      <td>-0.521739</td>\n",
              "      <td>1.0471</td>\n",
              "      <td>0.5162</td>\n",
              "    </tr>\n",
              "    <tr>\n",
              "      <th>720</th>\n",
              "      <td>CODX</td>\n",
              "      <td>Co-Diagnostics, Inc.</td>\n",
              "      <td>Health Care</td>\n",
              "      <td>Medical/Dental Instruments</td>\n",
              "      <td>Co-Diagnostics, Inc.</td>\n",
              "      <td>1.3500</td>\n",
              "      <td>0.699438</td>\n",
              "      <td>0.174757</td>\n",
              "      <td>0.258319</td>\n",
              "      <td>1.3800</td>\n",
              "      <td>0.8700</td>\n",
              "    </tr>\n",
              "    <tr>\n",
              "      <th>941</th>\n",
              "      <td>DOVA</td>\n",
              "      <td>Dova Pharmaceuticals, Inc.</td>\n",
              "      <td>Health Care</td>\n",
              "      <td>Major Pharmaceuticals</td>\n",
              "      <td>Dova Pharmaceuticals, Inc.</td>\n",
              "      <td>16.1500</td>\n",
              "      <td>0.687701</td>\n",
              "      <td>0.876338</td>\n",
              "      <td>1.203911</td>\n",
              "      <td>11.5300</td>\n",
              "      <td>11.8900</td>\n",
              "    </tr>\n",
              "    <tr>\n",
              "      <th>2405</th>\n",
              "      <td>OSTK</td>\n",
              "      <td>Overstock.com, Inc.</td>\n",
              "      <td>Consumer Services</td>\n",
              "      <td>Catalog/Specialty Distribution</td>\n",
              "      <td>Overstock.com, Inc.</td>\n",
              "      <td>19.1100</td>\n",
              "      <td>0.664253</td>\n",
              "      <td>0.340379</td>\n",
              "      <td>0.163188</td>\n",
              "      <td>16.7000</td>\n",
              "      <td>12.6500</td>\n",
              "    </tr>\n",
              "    <tr>\n",
              "      <th>2770</th>\n",
              "      <td>SCPH</td>\n",
              "      <td>scPharmaceuticals Inc.</td>\n",
              "      <td>Health Care</td>\n",
              "      <td>Major Pharmaceuticals</td>\n",
              "      <td>scPharmaceuticals, Inc.</td>\n",
              "      <td>5.2700</td>\n",
              "      <td>0.662116</td>\n",
              "      <td>0.596721</td>\n",
              "      <td>0.337912</td>\n",
              "      <td>3.8100</td>\n",
              "      <td>3.6000</td>\n",
              "    </tr>\n",
              "    <tr>\n",
              "      <th>2864</th>\n",
              "      <td>SGH</td>\n",
              "      <td>SMART Global Holdings, Inc.</td>\n",
              "      <td>Technology</td>\n",
              "      <td>Semiconductors</td>\n",
              "      <td>SMART Global Holdings, Inc.</td>\n",
              "      <td>32.8200</td>\n",
              "      <td>0.627551</td>\n",
              "      <td>0.397897</td>\n",
              "      <td>0.397284</td>\n",
              "      <td>25.6400</td>\n",
              "      <td>22.0000</td>\n",
              "    </tr>\n",
              "    <tr>\n",
              "      <th>639</th>\n",
              "      <td>CHEKZ</td>\n",
              "      <td>Check-Cap Ltd.</td>\n",
              "      <td>Health Care</td>\n",
              "      <td>Medical Electronics</td>\n",
              "      <td>Check-Cap Ltd.</td>\n",
              "      <td>0.2940</td>\n",
              "      <td>0.625000</td>\n",
              "      <td>0.101695</td>\n",
              "      <td>0.300000</td>\n",
              "      <td>0.6334</td>\n",
              "      <td>0.4784</td>\n",
              "    </tr>\n",
              "    <tr>\n",
              "      <th>3440</th>\n",
              "      <td>XELB</td>\n",
              "      <td>Xcel Brands, Inc</td>\n",
              "      <td>Miscellaneous</td>\n",
              "      <td>Multi-Sector Companies</td>\n",
              "      <td>XCel Brands, Inc.</td>\n",
              "      <td>2.1300</td>\n",
              "      <td>0.623077</td>\n",
              "      <td>0.648438</td>\n",
              "      <td>0.598485</td>\n",
              "      <td>1.6600</td>\n",
              "      <td>1.7000</td>\n",
              "    </tr>\n",
              "    <tr>\n",
              "      <th>342</th>\n",
              "      <td>CDMO</td>\n",
              "      <td>Avid Bioservices, Inc.</td>\n",
              "      <td>Health Care</td>\n",
              "      <td>Major Pharmaceuticals</td>\n",
              "      <td>Avid Bioservices, Inc.</td>\n",
              "      <td>6.4000</td>\n",
              "      <td>0.611979</td>\n",
              "      <td>0.345652</td>\n",
              "      <td>0.705234</td>\n",
              "      <td>4.5800</td>\n",
              "      <td>4.6000</td>\n",
              "    </tr>\n",
              "    <tr>\n",
              "      <th>2128</th>\n",
              "      <td>MTC</td>\n",
              "      <td>MMTec, Inc.</td>\n",
              "      <td>NaN</td>\n",
              "      <td>NaN</td>\n",
              "      <td>MMTec, Inc.</td>\n",
              "      <td>15.3000</td>\n",
              "      <td>0.590486</td>\n",
              "      <td>2.597066</td>\n",
              "      <td>1.298750</td>\n",
              "      <td>6.6300</td>\n",
              "      <td>9.1400</td>\n",
              "    </tr>\n",
              "    <tr>\n",
              "      <th>2009</th>\n",
              "      <td>LKCO</td>\n",
              "      <td>Luokung Technology Corp</td>\n",
              "      <td>Technology</td>\n",
              "      <td>EDP Services</td>\n",
              "      <td>Luokung Technology Corp.</td>\n",
              "      <td>9.1800</td>\n",
              "      <td>0.540404</td>\n",
              "      <td>0.345588</td>\n",
              "      <td>-0.224576</td>\n",
              "      <td>8.6200</td>\n",
              "      <td>6.9600</td>\n",
              "    </tr>\n",
              "    <tr>\n",
              "      <th>1282</th>\n",
              "      <td>FRSX</td>\n",
              "      <td>Foresight Autonomous Holdings Ltd.</td>\n",
              "      <td>Technology</td>\n",
              "      <td>Computer Software: Prepackaged Software</td>\n",
              "      <td>FORESIGHT AUTONOMOUS HOLDINGS LTD.</td>\n",
              "      <td>1.8500</td>\n",
              "      <td>0.538051</td>\n",
              "      <td>0.304971</td>\n",
              "      <td>-0.028854</td>\n",
              "      <td>1.7300</td>\n",
              "      <td>1.3000</td>\n",
              "    </tr>\n",
              "    <tr>\n",
              "      <th>2491</th>\n",
              "      <td>PERI</td>\n",
              "      <td>Perion Network Ltd</td>\n",
              "      <td>Technology</td>\n",
              "      <td>EDP Services</td>\n",
              "      <td>Perion Network Ltd.</td>\n",
              "      <td>4.4400</td>\n",
              "      <td>0.536585</td>\n",
              "      <td>0.536585</td>\n",
              "      <td>0.378125</td>\n",
              "      <td>2.9800</td>\n",
              "      <td>3.1800</td>\n",
              "    </tr>\n",
              "    <tr>\n",
              "      <th>348</th>\n",
              "      <td>AVRO</td>\n",
              "      <td>AVROBIO, Inc.</td>\n",
              "      <td>Health Care</td>\n",
              "      <td>Biotechnology: Biological Products (No Diagnos...</td>\n",
              "      <td>Avrobio, Inc.</td>\n",
              "      <td>22.9600</td>\n",
              "      <td>0.534053</td>\n",
              "      <td>0.137500</td>\n",
              "      <td>0.724792</td>\n",
              "      <td>19.3800</td>\n",
              "      <td>16.1300</td>\n",
              "    </tr>\n",
              "  </tbody>\n",
              "</table>\n",
              "</div>"
            ],
            "text/plain": [
              "     Symbol  ... day50MovingAvg\n",
              "690   CTXRW  ...         0.1174\n",
              "301     ASV  ...         3.7700\n",
              "181   AMRHW  ...         0.0496\n",
              "2466   SKIS  ...         4.5600\n",
              "3012   TRNX  ...         0.3582\n",
              "1602   IFMK  ...         1.2300\n",
              "1063   EVOK  ...         0.7100\n",
              "31     ACST  ...         1.1000\n",
              "1081  EYEGW  ...         0.0400\n",
              "604   CETXW  ...         0.0276\n",
              "1315   FCEL  ...         0.6931\n",
              "2993    SES  ...         3.1900\n",
              "1270   FPAY  ...         1.1000\n",
              "2676   REKR  ...         1.5600\n",
              "809   CREXW  ...         0.5174\n",
              "2880   SNGX  ...         0.8000\n",
              "463   BLNKW  ...         0.5162\n",
              "720    CODX  ...         0.8700\n",
              "941    DOVA  ...        11.8900\n",
              "2405   OSTK  ...        12.6500\n",
              "2770   SCPH  ...         3.6000\n",
              "2864    SGH  ...        22.0000\n",
              "639   CHEKZ  ...         0.4784\n",
              "3440   XELB  ...         1.7000\n",
              "342    CDMO  ...         4.6000\n",
              "2128    MTC  ...         9.1400\n",
              "2009   LKCO  ...         6.9600\n",
              "1282   FRSX  ...         1.3000\n",
              "2491   PERI  ...         3.1800\n",
              "348    AVRO  ...        16.1300\n",
              "\n",
              "[30 rows x 11 columns]"
            ]
          },
          "metadata": {
            "tags": []
          },
          "execution_count": 9
        }
      ]
    },
    {
      "cell_type": "markdown",
      "metadata": {
        "id": "WEBMn4Zlkjgf",
        "colab_type": "text"
      },
      "source": [
        "<h3> Group by sector, to find best performers </h3>"
      ]
    },
    {
      "cell_type": "code",
      "metadata": {
        "id": "_BrXBHSsqa9f",
        "colab_type": "code",
        "outputId": "b9eba1a6-f18b-4540-e304-f54fad691ea8",
        "colab": {
          "base_uri": "https://localhost:8080/",
          "height": 700
        }
      },
      "source": [
        "res = perf_df[['industry', 'month1ChangePercent','month3ChangePercent', ]].groupby(['industry']).mean().sort_values(by=['month1ChangePercent','month1ChangePercent'], ascending=False)\n",
        "res.head(20)"
      ],
      "execution_count": 0,
      "outputs": [
        {
          "output_type": "execute_result",
          "data": {
            "text/html": [
              "<div>\n",
              "<style scoped>\n",
              "    .dataframe tbody tr th:only-of-type {\n",
              "        vertical-align: middle;\n",
              "    }\n",
              "\n",
              "    .dataframe tbody tr th {\n",
              "        vertical-align: top;\n",
              "    }\n",
              "\n",
              "    .dataframe thead th {\n",
              "        text-align: right;\n",
              "    }\n",
              "</style>\n",
              "<table border=\"1\" class=\"dataframe\">\n",
              "  <thead>\n",
              "    <tr style=\"text-align: right;\">\n",
              "      <th></th>\n",
              "      <th>month1ChangePercent</th>\n",
              "      <th>month3ChangePercent</th>\n",
              "    </tr>\n",
              "    <tr>\n",
              "      <th>industry</th>\n",
              "      <th></th>\n",
              "      <th></th>\n",
              "    </tr>\n",
              "  </thead>\n",
              "  <tbody>\n",
              "    <tr>\n",
              "      <th>Construction/Ag Equipment/Trucks</th>\n",
              "      <td>0.623505</td>\n",
              "      <td>0.391324</td>\n",
              "    </tr>\n",
              "    <tr>\n",
              "      <th>Food Chains</th>\n",
              "      <td>0.224757</td>\n",
              "      <td>0.162845</td>\n",
              "    </tr>\n",
              "    <tr>\n",
              "      <th>Oil/Gas Transmission</th>\n",
              "      <td>0.196226</td>\n",
              "      <td>0.054032</td>\n",
              "    </tr>\n",
              "    <tr>\n",
              "      <th>Shoe Manufacturing</th>\n",
              "      <td>0.180125</td>\n",
              "      <td>-0.129228</td>\n",
              "    </tr>\n",
              "    <tr>\n",
              "      <th>Other Pharmaceuticals</th>\n",
              "      <td>0.177430</td>\n",
              "      <td>0.163765</td>\n",
              "    </tr>\n",
              "    <tr>\n",
              "      <th>Medical Electronics</th>\n",
              "      <td>0.145786</td>\n",
              "      <td>-0.042202</td>\n",
              "    </tr>\n",
              "    <tr>\n",
              "      <th>Aluminum</th>\n",
              "      <td>0.128936</td>\n",
              "      <td>-0.149153</td>\n",
              "    </tr>\n",
              "    <tr>\n",
              "      <th>Hotels/Resorts</th>\n",
              "      <td>0.112513</td>\n",
              "      <td>-0.001065</td>\n",
              "    </tr>\n",
              "    <tr>\n",
              "      <th>Auto Manufacturing</th>\n",
              "      <td>0.101077</td>\n",
              "      <td>0.450148</td>\n",
              "    </tr>\n",
              "    <tr>\n",
              "      <th>Semiconductors</th>\n",
              "      <td>0.095468</td>\n",
              "      <td>0.008479</td>\n",
              "    </tr>\n",
              "    <tr>\n",
              "      <th>Marine Transportation</th>\n",
              "      <td>0.087419</td>\n",
              "      <td>-0.066097</td>\n",
              "    </tr>\n",
              "    <tr>\n",
              "      <th>Building Materials</th>\n",
              "      <td>0.085101</td>\n",
              "      <td>-0.070988</td>\n",
              "    </tr>\n",
              "    <tr>\n",
              "      <th>Building Products</th>\n",
              "      <td>0.080111</td>\n",
              "      <td>0.246458</td>\n",
              "    </tr>\n",
              "    <tr>\n",
              "      <th>Specialty Foods</th>\n",
              "      <td>0.072919</td>\n",
              "      <td>0.125619</td>\n",
              "    </tr>\n",
              "    <tr>\n",
              "      <th>Multi-Sector Companies</th>\n",
              "      <td>0.071483</td>\n",
              "      <td>0.014590</td>\n",
              "    </tr>\n",
              "    <tr>\n",
              "      <th>Miscellaneous</th>\n",
              "      <td>0.070950</td>\n",
              "      <td>-0.078618</td>\n",
              "    </tr>\n",
              "    <tr>\n",
              "      <th>Industrial Machinery/Components</th>\n",
              "      <td>0.070639</td>\n",
              "      <td>-0.066877</td>\n",
              "    </tr>\n",
              "    <tr>\n",
              "      <th>Steel/Iron Ore</th>\n",
              "      <td>0.066726</td>\n",
              "      <td>-0.001458</td>\n",
              "    </tr>\n",
              "    <tr>\n",
              "      <th>Investment Managers</th>\n",
              "      <td>0.063184</td>\n",
              "      <td>0.093990</td>\n",
              "    </tr>\n",
              "    <tr>\n",
              "      <th>Trucking Freight/Courier Services</th>\n",
              "      <td>0.061340</td>\n",
              "      <td>-0.122563</td>\n",
              "    </tr>\n",
              "  </tbody>\n",
              "</table>\n",
              "</div>"
            ],
            "text/plain": [
              "                                   month1ChangePercent  month3ChangePercent\n",
              "industry                                                                   \n",
              "Construction/Ag Equipment/Trucks              0.623505             0.391324\n",
              "Food Chains                                   0.224757             0.162845\n",
              "Oil/Gas Transmission                          0.196226             0.054032\n",
              "Shoe Manufacturing                            0.180125            -0.129228\n",
              "Other Pharmaceuticals                         0.177430             0.163765\n",
              "Medical Electronics                           0.145786            -0.042202\n",
              "Aluminum                                      0.128936            -0.149153\n",
              "Hotels/Resorts                                0.112513            -0.001065\n",
              "Auto Manufacturing                            0.101077             0.450148\n",
              "Semiconductors                                0.095468             0.008479\n",
              "Marine Transportation                         0.087419            -0.066097\n",
              "Building Materials                            0.085101            -0.070988\n",
              "Building Products                             0.080111             0.246458\n",
              "Specialty Foods                               0.072919             0.125619\n",
              "Multi-Sector Companies                        0.071483             0.014590\n",
              "Miscellaneous                                 0.070950            -0.078618\n",
              "Industrial Machinery/Components               0.070639            -0.066877\n",
              "Steel/Iron Ore                                0.066726            -0.001458\n",
              "Investment Managers                           0.063184             0.093990\n",
              "Trucking Freight/Courier Services             0.061340            -0.122563"
            ]
          },
          "metadata": {
            "tags": []
          },
          "execution_count": 10
        }
      ]
    },
    {
      "cell_type": "code",
      "metadata": {
        "id": "40EhK7GBNYsb",
        "colab_type": "code",
        "outputId": "5a8b6fcf-465d-4381-c022-25670514a26e",
        "colab": {
          "base_uri": "https://localhost:8080/",
          "height": 85
        }
      },
      "source": [
        "# Panda test\n",
        "base_url = 'https://cloud.iexapis.com/stable/stock/{symbol}/stats?token=sk_98e397d4bee940488e1f48e9b419508f&format=csv&filter=companyName,symbol,day50MovingAvg,day200MovingAvg,month6ChangePercent,month3ChangePercent,month1ChangePercent'.format(symbol='AMZN')\n",
        "df = pd.read_csv(base_url)\n",
        "df['symbol'] = 'AMZN'\n",
        "df.columns\n",
        "  "
      ],
      "execution_count": 0,
      "outputs": [
        {
          "output_type": "execute_result",
          "data": {
            "text/plain": [
              "Index(['companyName', 'day50MovingAvg', 'day200MovingAvg',\n",
              "       'month6ChangePercent', 'month3ChangePercent', 'month1ChangePercent',\n",
              "       'symbol'],\n",
              "      dtype='object')"
            ]
          },
          "metadata": {
            "tags": []
          },
          "execution_count": 9
        }
      ]
    },
    {
      "cell_type": "code",
      "metadata": {
        "id": "xo-53H6Pu4Px",
        "colab_type": "code",
        "outputId": "ba7aed85-4b3e-4da2-ee55-f34bef2f2fd0",
        "colab": {
          "base_uri": "https://localhost:8080/",
          "height": 80
        }
      },
      "source": [
        "get_statistics('AMZN')"
      ],
      "execution_count": 0,
      "outputs": [
        {
          "output_type": "execute_result",
          "data": {
            "text/html": [
              "<div>\n",
              "<style scoped>\n",
              "    .dataframe tbody tr th:only-of-type {\n",
              "        vertical-align: middle;\n",
              "    }\n",
              "\n",
              "    .dataframe tbody tr th {\n",
              "        vertical-align: top;\n",
              "    }\n",
              "\n",
              "    .dataframe thead th {\n",
              "        text-align: right;\n",
              "    }\n",
              "</style>\n",
              "<table border=\"1\" class=\"dataframe\">\n",
              "  <thead>\n",
              "    <tr style=\"text-align: right;\">\n",
              "      <th></th>\n",
              "      <th>companyName</th>\n",
              "      <th>beta</th>\n",
              "      <th>day50MovingAvg</th>\n",
              "      <th>day200MovingAvg</th>\n",
              "      <th>month6ChangePercent</th>\n",
              "      <th>month3ChangePercent</th>\n",
              "      <th>month1ChangePercent</th>\n",
              "    </tr>\n",
              "  </thead>\n",
              "  <tbody>\n",
              "    <tr>\n",
              "      <th>0</th>\n",
              "      <td>Amazon.com, Inc.</td>\n",
              "      <td>1.843297</td>\n",
              "      <td>1871.88</td>\n",
              "      <td>1744.88</td>\n",
              "      <td>0.230806</td>\n",
              "      <td>0.066052</td>\n",
              "      <td>0.121094</td>\n",
              "    </tr>\n",
              "  </tbody>\n",
              "</table>\n",
              "</div>"
            ],
            "text/plain": [
              "        companyName      beta  ...  month3ChangePercent  month1ChangePercent\n",
              "0  Amazon.com, Inc.  1.843297  ...             0.066052             0.121094\n",
              "\n",
              "[1 rows x 7 columns]"
            ]
          },
          "metadata": {
            "tags": []
          },
          "execution_count": 9
        }
      ]
    },
    {
      "cell_type": "code",
      "metadata": {
        "id": "2nnNPGe2NBtY",
        "colab_type": "code",
        "outputId": "4630d1e5-b31d-4027-f154-4a2699238651",
        "colab": {
          "base_uri": "https://localhost:8080/",
          "height": 80
        }
      },
      "source": [
        "get_latest_price('AMZN')"
      ],
      "execution_count": 0,
      "outputs": [
        {
          "output_type": "execute_result",
          "data": {
            "text/html": [
              "<div>\n",
              "<style scoped>\n",
              "    .dataframe tbody tr th:only-of-type {\n",
              "        vertical-align: middle;\n",
              "    }\n",
              "\n",
              "    .dataframe tbody tr th {\n",
              "        vertical-align: top;\n",
              "    }\n",
              "\n",
              "    .dataframe thead th {\n",
              "        text-align: right;\n",
              "    }\n",
              "</style>\n",
              "<table border=\"1\" class=\"dataframe\">\n",
              "  <thead>\n",
              "    <tr style=\"text-align: right;\">\n",
              "      <th></th>\n",
              "      <th>symbol</th>\n",
              "      <th>close</th>\n",
              "    </tr>\n",
              "  </thead>\n",
              "  <tbody>\n",
              "    <tr>\n",
              "      <th>0</th>\n",
              "      <td>AMZN</td>\n",
              "      <td>2009.9</td>\n",
              "    </tr>\n",
              "  </tbody>\n",
              "</table>\n",
              "</div>"
            ],
            "text/plain": [
              "  symbol   close\n",
              "0   AMZN  2009.9"
            ]
          },
          "metadata": {
            "tags": []
          },
          "execution_count": 12
        }
      ]
    },
    {
      "cell_type": "code",
      "metadata": {
        "id": "wD1vEnGravx6",
        "colab_type": "code",
        "outputId": "28791184-a9f7-4441-a6b2-a483b197ac7e",
        "colab": {
          "base_uri": "https://localhost:8080/",
          "height": 111
        }
      },
      "source": [
        "dr.get_data_yahoo('AMZN', date(2019,7,16), date(2019,7,16))\n"
      ],
      "execution_count": 0,
      "outputs": [
        {
          "output_type": "execute_result",
          "data": {
            "text/html": [
              "<div>\n",
              "<style scoped>\n",
              "    .dataframe tbody tr th:only-of-type {\n",
              "        vertical-align: middle;\n",
              "    }\n",
              "\n",
              "    .dataframe tbody tr th {\n",
              "        vertical-align: top;\n",
              "    }\n",
              "\n",
              "    .dataframe thead th {\n",
              "        text-align: right;\n",
              "    }\n",
              "</style>\n",
              "<table border=\"1\" class=\"dataframe\">\n",
              "  <thead>\n",
              "    <tr style=\"text-align: right;\">\n",
              "      <th></th>\n",
              "      <th>High</th>\n",
              "      <th>Low</th>\n",
              "      <th>Open</th>\n",
              "      <th>Close</th>\n",
              "      <th>Volume</th>\n",
              "      <th>Adj Close</th>\n",
              "    </tr>\n",
              "    <tr>\n",
              "      <th>Date</th>\n",
              "      <th></th>\n",
              "      <th></th>\n",
              "      <th></th>\n",
              "      <th></th>\n",
              "      <th></th>\n",
              "      <th></th>\n",
              "    </tr>\n",
              "  </thead>\n",
              "  <tbody>\n",
              "    <tr>\n",
              "      <th>2019-07-16</th>\n",
              "      <td>2026.319946</td>\n",
              "      <td>2001.219971</td>\n",
              "      <td>2010.579956</td>\n",
              "      <td>2009.900024</td>\n",
              "      <td>2553900</td>\n",
              "      <td>2009.900024</td>\n",
              "    </tr>\n",
              "  </tbody>\n",
              "</table>\n",
              "</div>"
            ],
            "text/plain": [
              "                   High          Low  ...   Volume    Adj Close\n",
              "Date                                  ...                      \n",
              "2019-07-16  2026.319946  2001.219971  ...  2553900  2009.900024\n",
              "\n",
              "[1 rows x 6 columns]"
            ]
          },
          "metadata": {
            "tags": []
          },
          "execution_count": 16
        }
      ]
    },
    {
      "cell_type": "code",
      "metadata": {
        "id": "bIbncORqc9Ku",
        "colab_type": "code",
        "outputId": "0c9a9fa4-0108-4a4e-f62d-cf45c3c4ce9a",
        "colab": {
          "base_uri": "https://localhost:8080/",
          "height": 289
        }
      },
      "source": [
        "def get_historical_price(symbol, as_of_date):\n",
        "  # Leveraging Historical\n",
        "  import requests\n",
        "  historical_url = 'https://cloud.iexapis.com/stable/stock/{symbol}/chart/date/{cob}?token=sk_98e397d4bee940488e1f48e9b419508f&chartByDay=true'.format(\n",
        "                        symbol=symbol, cob=as_of_date.strftime('%Y%m%d'))\n",
        "  print('Fetching data for {} from:{}'.format(symbol, historical_url))\n",
        "  return requests.get(historical_url).json()\n",
        "\n",
        "get_historical_price('AMZN', date(2019,7,16))"
      ],
      "execution_count": 0,
      "outputs": [
        {
          "output_type": "stream",
          "text": [
            "Fetching data for AMZN from:https://cloud.iexapis.com/stable/stock/AMZN/chart/date/20190716?token=sk_98e397d4bee940488e1f48e9b419508f&chartByDay=true\n"
          ],
          "name": "stdout"
        },
        {
          "output_type": "execute_result",
          "data": {
            "text/plain": [
              "[{'change': 0,\n",
              "  'changeOverTime': 0,\n",
              "  'changePercent': 0,\n",
              "  'close': 2009.9,\n",
              "  'date': '2019-07-16',\n",
              "  'high': 2026.32,\n",
              "  'label': 'Jul 16',\n",
              "  'low': 2001.22,\n",
              "  'open': 2010.58,\n",
              "  'uClose': 2009.9,\n",
              "  'uHigh': 2026.32,\n",
              "  'uLow': 2001.22,\n",
              "  'uOpen': 2010.58,\n",
              "  'uVolume': 2618198,\n",
              "  'volume': 2618198}]"
            ]
          },
          "metadata": {
            "tags": []
          },
          "execution_count": 15
        }
      ]
    },
    {
      "cell_type": "code",
      "metadata": {
        "id": "QQs2ED0_f1iE",
        "colab_type": "code",
        "outputId": "487615b1-b6d1-4838-ad21-b5bdba4e84cd",
        "colab": {
          "base_uri": "https://localhost:8080/",
          "height": 1000
        }
      },
      "source": [
        "def get_batch_request():\n",
        "  import requests\n",
        "  iex_url = 'https://cloud.iexapis.com/stable/stock/aapl/batch?token=sk_98e397d4bee940488e1f48e9b419508f&types=quote,stats&range=1d&last=1'\n",
        "  return requests.get(iex_url).json()\n",
        "get_batch_request()"
      ],
      "execution_count": 0,
      "outputs": [
        {
          "output_type": "execute_result",
          "data": {
            "text/plain": [
              "{'quote': {'avgTotalVolume': 22770576,\n",
              "  'calculationPrice': 'tops',\n",
              "  'change': -1.15,\n",
              "  'changePercent': -0.00562,\n",
              "  'close': 204.5,\n",
              "  'closeTime': 1563307200182,\n",
              "  'companyName': 'Apple, Inc.',\n",
              "  'delayedPrice': 203.99,\n",
              "  'delayedPriceTime': 1563392746921,\n",
              "  'extendedChange': 0.93,\n",
              "  'extendedChangePercent': 0.00457,\n",
              "  'extendedPrice': 204.28,\n",
              "  'extendedPriceTime': 1563370200392,\n",
              "  'high': 205.091,\n",
              "  'iexAskPrice': 0,\n",
              "  'iexAskSize': 0,\n",
              "  'iexBidPrice': 0,\n",
              "  'iexBidSize': 0,\n",
              "  'iexLastUpdated': 1563393597008,\n",
              "  'iexMarketPercent': 0.033215496439546736,\n",
              "  'iexRealtimePrice': 203.35,\n",
              "  'iexRealtimeSize': 20,\n",
              "  'iexVolume': 436383,\n",
              "  'lastTradeTime': 1563393597008,\n",
              "  'latestPrice': 203.35,\n",
              "  'latestSource': 'IEX real time price',\n",
              "  'latestTime': '3:59:57 PM',\n",
              "  'latestUpdate': 1563393597008,\n",
              "  'latestVolume': 13137934,\n",
              "  'low': 203.66,\n",
              "  'marketCap': 935629618000,\n",
              "  'open': 204.05,\n",
              "  'openTime': 1563370200444,\n",
              "  'peRatio': 16.96,\n",
              "  'previousClose': 204.5,\n",
              "  'previousVolume': None,\n",
              "  'primaryExchange': 'NASDAQ',\n",
              "  'symbol': 'AAPL',\n",
              "  'volume': 13137934,\n",
              "  'week52High': 233.47,\n",
              "  'week52Low': 142,\n",
              "  'ytdChange': 0.289339},\n",
              " 'stats': {'avg10Volume': 18097785.1,\n",
              "  'avg30Volume': 22770576.3,\n",
              "  'beta': 1.5145397147957016,\n",
              "  'companyName': 'Apple, Inc.',\n",
              "  'day200MovingAvg': 187.64,\n",
              "  'day30ChangePercent': 0.138388,\n",
              "  'day50MovingAvg': 193.36,\n",
              "  'day5ChangePercent': 0.006249,\n",
              "  'dividendYield': 0.014278728606356967,\n",
              "  'employees': 132000,\n",
              "  'exDividendDate': '2019-05-10',\n",
              "  'float': None,\n",
              "  'marketcap': 940920860000,\n",
              "  'maxChangePercent': 205.130117,\n",
              "  'month1ChangePercent': 0.054722,\n",
              "  'month3ChangePercent': 0.006744,\n",
              "  'month6ChangePercent': 0.312075,\n",
              "  'nextDividendDate': None,\n",
              "  'nextEarningsDate': '2019-07-30',\n",
              "  'peRatio': 16.96,\n",
              "  'sharesOutstanding': 4601080000,\n",
              "  'ttmDividendRate': 2.92,\n",
              "  'ttmEPS': 11.99,\n",
              "  'week52change': 0.068164,\n",
              "  'week52high': 233.47,\n",
              "  'week52low': 142,\n",
              "  'year1ChangePercent': 0.068164,\n",
              "  'year2ChangePercent': 0.362525,\n",
              "  'year5ChangePercent': 1.463761,\n",
              "  'ytdChangePercent': 0.294959}}"
            ]
          },
          "metadata": {
            "tags": []
          },
          "execution_count": 27
        }
      ]
    },
    {
      "cell_type": "code",
      "metadata": {
        "id": "5rUmzmWBgzVs",
        "colab_type": "code",
        "outputId": "f646d712-3e0d-4c88-c863-6e605aff1abc",
        "colab": {
          "base_uri": "https://localhost:8080/",
          "height": 165
        }
      },
      "source": [
        "start, end = get_date_ranges()\n",
        "compute_performance(start, end, 'AMZN')\n",
        "#get_latest_price('AMZN')"
      ],
      "execution_count": 0,
      "outputs": [
        {
          "output_type": "stream",
          "text": [
            "Historical ok:Index(['companyName', 'beta', 'day50MovingAvg', 'day200MovingAvg',\n",
            "       'month6ChangePercent', 'month3ChangePercent', 'month1ChangePercent',\n",
            "       'Symbol'],\n",
            "      dtype='object')\n",
            "latest ok:Index(['symbol', 'close'], dtype='object')\n"
          ],
          "name": "stdout"
        },
        {
          "output_type": "execute_result",
          "data": {
            "text/html": [
              "<div>\n",
              "<style scoped>\n",
              "    .dataframe tbody tr th:only-of-type {\n",
              "        vertical-align: middle;\n",
              "    }\n",
              "\n",
              "    .dataframe tbody tr th {\n",
              "        vertical-align: top;\n",
              "    }\n",
              "\n",
              "    .dataframe thead th {\n",
              "        text-align: right;\n",
              "    }\n",
              "</style>\n",
              "<table border=\"1\" class=\"dataframe\">\n",
              "  <thead>\n",
              "    <tr style=\"text-align: right;\">\n",
              "      <th></th>\n",
              "      <th>companyName</th>\n",
              "      <th>beta</th>\n",
              "      <th>day50MovingAvg</th>\n",
              "      <th>day200MovingAvg</th>\n",
              "      <th>month6ChangePercent</th>\n",
              "      <th>month3ChangePercent</th>\n",
              "      <th>month1ChangePercent</th>\n",
              "      <th>Symbol</th>\n",
              "      <th>close</th>\n",
              "    </tr>\n",
              "  </thead>\n",
              "  <tbody>\n",
              "    <tr>\n",
              "      <th>0</th>\n",
              "      <td>Amazon.com, Inc.</td>\n",
              "      <td>1.846598</td>\n",
              "      <td>1882.87</td>\n",
              "      <td>1747.01</td>\n",
              "      <td>0.187028</td>\n",
              "      <td>0.077798</td>\n",
              "      <td>0.065678</td>\n",
              "      <td>AMZN</td>\n",
              "      <td>1992.03</td>\n",
              "    </tr>\n",
              "  </tbody>\n",
              "</table>\n",
              "</div>"
            ],
            "text/plain": [
              "        companyName      beta  ...  Symbol    close\n",
              "0  Amazon.com, Inc.  1.846598  ...    AMZN  1992.03\n",
              "\n",
              "[1 rows x 9 columns]"
            ]
          },
          "metadata": {
            "tags": []
          },
          "execution_count": 49
        }
      ]
    },
    {
      "cell_type": "code",
      "metadata": {
        "id": "XA60IcpVsbkW",
        "colab_type": "code",
        "colab": {}
      },
      "source": [
        ""
      ],
      "execution_count": 0,
      "outputs": []
    },
    {
      "cell_type": "markdown",
      "metadata": {
        "id": "vqip12MQUdtf",
        "colab_type": "text"
      },
      "source": [
        "<h3> Testing Yahoo Historical </h3>"
      ]
    },
    {
      "cell_type": "code",
      "metadata": {
        "id": "8tWCpJduUh08",
        "colab_type": "code",
        "colab": {}
      },
      "source": [
        "#testing VIX\n",
        "from scipy.stats import pearsonr\n",
        "import requests\n",
        "\n",
        "def get_historical_value(symbol):\n",
        "  try: \n",
        "    data = dr.get_data_yahoo(symbol, date(2018,1,1), date(2019,9,19))[['Adj Close']]\n",
        "    return data.rename(columns={'Adj Close' : symbol})\n",
        "    \n",
        "  except Exception as e :\n",
        "    print('Excepiton for {}:{}'.format(symbol, str(e)))\n",
        "    return pd.DataFrame(columns=[symbol])"
      ],
      "execution_count": 0,
      "outputs": []
    },
    {
      "cell_type": "markdown",
      "metadata": {
        "id": "Uf93jH1Xmg4J",
        "colab_type": "text"
      },
      "source": [
        "<h3> Getting VIX values </h3>"
      ]
    },
    {
      "cell_type": "code",
      "metadata": {
        "id": "QvAs-YjFUxcc",
        "colab_type": "code",
        "colab": {}
      },
      "source": [
        "vix_vals = get_historical_value('^VIX')\n"
      ],
      "execution_count": 0,
      "outputs": []
    },
    {
      "cell_type": "markdown",
      "metadata": {
        "id": "kgwte8Kdmk0r",
        "colab_type": "text"
      },
      "source": [
        "<h3>Gettign all stocks from IEX API </h3>"
      ]
    },
    {
      "cell_type": "code",
      "metadata": {
        "id": "YtjWFYpSVwKK",
        "colab_type": "code",
        "colab": {}
      },
      "source": [
        "# Get all Stocks from IEX\n",
        "import requests\n",
        "def get_all_stocks_data():\n",
        "  all_symbols_data = requests.get('https://cloud.iexapis.com/stable/ref-data/iex/symbols?token=sk_98e397d4bee940488e1f48e9b419508f').json()\n",
        "  good_ones = [d['symbol'] for d in all_symbols_data if d['isEnabled']]\n",
        "  return map(lambda symbol: (symbol, get_historical_value(symbol)), good_ones)"
      ],
      "execution_count": 0,
      "outputs": []
    },
    {
      "cell_type": "code",
      "metadata": {
        "id": "ksISPaesqPEy",
        "colab_type": "code",
        "colab": {
          "base_uri": "https://localhost:8080/",
          "height": 1000
        },
        "outputId": "a98e28b7-8663-4d29-c71d-d20e4756607a"
      },
      "source": [
        "def calculate_correlation(vix, all_stocks):\n",
        "  result = []\n",
        "  best = 0\n",
        "  for symbol, vals in all_stocks:\n",
        "    if vals.shape[0] == vix.shape[0]:\n",
        "      concats  = pd.concat([vix, vals], axis = 1)\n",
        "      corr_matrix = concats.corr(method='pearson')\n",
        "      corr_with_vix = corr_matrix.loc['^VIX'][1]\n",
        "      if corr_with_vix > 0 and corr_with_vix > best:\n",
        "        print('New Corr with {}:{}'.format(symbol, corr_with_vix))\n",
        "        best = corr_with_vix\n",
        "  return best\n",
        "      \n",
        "  #return sorted(result, key = lambda tpl: tpl[1])\n",
        "all_stocks_historical = get_all_stocks_data()\n",
        "best = calculate_correlation(vix_vals, all_stocks_historical)                  \n",
        "                  "
      ],
      "execution_count": 57,
      "outputs": [
        {
          "output_type": "stream",
          "text": [
            "New Corr with AAME:0.07980534120952935\n",
            "Excepiton for ABEOW:'Date'\n",
            "Excepiton for ABR-A:No data fetched for symbol ABR-A using YahooDailyReader\n",
            "Excepiton for ABR-B:No data fetched for symbol ABR-B using YahooDailyReader\n",
            "Excepiton for ABR-C:No data fetched for symbol ABR-C using YahooDailyReader\n",
            "Excepiton for ACAMU:'Date'\n",
            "Excepiton for ACAMW:'Date'\n",
            "New Corr with ACIU:0.10587772550727555\n",
            "Excepiton for ACTTW:'Date'\n",
            "Excepiton for ADILW:'Date'\n",
            "New Corr with AEMD:0.13749066947343994\n",
            "Excepiton for AEP-B:No data fetched for symbol AEP-B using YahooDailyReader\n",
            "Excepiton for AFGB:'Date'\n",
            "Excepiton for AFHBL:'Date'\n",
            "Excepiton for AGBAR:'Date'\n",
            "Excepiton for AGBAU:'Date'\n",
            "Excepiton for AGBAW:'Date'\n",
            "Excepiton for AGFSW:'Date'\n",
            "Excepiton for AGM-C:No data fetched for symbol AGM-C using YahooDailyReader\n",
            "Excepiton for AGM-D:No data fetched for symbol AGM-D using YahooDailyReader\n",
            "Excepiton for AGM.A:No data fetched for symbol AGM.A using YahooDailyReader\n",
            "Excepiton for AGO-B:No data fetched for symbol AGO-B using YahooDailyReader\n",
            "Excepiton for AGO-E:No data fetched for symbol AGO-E using YahooDailyReader\n",
            "Excepiton for AGO-F:No data fetched for symbol AGO-F using YahooDailyReader\n",
            "Excepiton for AHH-A:No data fetched for symbol AHH-A using YahooDailyReader\n",
            "Excepiton for AHL-C:No data fetched for symbol AHL-C using YahooDailyReader\n",
            "Excepiton for AHL-D:No data fetched for symbol AHL-D using YahooDailyReader\n",
            "Excepiton for AHL-E:No data fetched for symbol AHL-E using YahooDailyReader\n",
            "Excepiton for AHT-D:No data fetched for symbol AHT-D using YahooDailyReader\n",
            "Excepiton for AHT-F:No data fetched for symbol AHT-F using YahooDailyReader\n",
            "Excepiton for AHT-G:No data fetched for symbol AHT-G using YahooDailyReader\n",
            "Excepiton for AHT-H:No data fetched for symbol AHT-H using YahooDailyReader\n",
            "Excepiton for AHT-I:No data fetched for symbol AHT-I using YahooDailyReader\n",
            "Excepiton for AI-B:No data fetched for symbol AI-B using YahooDailyReader\n",
            "Excepiton for AI-C:No data fetched for symbol AI-C using YahooDailyReader\n",
            "Excepiton for AIG+:No data fetched for symbol AIG+ using YahooDailyReader\n",
            "Excepiton for AIG-A:No data fetched for symbol AIG-A using YahooDailyReader\n",
            "Excepiton for AIRTW:'Date'\n",
            "Excepiton for AKO.A:No data fetched for symbol AKO.A using YahooDailyReader\n",
            "Excepiton for AKO.B:No data fetched for symbol AKO.B using YahooDailyReader\n",
            "Excepiton for AL-A:No data fetched for symbol AL-A using YahooDailyReader\n",
            "Excepiton for ALACR:'Date'\n",
            "Excepiton for ALACW:'Date'\n",
            "Excepiton for ALGRR:'Date'\n",
            "Excepiton for ALGRW:'Date'\n",
            "Excepiton for ALL-A:No data fetched for symbol ALL-A using YahooDailyReader\n",
            "Excepiton for ALL-B:No data fetched for symbol ALL-B using YahooDailyReader\n",
            "Excepiton for ALL-D*:No data fetched for symbol ALL-D* using YahooDailyReader\n",
            "Excepiton for ALL-E*:No data fetched for symbol ALL-E* using YahooDailyReader\n",
            "Excepiton for ALL-F*:No data fetched for symbol ALL-F* using YahooDailyReader\n",
            "Excepiton for ALL-G:No data fetched for symbol ALL-G using YahooDailyReader\n",
            "Excepiton for ALL-H:No data fetched for symbol ALL-H using YahooDailyReader\n",
            "Excepiton for ALLY-A:No data fetched for symbol ALLY-A using YahooDailyReader\n",
            "Excepiton for ALP-Q:No data fetched for symbol ALP-Q using YahooDailyReader\n",
            "Excepiton for AMCIW:'Date'\n",
            "Excepiton for AMH-D:No data fetched for symbol AMH-D using YahooDailyReader\n",
            "Excepiton for AMH-E:No data fetched for symbol AMH-E using YahooDailyReader\n",
            "Excepiton for AMH-F:No data fetched for symbol AMH-F using YahooDailyReader\n",
            "Excepiton for AMH-G:No data fetched for symbol AMH-G using YahooDailyReader\n",
            "Excepiton for AMH-H:No data fetched for symbol AMH-H using YahooDailyReader\n",
            "Excepiton for AMRHW:'Date'\n",
            "New Corr with AMRN:0.14732819841463973\n",
            "Excepiton for AMRWW:'Date'\n",
            "Excepiton for ANDAR:'Date'\n",
            "Excepiton for ANDAW:'Date'\n",
            "Excepiton for ANH-A:No data fetched for symbol ANH-A using YahooDailyReader\n",
            "Excepiton for ANH-B:No data fetched for symbol ANH-B using YahooDailyReader\n",
            "Excepiton for ANH-C:No data fetched for symbol ANH-C using YahooDailyReader\n",
            "Excepiton for APO-A:No data fetched for symbol APO-A using YahooDailyReader\n",
            "Excepiton for APO-B:No data fetched for symbol APO-B using YahooDailyReader\n",
            "Excepiton for APOPW:'Date'\n",
            "Excepiton for APXTU:'Date'\n",
            "New Corr with ARCO:0.1744075949072585\n",
            "Excepiton for ARE-D:No data fetched for symbol ARE-D using YahooDailyReader\n",
            "New Corr with AREC:0.37625641546168315\n",
            "Excepiton for ARES-A:No data fetched for symbol ARES-A using YahooDailyReader\n",
            "Excepiton for ARNC-:No data fetched for symbol ARNC- using YahooDailyReader\n",
            "Excepiton for ARR-B:No data fetched for symbol ARR-B using YahooDailyReader\n",
            "Excepiton for ARTLW:'Date'\n",
            "Excepiton for ARYAW:'Date'\n",
            "Excepiton for ASB-C:No data fetched for symbol ASB-C using YahooDailyReader\n",
            "Excepiton for ASB-D:No data fetched for symbol ASB-D using YahooDailyReader\n",
            "Excepiton for ASB-E:No data fetched for symbol ASB-E using YahooDailyReader\n",
            "Excepiton for ATH-A:No data fetched for symbol ATH-A using YahooDailyReader\n",
            "Excepiton for ATISW:'Date'\n",
            "Excepiton for AVTR-A:No data fetched for symbol AVTR-A using YahooDailyReader\n",
            "Excepiton for AXS-D:No data fetched for symbol AXS-D using YahooDailyReader\n",
            "Excepiton for AXS-E:No data fetched for symbol AXS-E using YahooDailyReader\n",
            "Excepiton for BAC-A:No data fetched for symbol BAC-A using YahooDailyReader\n",
            "Excepiton for BAC-B:No data fetched for symbol BAC-B using YahooDailyReader\n",
            "Excepiton for BAC-C:No data fetched for symbol BAC-C using YahooDailyReader\n",
            "Excepiton for BAC-E:No data fetched for symbol BAC-E using YahooDailyReader\n",
            "Excepiton for BAC-K:No data fetched for symbol BAC-K using YahooDailyReader\n",
            "Excepiton for BAC-L:No data fetched for symbol BAC-L using YahooDailyReader\n",
            "Excepiton for BAC-M:No data fetched for symbol BAC-M using YahooDailyReader\n",
            "Excepiton for BAC-N:No data fetched for symbol BAC-N using YahooDailyReader\n",
            "Excepiton for BAC-Y:No data fetched for symbol BAC-Y using YahooDailyReader\n",
            "Excepiton for BANC-D:No data fetched for symbol BANC-D using YahooDailyReader\n",
            "Excepiton for BANC-E:No data fetched for symbol BANC-E using YahooDailyReader\n",
            "Excepiton for BBT-F:No data fetched for symbol BBT-F using YahooDailyReader\n",
            "Excepiton for BBT-G:No data fetched for symbol BBT-G using YahooDailyReader\n",
            "Excepiton for BBT-H:No data fetched for symbol BBT-H using YahooDailyReader\n",
            "Excepiton for BC-A:No data fetched for symbol BC-A using YahooDailyReader\n",
            "Excepiton for BC-B:No data fetched for symbol BC-B using YahooDailyReader\n",
            "Excepiton for BC-C:No data fetched for symbol BC-C using YahooDailyReader\n",
            "Excepiton for BCDAW:'Date'\n",
            "Excepiton for BCV-A:'Date'\n",
            "Excepiton for BF.A:'Date'\n",
            "Excepiton for BF.B:'Date'\n",
            "Excepiton for BFS-C*:No data fetched for symbol BFS-C* using YahooDailyReader\n",
            "Excepiton for BFS-D:No data fetched for symbol BFS-D using YahooDailyReader\n",
            "Excepiton for BFS-E:No data fetched for symbol BFS-E using YahooDailyReader\n",
            "Excepiton for BH.A:No data fetched for symbol BH.A using YahooDailyReader\n",
            "Excepiton for BHR-B:No data fetched for symbol BHR-B using YahooDailyReader\n",
            "Excepiton for BHR-D:No data fetched for symbol BHR-D using YahooDailyReader\n",
            "Excepiton for BIO.B:'Date'\n",
            "Excepiton for BIOX+:No data fetched for symbol BIOX+ using YahooDailyReader\n",
            "New Corr with BIS:0.6202776268496358\n",
            "Excepiton for BK-C:No data fetched for symbol BK-C using YahooDailyReader\n",
            "Excepiton for BLNKW:'Date'\n",
            "Excepiton for BML-G:No data fetched for symbol BML-G using YahooDailyReader\n",
            "Excepiton for BML-H:No data fetched for symbol BML-H using YahooDailyReader\n",
            "Excepiton for BML-J:No data fetched for symbol BML-J using YahooDailyReader\n",
            "Excepiton for BML-L:No data fetched for symbol BML-L using YahooDailyReader\n",
            "Excepiton for BNGOW:'Date'\n",
            "Excepiton for BNTCW:'Date'\n",
            "Excepiton for BRG-A:No data fetched for symbol BRG-A using YahooDailyReader\n",
            "Excepiton for BRG-C:No data fetched for symbol BRG-C using YahooDailyReader\n",
            "Excepiton for BRG-D:No data fetched for symbol BRG-D using YahooDailyReader\n",
            "Excepiton for BRK.A:'Date'\n",
            "Excepiton for BRK.B:'Date'\n",
            "Excepiton for BROGR:'Date'\n",
            "Excepiton for BROGW:'Date'\n",
            "Excepiton for BRPAW:'Date'\n",
            "Excepiton for BRPM+:No data fetched for symbol BRPM+ using YahooDailyReader\n",
            "Excepiton for BRPM=:No data fetched for symbol BRPM= using YahooDailyReader\n",
            "Excepiton for BVXVW:'Date'\n",
            "Excepiton for BWL.A:No data fetched for symbol BWL.A using YahooDailyReader\n",
            "Excepiton for BWMCW:'Date'\n",
            "Excepiton for BXP-B:No data fetched for symbol BXP-B using YahooDailyReader\n",
            "Excepiton for C-J:No data fetched for symbol C-J using YahooDailyReader\n",
            "Excepiton for C-K:No data fetched for symbol C-K using YahooDailyReader\n",
            "Excepiton for C-N:No data fetched for symbol C-N using YahooDailyReader\n",
            "Excepiton for C-S:No data fetched for symbol C-S using YahooDailyReader\n",
            "Excepiton for CAI-A:No data fetched for symbol CAI-A using YahooDailyReader\n",
            "Excepiton for CAI-B:No data fetched for symbol CAI-B using YahooDailyReader\n",
            "Excepiton for CBB-B:No data fetched for symbol CBB-B using YahooDailyReader\n",
            "Excepiton for CBL-D:No data fetched for symbol CBL-D using YahooDailyReader\n",
            "Excepiton for CBL-E:No data fetched for symbol CBL-E using YahooDailyReader\n",
            "Excepiton for CBS.A:No data fetched for symbol CBS.A using YahooDailyReader\n"
          ],
          "name": "stdout"
        },
        {
          "output_type": "error",
          "ename": "KeyboardInterrupt",
          "evalue": "ignored",
          "traceback": [
            "\u001b[0;31m---------------------------------------------------------------------------\u001b[0m",
            "\u001b[0;31mKeyboardInterrupt\u001b[0m                         Traceback (most recent call last)",
            "\u001b[0;32m<ipython-input-57-272d2ef429c6>\u001b[0m in \u001b[0;36m<module>\u001b[0;34m()\u001b[0m\n\u001b[1;32m     14\u001b[0m   \u001b[0;31m#return sorted(result, key = lambda tpl: tpl[1])\u001b[0m\u001b[0;34m\u001b[0m\u001b[0;34m\u001b[0m\u001b[0;34m\u001b[0m\u001b[0m\n\u001b[1;32m     15\u001b[0m \u001b[0mall_stocks_historical\u001b[0m \u001b[0;34m=\u001b[0m \u001b[0mget_all_stocks_data\u001b[0m\u001b[0;34m(\u001b[0m\u001b[0;34m)\u001b[0m\u001b[0;34m\u001b[0m\u001b[0;34m\u001b[0m\u001b[0m\n\u001b[0;32m---> 16\u001b[0;31m \u001b[0mbest\u001b[0m \u001b[0;34m=\u001b[0m \u001b[0mcalculate_correlation\u001b[0m\u001b[0;34m(\u001b[0m\u001b[0mvix_vals\u001b[0m\u001b[0;34m,\u001b[0m \u001b[0mall_stocks_historical\u001b[0m\u001b[0;34m)\u001b[0m\u001b[0;34m\u001b[0m\u001b[0;34m\u001b[0m\u001b[0m\n\u001b[0m\u001b[1;32m     17\u001b[0m \u001b[0;34m\u001b[0m\u001b[0m\n",
            "\u001b[0;32m<ipython-input-57-272d2ef429c6>\u001b[0m in \u001b[0;36mcalculate_correlation\u001b[0;34m(vix, all_stocks)\u001b[0m\n\u001b[1;32m      2\u001b[0m   \u001b[0mresult\u001b[0m \u001b[0;34m=\u001b[0m \u001b[0;34m[\u001b[0m\u001b[0;34m]\u001b[0m\u001b[0;34m\u001b[0m\u001b[0;34m\u001b[0m\u001b[0m\n\u001b[1;32m      3\u001b[0m   \u001b[0mbest\u001b[0m \u001b[0;34m=\u001b[0m \u001b[0;36m0\u001b[0m\u001b[0;34m\u001b[0m\u001b[0;34m\u001b[0m\u001b[0m\n\u001b[0;32m----> 4\u001b[0;31m   \u001b[0;32mfor\u001b[0m \u001b[0msymbol\u001b[0m\u001b[0;34m,\u001b[0m \u001b[0mvals\u001b[0m \u001b[0;32min\u001b[0m \u001b[0mall_stocks\u001b[0m\u001b[0;34m:\u001b[0m\u001b[0;34m\u001b[0m\u001b[0;34m\u001b[0m\u001b[0m\n\u001b[0m\u001b[1;32m      5\u001b[0m     \u001b[0;32mif\u001b[0m \u001b[0mvals\u001b[0m\u001b[0;34m.\u001b[0m\u001b[0mshape\u001b[0m\u001b[0;34m[\u001b[0m\u001b[0;36m0\u001b[0m\u001b[0;34m]\u001b[0m \u001b[0;34m==\u001b[0m \u001b[0mvix\u001b[0m\u001b[0;34m.\u001b[0m\u001b[0mshape\u001b[0m\u001b[0;34m[\u001b[0m\u001b[0;36m0\u001b[0m\u001b[0;34m]\u001b[0m\u001b[0;34m:\u001b[0m\u001b[0;34m\u001b[0m\u001b[0;34m\u001b[0m\u001b[0m\n\u001b[1;32m      6\u001b[0m       \u001b[0mconcats\u001b[0m  \u001b[0;34m=\u001b[0m \u001b[0mpd\u001b[0m\u001b[0;34m.\u001b[0m\u001b[0mconcat\u001b[0m\u001b[0;34m(\u001b[0m\u001b[0;34m[\u001b[0m\u001b[0mvix\u001b[0m\u001b[0;34m,\u001b[0m \u001b[0mvals\u001b[0m\u001b[0;34m]\u001b[0m\u001b[0;34m,\u001b[0m \u001b[0maxis\u001b[0m \u001b[0;34m=\u001b[0m \u001b[0;36m1\u001b[0m\u001b[0;34m)\u001b[0m\u001b[0;34m\u001b[0m\u001b[0;34m\u001b[0m\u001b[0m\n",
            "\u001b[0;32m<ipython-input-56-16f25fa577fa>\u001b[0m in \u001b[0;36m<lambda>\u001b[0;34m(symbol)\u001b[0m\n\u001b[1;32m      3\u001b[0m   \u001b[0mall_symbols_data\u001b[0m \u001b[0;34m=\u001b[0m \u001b[0mrequests\u001b[0m\u001b[0;34m.\u001b[0m\u001b[0mget\u001b[0m\u001b[0;34m(\u001b[0m\u001b[0;34m'https://cloud.iexapis.com/stable/ref-data/iex/symbols?token=sk_98e397d4bee940488e1f48e9b419508f'\u001b[0m\u001b[0;34m)\u001b[0m\u001b[0;34m.\u001b[0m\u001b[0mjson\u001b[0m\u001b[0;34m(\u001b[0m\u001b[0;34m)\u001b[0m\u001b[0;34m\u001b[0m\u001b[0;34m\u001b[0m\u001b[0m\n\u001b[1;32m      4\u001b[0m   \u001b[0mgood_ones\u001b[0m \u001b[0;34m=\u001b[0m \u001b[0;34m[\u001b[0m\u001b[0md\u001b[0m\u001b[0;34m[\u001b[0m\u001b[0;34m'symbol'\u001b[0m\u001b[0;34m]\u001b[0m \u001b[0;32mfor\u001b[0m \u001b[0md\u001b[0m \u001b[0;32min\u001b[0m \u001b[0mall_symbols_data\u001b[0m \u001b[0;32mif\u001b[0m \u001b[0md\u001b[0m\u001b[0;34m[\u001b[0m\u001b[0;34m'isEnabled'\u001b[0m\u001b[0;34m]\u001b[0m\u001b[0;34m]\u001b[0m\u001b[0;34m\u001b[0m\u001b[0;34m\u001b[0m\u001b[0m\n\u001b[0;32m----> 5\u001b[0;31m   \u001b[0;32mreturn\u001b[0m \u001b[0mmap\u001b[0m\u001b[0;34m(\u001b[0m\u001b[0;32mlambda\u001b[0m \u001b[0msymbol\u001b[0m\u001b[0;34m:\u001b[0m \u001b[0;34m(\u001b[0m\u001b[0msymbol\u001b[0m\u001b[0;34m,\u001b[0m \u001b[0mget_historical_value\u001b[0m\u001b[0;34m(\u001b[0m\u001b[0msymbol\u001b[0m\u001b[0;34m)\u001b[0m\u001b[0;34m)\u001b[0m\u001b[0;34m,\u001b[0m \u001b[0mgood_ones\u001b[0m\u001b[0;34m)\u001b[0m\u001b[0;34m\u001b[0m\u001b[0;34m\u001b[0m\u001b[0m\n\u001b[0m",
            "\u001b[0;32m<ipython-input-54-31ed9aefe050>\u001b[0m in \u001b[0;36mget_historical_value\u001b[0;34m(symbol)\u001b[0m\n\u001b[1;32m      4\u001b[0m \u001b[0;32mdef\u001b[0m \u001b[0mget_historical_value\u001b[0m\u001b[0;34m(\u001b[0m\u001b[0msymbol\u001b[0m\u001b[0;34m)\u001b[0m\u001b[0;34m:\u001b[0m\u001b[0;34m\u001b[0m\u001b[0;34m\u001b[0m\u001b[0m\n\u001b[1;32m      5\u001b[0m   \u001b[0;32mtry\u001b[0m\u001b[0;34m:\u001b[0m\u001b[0;34m\u001b[0m\u001b[0;34m\u001b[0m\u001b[0m\n\u001b[0;32m----> 6\u001b[0;31m     \u001b[0mdata\u001b[0m \u001b[0;34m=\u001b[0m \u001b[0mdr\u001b[0m\u001b[0;34m.\u001b[0m\u001b[0mget_data_yahoo\u001b[0m\u001b[0;34m(\u001b[0m\u001b[0msymbol\u001b[0m\u001b[0;34m,\u001b[0m \u001b[0mdate\u001b[0m\u001b[0;34m(\u001b[0m\u001b[0;36m2018\u001b[0m\u001b[0;34m,\u001b[0m\u001b[0;36m1\u001b[0m\u001b[0;34m,\u001b[0m\u001b[0;36m1\u001b[0m\u001b[0;34m)\u001b[0m\u001b[0;34m,\u001b[0m \u001b[0mdate\u001b[0m\u001b[0;34m(\u001b[0m\u001b[0;36m2019\u001b[0m\u001b[0;34m,\u001b[0m\u001b[0;36m9\u001b[0m\u001b[0;34m,\u001b[0m\u001b[0;36m19\u001b[0m\u001b[0;34m)\u001b[0m\u001b[0;34m)\u001b[0m\u001b[0;34m[\u001b[0m\u001b[0;34m[\u001b[0m\u001b[0;34m'Adj Close'\u001b[0m\u001b[0;34m]\u001b[0m\u001b[0;34m]\u001b[0m\u001b[0;34m\u001b[0m\u001b[0;34m\u001b[0m\u001b[0m\n\u001b[0m\u001b[1;32m      7\u001b[0m     \u001b[0;32mreturn\u001b[0m \u001b[0mdata\u001b[0m\u001b[0;34m.\u001b[0m\u001b[0mrename\u001b[0m\u001b[0;34m(\u001b[0m\u001b[0mcolumns\u001b[0m\u001b[0;34m=\u001b[0m\u001b[0;34m{\u001b[0m\u001b[0;34m'Adj Close'\u001b[0m \u001b[0;34m:\u001b[0m \u001b[0msymbol\u001b[0m\u001b[0;34m}\u001b[0m\u001b[0;34m)\u001b[0m\u001b[0;34m\u001b[0m\u001b[0;34m\u001b[0m\u001b[0m\n\u001b[1;32m      8\u001b[0m \u001b[0;34m\u001b[0m\u001b[0m\n",
            "\u001b[0;32m/usr/local/lib/python3.6/dist-packages/pandas_datareader/data.py\u001b[0m in \u001b[0;36mget_data_yahoo\u001b[0;34m(*args, **kwargs)\u001b[0m\n\u001b[1;32m     68\u001b[0m \u001b[0;34m\u001b[0m\u001b[0m\n\u001b[1;32m     69\u001b[0m \u001b[0;32mdef\u001b[0m \u001b[0mget_data_yahoo\u001b[0m\u001b[0;34m(\u001b[0m\u001b[0;34m*\u001b[0m\u001b[0margs\u001b[0m\u001b[0;34m,\u001b[0m \u001b[0;34m**\u001b[0m\u001b[0mkwargs\u001b[0m\u001b[0;34m)\u001b[0m\u001b[0;34m:\u001b[0m\u001b[0;34m\u001b[0m\u001b[0;34m\u001b[0m\u001b[0m\n\u001b[0;32m---> 70\u001b[0;31m     \u001b[0;32mreturn\u001b[0m \u001b[0mYahooDailyReader\u001b[0m\u001b[0;34m(\u001b[0m\u001b[0;34m*\u001b[0m\u001b[0margs\u001b[0m\u001b[0;34m,\u001b[0m \u001b[0;34m**\u001b[0m\u001b[0mkwargs\u001b[0m\u001b[0;34m)\u001b[0m\u001b[0;34m.\u001b[0m\u001b[0mread\u001b[0m\u001b[0;34m(\u001b[0m\u001b[0;34m)\u001b[0m\u001b[0;34m\u001b[0m\u001b[0;34m\u001b[0m\u001b[0m\n\u001b[0m\u001b[1;32m     71\u001b[0m \u001b[0;34m\u001b[0m\u001b[0m\n\u001b[1;32m     72\u001b[0m \u001b[0;34m\u001b[0m\u001b[0m\n",
            "\u001b[0;32m/usr/local/lib/python3.6/dist-packages/pandas_datareader/base.py\u001b[0m in \u001b[0;36mread\u001b[0;34m(self)\u001b[0m\n\u001b[1;32m    208\u001b[0m         \u001b[0;32mif\u001b[0m \u001b[0misinstance\u001b[0m\u001b[0;34m(\u001b[0m\u001b[0mself\u001b[0m\u001b[0;34m.\u001b[0m\u001b[0msymbols\u001b[0m\u001b[0;34m,\u001b[0m \u001b[0;34m(\u001b[0m\u001b[0mstring_types\u001b[0m\u001b[0;34m,\u001b[0m \u001b[0mint\u001b[0m\u001b[0;34m)\u001b[0m\u001b[0;34m)\u001b[0m\u001b[0;34m:\u001b[0m\u001b[0;34m\u001b[0m\u001b[0;34m\u001b[0m\u001b[0m\n\u001b[1;32m    209\u001b[0m             df = self._read_one_data(self.url,\n\u001b[0;32m--> 210\u001b[0;31m                                      params=self._get_params(self.symbols))\n\u001b[0m\u001b[1;32m    211\u001b[0m         \u001b[0;31m# Or multiple symbols, (e.g., ['GOOG', 'AAPL', 'MSFT'])\u001b[0m\u001b[0;34m\u001b[0m\u001b[0;34m\u001b[0m\u001b[0;34m\u001b[0m\u001b[0m\n\u001b[1;32m    212\u001b[0m         \u001b[0;32melif\u001b[0m \u001b[0misinstance\u001b[0m\u001b[0;34m(\u001b[0m\u001b[0mself\u001b[0m\u001b[0;34m.\u001b[0m\u001b[0msymbols\u001b[0m\u001b[0;34m,\u001b[0m \u001b[0mDataFrame\u001b[0m\u001b[0;34m)\u001b[0m\u001b[0;34m:\u001b[0m\u001b[0;34m\u001b[0m\u001b[0;34m\u001b[0m\u001b[0m\n",
            "\u001b[0;32m/usr/local/lib/python3.6/dist-packages/pandas_datareader/yahoo/daily.py\u001b[0m in \u001b[0;36m_read_one_data\u001b[0;34m(self, url, params)\u001b[0m\n\u001b[1;32m    127\u001b[0m         \u001b[0murl\u001b[0m \u001b[0;34m=\u001b[0m \u001b[0murl\u001b[0m\u001b[0;34m.\u001b[0m\u001b[0mformat\u001b[0m\u001b[0;34m(\u001b[0m\u001b[0msymbol\u001b[0m\u001b[0;34m)\u001b[0m\u001b[0;34m\u001b[0m\u001b[0;34m\u001b[0m\u001b[0m\n\u001b[1;32m    128\u001b[0m \u001b[0;34m\u001b[0m\u001b[0m\n\u001b[0;32m--> 129\u001b[0;31m         \u001b[0mresp\u001b[0m \u001b[0;34m=\u001b[0m \u001b[0mself\u001b[0m\u001b[0;34m.\u001b[0m\u001b[0m_get_response\u001b[0m\u001b[0;34m(\u001b[0m\u001b[0murl\u001b[0m\u001b[0;34m,\u001b[0m \u001b[0mparams\u001b[0m\u001b[0;34m=\u001b[0m\u001b[0mparams\u001b[0m\u001b[0;34m)\u001b[0m\u001b[0;34m\u001b[0m\u001b[0;34m\u001b[0m\u001b[0m\n\u001b[0m\u001b[1;32m    130\u001b[0m         \u001b[0mptrn\u001b[0m \u001b[0;34m=\u001b[0m \u001b[0;34mr'root\\.App\\.main = (.*?);\\n}\\(this\\)\\);'\u001b[0m\u001b[0;34m\u001b[0m\u001b[0;34m\u001b[0m\u001b[0m\n\u001b[1;32m    131\u001b[0m         \u001b[0;32mtry\u001b[0m\u001b[0;34m:\u001b[0m\u001b[0;34m\u001b[0m\u001b[0;34m\u001b[0m\u001b[0m\n",
            "\u001b[0;32m/usr/local/lib/python3.6/dist-packages/pandas_datareader/base.py\u001b[0m in \u001b[0;36m_get_response\u001b[0;34m(self, url, params, headers)\u001b[0m\n\u001b[1;32m    130\u001b[0m             response = self.session.get(url,\n\u001b[1;32m    131\u001b[0m                                         \u001b[0mparams\u001b[0m\u001b[0;34m=\u001b[0m\u001b[0mparams\u001b[0m\u001b[0;34m,\u001b[0m\u001b[0;34m\u001b[0m\u001b[0;34m\u001b[0m\u001b[0m\n\u001b[0;32m--> 132\u001b[0;31m                                         headers=headers)\n\u001b[0m\u001b[1;32m    133\u001b[0m             \u001b[0;32mif\u001b[0m \u001b[0mresponse\u001b[0m\u001b[0;34m.\u001b[0m\u001b[0mstatus_code\u001b[0m \u001b[0;34m==\u001b[0m \u001b[0mrequests\u001b[0m\u001b[0;34m.\u001b[0m\u001b[0mcodes\u001b[0m\u001b[0;34m.\u001b[0m\u001b[0mok\u001b[0m\u001b[0;34m:\u001b[0m\u001b[0;34m\u001b[0m\u001b[0;34m\u001b[0m\u001b[0m\n\u001b[1;32m    134\u001b[0m                 \u001b[0;32mreturn\u001b[0m \u001b[0mresponse\u001b[0m\u001b[0;34m\u001b[0m\u001b[0;34m\u001b[0m\u001b[0m\n",
            "\u001b[0;32m/usr/local/lib/python3.6/dist-packages/requests/sessions.py\u001b[0m in \u001b[0;36mget\u001b[0;34m(self, url, **kwargs)\u001b[0m\n\u001b[1;32m    544\u001b[0m \u001b[0;34m\u001b[0m\u001b[0m\n\u001b[1;32m    545\u001b[0m         \u001b[0mkwargs\u001b[0m\u001b[0;34m.\u001b[0m\u001b[0msetdefault\u001b[0m\u001b[0;34m(\u001b[0m\u001b[0;34m'allow_redirects'\u001b[0m\u001b[0;34m,\u001b[0m \u001b[0;32mTrue\u001b[0m\u001b[0;34m)\u001b[0m\u001b[0;34m\u001b[0m\u001b[0;34m\u001b[0m\u001b[0m\n\u001b[0;32m--> 546\u001b[0;31m         \u001b[0;32mreturn\u001b[0m \u001b[0mself\u001b[0m\u001b[0;34m.\u001b[0m\u001b[0mrequest\u001b[0m\u001b[0;34m(\u001b[0m\u001b[0;34m'GET'\u001b[0m\u001b[0;34m,\u001b[0m \u001b[0murl\u001b[0m\u001b[0;34m,\u001b[0m \u001b[0;34m**\u001b[0m\u001b[0mkwargs\u001b[0m\u001b[0;34m)\u001b[0m\u001b[0;34m\u001b[0m\u001b[0;34m\u001b[0m\u001b[0m\n\u001b[0m\u001b[1;32m    547\u001b[0m \u001b[0;34m\u001b[0m\u001b[0m\n\u001b[1;32m    548\u001b[0m     \u001b[0;32mdef\u001b[0m \u001b[0moptions\u001b[0m\u001b[0;34m(\u001b[0m\u001b[0mself\u001b[0m\u001b[0;34m,\u001b[0m \u001b[0murl\u001b[0m\u001b[0;34m,\u001b[0m \u001b[0;34m**\u001b[0m\u001b[0mkwargs\u001b[0m\u001b[0;34m)\u001b[0m\u001b[0;34m:\u001b[0m\u001b[0;34m\u001b[0m\u001b[0;34m\u001b[0m\u001b[0m\n",
            "\u001b[0;32m/usr/local/lib/python3.6/dist-packages/requests/sessions.py\u001b[0m in \u001b[0;36mrequest\u001b[0;34m(self, method, url, params, data, headers, cookies, files, auth, timeout, allow_redirects, proxies, hooks, stream, verify, cert, json)\u001b[0m\n\u001b[1;32m    531\u001b[0m         }\n\u001b[1;32m    532\u001b[0m         \u001b[0msend_kwargs\u001b[0m\u001b[0;34m.\u001b[0m\u001b[0mupdate\u001b[0m\u001b[0;34m(\u001b[0m\u001b[0msettings\u001b[0m\u001b[0;34m)\u001b[0m\u001b[0;34m\u001b[0m\u001b[0;34m\u001b[0m\u001b[0m\n\u001b[0;32m--> 533\u001b[0;31m         \u001b[0mresp\u001b[0m \u001b[0;34m=\u001b[0m \u001b[0mself\u001b[0m\u001b[0;34m.\u001b[0m\u001b[0msend\u001b[0m\u001b[0;34m(\u001b[0m\u001b[0mprep\u001b[0m\u001b[0;34m,\u001b[0m \u001b[0;34m**\u001b[0m\u001b[0msend_kwargs\u001b[0m\u001b[0;34m)\u001b[0m\u001b[0;34m\u001b[0m\u001b[0;34m\u001b[0m\u001b[0m\n\u001b[0m\u001b[1;32m    534\u001b[0m \u001b[0;34m\u001b[0m\u001b[0m\n\u001b[1;32m    535\u001b[0m         \u001b[0;32mreturn\u001b[0m \u001b[0mresp\u001b[0m\u001b[0;34m\u001b[0m\u001b[0;34m\u001b[0m\u001b[0m\n",
            "\u001b[0;32m/usr/local/lib/python3.6/dist-packages/requests/sessions.py\u001b[0m in \u001b[0;36msend\u001b[0;34m(self, request, **kwargs)\u001b[0m\n\u001b[1;32m    684\u001b[0m \u001b[0;34m\u001b[0m\u001b[0m\n\u001b[1;32m    685\u001b[0m         \u001b[0;32mif\u001b[0m \u001b[0;32mnot\u001b[0m \u001b[0mstream\u001b[0m\u001b[0;34m:\u001b[0m\u001b[0;34m\u001b[0m\u001b[0;34m\u001b[0m\u001b[0m\n\u001b[0;32m--> 686\u001b[0;31m             \u001b[0mr\u001b[0m\u001b[0;34m.\u001b[0m\u001b[0mcontent\u001b[0m\u001b[0;34m\u001b[0m\u001b[0;34m\u001b[0m\u001b[0m\n\u001b[0m\u001b[1;32m    687\u001b[0m \u001b[0;34m\u001b[0m\u001b[0m\n\u001b[1;32m    688\u001b[0m         \u001b[0;32mreturn\u001b[0m \u001b[0mr\u001b[0m\u001b[0;34m\u001b[0m\u001b[0;34m\u001b[0m\u001b[0m\n",
            "\u001b[0;32m/usr/local/lib/python3.6/dist-packages/requests/models.py\u001b[0m in \u001b[0;36mcontent\u001b[0;34m(self)\u001b[0m\n\u001b[1;32m    826\u001b[0m                 \u001b[0mself\u001b[0m\u001b[0;34m.\u001b[0m\u001b[0m_content\u001b[0m \u001b[0;34m=\u001b[0m \u001b[0;32mNone\u001b[0m\u001b[0;34m\u001b[0m\u001b[0;34m\u001b[0m\u001b[0m\n\u001b[1;32m    827\u001b[0m             \u001b[0;32melse\u001b[0m\u001b[0;34m:\u001b[0m\u001b[0;34m\u001b[0m\u001b[0;34m\u001b[0m\u001b[0m\n\u001b[0;32m--> 828\u001b[0;31m                 \u001b[0mself\u001b[0m\u001b[0;34m.\u001b[0m\u001b[0m_content\u001b[0m \u001b[0;34m=\u001b[0m \u001b[0;34mb''\u001b[0m\u001b[0;34m.\u001b[0m\u001b[0mjoin\u001b[0m\u001b[0;34m(\u001b[0m\u001b[0mself\u001b[0m\u001b[0;34m.\u001b[0m\u001b[0miter_content\u001b[0m\u001b[0;34m(\u001b[0m\u001b[0mCONTENT_CHUNK_SIZE\u001b[0m\u001b[0;34m)\u001b[0m\u001b[0;34m)\u001b[0m \u001b[0;32mor\u001b[0m \u001b[0;34mb''\u001b[0m\u001b[0;34m\u001b[0m\u001b[0;34m\u001b[0m\u001b[0m\n\u001b[0m\u001b[1;32m    829\u001b[0m \u001b[0;34m\u001b[0m\u001b[0m\n\u001b[1;32m    830\u001b[0m         \u001b[0mself\u001b[0m\u001b[0;34m.\u001b[0m\u001b[0m_content_consumed\u001b[0m \u001b[0;34m=\u001b[0m \u001b[0;32mTrue\u001b[0m\u001b[0;34m\u001b[0m\u001b[0;34m\u001b[0m\u001b[0m\n",
            "\u001b[0;32m/usr/local/lib/python3.6/dist-packages/requests/models.py\u001b[0m in \u001b[0;36mgenerate\u001b[0;34m()\u001b[0m\n\u001b[1;32m    748\u001b[0m             \u001b[0;32mif\u001b[0m \u001b[0mhasattr\u001b[0m\u001b[0;34m(\u001b[0m\u001b[0mself\u001b[0m\u001b[0;34m.\u001b[0m\u001b[0mraw\u001b[0m\u001b[0;34m,\u001b[0m \u001b[0;34m'stream'\u001b[0m\u001b[0;34m)\u001b[0m\u001b[0;34m:\u001b[0m\u001b[0;34m\u001b[0m\u001b[0;34m\u001b[0m\u001b[0m\n\u001b[1;32m    749\u001b[0m                 \u001b[0;32mtry\u001b[0m\u001b[0;34m:\u001b[0m\u001b[0;34m\u001b[0m\u001b[0;34m\u001b[0m\u001b[0m\n\u001b[0;32m--> 750\u001b[0;31m                     \u001b[0;32mfor\u001b[0m \u001b[0mchunk\u001b[0m \u001b[0;32min\u001b[0m \u001b[0mself\u001b[0m\u001b[0;34m.\u001b[0m\u001b[0mraw\u001b[0m\u001b[0;34m.\u001b[0m\u001b[0mstream\u001b[0m\u001b[0;34m(\u001b[0m\u001b[0mchunk_size\u001b[0m\u001b[0;34m,\u001b[0m \u001b[0mdecode_content\u001b[0m\u001b[0;34m=\u001b[0m\u001b[0;32mTrue\u001b[0m\u001b[0;34m)\u001b[0m\u001b[0;34m:\u001b[0m\u001b[0;34m\u001b[0m\u001b[0;34m\u001b[0m\u001b[0m\n\u001b[0m\u001b[1;32m    751\u001b[0m                         \u001b[0;32myield\u001b[0m \u001b[0mchunk\u001b[0m\u001b[0;34m\u001b[0m\u001b[0;34m\u001b[0m\u001b[0m\n\u001b[1;32m    752\u001b[0m                 \u001b[0;32mexcept\u001b[0m \u001b[0mProtocolError\u001b[0m \u001b[0;32mas\u001b[0m \u001b[0me\u001b[0m\u001b[0;34m:\u001b[0m\u001b[0;34m\u001b[0m\u001b[0;34m\u001b[0m\u001b[0m\n",
            "\u001b[0;32m/usr/local/lib/python3.6/dist-packages/urllib3/response.py\u001b[0m in \u001b[0;36mstream\u001b[0;34m(self, amt, decode_content)\u001b[0m\n\u001b[1;32m    490\u001b[0m         \"\"\"\n\u001b[1;32m    491\u001b[0m         \u001b[0;32mif\u001b[0m \u001b[0mself\u001b[0m\u001b[0;34m.\u001b[0m\u001b[0mchunked\u001b[0m \u001b[0;32mand\u001b[0m \u001b[0mself\u001b[0m\u001b[0;34m.\u001b[0m\u001b[0msupports_chunked_reads\u001b[0m\u001b[0;34m(\u001b[0m\u001b[0;34m)\u001b[0m\u001b[0;34m:\u001b[0m\u001b[0;34m\u001b[0m\u001b[0;34m\u001b[0m\u001b[0m\n\u001b[0;32m--> 492\u001b[0;31m             \u001b[0;32mfor\u001b[0m \u001b[0mline\u001b[0m \u001b[0;32min\u001b[0m \u001b[0mself\u001b[0m\u001b[0;34m.\u001b[0m\u001b[0mread_chunked\u001b[0m\u001b[0;34m(\u001b[0m\u001b[0mamt\u001b[0m\u001b[0;34m,\u001b[0m \u001b[0mdecode_content\u001b[0m\u001b[0;34m=\u001b[0m\u001b[0mdecode_content\u001b[0m\u001b[0;34m)\u001b[0m\u001b[0;34m:\u001b[0m\u001b[0;34m\u001b[0m\u001b[0;34m\u001b[0m\u001b[0m\n\u001b[0m\u001b[1;32m    493\u001b[0m                 \u001b[0;32myield\u001b[0m \u001b[0mline\u001b[0m\u001b[0;34m\u001b[0m\u001b[0;34m\u001b[0m\u001b[0m\n\u001b[1;32m    494\u001b[0m         \u001b[0;32melse\u001b[0m\u001b[0;34m:\u001b[0m\u001b[0;34m\u001b[0m\u001b[0;34m\u001b[0m\u001b[0m\n",
            "\u001b[0;32m/usr/local/lib/python3.6/dist-packages/urllib3/response.py\u001b[0m in \u001b[0;36mread_chunked\u001b[0;34m(self, amt, decode_content)\u001b[0m\n\u001b[1;32m    669\u001b[0m                 \u001b[0;32mif\u001b[0m \u001b[0mself\u001b[0m\u001b[0;34m.\u001b[0m\u001b[0mchunk_left\u001b[0m \u001b[0;34m==\u001b[0m \u001b[0;36m0\u001b[0m\u001b[0;34m:\u001b[0m\u001b[0;34m\u001b[0m\u001b[0;34m\u001b[0m\u001b[0m\n\u001b[1;32m    670\u001b[0m                     \u001b[0;32mbreak\u001b[0m\u001b[0;34m\u001b[0m\u001b[0;34m\u001b[0m\u001b[0m\n\u001b[0;32m--> 671\u001b[0;31m                 \u001b[0mchunk\u001b[0m \u001b[0;34m=\u001b[0m \u001b[0mself\u001b[0m\u001b[0;34m.\u001b[0m\u001b[0m_handle_chunk\u001b[0m\u001b[0;34m(\u001b[0m\u001b[0mamt\u001b[0m\u001b[0;34m)\u001b[0m\u001b[0;34m\u001b[0m\u001b[0;34m\u001b[0m\u001b[0m\n\u001b[0m\u001b[1;32m    672\u001b[0m                 decoded = self._decode(chunk, decode_content=decode_content,\n\u001b[1;32m    673\u001b[0m                                        flush_decoder=False)\n",
            "\u001b[0;32m/usr/local/lib/python3.6/dist-packages/urllib3/response.py\u001b[0m in \u001b[0;36m_handle_chunk\u001b[0;34m(self, amt)\u001b[0m\n\u001b[1;32m    624\u001b[0m             \u001b[0mreturned_chunk\u001b[0m \u001b[0;34m=\u001b[0m \u001b[0mvalue\u001b[0m\u001b[0;34m\u001b[0m\u001b[0;34m\u001b[0m\u001b[0m\n\u001b[1;32m    625\u001b[0m         \u001b[0;32melse\u001b[0m\u001b[0;34m:\u001b[0m  \u001b[0;31m# amt > self.chunk_left\u001b[0m\u001b[0;34m\u001b[0m\u001b[0;34m\u001b[0m\u001b[0m\n\u001b[0;32m--> 626\u001b[0;31m             \u001b[0mreturned_chunk\u001b[0m \u001b[0;34m=\u001b[0m \u001b[0mself\u001b[0m\u001b[0;34m.\u001b[0m\u001b[0m_fp\u001b[0m\u001b[0;34m.\u001b[0m\u001b[0m_safe_read\u001b[0m\u001b[0;34m(\u001b[0m\u001b[0mself\u001b[0m\u001b[0;34m.\u001b[0m\u001b[0mchunk_left\u001b[0m\u001b[0;34m)\u001b[0m\u001b[0;34m\u001b[0m\u001b[0;34m\u001b[0m\u001b[0m\n\u001b[0m\u001b[1;32m    627\u001b[0m             \u001b[0mself\u001b[0m\u001b[0;34m.\u001b[0m\u001b[0m_fp\u001b[0m\u001b[0;34m.\u001b[0m\u001b[0m_safe_read\u001b[0m\u001b[0;34m(\u001b[0m\u001b[0;36m2\u001b[0m\u001b[0;34m)\u001b[0m  \u001b[0;31m# Toss the CRLF at the end of the chunk.\u001b[0m\u001b[0;34m\u001b[0m\u001b[0;34m\u001b[0m\u001b[0m\n\u001b[1;32m    628\u001b[0m             \u001b[0mself\u001b[0m\u001b[0;34m.\u001b[0m\u001b[0mchunk_left\u001b[0m \u001b[0;34m=\u001b[0m \u001b[0;32mNone\u001b[0m\u001b[0;34m\u001b[0m\u001b[0;34m\u001b[0m\u001b[0m\n",
            "\u001b[0;32m/usr/lib/python3.6/http/client.py\u001b[0m in \u001b[0;36m_safe_read\u001b[0;34m(self, amt)\u001b[0m\n\u001b[1;32m    610\u001b[0m         \u001b[0ms\u001b[0m \u001b[0;34m=\u001b[0m \u001b[0;34m[\u001b[0m\u001b[0;34m]\u001b[0m\u001b[0;34m\u001b[0m\u001b[0;34m\u001b[0m\u001b[0m\n\u001b[1;32m    611\u001b[0m         \u001b[0;32mwhile\u001b[0m \u001b[0mamt\u001b[0m \u001b[0;34m>\u001b[0m \u001b[0;36m0\u001b[0m\u001b[0;34m:\u001b[0m\u001b[0;34m\u001b[0m\u001b[0;34m\u001b[0m\u001b[0m\n\u001b[0;32m--> 612\u001b[0;31m             \u001b[0mchunk\u001b[0m \u001b[0;34m=\u001b[0m \u001b[0mself\u001b[0m\u001b[0;34m.\u001b[0m\u001b[0mfp\u001b[0m\u001b[0;34m.\u001b[0m\u001b[0mread\u001b[0m\u001b[0;34m(\u001b[0m\u001b[0mmin\u001b[0m\u001b[0;34m(\u001b[0m\u001b[0mamt\u001b[0m\u001b[0;34m,\u001b[0m \u001b[0mMAXAMOUNT\u001b[0m\u001b[0;34m)\u001b[0m\u001b[0;34m)\u001b[0m\u001b[0;34m\u001b[0m\u001b[0;34m\u001b[0m\u001b[0m\n\u001b[0m\u001b[1;32m    613\u001b[0m             \u001b[0;32mif\u001b[0m \u001b[0;32mnot\u001b[0m \u001b[0mchunk\u001b[0m\u001b[0;34m:\u001b[0m\u001b[0;34m\u001b[0m\u001b[0;34m\u001b[0m\u001b[0m\n\u001b[1;32m    614\u001b[0m                 \u001b[0;32mraise\u001b[0m \u001b[0mIncompleteRead\u001b[0m\u001b[0;34m(\u001b[0m\u001b[0;34mb''\u001b[0m\u001b[0;34m.\u001b[0m\u001b[0mjoin\u001b[0m\u001b[0;34m(\u001b[0m\u001b[0ms\u001b[0m\u001b[0;34m)\u001b[0m\u001b[0;34m,\u001b[0m \u001b[0mamt\u001b[0m\u001b[0;34m)\u001b[0m\u001b[0;34m\u001b[0m\u001b[0;34m\u001b[0m\u001b[0m\n",
            "\u001b[0;32m/usr/lib/python3.6/socket.py\u001b[0m in \u001b[0;36mreadinto\u001b[0;34m(self, b)\u001b[0m\n\u001b[1;32m    584\u001b[0m         \u001b[0;32mwhile\u001b[0m \u001b[0;32mTrue\u001b[0m\u001b[0;34m:\u001b[0m\u001b[0;34m\u001b[0m\u001b[0;34m\u001b[0m\u001b[0m\n\u001b[1;32m    585\u001b[0m             \u001b[0;32mtry\u001b[0m\u001b[0;34m:\u001b[0m\u001b[0;34m\u001b[0m\u001b[0;34m\u001b[0m\u001b[0m\n\u001b[0;32m--> 586\u001b[0;31m                 \u001b[0;32mreturn\u001b[0m \u001b[0mself\u001b[0m\u001b[0;34m.\u001b[0m\u001b[0m_sock\u001b[0m\u001b[0;34m.\u001b[0m\u001b[0mrecv_into\u001b[0m\u001b[0;34m(\u001b[0m\u001b[0mb\u001b[0m\u001b[0;34m)\u001b[0m\u001b[0;34m\u001b[0m\u001b[0;34m\u001b[0m\u001b[0m\n\u001b[0m\u001b[1;32m    587\u001b[0m             \u001b[0;32mexcept\u001b[0m \u001b[0mtimeout\u001b[0m\u001b[0;34m:\u001b[0m\u001b[0;34m\u001b[0m\u001b[0;34m\u001b[0m\u001b[0m\n\u001b[1;32m    588\u001b[0m                 \u001b[0mself\u001b[0m\u001b[0;34m.\u001b[0m\u001b[0m_timeout_occurred\u001b[0m \u001b[0;34m=\u001b[0m \u001b[0;32mTrue\u001b[0m\u001b[0;34m\u001b[0m\u001b[0;34m\u001b[0m\u001b[0m\n",
            "\u001b[0;32m/usr/lib/python3.6/ssl.py\u001b[0m in \u001b[0;36mrecv_into\u001b[0;34m(self, buffer, nbytes, flags)\u001b[0m\n\u001b[1;32m   1010\u001b[0m                   \u001b[0;34m\"non-zero flags not allowed in calls to recv_into() on %s\"\u001b[0m \u001b[0;34m%\u001b[0m\u001b[0;34m\u001b[0m\u001b[0;34m\u001b[0m\u001b[0m\n\u001b[1;32m   1011\u001b[0m                   self.__class__)\n\u001b[0;32m-> 1012\u001b[0;31m             \u001b[0;32mreturn\u001b[0m \u001b[0mself\u001b[0m\u001b[0;34m.\u001b[0m\u001b[0mread\u001b[0m\u001b[0;34m(\u001b[0m\u001b[0mnbytes\u001b[0m\u001b[0;34m,\u001b[0m \u001b[0mbuffer\u001b[0m\u001b[0;34m)\u001b[0m\u001b[0;34m\u001b[0m\u001b[0;34m\u001b[0m\u001b[0m\n\u001b[0m\u001b[1;32m   1013\u001b[0m         \u001b[0;32melse\u001b[0m\u001b[0;34m:\u001b[0m\u001b[0;34m\u001b[0m\u001b[0;34m\u001b[0m\u001b[0m\n\u001b[1;32m   1014\u001b[0m             \u001b[0;32mreturn\u001b[0m \u001b[0msocket\u001b[0m\u001b[0;34m.\u001b[0m\u001b[0mrecv_into\u001b[0m\u001b[0;34m(\u001b[0m\u001b[0mself\u001b[0m\u001b[0;34m,\u001b[0m \u001b[0mbuffer\u001b[0m\u001b[0;34m,\u001b[0m \u001b[0mnbytes\u001b[0m\u001b[0;34m,\u001b[0m \u001b[0mflags\u001b[0m\u001b[0;34m)\u001b[0m\u001b[0;34m\u001b[0m\u001b[0;34m\u001b[0m\u001b[0m\n",
            "\u001b[0;32m/usr/lib/python3.6/ssl.py\u001b[0m in \u001b[0;36mread\u001b[0;34m(self, len, buffer)\u001b[0m\n\u001b[1;32m    872\u001b[0m             \u001b[0;32mraise\u001b[0m \u001b[0mValueError\u001b[0m\u001b[0;34m(\u001b[0m\u001b[0;34m\"Read on closed or unwrapped SSL socket.\"\u001b[0m\u001b[0;34m)\u001b[0m\u001b[0;34m\u001b[0m\u001b[0;34m\u001b[0m\u001b[0m\n\u001b[1;32m    873\u001b[0m         \u001b[0;32mtry\u001b[0m\u001b[0;34m:\u001b[0m\u001b[0;34m\u001b[0m\u001b[0;34m\u001b[0m\u001b[0m\n\u001b[0;32m--> 874\u001b[0;31m             \u001b[0;32mreturn\u001b[0m \u001b[0mself\u001b[0m\u001b[0;34m.\u001b[0m\u001b[0m_sslobj\u001b[0m\u001b[0;34m.\u001b[0m\u001b[0mread\u001b[0m\u001b[0;34m(\u001b[0m\u001b[0mlen\u001b[0m\u001b[0;34m,\u001b[0m \u001b[0mbuffer\u001b[0m\u001b[0;34m)\u001b[0m\u001b[0;34m\u001b[0m\u001b[0;34m\u001b[0m\u001b[0m\n\u001b[0m\u001b[1;32m    875\u001b[0m         \u001b[0;32mexcept\u001b[0m \u001b[0mSSLError\u001b[0m \u001b[0;32mas\u001b[0m \u001b[0mx\u001b[0m\u001b[0;34m:\u001b[0m\u001b[0;34m\u001b[0m\u001b[0;34m\u001b[0m\u001b[0m\n\u001b[1;32m    876\u001b[0m             \u001b[0;32mif\u001b[0m \u001b[0mx\u001b[0m\u001b[0;34m.\u001b[0m\u001b[0margs\u001b[0m\u001b[0;34m[\u001b[0m\u001b[0;36m0\u001b[0m\u001b[0;34m]\u001b[0m \u001b[0;34m==\u001b[0m \u001b[0mSSL_ERROR_EOF\u001b[0m \u001b[0;32mand\u001b[0m \u001b[0mself\u001b[0m\u001b[0;34m.\u001b[0m\u001b[0msuppress_ragged_eofs\u001b[0m\u001b[0;34m:\u001b[0m\u001b[0;34m\u001b[0m\u001b[0;34m\u001b[0m\u001b[0m\n",
            "\u001b[0;32m/usr/lib/python3.6/ssl.py\u001b[0m in \u001b[0;36mread\u001b[0;34m(self, len, buffer)\u001b[0m\n\u001b[1;32m    629\u001b[0m         \"\"\"\n\u001b[1;32m    630\u001b[0m         \u001b[0;32mif\u001b[0m \u001b[0mbuffer\u001b[0m \u001b[0;32mis\u001b[0m \u001b[0;32mnot\u001b[0m \u001b[0;32mNone\u001b[0m\u001b[0;34m:\u001b[0m\u001b[0;34m\u001b[0m\u001b[0;34m\u001b[0m\u001b[0m\n\u001b[0;32m--> 631\u001b[0;31m             \u001b[0mv\u001b[0m \u001b[0;34m=\u001b[0m \u001b[0mself\u001b[0m\u001b[0;34m.\u001b[0m\u001b[0m_sslobj\u001b[0m\u001b[0;34m.\u001b[0m\u001b[0mread\u001b[0m\u001b[0;34m(\u001b[0m\u001b[0mlen\u001b[0m\u001b[0;34m,\u001b[0m \u001b[0mbuffer\u001b[0m\u001b[0;34m)\u001b[0m\u001b[0;34m\u001b[0m\u001b[0;34m\u001b[0m\u001b[0m\n\u001b[0m\u001b[1;32m    632\u001b[0m         \u001b[0;32melse\u001b[0m\u001b[0;34m:\u001b[0m\u001b[0;34m\u001b[0m\u001b[0;34m\u001b[0m\u001b[0m\n\u001b[1;32m    633\u001b[0m             \u001b[0mv\u001b[0m \u001b[0;34m=\u001b[0m \u001b[0mself\u001b[0m\u001b[0;34m.\u001b[0m\u001b[0m_sslobj\u001b[0m\u001b[0;34m.\u001b[0m\u001b[0mread\u001b[0m\u001b[0;34m(\u001b[0m\u001b[0mlen\u001b[0m\u001b[0;34m)\u001b[0m\u001b[0;34m\u001b[0m\u001b[0;34m\u001b[0m\u001b[0m\n",
            "\u001b[0;31mKeyboardInterrupt\u001b[0m: "
          ]
        }
      ]
    },
    {
      "cell_type": "markdown",
      "metadata": {
        "id": "vyoR5R4qmpmj",
        "colab_type": "text"
      },
      "source": [
        "<h3> Getting list of all ETFS </h3>\n",
        "\n"
      ]
    },
    {
      "cell_type": "code",
      "metadata": {
        "id": "BU6cwKSkmtPC",
        "colab_type": "code",
        "colab": {}
      },
      "source": [
        "import pandas as pd\n",
        "xl = pd.read_excel('https://topforeignstocks.com/wp-content/uploads/2019/02/Complete-List-of-Vanguard-ETFs-Feb-2019.xlsx')"
      ],
      "execution_count": 0,
      "outputs": []
    },
    {
      "cell_type": "code",
      "metadata": {
        "id": "XMgNy4ZFU6TU",
        "colab_type": "code",
        "outputId": "50ad8b1c-b36c-4b61-d446-d4c455158047",
        "colab": {
          "base_uri": "https://localhost:8080/",
          "height": 34
        }
      },
      "source": [
        "xl.shape\n",
        "xl.columns\n",
        "  \n",
        "  \n",
        "  \n",
        "  \n",
        "\n",
        "\n"
      ],
      "execution_count": 60,
      "outputs": [
        {
          "output_type": "execute_result",
          "data": {
            "text/plain": [
              "Index(['S.No.', 'Name', 'Ticker'], dtype='object')"
            ]
          },
          "metadata": {
            "tags": []
          },
          "execution_count": 60
        }
      ]
    },
    {
      "cell_type": "code",
      "metadata": {
        "id": "k-0zGupxorDd",
        "colab_type": "code",
        "outputId": "41e82af9-ec43-4c30-e618-17279e2302f8",
        "colab": {
          "base_uri": "https://localhost:8080/",
          "height": 163
        }
      },
      "source": [
        "len(res)"
      ],
      "execution_count": 0,
      "outputs": [
        {
          "output_type": "error",
          "ename": "NameError",
          "evalue": "ignored",
          "traceback": [
            "\u001b[0;31m---------------------------------------------------------------------------\u001b[0m",
            "\u001b[0;31mNameError\u001b[0m                                 Traceback (most recent call last)",
            "\u001b[0;32m<ipython-input-1-8a076ee39a0a>\u001b[0m in \u001b[0;36m<module>\u001b[0;34m()\u001b[0m\n\u001b[0;32m----> 1\u001b[0;31m \u001b[0mlen\u001b[0m\u001b[0;34m(\u001b[0m\u001b[0mres\u001b[0m\u001b[0;34m)\u001b[0m\u001b[0;34m\u001b[0m\u001b[0;34m\u001b[0m\u001b[0m\n\u001b[0m",
            "\u001b[0;31mNameError\u001b[0m: name 'res' is not defined"
          ]
        }
      ]
    },
    {
      "cell_type": "code",
      "metadata": {
        "id": "jjMuEF_VVrYX",
        "colab_type": "code",
        "colab": {}
      },
      "source": [
        ""
      ],
      "execution_count": 0,
      "outputs": []
    }
  ]
}