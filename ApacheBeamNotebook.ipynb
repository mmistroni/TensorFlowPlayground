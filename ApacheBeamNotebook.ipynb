{
  "nbformat": 4,
  "nbformat_minor": 0,
  "metadata": {
    "colab": {
      "name": "ApacheBeamNotebook.ipynb",
      "provenance": [],
      "include_colab_link": true
    },
    "kernelspec": {
      "name": "python3",
      "display_name": "Python 3"
    }
  },
  "cells": [
    {
      "cell_type": "markdown",
      "metadata": {
        "id": "view-in-github",
        "colab_type": "text"
      },
      "source": [
        "<a href=\"https://colab.research.google.com/github/mmistroni/TensorFlowPlayground/blob/master/ApacheBeamNotebook.ipynb\" target=\"_parent\"><img src=\"https://colab.research.google.com/assets/colab-badge.svg\" alt=\"Open In Colab\"/></a>"
      ]
    },
    {
      "cell_type": "markdown",
      "metadata": {
        "id": "BbdMCgGYOYu-",
        "colab_type": "text"
      },
      "source": [
        "<h3> Installing apache beam </h3>"
      ]
    },
    {
      "cell_type": "code",
      "metadata": {
        "id": "vN_VLiLKOiow",
        "colab_type": "code",
        "colab": {}
      },
      "source": [
        "!{'pip install --quiet apache_beam'}"
      ],
      "execution_count": 0,
      "outputs": []
    },
    {
      "cell_type": "markdown",
      "metadata": {
        "id": "c74-8qekOZF6",
        "colab_type": "text"
      },
      "source": [
        "<h3> Starting. Importing packages </h3>"
      ]
    },
    {
      "cell_type": "code",
      "metadata": {
        "id": "j2Mb92e2OVeZ",
        "colab_type": "code",
        "colab": {}
      },
      "source": [
        "import apache_beam as beam\n",
        "from apache_beam.io import ReadFromText\n",
        "from apache_beam.io import WriteToText\n",
        "from apache_beam.metrics import Metrics\n",
        "from apache_beam.metrics.metric import MetricsFilter\n",
        "from apache_beam.options.pipeline_options import PipelineOptions\n",
        "from apache_beam.options.pipeline_options import SetupOptions"
      ],
      "execution_count": 0,
      "outputs": []
    },
    {
      "cell_type": "code",
      "metadata": {
        "id": "Cqn0eRr7OJx0",
        "colab_type": "code",
        "colab": {}
      },
      "source": [
        ""
      ],
      "execution_count": 0,
      "outputs": []
    }
  ]
}